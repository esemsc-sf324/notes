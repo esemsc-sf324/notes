{
  "cells": [
    {
      "cell_type": "markdown",
      "metadata": {
        "id": "kkZlumhnXRfp"
      },
      "source": [
        "<img src=\"https://drive.google.com/uc?id=1YLNtm8gNsviTEnVXzfiby2VMKrc0XzLP\" width=\"500\"/>\n",
        "\n",
        "---\n"
      ]
    },
    {
      "cell_type": "markdown",
      "source": [
        "# **Generative Adversarial Networks (GANs)**\n",
        "\n",
        "#### **Morning contents/agenda**\n",
        "\n",
        "1. Why GANs?\n",
        "\n",
        "2. Recap of generative models and VAEs\n",
        "\n",
        "3. Formulation and training strategy\n",
        "\n",
        "4. Implemention of a simple GAN\n",
        "\n",
        "5. Pros and cons\n",
        "\n",
        "6. Overview of main GAN flavours\n",
        "\n",
        "<br>\n",
        "\n",
        "#### **Learning outcomes**\n",
        "\n",
        "1. Understand the basic principles of adversarial traning (with two competing networks)\n",
        "\n",
        "2. Implementa a Generator and a Discriminator and train them with a simple GAN\n",
        "\n",
        "3. Be aware of the importance of GANs in deep learning, its many variations, benefits, and limitations\n",
        "\n",
        "<br>\n",
        "\n",
        "#### **Afternoon contents/agenda**\n",
        "\n",
        "1. Conditional GANs\n",
        "\n",
        "2. Wasserstein GANs theory and implementation example. Materials provided for Wasserstein GAN (for information only, **you will NOT be assessed on WGANs**)\n",
        "\n",
        "<br>\n",
        "\n",
        "#### **Learning outcomes**\n",
        "\n",
        "1. Understand how Conditional GANs can be used to generate samples of a specific class\n",
        "\n",
        "<br/>\n",
        "\n",
        "---\n",
        "\n",
        "<br/>"
      ],
      "metadata": {
        "id": "WtMmreLm_09c"
      }
    },
    {
      "cell_type": "code",
      "execution_count": 1,
      "metadata": {
        "id": "ZoLwAbmt8ZxT",
        "outputId": "2cf07d53-6aa6-4bc6-896b-424b3f469cf5",
        "colab": {
          "base_uri": "https://localhost:8080/"
        }
      },
      "outputs": [
        {
          "output_type": "stream",
          "name": "stdout",
          "text": [
            "Collecting livelossplot\n",
            "  Downloading livelossplot-0.5.5-py3-none-any.whl.metadata (8.7 kB)\n",
            "Requirement already satisfied: matplotlib in /usr/local/lib/python3.10/dist-packages (from livelossplot) (3.8.0)\n",
            "Requirement already satisfied: bokeh in /usr/local/lib/python3.10/dist-packages (from livelossplot) (3.6.1)\n",
            "Requirement already satisfied: Jinja2>=2.9 in /usr/local/lib/python3.10/dist-packages (from bokeh->livelossplot) (3.1.4)\n",
            "Requirement already satisfied: contourpy>=1.2 in /usr/local/lib/python3.10/dist-packages (from bokeh->livelossplot) (1.3.1)\n",
            "Requirement already satisfied: numpy>=1.16 in /usr/local/lib/python3.10/dist-packages (from bokeh->livelossplot) (1.26.4)\n",
            "Requirement already satisfied: packaging>=16.8 in /usr/local/lib/python3.10/dist-packages (from bokeh->livelossplot) (24.2)\n",
            "Requirement already satisfied: pandas>=1.2 in /usr/local/lib/python3.10/dist-packages (from bokeh->livelossplot) (2.2.2)\n",
            "Requirement already satisfied: pillow>=7.1.0 in /usr/local/lib/python3.10/dist-packages (from bokeh->livelossplot) (11.0.0)\n",
            "Requirement already satisfied: PyYAML>=3.10 in /usr/local/lib/python3.10/dist-packages (from bokeh->livelossplot) (6.0.2)\n",
            "Requirement already satisfied: tornado>=6.2 in /usr/local/lib/python3.10/dist-packages (from bokeh->livelossplot) (6.3.3)\n",
            "Requirement already satisfied: xyzservices>=2021.09.1 in /usr/local/lib/python3.10/dist-packages (from bokeh->livelossplot) (2024.9.0)\n",
            "Requirement already satisfied: cycler>=0.10 in /usr/local/lib/python3.10/dist-packages (from matplotlib->livelossplot) (0.12.1)\n",
            "Requirement already satisfied: fonttools>=4.22.0 in /usr/local/lib/python3.10/dist-packages (from matplotlib->livelossplot) (4.55.0)\n",
            "Requirement already satisfied: kiwisolver>=1.0.1 in /usr/local/lib/python3.10/dist-packages (from matplotlib->livelossplot) (1.4.7)\n",
            "Requirement already satisfied: pyparsing>=2.3.1 in /usr/local/lib/python3.10/dist-packages (from matplotlib->livelossplot) (3.2.0)\n",
            "Requirement already satisfied: python-dateutil>=2.7 in /usr/local/lib/python3.10/dist-packages (from matplotlib->livelossplot) (2.8.2)\n",
            "Requirement already satisfied: MarkupSafe>=2.0 in /usr/local/lib/python3.10/dist-packages (from Jinja2>=2.9->bokeh->livelossplot) (3.0.2)\n",
            "Requirement already satisfied: pytz>=2020.1 in /usr/local/lib/python3.10/dist-packages (from pandas>=1.2->bokeh->livelossplot) (2024.2)\n",
            "Requirement already satisfied: tzdata>=2022.7 in /usr/local/lib/python3.10/dist-packages (from pandas>=1.2->bokeh->livelossplot) (2024.2)\n",
            "Requirement already satisfied: six>=1.5 in /usr/local/lib/python3.10/dist-packages (from python-dateutil>=2.7->matplotlib->livelossplot) (1.16.0)\n",
            "Downloading livelossplot-0.5.5-py3-none-any.whl (22 kB)\n",
            "Installing collected packages: livelossplot\n",
            "Successfully installed livelossplot-0.5.5\n",
            "Populating the interactive namespace from numpy and matplotlib\n"
          ]
        }
      ],
      "source": [
        "!pip install livelossplot\n",
        "%pylab inline"
      ]
    },
    {
      "cell_type": "code",
      "execution_count": 2,
      "metadata": {
        "id": "lMGyZY7-8lOc",
        "outputId": "06af57e9-55f1-4d0b-81c4-ed0919519e79",
        "colab": {
          "base_uri": "https://localhost:8080/"
        }
      },
      "outputs": [
        {
          "output_type": "stream",
          "name": "stdout",
          "text": [
            "Populating the interactive namespace from numpy and matplotlib\n"
          ]
        }
      ],
      "source": [
        "%pylab inline"
      ]
    },
    {
      "cell_type": "markdown",
      "metadata": {
        "id": "pbdicOk9Bbg-"
      },
      "source": [
        "## Conditional Generative Adversarial Networks (cGANs)"
      ]
    },
    {
      "cell_type": "markdown",
      "metadata": {
        "id": "5kKUc4vLBag2"
      },
      "source": [
        "Conditional GANs (cGANs) enables the generation of realistic data that matches the given labels -- greatly improves the value of GANs in real practises.\n",
        "\n",
        "In our MNIST case, we can adapt the GAN architecture from the morning lecture to generate number-specific images (e.g. 1000 images of the number 5)\n",
        "\n",
        "cGANs were introduced in [this](https://arxiv.org/abs/1411.1784) paper. In this exercise we will implement this architure to include labels of MNIST in our generator. The architecture of cGANs is shown below:\n",
        "\n",
        "![](https://miro.medium.com/max/700/1*Vjo1df-yPFks2e_-TbdWdQ.png)\n",
        "\n",
        "Image credit: [medium blog](https://medium.com/@ma.bagheri/a-tutorial-on-conditional-generative-adversarial-nets-keras-implementation-694dcafa6282)\n",
        "\n",
        "\n"
      ]
    },
    {
      "cell_type": "code",
      "execution_count": 3,
      "metadata": {
        "id": "KK2h_09p81r7",
        "outputId": "c07b63cf-82d7-4a9f-f305-53764e2ce517",
        "colab": {
          "base_uri": "https://localhost:8080/"
        }
      },
      "outputs": [
        {
          "output_type": "stream",
          "name": "stdout",
          "text": [
            "No GPU available!\n"
          ]
        }
      ],
      "source": [
        "from sklearn.metrics import accuracy_score\n",
        "from sklearn.model_selection import StratifiedShuffleSplit\n",
        "\n",
        "from livelossplot import PlotLosses\n",
        "\n",
        "import torch\n",
        "import torch.nn as nn\n",
        "import torch.nn.functional as F\n",
        "from torch.autograd import Variable\n",
        "from torch.utils.data import TensorDataset, DataLoader\n",
        "import torchvision.transforms as transforms\n",
        "from torchvision.datasets import MNIST\n",
        "\n",
        "import random\n",
        "def set_seed(seed):\n",
        "    \"\"\"\n",
        "    Use this to set ALL the random seeds to a fixed value and take out any randomness from cuda kernels\n",
        "    \"\"\"\n",
        "    random.seed(seed)\n",
        "    np.random.seed(seed)\n",
        "    torch.manual_seed(seed)\n",
        "    torch.cuda.manual_seed_all(seed)\n",
        "\n",
        "    torch.backends.cudnn.benchmark = False  ##uses the inbuilt cudnn auto-tuner to find the fastest convolution algorithms. -\n",
        "    torch.backends.cudnn.enabled   = False\n",
        "\n",
        "    return True\n",
        "\n",
        "device = 'cpu'\n",
        "if torch.cuda.device_count() > 0 and torch.cuda.is_available():\n",
        "    print(\"Cuda installed! Running on GPU!\")\n",
        "    device = 'cuda'\n",
        "else:\n",
        "    print(\"No GPU available!\")"
      ]
    },
    {
      "cell_type": "markdown",
      "metadata": {
        "id": "Bjd64qAc9M9r"
      },
      "source": [
        "## Train a conditional GAN\n",
        "\n",
        "**How to put label into the network?**\n",
        "* **Simply concatenate the label with the input of the network**\n",
        "\n",
        "Starting with a latent vector of length 128, the conditioning vector will have size 10 (number of classes) with the value of 1 at the index of the class and 0 elsewhere. Therefore, the input of the generator network will be of size 128 + 10 = 138, and the input of the discriminator network\n"
      ]
    },
    {
      "cell_type": "markdown",
      "source": [
        "\n",
        "### Task 1: Create the conditional Network\n",
        "**Latent vector length**: 128 | **Length of the conditioning vector**: 10\n",
        "\n",
        "**Network G:**\n",
        "\n",
        "0. Concatenate `z` and `label` using torch.cat()\n",
        "1. Layer 1 for the latent vector: 128 + 10 -> 256\n",
        "2. Layer 2 for the label vector: 256 -> 512\n",
        "3. Layer 2: 512 -> 1024\n",
        "4. Layer 4: 1024 -> 784 (size of a MNIST image)\n",
        "\n",
        "Apply ``LeakyReLU(0.2)`` activation functions for layers 1-3, and ``TanH`` to the final layer.\n",
        "\n",
        "**Network D:**\n",
        "\n",
        "0. Concatenate `x` and `label` here using torch.cat()\n",
        "1. Layer 1: 794 -> 1024\n",
        "2. Layer 2: 1024 -> 512\n",
        "3. Layer 3: 512 -> 256\n",
        "4. Layer 4: 256 -> 1\n",
        "\n",
        "\n",
        "Apply ``LeakyReLU(0.2)`` activation functions for layers 1-3, and ``Sigmoid`` to the final layer."
      ],
      "metadata": {
        "id": "_1QZ4E4_e1ro"
      }
    },
    {
      "cell_type": "code",
      "execution_count": 4,
      "metadata": {
        "id": "EAC2gDEpBlPt",
        "outputId": "0dd2eaed-c94f-48ac-b839-b8233e671f7e",
        "colab": {
          "base_uri": "https://localhost:8080/"
        }
      },
      "outputs": [
        {
          "output_type": "execute_result",
          "data": {
            "text/plain": [
              "(torch.Size([10, 784]), torch.Size([10, 1]))"
            ]
          },
          "metadata": {},
          "execution_count": 4
        }
      ],
      "source": [
        "class Generator(nn.Module):\n",
        "    def __init__(self, g_input_dim, g_output_dim, num_classes):\n",
        "        super().__init__()\n",
        "        self.fc1 = nn.Linear(g_input_dim + num_classes, 256)\n",
        "        self.fc2 = nn.Linear(self.fc1.out_features, self.fc1.out_features*2)\n",
        "        self.fc3 = nn.Linear(self.fc2.out_features, self.fc2.out_features*2)\n",
        "        self.fc4 = nn.Linear(self.fc3.out_features, g_output_dim)\n",
        "        self.activation = nn.LeakyReLU(0.2)\n",
        "\n",
        "    # forward method\n",
        "    def forward(self, z, label):\n",
        "        z = torch.cat([z, label], 1)   # 将两个张量 z 和 label 在第一个维度（横向，即列）上拼接。\n",
        "        x = self.activation(self.fc1(z))\n",
        "        x = self.activation(self.fc2(x))\n",
        "        x = self.activation(self.fc3(x))\n",
        "        return torch.tanh(self.fc4(x))\n",
        "\n",
        "\n",
        "class Discriminator(nn.Module):\n",
        "    def __init__(self, d_input_dim, num_classes):\n",
        "        super().__init__()  # 用于初始化 nn.Module 中定义的所有必要的基础功能。\n",
        "        self.fc1 = nn.Linear(d_input_dim + num_classes, 256)\n",
        "        self.fc2 = nn.Linear(self.fc1.out_features, self.fc1.out_features//2)\n",
        "        self.fc3 = nn.Linear(self.fc2.out_features, self.fc2.out_features//2)\n",
        "        self.fc4 = nn.Linear(self.fc3.out_features, 1)\n",
        "        self.activation = nn.LeakyReLU(0.2)\n",
        "        self.dropout = nn.Dropout(0.3)    # We regularise the discriminator by adding dropout so it doesn't memorise the training data\n",
        "\n",
        "\n",
        "    # forward method\n",
        "    def forward(self, x, label):\n",
        "        x = torch.cat([x, label], 1)\n",
        "        x = self.activation(self.fc1(x))\n",
        "        x = self.dropout(x)\n",
        "        x = self.activation(self.fc2(x))\n",
        "        x = self.dropout(x)\n",
        "        x = self.activation(self.fc3(x))\n",
        "        x = self.dropout(x)\n",
        "        return torch.sigmoid(self.fc4(x))\n",
        "\n",
        "\n",
        "# Build model\n",
        "z_dim = 128\n",
        "x_dim = 28*28\n",
        "num_classes = 10\n",
        "\n",
        "G = Generator(z_dim, x_dim, num_classes).to(device)\n",
        "D = Discriminator(x_dim, num_classes).to(device)\n",
        "\n",
        "# Test output\n",
        "G(torch.randn(10, z_dim).to(device), torch.randn(10, num_classes).to(device)).shape, D(torch.randn(10, x_dim).to(device), torch.randn(10, num_classes).to(device)).shape"
      ]
    },
    {
      "cell_type": "markdown",
      "source": [
        "### Task 2: Create the dataloader and optimisers with the following hyperparameters\n",
        "\n",
        "**Dataloader**\n",
        "\n",
        "- MNIST train dataset\n",
        "\n",
        "- ``batch_size=64``\n",
        "\n",
        "- Normalise the data to the range [-1, 1]\n",
        "\n",
        "**Optimiser**\n",
        "\n",
        "- ``Adam`` with ``learning_rate = 2e-4``\n",
        "\n"
      ],
      "metadata": {
        "id": "4AljwMjse40v"
      }
    },
    {
      "cell_type": "code",
      "source": [
        "torch.autograd.Function\n",
        "# torch.nn.Module"
      ],
      "metadata": {
        "id": "8YvaNsJx47-f",
        "outputId": "ef71a222-fbf1-4c09-e21f-750da17e6bbb",
        "colab": {
          "base_uri": "https://localhost:8080/",
          "height": 587
        }
      },
      "execution_count": 6,
      "outputs": [
        {
          "output_type": "execute_result",
          "data": {
            "text/plain": [
              "torch.autograd.function.Function"
            ],
            "text/html": [
              "<div style=\"max-width:800px; border: 1px solid var(--colab-border-color);\"><style>\n",
              "      pre.function-repr-contents {\n",
              "        overflow-x: auto;\n",
              "        padding: 8px 12px;\n",
              "        max-height: 500px;\n",
              "      }\n",
              "\n",
              "      pre.function-repr-contents.function-repr-contents-collapsed {\n",
              "        cursor: pointer;\n",
              "        max-height: 100px;\n",
              "      }\n",
              "    </style>\n",
              "    <pre style=\"white-space: initial; background:\n",
              "         var(--colab-secondary-surface-color); padding: 8px 12px;\n",
              "         border-bottom: 1px solid var(--colab-border-color);\"><b>torch.autograd.function.Function</b><br/>def __call__(*args, **kwargs)</pre><pre class=\"function-repr-contents function-repr-contents-collapsed\" style=\"\"><a class=\"filepath\" style=\"display:none\" href=\"#\">/usr/local/lib/python3.10/dist-packages/torch/autograd/function.py</a>Base class to create custom `autograd.Function`.\n",
              "\n",
              "To create a custom `autograd.Function`, subclass this class and implement\n",
              "the :meth:`forward` and :meth:`backward` static methods. Then, to use your custom\n",
              "op in the forward pass, call the class method ``apply``. Do not call\n",
              ":meth:`forward` directly.\n",
              "\n",
              "To ensure correctness and best performance, make sure you are calling the\n",
              "correct methods on ``ctx`` and validating your backward function using\n",
              ":func:`torch.autograd.gradcheck`.\n",
              "\n",
              "See :ref:`extending-autograd` for more details on how to use this class.\n",
              "\n",
              "Examples::\n",
              "\n",
              "    &gt;&gt;&gt; # xdoctest: +REQUIRES(env:TORCH_DOCTEST_AUTOGRAD)\n",
              "    &gt;&gt;&gt; class Exp(Function):\n",
              "    &gt;&gt;&gt;     @staticmethod\n",
              "    &gt;&gt;&gt;     def forward(ctx, i):\n",
              "    &gt;&gt;&gt;         result = i.exp()\n",
              "    &gt;&gt;&gt;         ctx.save_for_backward(result)\n",
              "    &gt;&gt;&gt;         return result\n",
              "    &gt;&gt;&gt;\n",
              "    &gt;&gt;&gt;     @staticmethod\n",
              "    &gt;&gt;&gt;     def backward(ctx, grad_output):\n",
              "    &gt;&gt;&gt;         result, = ctx.saved_tensors\n",
              "    &gt;&gt;&gt;         return grad_output * result\n",
              "    &gt;&gt;&gt;\n",
              "    &gt;&gt;&gt; # Use it by calling the apply method:\n",
              "    &gt;&gt;&gt; # xdoctest: +SKIP\n",
              "    &gt;&gt;&gt; output = Exp.apply(input)</pre>\n",
              "      <script>\n",
              "      if (google.colab.kernel.accessAllowed && google.colab.files && google.colab.files.view) {\n",
              "        for (const element of document.querySelectorAll('.filepath')) {\n",
              "          element.style.display = 'block'\n",
              "          element.onclick = (event) => {\n",
              "            event.preventDefault();\n",
              "            event.stopPropagation();\n",
              "            google.colab.files.view(element.textContent, 464);\n",
              "          };\n",
              "        }\n",
              "      }\n",
              "      for (const element of document.querySelectorAll('.function-repr-contents')) {\n",
              "        element.onclick = (event) => {\n",
              "          event.preventDefault();\n",
              "          event.stopPropagation();\n",
              "          element.classList.toggle('function-repr-contents-collapsed');\n",
              "        };\n",
              "      }\n",
              "      </script>\n",
              "      </div>"
            ]
          },
          "metadata": {},
          "execution_count": 6
        }
      ]
    },
    {
      "cell_type": "code",
      "source": [
        "params = list(G.parameters())  # 将生成器转为列表\n",
        "x = params[1]  # 获取第 2 个参数（假设是想研究第二个参数）\n",
        "print(x.shape)"
      ],
      "metadata": {
        "id": "-5sMuOzTDcHN",
        "outputId": "3d06bd6f-4487-4357-eb0d-f345b68070a1",
        "colab": {
          "base_uri": "https://localhost:8080/"
        }
      },
      "execution_count": 11,
      "outputs": [
        {
          "output_type": "stream",
          "name": "stdout",
          "text": [
            "torch.Size([256])\n"
          ]
        }
      ]
    },
    {
      "cell_type": "code",
      "source": [
        "param_gen = G.parameters()\n",
        "next(param_gen)  # 获取第一个参数，跳过\n",
        "x = next(param_gen)  # 获取第二个参数\n",
        "print(x.shape)"
      ],
      "metadata": {
        "id": "L9_9fYGtETLT",
        "outputId": "58bf0286-d9dc-42d4-a0df-74c9cbff395f",
        "colab": {
          "base_uri": "https://localhost:8080/"
        }
      },
      "execution_count": 14,
      "outputs": [
        {
          "output_type": "stream",
          "name": "stdout",
          "text": [
            "torch.Size([256])\n"
          ]
        }
      ]
    },
    {
      "cell_type": "code",
      "source": [
        "G.parameters()"
      ],
      "metadata": {
        "id": "cptcg_o0DRMe",
        "outputId": "6785a0ed-8ab1-4856-8b9a-bff7be9be155",
        "colab": {
          "base_uri": "https://localhost:8080/"
        }
      },
      "execution_count": 9,
      "outputs": [
        {
          "output_type": "execute_result",
          "data": {
            "text/plain": [
              "<generator object Module.parameters at 0x7a3c427027a0>"
            ]
          },
          "metadata": {},
          "execution_count": 9
        }
      ]
    },
    {
      "cell_type": "code",
      "execution_count": 7,
      "metadata": {
        "id": "oibE4-xq9BWy"
      },
      "outputs": [],
      "source": [
        "# Loss function\n",
        "criterion = nn.BCELoss()\n",
        "\n",
        "# Optimisers\n",
        "lr = 0.0002\n",
        "G_optimiser = torch.optim.Adam(G.parameters(), lr = lr)\n",
        "D_optimiser = torch.optim.Adam(D.parameters(), lr = lr)"
      ]
    },
    {
      "cell_type": "code",
      "execution_count": 8,
      "metadata": {
        "id": "yYJypw4w8xu7",
        "outputId": "663b781b-4259-4141-bba9-90d7423c1fd3",
        "colab": {
          "base_uri": "https://localhost:8080/"
        }
      },
      "outputs": [
        {
          "output_type": "stream",
          "name": "stdout",
          "text": [
            "Downloading http://yann.lecun.com/exdb/mnist/train-images-idx3-ubyte.gz\n",
            "Failed to download (trying next):\n",
            "HTTP Error 403: Forbidden\n",
            "\n",
            "Downloading https://ossci-datasets.s3.amazonaws.com/mnist/train-images-idx3-ubyte.gz\n",
            "Downloading https://ossci-datasets.s3.amazonaws.com/mnist/train-images-idx3-ubyte.gz to ./mnist_data/MNIST/raw/train-images-idx3-ubyte.gz\n"
          ]
        },
        {
          "output_type": "stream",
          "name": "stderr",
          "text": [
            "100%|██████████| 9.91M/9.91M [00:00<00:00, 17.8MB/s]\n"
          ]
        },
        {
          "output_type": "stream",
          "name": "stdout",
          "text": [
            "Extracting ./mnist_data/MNIST/raw/train-images-idx3-ubyte.gz to ./mnist_data/MNIST/raw\n",
            "\n",
            "Downloading http://yann.lecun.com/exdb/mnist/train-labels-idx1-ubyte.gz\n",
            "Failed to download (trying next):\n",
            "HTTP Error 403: Forbidden\n",
            "\n",
            "Downloading https://ossci-datasets.s3.amazonaws.com/mnist/train-labels-idx1-ubyte.gz\n",
            "Downloading https://ossci-datasets.s3.amazonaws.com/mnist/train-labels-idx1-ubyte.gz to ./mnist_data/MNIST/raw/train-labels-idx1-ubyte.gz\n"
          ]
        },
        {
          "output_type": "stream",
          "name": "stderr",
          "text": [
            "100%|██████████| 28.9k/28.9k [00:00<00:00, 487kB/s]\n"
          ]
        },
        {
          "output_type": "stream",
          "name": "stdout",
          "text": [
            "Extracting ./mnist_data/MNIST/raw/train-labels-idx1-ubyte.gz to ./mnist_data/MNIST/raw\n",
            "\n",
            "Downloading http://yann.lecun.com/exdb/mnist/t10k-images-idx3-ubyte.gz\n",
            "Failed to download (trying next):\n",
            "HTTP Error 403: Forbidden\n",
            "\n",
            "Downloading https://ossci-datasets.s3.amazonaws.com/mnist/t10k-images-idx3-ubyte.gz\n",
            "Downloading https://ossci-datasets.s3.amazonaws.com/mnist/t10k-images-idx3-ubyte.gz to ./mnist_data/MNIST/raw/t10k-images-idx3-ubyte.gz\n"
          ]
        },
        {
          "output_type": "stream",
          "name": "stderr",
          "text": [
            "100%|██████████| 1.65M/1.65M [00:00<00:00, 4.39MB/s]\n"
          ]
        },
        {
          "output_type": "stream",
          "name": "stdout",
          "text": [
            "Extracting ./mnist_data/MNIST/raw/t10k-images-idx3-ubyte.gz to ./mnist_data/MNIST/raw\n",
            "\n",
            "Downloading http://yann.lecun.com/exdb/mnist/t10k-labels-idx1-ubyte.gz\n",
            "Failed to download (trying next):\n",
            "HTTP Error 403: Forbidden\n",
            "\n",
            "Downloading https://ossci-datasets.s3.amazonaws.com/mnist/t10k-labels-idx1-ubyte.gz\n",
            "Downloading https://ossci-datasets.s3.amazonaws.com/mnist/t10k-labels-idx1-ubyte.gz to ./mnist_data/MNIST/raw/t10k-labels-idx1-ubyte.gz\n"
          ]
        },
        {
          "output_type": "stream",
          "name": "stderr",
          "text": [
            "100%|██████████| 4.54k/4.54k [00:00<00:00, 3.26MB/s]"
          ]
        },
        {
          "output_type": "stream",
          "name": "stdout",
          "text": [
            "Extracting ./mnist_data/MNIST/raw/t10k-labels-idx1-ubyte.gz to ./mnist_data/MNIST/raw\n",
            "\n"
          ]
        },
        {
          "output_type": "stream",
          "name": "stderr",
          "text": [
            "\n"
          ]
        }
      ],
      "source": [
        "# MNIST Dataset\n",
        "batch_size=64\n",
        "transform = transforms.Compose([\n",
        "    transforms.ToTensor(),\n",
        "    transforms.Normalize(mean=(0.5), std=(0.5))])\n",
        "torch.autograd.Function\n",
        "torch.nn.Module\n",
        "\n",
        "train_dataset = MNIST(root='./mnist_data/', train=True, transform=transform, download=True)\n",
        "\n",
        "# Data Loader\n",
        "train_loader = torch.utils.data.DataLoader(dataset=train_dataset, batch_size=batch_size, shuffle=True)"
      ]
    },
    {
      "cell_type": "markdown",
      "source": [
        "### Task 3: Adapt the ``D_train`` and ``G_train`` functions to take in the conditioning.\n",
        "**Note**: Think about how you need to format the class labels from the data loader to the class vectors ``(batch_size, num_classes)`` required for conditioning"
      ],
      "metadata": {
        "id": "WhKJHoeLfSXl"
      }
    },
    {
      "cell_type": "code",
      "execution_count": 9,
      "metadata": {
        "id": "EuVC3m9G9C3j"
      },
      "outputs": [],
      "source": [
        "def D_train(x, cond):\n",
        "    #-------------- Function of the discriminator training -------------------#\n",
        "    D.train()   #D来自于 D = Discriminator(x_dim, num_classes).to(device)\n",
        "    D_optimiser.zero_grad()\n",
        "\n",
        "    bs = x.shape[0]  # batch size\n",
        "\n",
        "    # Create conditioning vector for real data of size (bs, num_classes)\n",
        "    c = torch.zeros(bs, num_classes)\n",
        "    c.scatter_(1, cond.view(bs, 1), 1) # Fills the tensor using the class labels\n",
        "    c = c.to(device)\n",
        "\n",
        "\n",
        "    # Real data reshaped -- label for all real samples is 1\n",
        "    x_real, y_real = x.view(-1, 28*28), torch.ones(bs, 1)\n",
        "    x_real, y_real = x_real.to(device), y_real.to(device)\n",
        "\n",
        "    # Training loss for real data\n",
        "    D_output = D(x_real, c)\n",
        "    D_real_loss = criterion(D_output, y_real)\n",
        "\n",
        "    # Create conditioning vector for fake data of size (bs, num_classes)\n",
        "    c = torch.zeros(bs, num_classes)\n",
        "    c.scatter_(1, torch.randint(low=0, high=10, size=(bs, 1)), 1) # Fills the tensor using random class labels\n",
        "    c = c.to(device)\n",
        "\n",
        "    # Sample vector and generation of fake data -- label for all fake samples is 0\n",
        "    z = torch.randn(bs, z_dim).to(device)\n",
        "    x_fake, y_fake = G(z, c), torch.zeros(bs, 1).to(device)\n",
        "\n",
        "    # Training loss for fake fata\n",
        "    D_output = D(x_fake.detach(), c)\n",
        "    D_fake_loss = criterion(D_output, y_fake)\n",
        "\n",
        "    # Combine the losses\n",
        "    D_loss = D_real_loss + D_fake_loss\n",
        "\n",
        "    # Backpropagate and model update\n",
        "    D_loss.backward()\n",
        "    D_optimiser.step()\n",
        "\n",
        "\n",
        "    return  D_loss.data.item() #返回的值是判别器的损失值 D_loss 的 数值形式，通常是一个浮点数。\n"
      ]
    },
    {
      "cell_type": "code",
      "execution_count": 10,
      "metadata": {
        "id": "0wdYzttu8ybC"
      },
      "outputs": [],
      "source": [
        "def G_train(x):\n",
        "    #-------------- Function of the generator training -------------------#\n",
        "    G.train()\n",
        "    G_optimiser.zero_grad()\n",
        "\n",
        "    bs = x.shape[0]\n",
        "\n",
        "    # Create conditioning vector for fake data of size (bs, num_classes)\n",
        "    c = torch.zeros(bs, num_classes)\n",
        "    c.scatter_(1, torch.randint(low=0, high=10, size=(bs, 1)), 1) # Fills the tensor using random class labels\n",
        "    c = c.to(device)\n",
        "\n",
        "    # Sample vector and generation of fake data\n",
        "    z = torch.randn(bs, z_dim).to(device)\n",
        "    x_fake = G(z, c)\n",
        "\n",
        "    # To \"fool\" the discriminator, fake data labels are set to 1\n",
        "    y = torch.ones(bs, 1).to(device)\n",
        "\n",
        "    # Training loss of the generator\n",
        "    D_output = D(x_fake, c)\n",
        "    G_loss = criterion(D_output, y)\n",
        "\n",
        "    # Backpropagate and model update\n",
        "    G_loss.backward()\n",
        "    G_optimiser.step()\n",
        "\n",
        "    return G_loss.data.item()"
      ]
    },
    {
      "cell_type": "markdown",
      "source": [
        "### Task 4: Adapt the training function to take in the appropriate conditioning and train the model"
      ],
      "metadata": {
        "id": "pxAIvMDdfxzg"
      }
    },
    {
      "cell_type": "code",
      "execution_count": null,
      "metadata": {
        "id": "fWoIQBns9HQT",
        "outputId": "639c85c3-ec62-43f4-a5a7-89c1f26d7d4a",
        "colab": {
          "base_uri": "https://localhost:8080/",
          "height": 861
        }
      },
      "outputs": [
        {
          "output_type": "display_data",
          "data": {
            "text/plain": [
              "<Figure size 1200x800 with 2 Axes>"
            ],
            "image/png": "[encoded data removed]"
          },
          "metadata": {}
        },
        {
          "output_type": "stream",
          "name": "stdout",
          "text": [
            "Loss\n",
            "\tD_Loss           \t (min:    0.000, max:    0.228, cur:    0.000)\n",
            "\tG_Loss           \t (min:    7.942, max:   51.647, cur:   51.647)\n"
          ]
        }
      ],
      "source": [
        "n_epoch = 100\n",
        "groups = {'Loss': ['D_Loss', 'G_Loss']}\n",
        "liveloss = PlotLosses(groups=groups)\n",
        "\n",
        "for epoch in range(1, n_epoch+1):\n",
        "    d_loss_epoch, g_loss_epoch = 0, 0\n",
        "    logs = {}\n",
        "    for batch_idx, (x, labels) in enumerate(train_loader):\n",
        "        d_loss_epoch += D_train(x, labels)\n",
        "        g_loss_epoch += G_train(x)\n",
        "    logs['D_Loss'] = d_loss_epoch / len(train_loader)\n",
        "    logs['G_Loss'] = g_loss_epoch / len(train_loader)\n",
        "    liveloss.update(logs)\n",
        "    liveloss.draw()\n",
        "\n",
        "\n",
        "    # save every 20th epochs\n",
        "    if(np.mod(epoch, 20) == 0):\n",
        "        torch.save(G.state_dict(), \"./Generator_{:03d}.pth\".format(epoch))"
      ]
    },
    {
      "cell_type": "markdown",
      "source": [
        "### Task 5: Use the trained generator to generate 10 images of each class"
      ],
      "metadata": {
        "id": "ihKBU8dgf8KC"
      }
    },
    {
      "cell_type": "code",
      "execution_count": null,
      "metadata": {
        "id": "9p7B3P8QLD20"
      },
      "outputs": [],
      "source": [
        "# epoch = 100\n",
        "# G.load_state_dict(torch.load(\"./Generator_{:03d}.pth\".format(epoch)))\n",
        "\n",
        "with torch.no_grad():\n",
        "    # Random vector\n",
        "    z = torch.randn(100, z_dim).to(device)\n",
        "\n",
        "    # Conditioning from 0 to 10\n",
        "    z_label = torch.zeros(100, 10)\n",
        "    z_labels = torch.LongTensor([i for i in range(10) for _ in range(10)])\n",
        "    z_label.scatter_(1, z_labels.view(100, 1), 1)\n",
        "\n",
        "    # Generate images\n",
        "    generated = G(z, z_label.to(device))\n",
        "\n",
        "# Plot\n",
        "fig, axarr = plt.subplots(10, 10, figsize=(12, 12))\n",
        "for ax, img in zip(axarr.flatten(), generated.view(generated.size(0), 28, 28).cpu()):\n",
        "  ax.imshow(img, cmap=\"gray\")\n",
        "plt.show()"
      ]
    },
    {
      "cell_type": "code",
      "source": [],
      "metadata": {
        "id": "_8NwyFLYKFCy"
      },
      "execution_count": null,
      "outputs": []
    }
  ],
  "metadata": {
    "colab": {
      "provenance": []
    },
    "kernelspec": {
      "display_name": "Python 3",
      "name": "python3"
    },
    "language_info": {
      "codemirror_mode": {
        "name": "ipython",
        "version": 3
      },
      "file_extension": ".py",
      "mimetype": "text/x-python",
      "name": "python",
      "nbconvert_exporter": "python",
      "pygments_lexer": "ipython3",
      "version": "3.8.5"
    }
  },
  "nbformat": 4,
  "nbformat_minor": 0
}