{
  "cells": [
    {
      "cell_type": "markdown",
      "metadata": {
        "id": "VCdj-_pnBqhA"
      },
      "source": [
        "<img src=\"https://drive.google.com/uc?id=1YLNtm8gNsviTEnVXzfiby2VMKrc0XzLP\" width=\"500\"/>\n",
        "\n",
        "---\n",
        "\n",
        "<p align=\"center\">\n",
        "<img src=\"https://pytorch.org/assets/images/pytorch-logo.png\" alt=\"drawing\" width=\"100\"/>\n",
        "</p>\n",
        "\n",
        "\n",
        "\n",
        "<h1 style=\"text-align: center;\"> Introduction to Pytorch for Deep Learning</h1>\n",
        "\n",
        "\n",
        "\n",
        "In this introduction to PyTorch for deep learning, we will dive into certain packages and utilities of the library made to facilitate data handling and training opertations. We will explore similar concepts that were seen in the previous lectures, but in a different way. We will specifically focus on the functions of ``Dataset`` and ``Dataloader`` objects and their roles, also exploring adjacent functionlities for data splitting, pre-processing, and analysis. We will also discuss the basic training workflow and how ``PyTorch`` integrates these different steps. We must consider that ``PyTorch`` is an extensive library, and these lectures are designed to introduce you to its main concepts, particularly the ones that are useful for the completion of this module. With the links and references below, we encourage you to further explore the library as you see fit.\n",
        "\n",
        "\n",
        "#### **Morning contents/agenda**\n",
        "1. Basic functionalities: Tensor Handling like Numpy Arrays\n",
        "\n",
        "2. Data Handling with ``Torchvision``\n",
        "\n",
        "3. Batch Handling with ``Dataloader``\n",
        "\n",
        "4. Review of the ``Pytorch`` training workflow for a classification task\n",
        "\n",
        "5. Customisation of ``Dataset`` classes\n",
        "\n",
        "\n",
        "#### **Afternoon contents/agenda**\n",
        "\n",
        "1. Understanding the basics:\n",
        "- [But what is a convolution?](https://www.youtube.com/watch?v=KuXjwB4LzSA&ab_channel=3Blue1Brown)\n",
        "\n",
        "- [But what is a neural network?](https://www.youtube.com/watch?v=aircAruvnKk&t=1s&ab_channel=3Blue1Brown)\n",
        "\n",
        "- [What is backpropagation really doing?](https://www.youtube.com/watch?v=Ilg3gGewQ5U&t=2s&ab_channel=3Blue1Brown)\n",
        "\n",
        "2. Exercise 2\n",
        "\n",
        "#### **Learning Outcomes**\n",
        "\n",
        "1. Get acquainted with common ``Torchvision`` datasets and integrate them into a ``Pytorch`` workflow\n",
        "\n",
        "2. Learn the basic usage of ``torchvision.transforms``\n",
        "\n",
        "3. Understand the difference between a ``Dataset`` and a ``Dataloader`` and how to integrate them\n",
        "\n",
        "4. Understand the ``Pytorch`` workflow for training a classification model\n",
        "\n",
        "5. Learn to create custom ``Dataset`` classes\n",
        "\n",
        "7. Learn to access the ``Pytorch`` documentation\n",
        "\n",
        "<br/>\n",
        "\n",
        "---\n",
        "\n",
        "<br/>"
      ]
    },
    {
      "cell_type": "code",
      "execution_count": 15,
      "metadata": {
        "id": "30KsuqBPBzld",
        "colab": {
          "base_uri": "https://localhost:8080/"
        },
        "outputId": "0296e08b-fc82-419b-83ab-5ff17b70d4f7"
      },
      "outputs": [
        {
          "output_type": "stream",
          "name": "stdout",
          "text": [
            "Mounted at /content/drive\n"
          ]
        }
      ],
      "source": [
        "try:\n",
        "  from google.colab import drive\n",
        "  drive.mount('/content/drive')\n",
        "except:\n",
        "  pass"
      ]
    },
    {
      "cell_type": "code",
      "execution_count": 14,
      "metadata": {
        "id": "pBG1w14BBqhC",
        "colab": {
          "base_uri": "https://localhost:8080/"
        },
        "outputId": "c5c0b9de-c6f9-4c70-8310-f15eec63d1df"
      },
      "outputs": [
        {
          "output_type": "stream",
          "name": "stdout",
          "text": [
            "No GPU available! Running on CPU\n"
          ]
        }
      ],
      "source": [
        "!pip install torch-summary progressbar2 -q\n",
        "\n",
        "import torch\n",
        "import torch.nn as nn\n",
        "import numpy as np\n",
        "import random\n",
        "\n",
        "import matplotlib.pyplot as plt\n",
        "\n",
        "def set_seed(seed):\n",
        "    \"\"\"\n",
        "    Use this to set ALL the random seeds to a fixed value and take out any randomness from cuda kernels\n",
        "    \"\"\"\n",
        "    random.seed(seed)\n",
        "    np.random.seed(seed)\n",
        "    torch.manual_seed(seed)\n",
        "    torch.cuda.manual_seed_all(seed)\n",
        "\n",
        "    torch.backends.cudnn.benchmark = True  ##uses the inbuilt cudnn auto-tuner to find the fastest convolution algorithms. -\n",
        "    torch.backends.cudnn.enabled   = True\n",
        "\n",
        "    return True\n",
        "\n",
        "\n",
        "def set_device(device=\"cpu\", idx=0):\n",
        "    if device != \"cpu\":\n",
        "        if torch.cuda.device_count() > idx and torch.cuda.is_available():\n",
        "            print(\"Cuda installed! Running on GPU {} {}!\".format(idx, torch.cuda.get_device_name(idx)))\n",
        "            device=\"cuda:{}\".format(idx)\n",
        "        elif torch.cuda.device_count() > 0 and torch.cuda.is_available():\n",
        "            print(\"Cuda installed but only {} GPU(s) available! Running on GPU 0 {}!\".format(torch.cuda.device_count(), torch.cuda.get_device_name()))\n",
        "            device=\"cuda:0\"\n",
        "        else:\n",
        "            device=\"cpu\"\n",
        "            print(\"No GPU available! Running on CPU\")\n",
        "    return device\n",
        "\n",
        "device = set_device(\"cuda\")"
      ]
    },
    {
      "cell_type": "markdown",
      "source": [
        "## Recap of Classes in Python"
      ],
      "metadata": {
        "id": "rR1NmjeisNz3"
      }
    },
    {
      "cell_type": "code",
      "source": [
        "# Class and objects\n",
        "###\n",
        "\n",
        "class MyClass:\n",
        "    def __init__(self):\n",
        "        pass\n",
        "\n",
        "my_object = MyClass()\n",
        "\n",
        "\n",
        "\n",
        "# Methods and Attributes (functions and variables of the class object)\n",
        "class MyClass:\n",
        "    def __init__(self):\n",
        "        self.my_attribute = \"This is my attribute\"\n",
        "        return\n",
        "\n",
        "    def my_method(self):\n",
        "        return \"This is my method\"\n",
        "\n",
        "my_object = MyClass()\n",
        "print(my_object.my_attribute)\n",
        "print(my_object.my_method())"
      ],
      "metadata": {
        "id": "B_Nleqp8vNtJ",
        "colab": {
          "base_uri": "https://localhost:8080/"
        },
        "outputId": "ffe6b94d-3398-49e5-f45e-1f71e86724a3"
      },
      "execution_count": 1,
      "outputs": [
        {
          "output_type": "stream",
          "name": "stdout",
          "text": [
            "This is my attribute\n",
            "This is my method\n"
          ]
        }
      ]
    },
    {
      "cell_type": "markdown",
      "source": [
        "Magic methods in Python are special methods that enable customisation of the behaviour of built-in operations in Python classes, such as arithmetic operations, comparisons, and object creation. Examples include ``__init__`` for initialising objects, ``__str__`` for defining string representation, and ``__add__`` for implementing addition."
      ],
      "metadata": {
        "id": "TCYOrhYYC8Ek"
      }
    },
    {
      "cell_type": "code",
      "source": [
        "# Magic methods\n",
        "class MyClass:\n",
        "    def __init__(self, N): # What the object does when it is first created\n",
        "        print(\"__init__\")\n",
        "        self.my_attribute = [i for i in range(N)]\n",
        "        return\n",
        "\n",
        "    def __str__(self): # What the object returns when it is cast into a string object\n",
        "        print(\"\\n __str__\")\n",
        "        return \"My custom class\"\n",
        "\n",
        "    def __call__(self, x): # What the object does when it is called as a function\n",
        "        print(\"\\n __call__\")\n",
        "        return x**2\n",
        "\n",
        "    def __len__(self): # What the object returns when it's length is queried\n",
        "        print(\"\\n __len__\")\n",
        "        return len(self.my_attribute)\n",
        "\n",
        "    def __getitem__(self, key): # What the object returns when it is indexed\n",
        "        print(\"\\n __getitem__\")\n",
        "        return self.my_attribute[key]\n",
        "\n",
        "    def __setitem__(self, key, value): # How the object is modefied after index assignement\n",
        "        print(\"\\n __setitem__\")\n",
        "        self.my_attribute[key] = value\n",
        "        return\n",
        "\n",
        "# How to use each magic method:\n",
        "my_object = MyClass(10) # __init__\n",
        "print(my_object.my_attribute)\n",
        "\n",
        "print(my_object)        # __str__\n",
        "\n",
        "print(my_object(7))     # __call__\n",
        "\n",
        "print(len(my_object))   # __len__\n",
        "\n",
        "print(my_object[0])     # __getitem__\n",
        "\n",
        "print(my_object[-1])\n",
        "\n",
        "my_object[0] = 10       # __setitem__\n",
        "\n",
        "print(my_object[0])     # __getitem__\n",
        "\n",
        "my_object[-1] = -3.1415\n",
        "\n",
        "print(my_object[-1])     # __getitem__\n",
        "\n",
        "print(\"------\")\n",
        "print(my_object.my_attribute)"
      ],
      "metadata": {
        "id": "IdFoI0n4sBHF",
        "colab": {
          "base_uri": "https://localhost:8080/"
        },
        "outputId": "0a1e70a2-eaf5-4868-ff86-f9e86a8f24c7"
      },
      "execution_count": 5,
      "outputs": [
        {
          "output_type": "stream",
          "name": "stdout",
          "text": [
            "__init__\n",
            "[0, 1, 2, 3, 4, 5, 6, 7, 8, 9]\n",
            "\n",
            " __str__\n",
            "My custom class\n",
            "\n",
            " __call__\n",
            "49\n",
            "\n",
            " __len__\n",
            "10\n",
            "\n",
            " __getitem__\n",
            "0\n",
            "\n",
            " __getitem__\n",
            "9\n",
            "\n",
            " __setitem__\n",
            "\n",
            " __getitem__\n",
            "10\n",
            "\n",
            " __setitem__\n",
            "\n",
            " __getitem__\n",
            "-3.1415\n",
            "------\n",
            "[10, 1, 2, 3, 4, 5, 6, 7, 8, -3.1415]\n"
          ]
        }
      ]
    },
    {
      "cell_type": "markdown",
      "source": [
        "In Python, ``self`` is a reference to the instance of the class, allowing access to its attributes and methods"
      ],
      "metadata": {
        "id": "Agr7OyKiJcHX"
      }
    },
    {
      "cell_type": "code",
      "source": [
        "# Magic methods\n",
        "class MyClass:\n",
        "    def __init__(self): # What the object does when it is first created\n",
        "       self.my_attribute = 10\n",
        "       return\n",
        "\n",
        "    def __call__(self, x): # What the object does when it is called as a function\n",
        "        return x**2 * self.my_attribute\n",
        "\n",
        "\n",
        "my_object = MyClass()\n",
        "my_object(7)"
      ],
      "metadata": {
        "id": "L6lcC2HyJSwI",
        "colab": {
          "base_uri": "https://localhost:8080/"
        },
        "outputId": "5fe0c2aa-6ddd-431c-b75b-d3d7580c8ad6"
      },
      "execution_count": 7,
      "outputs": [
        {
          "output_type": "execute_result",
          "data": {
            "text/plain": [
              "490"
            ]
          },
          "metadata": {},
          "execution_count": 7
        }
      ]
    },
    {
      "cell_type": "markdown",
      "source": [
        "An important concept in OOD is *Inheritance*.\n",
        "\n",
        "Classes can inherit code and attributes from other classes to reuse shared logic while creating a distinct hierarchy."
      ],
      "metadata": {
        "id": "B-8Gl_ksKd_9"
      }
    },
    {
      "cell_type": "markdown",
      "source": [],
      "metadata": {
        "id": "DUtbC_d0FAd9"
      }
    },
    {
      "cell_type": "code",
      "source": [
        "# Parent class\n",
        "class Animal:\n",
        "    def __init__(self, name, age):\n",
        "        print(\"Creates an animal\")\n",
        "        self.name = name\n",
        "        self.age = age\n",
        "        self.kind = None\n",
        "        return\n",
        "\n",
        "    def speak(self): # Each inherited class is responsible for implementing its own `speak` method\n",
        "        raise NotImplementedError(\"This is an abstract method, and needs implementation from derived classes\")\n",
        "\n",
        "dog = Animal(name=\"Max\", age=2)\n",
        "print(dog.name, dog.age, dog.kind)\n",
        "# print(dog.speak())\n",
        "print(\"---\")\n"
      ],
      "metadata": {
        "id": "ZvELaduEUz9Z",
        "colab": {
          "base_uri": "https://localhost:8080/"
        },
        "outputId": "22344fde-81f2-4a6d-8bfe-de0e34bb55fd"
      },
      "execution_count": 9,
      "outputs": [
        {
          "output_type": "stream",
          "name": "stdout",
          "text": [
            "Creates an animal\n",
            "Max 2 None\n",
            "---\n"
          ]
        }
      ]
    },
    {
      "cell_type": "code",
      "source": [
        "# Child class\n",
        "class Dog(Animal):\n",
        "    def __init__(self, name, age, coat):\n",
        "        print(\"Creates a dog\")\n",
        "        super().__init__(name, age)\n",
        "        self.coat = coat\n",
        "        self.kind = \"dog\"\n",
        "        self.breed = None\n",
        "        return\n",
        "\n",
        "    def speak(self):\n",
        "        return \"Woof\"\n",
        "\n",
        "dog = Dog(name=\"Max\", age=2, coat=\"brown\")\n",
        "print(dog.name, dog.age, dog.breed, dog.coat, dog.kind, dog.speak())\n",
        "print(dog.speak())\n",
        "print(\"---\")\n"
      ],
      "metadata": {
        "id": "U-HQCtJxU1M5",
        "colab": {
          "base_uri": "https://localhost:8080/"
        },
        "outputId": "b5c97387-6b71-4774-bf64-cd3bc4c2be47"
      },
      "execution_count": 10,
      "outputs": [
        {
          "output_type": "stream",
          "name": "stdout",
          "text": [
            "Creates a dog\n",
            "Creates an animal\n",
            "Max 2 None brown dog Woof\n",
            "Woof\n",
            "---\n"
          ]
        }
      ]
    },
    {
      "cell_type": "code",
      "source": [
        "# Child class\n",
        "class Bird(Animal):\n",
        "    def __init__(self, name, age, wingspan):\n",
        "        print(\"Creates a bird\")\n",
        "        super().__init__(name, age)\n",
        "        self.kind = \"bird\"\n",
        "        self.wingspan = wingspan\n",
        "        return\n",
        "\n",
        "    def speak(self):\n",
        "        return \"Chirp\"\n",
        "\n",
        "bird = Bird(name=\"Tweety\", age=1, wingspan=10)\n",
        "print(bird.name, bird.age, bird.wingspan, bird.kind, bird.speak())\n",
        "print(\"---\")\n"
      ],
      "metadata": {
        "id": "0cUMHSVyU3UG",
        "colab": {
          "base_uri": "https://localhost:8080/"
        },
        "outputId": "f94bfa97-8aba-496a-fa5f-1de8d535f590"
      },
      "execution_count": 11,
      "outputs": [
        {
          "output_type": "stream",
          "name": "stdout",
          "text": [
            "Creates a bird\n",
            "Creates an animal\n",
            "Tweety 1 10 bird Chirp\n",
            "---\n"
          ]
        }
      ]
    },
    {
      "cell_type": "code",
      "source": [
        "# Grandchild class\n",
        "class Boxer(Dog):\n",
        "    def __init__(self, name, age, **kwargs):\n",
        "        print(\"Creates a boxer\")\n",
        "        super().__init__(name, age, **kwargs)\n",
        "        self.breed = \"Boxer\"\n",
        "        return\n",
        "\n",
        "    def speak(self):\n",
        "        return \"Loud Woof\"\n",
        "\n",
        "dog = Boxer(name=\"Cherry\", age=2, coat=\"brown\")\n",
        "print(dog.name, dog.age, dog.breed, dog.coat, dog.kind, dog.speak())\n",
        "print(\"---\")"
      ],
      "metadata": {
        "id": "9mlEvXA8wIoJ",
        "colab": {
          "base_uri": "https://localhost:8080/"
        },
        "outputId": "1714468a-2878-469d-b212-3c9c1793f6da"
      },
      "execution_count": 12,
      "outputs": [
        {
          "output_type": "stream",
          "name": "stdout",
          "text": [
            "Creates a boxer\n",
            "Creates a dog\n",
            "Creates an animal\n",
            "Cherry 2 Boxer brown dog Loud Woof\n",
            "---\n"
          ]
        }
      ]
    },
    {
      "cell_type": "markdown",
      "source": [
        "### Why and When to Use Classes? (Object-Oriented Programming)\n",
        "\n",
        "- **Organisation:** Classes provide a structured way to group related data and behaviours, making code more intuitive and easier to follow.\n",
        "\n",
        "- **Modularity:** Through encapsulation, classes create self-contained objects, simplifying debugging and enhancing collaboration in team projects.\n",
        "\n",
        "- **Reusability and Productivity:** By leveraging inheritance, existing code can be reused and extended, reducing duplication and saving development time.\n",
        "\n",
        "- **Scalability and Maintainability:** Classes allow functionalities to be developed and upgraded independently, making them particularly advantageous for systems that are dynamic or require frequent updates.\n",
        "\n",
        "\n",
        "PyTorch is predominantly object-oriented for model organisation and design. Let's have a look at our model class from the previous lectures"
      ],
      "metadata": {
        "id": "qBUItVP0FpiR"
      }
    },
    {
      "cell_type": "code",
      "source": [
        "# Child class inherited from nn.Module\n",
        "class simpleFFN(nn.Module):\n",
        "\n",
        "  # Initialise with a few parameters that will define our model\n",
        "  def __init__(self, input_size, hidden_size_1=100, hidden_size_2=50, output_size=10):\n",
        "\n",
        "    # Ensure parent is correctly initialised (avoids errors)\n",
        "    super(simpleFFN, self).__init__()\n",
        "\n",
        "    # Attributes are layers and activation of our model\n",
        "    # Note they are also instantiated objects of a class\n",
        "    self.hidden_1 = nn.Linear(input_size, hidden_size_1, bias=False)\n",
        "    self.hidden_2 = nn.Linear(hidden_size_1, hidden_size_2, bias=False)\n",
        "    self.output = nn.Linear(hidden_size_2, output_size, bias=False)\n",
        "    self.activation = nn.Sigmoid()\n",
        "\n",
        "  # 'forward' is a required method of nn.Module derived classes\n",
        "  def forward(self, X):\n",
        "    print(\"Running model forward pass\")\n",
        "\n",
        "    # Cascade the variable X through the model calling each layer instance\n",
        "    z1 = self.hidden_1(X.flatten(start_dim=1))\n",
        "    a1 = self.activation(z1)\n",
        "    z2 = self.hidden_2(a1)\n",
        "    a2 = self.activation(z2)\n",
        "    z3 = self.output(a2)\n",
        "    a3 = self.activation(z3)\n",
        "    return a3\n",
        "\n",
        "model = simpleFFN(input_size=1*28*28, hidden_size_1=200, hidden_size_2=50, output_size=10)\n",
        "print(model) #  __str__\n",
        "\n",
        "# The 'forward' function functions as __call__\n",
        "print(model(torch.rand(1,1,28,28))) # __call__"
      ],
      "metadata": {
        "id": "qD-HBV8jyKpO",
        "colab": {
          "base_uri": "https://localhost:8080/"
        },
        "outputId": "9f3925bd-b471-4ceb-d230-6ed4f43e7154"
      },
      "execution_count": 16,
      "outputs": [
        {
          "output_type": "stream",
          "name": "stdout",
          "text": [
            "simpleFFN(\n",
            "  (hidden_1): Linear(in_features=784, out_features=200, bias=False)\n",
            "  (hidden_2): Linear(in_features=200, out_features=50, bias=False)\n",
            "  (output): Linear(in_features=50, out_features=10, bias=False)\n",
            "  (activation): Sigmoid()\n",
            ")\n",
            "Running model forward pass\n",
            "tensor([[0.5420, 0.6054, 0.5093, 0.5055, 0.4309, 0.5107, 0.5572, 0.3970, 0.4570,\n",
            "         0.3830]], grad_fn=<SigmoidBackward0>)\n"
          ]
        }
      ]
    },
    {
      "cell_type": "markdown",
      "source": [
        "## Basic functionalities: Tensor Handling like Numpy Arrays"
      ],
      "metadata": {
        "id": "Y6smNB4gIgEv"
      }
    },
    {
      "cell_type": "code",
      "source": [
        "my_data = [i for i in range(100)]\n",
        "my_tensor = torch.tensor(my_data)\n",
        "my_tensor, my_tensor.shape"
      ],
      "metadata": {
        "id": "WUoHynl7Igl0",
        "colab": {
          "base_uri": "https://localhost:8080/"
        },
        "outputId": "96089b27-33ab-4561-ab3e-df98043671b9"
      },
      "execution_count": 17,
      "outputs": [
        {
          "output_type": "execute_result",
          "data": {
            "text/plain": [
              "(tensor([ 0,  1,  2,  3,  4,  5,  6,  7,  8,  9, 10, 11, 12, 13, 14, 15, 16, 17,\n",
              "         18, 19, 20, 21, 22, 23, 24, 25, 26, 27, 28, 29, 30, 31, 32, 33, 34, 35,\n",
              "         36, 37, 38, 39, 40, 41, 42, 43, 44, 45, 46, 47, 48, 49, 50, 51, 52, 53,\n",
              "         54, 55, 56, 57, 58, 59, 60, 61, 62, 63, 64, 65, 66, 67, 68, 69, 70, 71,\n",
              "         72, 73, 74, 75, 76, 77, 78, 79, 80, 81, 82, 83, 84, 85, 86, 87, 88, 89,\n",
              "         90, 91, 92, 93, 94, 95, 96, 97, 98, 99]),\n",
              " torch.Size([100]))"
            ]
          },
          "metadata": {},
          "execution_count": 17
        }
      ]
    },
    {
      "cell_type": "code",
      "source": [
        "my_tensor = my_tensor.unsqueeze(0)\n",
        "my_tensor.shape"
      ],
      "metadata": {
        "colab": {
          "base_uri": "https://localhost:8080/"
        },
        "id": "eNIjkoRX8GHg",
        "outputId": "2b482348-1a4b-4775-f5e7-ba37bda5acab"
      },
      "execution_count": 18,
      "outputs": [
        {
          "output_type": "execute_result",
          "data": {
            "text/plain": [
              "torch.Size([1, 100])"
            ]
          },
          "metadata": {},
          "execution_count": 18
        }
      ]
    },
    {
      "cell_type": "code",
      "source": [
        "my_reshaped_tensor = my_tensor.view(1, 2, 50) # shares storage with original tensor\n",
        "my_reshaped_tensor, my_reshaped_tensor.shape"
      ],
      "metadata": {
        "colab": {
          "base_uri": "https://localhost:8080/"
        },
        "id": "VTilflPd8GFJ",
        "outputId": "5f7bc5fe-21ba-417a-aaa0-fe789a3ea6cc"
      },
      "execution_count": 19,
      "outputs": [
        {
          "output_type": "execute_result",
          "data": {
            "text/plain": [
              "(tensor([[[ 0,  1,  2,  3,  4,  5,  6,  7,  8,  9, 10, 11, 12, 13, 14, 15, 16,\n",
              "           17, 18, 19, 20, 21, 22, 23, 24, 25, 26, 27, 28, 29, 30, 31, 32, 33,\n",
              "           34, 35, 36, 37, 38, 39, 40, 41, 42, 43, 44, 45, 46, 47, 48, 49],\n",
              "          [50, 51, 52, 53, 54, 55, 56, 57, 58, 59, 60, 61, 62, 63, 64, 65, 66,\n",
              "           67, 68, 69, 70, 71, 72, 73, 74, 75, 76, 77, 78, 79, 80, 81, 82, 83,\n",
              "           84, 85, 86, 87, 88, 89, 90, 91, 92, 93, 94, 95, 96, 97, 98, 99]]]),\n",
              " torch.Size([1, 2, 50]))"
            ]
          },
          "metadata": {},
          "execution_count": 19
        }
      ]
    },
    {
      "cell_type": "code",
      "source": [
        "rand_tensor = torch.randn((3, 256, 256))\n",
        "rand_tensor.mean(), rand_tensor.std(), rand_tensor.max(), rand_tensor.sum()"
      ],
      "metadata": {
        "colab": {
          "base_uri": "https://localhost:8080/"
        },
        "id": "f415_Dt48F_a",
        "outputId": "0dc71d8b-78fd-4528-b6d5-c743d3350858"
      },
      "execution_count": 20,
      "outputs": [
        {
          "output_type": "execute_result",
          "data": {
            "text/plain": [
              "(tensor(0.0015), tensor(1.0026), tensor(4.6749), tensor(288.2627))"
            ]
          },
          "metadata": {},
          "execution_count": 20
        }
      ]
    },
    {
      "cell_type": "code",
      "source": [
        "rand_tensor_sq = rand_tensor **2\n",
        "print(rand_tensor_sq.shape)"
      ],
      "metadata": {
        "colab": {
          "base_uri": "https://localhost:8080/"
        },
        "id": "51GYntVf8TRb",
        "outputId": "5271fd67-f5a5-4c01-9396-a9834b1fafc3"
      },
      "execution_count": 21,
      "outputs": [
        {
          "output_type": "stream",
          "name": "stdout",
          "text": [
            "torch.Size([3, 256, 256])\n"
          ]
        }
      ]
    },
    {
      "cell_type": "code",
      "source": [
        "torch.linalg.inv(rand_tensor)"
      ],
      "metadata": {
        "colab": {
          "base_uri": "https://localhost:8080/"
        },
        "id": "l9c4fgcs8aNa",
        "outputId": "3f31c976-da36-4e32-838d-32e7f925ef84"
      },
      "execution_count": 22,
      "outputs": [
        {
          "output_type": "execute_result",
          "data": {
            "text/plain": [
              "tensor([[[-0.0208, -0.0083, -0.0263,  ...,  0.0069,  0.0076,  0.0053],\n",
              "         [ 0.0451,  0.0462,  0.0747,  ...,  0.0445,  0.0205, -0.0388],\n",
              "         [ 0.0532, -0.0243, -0.0168,  ..., -0.0677,  0.0602, -0.0581],\n",
              "         ...,\n",
              "         [-0.0561,  0.0482,  0.0463,  ...,  0.0245, -0.0810,  0.0531],\n",
              "         [ 0.1042, -0.0474,  0.0142,  ...,  0.0102,  0.1100, -0.0324],\n",
              "         [ 0.0885, -0.0202,  0.0500,  ...,  0.0305,  0.0876, -0.0954]],\n",
              "\n",
              "        [[ 0.3937,  0.7410, -0.1439,  ..., -0.2804,  0.1222,  0.2071],\n",
              "         [-0.1106, -0.1574,  0.0206,  ..., -0.0219, -0.0459, -0.1226],\n",
              "         [-0.2639, -0.3060,  0.0735,  ...,  0.1002, -0.0480, -0.2129],\n",
              "         ...,\n",
              "         [ 0.0745,  0.3025, -0.0310,  ..., -0.0835,  0.0399,  0.0585],\n",
              "         [-0.2037, -0.1557,  0.0526,  ...,  0.1078,  0.0371, -0.1300],\n",
              "         [ 0.3299,  0.3309, -0.0727,  ..., -0.1777,  0.0123,  0.1538]],\n",
              "\n",
              "        [[-0.0326, -0.1225, -0.0716,  ...,  0.0412, -0.0051,  0.0064],\n",
              "         [-0.1460, -0.7104, -0.6795,  ...,  0.1265,  0.2312,  0.3174],\n",
              "         [-0.0391, -0.2434, -0.1479,  ...,  0.0259,  0.0332,  0.0894],\n",
              "         ...,\n",
              "         [-0.0287, -0.1725, -0.1728,  ...,  0.0602,  0.0372,  0.1148],\n",
              "         [ 0.0114,  0.0721,  0.0703,  ..., -0.0285, -0.0482, -0.0354],\n",
              "         [-0.0228, -0.0351, -0.0101,  ...,  0.0061,  0.0756,  0.0201]]])"
            ]
          },
          "metadata": {},
          "execution_count": 22
        }
      ]
    },
    {
      "cell_type": "code",
      "source": [
        "torch.fft.fftn(rand_tensor)"
      ],
      "metadata": {
        "colab": {
          "base_uri": "https://localhost:8080/"
        },
        "id": "mHa4QWxS8edC",
        "outputId": "3d813534-2c7d-48a5-b946-4c264fb4c4d0"
      },
      "execution_count": 23,
      "outputs": [
        {
          "output_type": "execute_result",
          "data": {
            "text/plain": [
              "tensor([[[ 2.8826e+02+0.0000j,  9.8820e+01-634.3307j, -4.2406e+02-115.7440j,\n",
              "           ..., -3.0258e+02+341.5077j, -4.2406e+02+115.7440j,\n",
              "           9.8819e+01+634.3307j],\n",
              "         [ 4.4535e+02+377.9402j, -5.1949e+01-153.8055j,  9.5939e+01+38.4297j,\n",
              "           ..., -1.7103e+02-356.9041j, -5.3763e+02+254.0188j,\n",
              "          -1.4419e+02+598.6669j],\n",
              "         [ 3.9869e+02-121.7165j,  1.3457e+01-624.1785j, -8.2151e+02+136.7388j,\n",
              "           ..., -2.7051e+02-492.3875j, -4.3552e+02-566.6296j,\n",
              "           1.0288e+02+103.0449j],\n",
              "         ...,\n",
              "         [-9.2793e+01-215.9840j,  1.1223e+02-29.9472j, -2.0821e+02+81.7174j,\n",
              "           ..., -2.1615e+02+826.3398j,  8.8359e+01+76.5304j,\n",
              "          -2.4903e+02+372.2765j],\n",
              "         [ 3.9869e+02+121.7166j,  1.0288e+02-103.0449j, -4.3552e+02+566.6296j,\n",
              "           ..., -4.0126e+01-9.6634j, -8.2151e+02-136.7387j,\n",
              "           1.3457e+01+624.1785j],\n",
              "         [ 4.4535e+02-377.9402j, -1.4419e+02-598.6669j, -5.3763e+02-254.0188j,\n",
              "           ...,  3.8621e+02-45.4109j,  9.5939e+01-38.4297j,\n",
              "          -5.1949e+01+153.8055j]],\n",
              "\n",
              "        [[-9.4760e+01+292.6445j,  1.9413e+01-64.6481j, -2.7877e+02+392.8088j,\n",
              "           ..., -7.1955e+00+93.2484j,  1.5230e+02+80.1628j,\n",
              "          -1.7745e+02-322.1411j],\n",
              "         [-3.0969e+02-225.2390j,  1.8149e+02+53.8005j,  2.2670e+02+454.6060j,\n",
              "           ..., -1.8489e+02+413.3118j, -3.1540e+02-612.6193j,\n",
              "           3.8815e+02-516.3778j],\n",
              "         [-2.2831e+02-36.5277j, -5.5188e+01-87.4977j, -4.6002e-01-73.5302j,\n",
              "           ...,  7.0853e+02-220.2050j,  3.5754e+02+177.5418j,\n",
              "           2.8688e+02-51.1522j],\n",
              "         ...,\n",
              "         [-1.9383e+02+386.5016j, -3.7790e+02+145.5501j, -3.1255e+02+371.6538j,\n",
              "           ..., -6.8052e+01-253.6741j, -3.1405e+02-681.1799j,\n",
              "          -2.5726e+02+678.4282j],\n",
              "         [ 4.3151e+02+299.4271j, -3.9894e+02-192.5554j, -2.0478e+02-70.7509j,\n",
              "           ...,  4.6370e+02+259.2130j,  2.4250e+02-152.0081j,\n",
              "           5.4025e+01+391.5350j],\n",
              "         [-2.8185e+02+464.1725j,  1.9518e+02-629.7501j, -5.9527e+02-626.1606j,\n",
              "           ...,  3.7171e+02+376.4203j, -1.9925e+02-88.2054j,\n",
              "          -3.8112e+02+179.1767j]],\n",
              "\n",
              "        [[-9.4760e+01-292.6445j, -1.7745e+02+322.1411j,  1.5230e+02-80.1628j,\n",
              "           ...,  3.2814e+02-212.7917j, -2.7877e+02-392.8088j,\n",
              "           1.9413e+01+64.6481j],\n",
              "         [-2.8185e+02-464.1725j, -3.8112e+02-179.1767j, -1.9925e+02+88.2054j,\n",
              "           ..., -1.7495e+02-120.1824j, -5.9527e+02+626.1606j,\n",
              "           1.9518e+02+629.7501j],\n",
              "         [ 4.3151e+02-299.4271j,  5.4025e+01-391.5350j,  2.4250e+02+152.0082j,\n",
              "           ...,  2.6370e+02+229.5192j, -2.0478e+02+70.7509j,\n",
              "          -3.9894e+02+192.5554j],\n",
              "         ...,\n",
              "         [ 1.1238e+02+663.3917j, -7.0625e+01+354.3366j,  3.7765e+02-94.6432j,\n",
              "           ...,  1.5976e+02-567.0616j, -6.6287e+01-181.2800j,\n",
              "          -2.3463e+02-96.3846j],\n",
              "         [-2.2831e+02+36.5276j,  2.8688e+02+51.1522j,  3.5754e+02-177.5418j,\n",
              "           ..., -2.6423e+02-22.7718j, -4.5998e-01+73.5301j,\n",
              "          -5.5188e+01+87.4976j],\n",
              "         [-3.0969e+02+225.2390j,  3.8815e+02+516.3778j, -3.1540e+02+612.6193j,\n",
              "           ..., -5.8102e+02-63.7859j,  2.2670e+02-454.6061j,\n",
              "           1.8149e+02-53.8005j]]])"
            ]
          },
          "metadata": {},
          "execution_count": 23
        }
      ]
    },
    {
      "cell_type": "markdown",
      "metadata": {
        "id": "NVSEqiLtBqhD"
      },
      "source": [
        "## Data Handling with Torchvision's KMNIST"
      ]
    },
    {
      "cell_type": "markdown",
      "metadata": {
        "id": "kN_erM55BqhD"
      },
      "source": [
        "[``Torchvision``](https://pytorch.org/vision/stable/index.html) is one of many support libraries for the ``Pytorch`` project. It provides a range of popular models (pre-trained or not) and datasets, as well as image transformations that are useful for computer vision problems. Because it is a support library, its integration to ``Pytorch`` is native and straigth-forward, as we will see below."
      ]
    },
    {
      "cell_type": "code",
      "execution_count": 24,
      "metadata": {
        "id": "F8Wd0rWcBqhD",
        "colab": {
          "base_uri": "https://localhost:8080/"
        },
        "outputId": "bdab1553-97cd-4160-edc1-36d0d2e2f914"
      },
      "outputs": [
        {
          "output_type": "stream",
          "name": "stdout",
          "text": [
            "Downloading http://codh.rois.ac.jp/kmnist/dataset/kmnist/train-images-idx3-ubyte.gz\n",
            "Downloading http://codh.rois.ac.jp/kmnist/dataset/kmnist/train-images-idx3-ubyte.gz to ./KMNIST/raw/train-images-idx3-ubyte.gz\n"
          ]
        },
        {
          "output_type": "stream",
          "name": "stderr",
          "text": [
            "100%|██████████| 18.2M/18.2M [00:15<00:00, 1.16MB/s]\n"
          ]
        },
        {
          "output_type": "stream",
          "name": "stdout",
          "text": [
            "Extracting ./KMNIST/raw/train-images-idx3-ubyte.gz to ./KMNIST/raw\n",
            "\n",
            "Downloading http://codh.rois.ac.jp/kmnist/dataset/kmnist/train-labels-idx1-ubyte.gz\n",
            "Downloading http://codh.rois.ac.jp/kmnist/dataset/kmnist/train-labels-idx1-ubyte.gz to ./KMNIST/raw/train-labels-idx1-ubyte.gz\n"
          ]
        },
        {
          "output_type": "stream",
          "name": "stderr",
          "text": [
            "100%|██████████| 29.5k/29.5k [00:00<00:00, 202kB/s]\n"
          ]
        },
        {
          "output_type": "stream",
          "name": "stdout",
          "text": [
            "Extracting ./KMNIST/raw/train-labels-idx1-ubyte.gz to ./KMNIST/raw\n",
            "\n",
            "Downloading http://codh.rois.ac.jp/kmnist/dataset/kmnist/t10k-images-idx3-ubyte.gz\n",
            "Downloading http://codh.rois.ac.jp/kmnist/dataset/kmnist/t10k-images-idx3-ubyte.gz to ./KMNIST/raw/t10k-images-idx3-ubyte.gz\n"
          ]
        },
        {
          "output_type": "stream",
          "name": "stderr",
          "text": [
            "100%|██████████| 3.04M/3.04M [00:02<00:00, 1.09MB/s]\n"
          ]
        },
        {
          "output_type": "stream",
          "name": "stdout",
          "text": [
            "Extracting ./KMNIST/raw/t10k-images-idx3-ubyte.gz to ./KMNIST/raw\n",
            "\n",
            "Downloading http://codh.rois.ac.jp/kmnist/dataset/kmnist/t10k-labels-idx1-ubyte.gz\n",
            "Downloading http://codh.rois.ac.jp/kmnist/dataset/kmnist/t10k-labels-idx1-ubyte.gz to ./KMNIST/raw/t10k-labels-idx1-ubyte.gz\n"
          ]
        },
        {
          "output_type": "stream",
          "name": "stderr",
          "text": [
            "100%|██████████| 5.12k/5.12k [00:00<00:00, 17.3MB/s]\n"
          ]
        },
        {
          "output_type": "stream",
          "name": "stdout",
          "text": [
            "Extracting ./KMNIST/raw/t10k-labels-idx1-ubyte.gz to ./KMNIST/raw\n",
            "\n"
          ]
        }
      ],
      "source": [
        "import torchvision\n",
        "\n",
        "train_dataset = torchvision.datasets.KMNIST(root = \"./\", train = True, download = True)\n",
        "test_dataset = torchvision.datasets.KMNIST(root = \"./\", train = False, download = True)"
      ]
    },
    {
      "cell_type": "code",
      "execution_count": 25,
      "metadata": {
        "id": "GkfYNzSPBqhD",
        "colab": {
          "base_uri": "https://localhost:8080/"
        },
        "outputId": "e8ea18f0-dc3a-4fda-c869-9edeb9d2e5ea"
      },
      "outputs": [
        {
          "output_type": "stream",
          "name": "stdout",
          "text": [
            "<class 'torchvision.datasets.mnist.KMNIST'> \n",
            "\n",
            "Dataset KMNIST\n",
            "    Number of datapoints: 60000\n",
            "    Root location: ./\n",
            "    Split: Train \n",
            "\n",
            "['__add__', '__annotations__', '__class__', '__class_getitem__', '__delattr__', '__dict__', '__dir__', '__doc__', '__eq__', '__format__', '__ge__', '__getattribute__', '__getitem__', '__gt__', '__hash__', '__init__', '__init_subclass__', '__le__', '__len__', '__lt__', '__module__', '__ne__', '__new__', '__orig_bases__', '__parameters__', '__reduce__', '__reduce_ex__', '__repr__', '__setattr__', '__sizeof__', '__slots__', '__str__', '__subclasshook__', '__weakref__', '_check_exists', '_check_legacy_exist', '_format_transform_repr', '_is_protocol', '_load_data', '_load_legacy_data', '_repr_indent', 'class_to_idx', 'classes', 'data', 'download', 'extra_repr', 'mirrors', 'processed_folder', 'raw_folder', 'resources', 'root', 'target_transform', 'targets', 'test_data', 'test_file', 'test_labels', 'train', 'train_data', 'train_labels', 'training_file', 'transform', 'transforms'] \n",
            "\n"
          ]
        }
      ],
      "source": [
        "print(type(train_dataset), \"\\n\")\n",
        "print(train_dataset, \"\\n\")\n",
        "print(dir(train_dataset), \"\\n\") # Information held in the dataset object"
      ]
    },
    {
      "cell_type": "markdown",
      "source": [
        "相当多的magic methods"
      ],
      "metadata": {
        "id": "Zn0mz-qYC7_a"
      }
    },
    {
      "cell_type": "code",
      "execution_count": 26,
      "metadata": {
        "id": "mCmYlWdIBqhE",
        "colab": {
          "base_uri": "https://localhost:8080/"
        },
        "outputId": "7817d306-476a-4f05-bb4c-dccbf5330055"
      },
      "outputs": [
        {
          "output_type": "stream",
          "name": "stdout",
          "text": [
            "{'o': 0, 'ki': 1, 'su': 2, 'tsu': 3, 'na': 4, 'ha': 5, 'ma': 6, 'ya': 7, 're': 8, 'wo': 9}\n"
          ]
        }
      ],
      "source": [
        "class_to_idx = train_dataset.class_to_idx\n",
        "print(class_to_idx)"
      ]
    },
    {
      "cell_type": "code",
      "source": [
        "class_to_idx = list(train_dataset.class_to_idx)\n",
        "print(class_to_idx)"
      ],
      "metadata": {
        "colab": {
          "base_uri": "https://localhost:8080/"
        },
        "id": "-3HOMKAHDzHO",
        "outputId": "42d5ef70-0005-463c-ef6e-635cdc3bf43c"
      },
      "execution_count": 28,
      "outputs": [
        {
          "output_type": "stream",
          "name": "stdout",
          "text": [
            "['o', 'ki', 'su', 'tsu', 'na', 'ha', 'ma', 'ya', 're', 'wo']\n"
          ]
        }
      ]
    },
    {
      "cell_type": "markdown",
      "metadata": {
        "id": "-Xv-4YFGBqhE"
      },
      "source": [
        "* The method ``__getitem__`` is called when indexing samples within Pytorch Datasets\n",
        "\n",
        "* For this dataset class, ``__getitem__`` returns two variables: the image and its target label"
      ]
    },
    {
      "cell_type": "code",
      "execution_count": 29,
      "metadata": {
        "id": "Yzq2kDYxBqhE",
        "colab": {
          "base_uri": "https://localhost:8080/",
          "height": 488
        },
        "outputId": "a2298d95-7bb3-46ed-ea2d-932000cee7bc"
      },
      "outputs": [
        {
          "output_type": "stream",
          "name": "stdout",
          "text": [
            "(<PIL.Image.Image image mode=L size=28x28 at 0x797196055000>, 8) \n",
            "\n"
          ]
        },
        {
          "output_type": "display_data",
          "data": {
            "text/plain": [
              "<Figure size 640x480 with 1 Axes>"
            ],
            "image/png": "[encoded data removed]"
          },
          "metadata": {}
        }
      ],
      "source": [
        "sample =  train_dataset[0]\n",
        "print(sample, \"\\n\")\n",
        "\n",
        "plt.imshow(sample[0], cmap = \"gray\")\n",
        "plt.title(str(sample[1]) + \" / \" + class_to_idx[sample[1]])\n",
        "plt.show()"
      ]
    },
    {
      "cell_type": "markdown",
      "metadata": {
        "id": "vz5-a9YtBqhE"
      },
      "source": [
        "#### Let's visualise a few samples"
      ]
    },
    {
      "cell_type": "code",
      "execution_count": 30,
      "metadata": {
        "id": "32TUHGojBqhE",
        "colab": {
          "base_uri": "https://localhost:8080/",
          "height": 249
        },
        "outputId": "2a2bcfda-44b1-4b0c-a926-e55855aeb1ec"
      },
      "outputs": [
        {
          "output_type": "display_data",
          "data": {
            "text/plain": [
              "<Figure size 1500x500 with 6 Axes>"
            ],
            "image/png": "[encoded data removed]"
          },
          "metadata": {}
        }
      ],
      "source": [
        "set_seed(42)\n",
        "idxs = torch.randint(low=0, high=len(train_dataset), size=(6,))\n",
        "fig, axs = plt.subplots(1, 6, figsize=(15, 5))\n",
        "for i, idx in enumerate((idxs)):\n",
        "    img, target = train_dataset[idx]\n",
        "    axs[i].imshow(img, cmap=\"gray\")\n",
        "    axs[i].set_title(str(target) + \" / \" + class_to_idx[target])\n"
      ]
    },
    {
      "cell_type": "markdown",
      "metadata": {
        "id": "X0-WgUldBqhE"
      },
      "source": [
        "* For convenience, let's change the format of the image from ``PIL`` to a ``torch.tensor`` object\n",
        "\n",
        "* We will do so by using the ``torchvision.transforms`` module\n",
        "\n",
        "* A list of transforms is often packaged into a ``Compose`` container\n",
        "\n",
        "* Pytorch's standard practice is to apply such transformations inside the method ``__getitem__``\n",
        "\n",
        "* It doesn't modify the data itself, but it will be applied whenever the dataset is indexed\n",
        "\n",
        "\n",
        "* This circumvents the need of using pre-processing scripts to generate and store a processed dataset"
      ]
    },
    {
      "cell_type": "code",
      "execution_count": 31,
      "metadata": {
        "id": "mE0q4fnIBqhE",
        "colab": {
          "base_uri": "https://localhost:8080/"
        },
        "outputId": "3ec397cb-b634-456d-8a5b-bd62ce341ebf"
      },
      "outputs": [
        {
          "output_type": "stream",
          "name": "stdout",
          "text": [
            "torch.Size([1, 28, 28]) 8\n"
          ]
        }
      ],
      "source": [
        "from torchvision.transforms import Compose, ToTensor\n",
        "transform = Compose([ToTensor(),]) # Compose a list of transformations\n",
        "\n",
        "train_dataset = torchvision.datasets.KMNIST(root=\"./\", train=True, download=False, transform=transform, target_transform=None)\n",
        "test_dataset = torchvision.datasets.KMNIST(root=\"./\", train=False, download=False, transform=transform, target_transform=None)\n",
        "\n",
        "sample = train_dataset[0]\n",
        "img, target = sample\n",
        "\n",
        "print(img.shape, target)"
      ]
    },
    {
      "cell_type": "markdown",
      "metadata": {
        "id": "z3JgrKjEBqhF"
      },
      "source": [
        "* Using a ``ToTensor`` transformation is equivalent to calling ``TensorDataset``, as seen in the previous lecture. However, ``TensorDataset`` requires all data to be loaded into memory, which is not often feasible. Using the transformation allows the data to be transformed into ``torch.tensor`` objects as the data is accessed.\n",
        "\n",
        "* Other transformations from the ``torch.transforms`` module can be found in its documentation [here](https://pytorch.org/vision/0.9/transforms.html)\n",
        "\n",
        "* These include ``Normalize``, ``Pad``, ``RandomCrop``, ``Resize``, etc..\n",
        "\n",
        "* There is even an option to create custom transforms with ``transforms.Lambda``. Let's have a look"
      ]
    },
    {
      "cell_type": "code",
      "source": [
        "Lambda"
      ],
      "metadata": {
        "colab": {
          "base_uri": "https://localhost:8080/",
          "height": 174
        },
        "id": "JLuF7NS0FO82",
        "outputId": "83d5989a-2e04-4f33-c303-82d62a73fef7"
      },
      "execution_count": 33,
      "outputs": [
        {
          "output_type": "execute_result",
          "data": {
            "text/plain": [
              "torchvision.transforms.transforms.Lambda"
            ],
            "text/html": [
              "<div style=\"max-width:800px; border: 1px solid var(--colab-border-color);\"><style>\n",
              "      pre.function-repr-contents {\n",
              "        overflow-x: auto;\n",
              "        padding: 8px 12px;\n",
              "        max-height: 500px;\n",
              "      }\n",
              "\n",
              "      pre.function-repr-contents.function-repr-contents-collapsed {\n",
              "        cursor: pointer;\n",
              "        max-height: 100px;\n",
              "      }\n",
              "    </style>\n",
              "    <pre style=\"white-space: initial; background:\n",
              "         var(--colab-secondary-surface-color); padding: 8px 12px;\n",
              "         border-bottom: 1px solid var(--colab-border-color);\"><b>torchvision.transforms.transforms.Lambda</b><br/>def __call__(img)</pre><pre class=\"function-repr-contents function-repr-contents-collapsed\" style=\"\"><a class=\"filepath\" style=\"display:none\" href=\"#\">/usr/local/lib/python3.10/dist-packages/torchvision/transforms/transforms.py</a>Apply a user-defined lambda as a transform. This transform does not support torchscript.\n",
              "\n",
              "Args:\n",
              "    lambd (function): Lambda/function to be used for transform.</pre>\n",
              "      <script>\n",
              "      if (google.colab.kernel.accessAllowed && google.colab.files && google.colab.files.view) {\n",
              "        for (const element of document.querySelectorAll('.filepath')) {\n",
              "          element.style.display = 'block'\n",
              "          element.onclick = (event) => {\n",
              "            event.preventDefault();\n",
              "            event.stopPropagation();\n",
              "            google.colab.files.view(element.textContent, 465);\n",
              "          };\n",
              "        }\n",
              "      }\n",
              "      for (const element of document.querySelectorAll('.function-repr-contents')) {\n",
              "        element.onclick = (event) => {\n",
              "          event.preventDefault();\n",
              "          event.stopPropagation();\n",
              "          element.classList.toggle('function-repr-contents-collapsed');\n",
              "        };\n",
              "      }\n",
              "      </script>\n",
              "      </div>"
            ]
          },
          "metadata": {},
          "execution_count": 33
        }
      ]
    },
    {
      "cell_type": "code",
      "execution_count": 32,
      "metadata": {
        "id": "K7iTXf_eBqhF",
        "colab": {
          "base_uri": "https://localhost:8080/"
        },
        "outputId": "ed5144ca-53b6-4ce6-f02d-7f5ea130f8c2"
      },
      "outputs": [
        {
          "output_type": "stream",
          "name": "stdout",
          "text": [
            "Dataset KMNIST\n",
            "    Number of datapoints: 60000\n",
            "    Root location: ./\n",
            "    Split: Train\n",
            "    StandardTransform\n",
            "Transform: Compose(\n",
            "               ToTensor()\n",
            "               Lambda()\n",
            "           )\n"
          ]
        }
      ],
      "source": [
        "from torchvision.transforms import Lambda\n",
        "\n",
        "def add_noise(x, alpha=0.1):\n",
        "    return x + alpha*torch.rand_like(x)\n",
        "\n",
        "\n",
        "transform = Compose([ToTensor(),\n",
        "                     Lambda(lambda x: add_noise(x, 0.5))])\n",
        "\n",
        "train_dataset = torchvision.datasets.KMNIST(root=\"./\", train=True, download=False, transform=transform, target_transform=None)\n",
        "test_dataset = torchvision.datasets.KMNIST(root=\"./\", train=False, download=False, transform=transform, target_transform=None)\n",
        "\n",
        "print(train_dataset)"
      ]
    },
    {
      "cell_type": "code",
      "execution_count": 34,
      "metadata": {
        "id": "SS7XvyYuBqhF",
        "colab": {
          "base_uri": "https://localhost:8080/",
          "height": 249
        },
        "outputId": "07178d42-709e-4499-c5c7-25ce98e9f4c3"
      },
      "outputs": [
        {
          "output_type": "display_data",
          "data": {
            "text/plain": [
              "<Figure size 1500x500 with 6 Axes>"
            ],
            "image/png": "[encoded data removed]"
          },
          "metadata": {}
        }
      ],
      "source": [
        "set_seed(42)\n",
        "idxs = torch.randint(low=0, high=len(train_dataset), size=(6,))\n",
        "fig, axs = plt.subplots(1, 6, figsize=(15, 5))\n",
        "for i, idx in enumerate((idxs)):\n",
        "    img, target = train_dataset[idx]\n",
        "    axs[i].imshow(img[0], cmap=\"gray\") # imshow expects W x H x C format\n",
        "    axs[i].set_title(target)"
      ]
    },
    {
      "cell_type": "markdown",
      "metadata": {
        "id": "ZoO7AE2fBqhF"
      },
      "source": [
        "* For now, all we need is the simple transformation of the dataset to ``torch.Tensor`` objects to allow ``PyTorch`` handling, and the standardisation of the data"
      ]
    },
    {
      "cell_type": "code",
      "execution_count": 35,
      "metadata": {
        "id": "qDSMo6vKBqhF",
        "colab": {
          "base_uri": "https://localhost:8080/"
        },
        "outputId": "7d8ae5db-0df7-4cd0-d6ff-86b260fd411a"
      },
      "outputs": [
        {
          "output_type": "stream",
          "name": "stdout",
          "text": [
            "min/max: 0 / 255\n",
            "mean:  0.19176216423511505\n",
            "std:  0.3483428359031677\n"
          ]
        }
      ],
      "source": [
        "print(\"min/max:\", train_dataset.data.min().item(), \"/\", train_dataset.data.max().item())\n",
        "print(\"mean: \", torch.mean(train_dataset.data.float()/255.).item())\n",
        "print(\"std: \", torch.std(train_dataset.data.float()/255.).item())"
      ]
    },
    {
      "cell_type": "code",
      "execution_count": 37,
      "metadata": {
        "id": "Qdee4bWrBqhF",
        "colab": {
          "base_uri": "https://localhost:8080/"
        },
        "outputId": "57d436b2-cc70-4153-991b-29d3a4d54e1a"
      },
      "outputs": [
        {
          "output_type": "stream",
          "name": "stdout",
          "text": [
            "Dataset KMNIST\n",
            "    Number of datapoints: 60000\n",
            "    Root location: ./\n",
            "    Split: Train\n",
            "    StandardTransform\n",
            "Transform: Compose(\n",
            "               ToTensor()\n",
            "               Normalize(mean=0.19176216423511505, std=0.3483428359031677)\n",
            "           )\n"
          ]
        }
      ],
      "source": [
        "from torchvision.transforms import Normalize\n",
        "\n",
        "transform = Compose([ToTensor(), # In this transformation the data is scaled from [0, 1], see documentation\n",
        "                     Normalize(0.19176216423511505, 0.3483428359031677), # This transforms applies a Z-score normalisation\n",
        "                     ])\n",
        "\n",
        "train_dataset = torchvision.datasets.KMNIST(root=\"./\", train=True, download=False, transform=transform, target_transform=None)\n",
        "test_dataset = torchvision.datasets.KMNIST(root=\"./\", train=False, download=False, transform=transform, target_transform=None)\n",
        "\n",
        "print(train_dataset)"
      ]
    },
    {
      "cell_type": "code",
      "execution_count": 38,
      "metadata": {
        "id": "8kIXSnhsBqhF",
        "colab": {
          "base_uri": "https://localhost:8080/"
        },
        "outputId": "3afc9751-9bdf-42e5-dca2-839bc6356898"
      },
      "outputs": [
        {
          "output_type": "stream",
          "name": "stdout",
          "text": [
            "min/max: 0 / 255\n",
            "mean:  0.19176216423511505\n",
            "std:  0.3483428359031677\n"
          ]
        }
      ],
      "source": [
        "print(\"min/max:\", train_dataset.data.min().item(), \"/\", train_dataset.data.max().item())\n",
        "print(\"mean: \", torch.mean(train_dataset.data/255.).item())\n",
        "print(\"std: \", torch.std(train_dataset.data/255.).item())"
      ]
    },
    {
      "cell_type": "markdown",
      "metadata": {
        "id": "yhEx7Fa2BqhF"
      },
      "source": [
        "* Why is the data not standardised?"
      ]
    },
    {
      "cell_type": "markdown",
      "metadata": {
        "id": "hWynZd-yBqhF"
      },
      "source": [
        "## Batch Handling with ``DataLoader``"
      ]
    },
    {
      "cell_type": "markdown",
      "metadata": {
        "id": "uYWuUXkYBqhF"
      },
      "source": [
        "* The process of training in Pytorch relies on batch management of a particular dataset\n",
        "\n",
        "* This is done using the [``Dataloader``](https://pytorch.org/docs/stable/data.html#torch.utils.data.DataLoader) module, which is responsible for accessing a [``Dataset``](https://pytorch.org/docs/stable/data.html#torch.utils.data.Dataset) derived object and handling it according to our needs\n",
        "\n",
        "* In a way, the ``Dataloader`` and ``Dataset`` objects complement one another. The ``Dataset`` object handles **data** processing, whereas the ``Dataloader`` handles **batch** processing"
      ]
    },
    {
      "cell_type": "code",
      "execution_count": 39,
      "metadata": {
        "id": "EzL7XUBFBqhG",
        "colab": {
          "base_uri": "https://localhost:8080/"
        },
        "outputId": "76673342-0a91-4ca6-a235-8bc0575b8b0e"
      },
      "outputs": [
        {
          "output_type": "stream",
          "name": "stdout",
          "text": [
            "<torch.utils.data.dataloader.DataLoader object at 0x79717fe84fa0>\n",
            "{'dataset': Dataset KMNIST\n",
            "    Number of datapoints: 60000\n",
            "    Root location: ./\n",
            "    Split: Train\n",
            "    StandardTransform\n",
            "Transform: Compose(\n",
            "               ToTensor()\n",
            "               Normalize(mean=0.19176216423511505, std=0.3483428359031677)\n",
            "           ), 'num_workers': 2, 'prefetch_factor': 2, 'pin_memory': False, 'pin_memory_device': '', 'timeout': 0, 'worker_init_fn': None, '_DataLoader__multiprocessing_context': None, '_dataset_kind': 0, 'batch_size': 64, 'drop_last': False, 'sampler': <torch.utils.data.sampler.RandomSampler object at 0x79717fe85090>, 'batch_sampler': <torch.utils.data.sampler.BatchSampler object at 0x79717fe86950>, 'generator': None, 'collate_fn': <function default_collate at 0x797238054280>, 'persistent_workers': False, '_DataLoader__initialized': True, '_IterableDataset_len_called': None, '_iterator': None}\n"
          ]
        }
      ],
      "source": [
        "batch_size = 64 # The batch size\n",
        "num_workers = 2 # Subprocess for loading the data\n",
        "\n",
        "train_loader = torch.utils.data.DataLoader(train_dataset, batch_size=batch_size, num_workers=num_workers, shuffle=True)\n",
        "\n",
        "print(train_loader)\n",
        "print(train_loader.__dict__) # Information held by the dataloader\n"
      ]
    },
    {
      "cell_type": "markdown",
      "metadata": {
        "id": "mxO84IHjBqhG"
      },
      "source": [
        "#### \"The ``DataLoader`` object combines a dataset and a sampler, and provides an iterable over the given dataset\""
      ]
    },
    {
      "cell_type": "code",
      "execution_count": 42,
      "metadata": {
        "id": "1A-zhbpLBqhG",
        "colab": {
          "base_uri": "https://localhost:8080/",
          "height": 878
        },
        "outputId": "c8650097-cdbc-4e80-d4ff-9cc9a29563c5"
      },
      "outputs": [
        {
          "output_type": "stream",
          "name": "stdout",
          "text": [
            "torch.Size([64, 1, 28, 28]) torch.Size([64])\n"
          ]
        },
        {
          "output_type": "display_data",
          "data": {
            "text/plain": [
              "<Figure size 1000x1000 with 1 Axes>"
            ],
            "image/png": "[encoded data removed]"
          },
          "metadata": {}
        },
        {
          "output_type": "stream",
          "name": "stdout",
          "text": [
            "tensor([0, 5, 1, 6, 6, 8, 5, 3, 3, 3, 0, 2, 0, 2, 1, 7, 5, 2, 8, 1, 5, 0, 3, 9,\n",
            "        8, 7, 9, 2, 1, 0, 5, 1, 5, 0, 8, 3, 7, 5, 3, 2, 2, 7, 8, 4, 4, 9, 9, 0,\n",
            "        7, 2, 1, 2, 3, 6, 6, 3, 7, 4, 3, 4, 8, 0, 8, 0])\n"
          ]
        }
      ],
      "source": [
        "set_seed(42)\n",
        "train_batch_sample, train_batch_targets = next(iter(train_loader)) # syntax for directly iterating over the data loader\n",
        "print(train_batch_sample.shape, train_batch_targets.shape)\n",
        "\n",
        "# Visualise batch\n",
        "from torchvision.utils import make_grid\n",
        "\n",
        "batch_grid = make_grid(train_batch_sample, nrow=8, padding=3, pad_value=train_batch_sample.max())\n",
        "plt.figure(figsize=(10,10))\n",
        "plt.imshow(batch_grid[0], cmap=\"gray\") # index because make_grid transforms grayscale images to RGB\n",
        "plt.xticks([])\n",
        "plt.yticks([])\n",
        "plt.show()\n",
        "\n",
        "print(train_batch_targets)"
      ]
    },
    {
      "cell_type": "markdown",
      "metadata": {
        "id": "yK4ChMEEBqhG"
      },
      "source": [
        "* Fetching the next batch of the ``train_loader`` iterator returns 32 samples and 32 corresponding target labels\n"
      ]
    },
    {
      "cell_type": "code",
      "execution_count": 43,
      "metadata": {
        "id": "iyFexoTEBqhG",
        "colab": {
          "base_uri": "https://localhost:8080/"
        },
        "outputId": "1eba1553-bc96-46ea-beb2-4f300e8ab830"
      },
      "outputs": [
        {
          "output_type": "stream",
          "name": "stdout",
          "text": [
            "min/max: -0.550498366355896 / 2.3202366828918457\n",
            "mean:  0.005834880750626326\n",
            "std:  1.001968264579773\n"
          ]
        }
      ],
      "source": [
        "print(\"min/max:\", train_batch_sample.data.min().item(), \"/\", train_batch_sample.data.max().item())\n",
        "print(\"mean: \", torch.mean(train_batch_sample.data).item())\n",
        "print(\"std: \", torch.std(train_batch_sample.data).item())"
      ]
    },
    {
      "cell_type": "markdown",
      "metadata": {
        "id": "ev91FjR6BqhG"
      },
      "source": [
        "## Training workflow: ``Dataset`` and  ``Dataloader`` in Perspective"
      ]
    },
    {
      "cell_type": "markdown",
      "metadata": {
        "id": "2BeiHWxbBqhG"
      },
      "source": [
        "* Let's begin by splitting our training dataset into training and validation using ``StratifiedShuffleSplit`` and ``Subset``"
      ]
    },
    {
      "cell_type": "code",
      "execution_count": 44,
      "metadata": {
        "id": "Myok3FEhBqhG",
        "colab": {
          "base_uri": "https://localhost:8080/"
        },
        "outputId": "bbcc470e-3500-4de3-b82d-b2d55fd2cc8d"
      },
      "outputs": [
        {
          "output_type": "stream",
          "name": "stdout",
          "text": [
            "train ratio: 0.9\n",
            "valid ratio: 0.1\n",
            "no overlapping values 0\n"
          ]
        }
      ],
      "source": [
        "from sklearn.model_selection import StratifiedShuffleSplit\n",
        "shuffler = StratifiedShuffleSplit(n_splits=1, test_size=0.1, random_state=42).split(train_dataset.data, train_dataset.targets)\n",
        "train_idxs, valid_idxs = [(train_idx, valid_idx) for train_idx, valid_idx in shuffler][0]\n",
        "\n",
        "# Split data with Subset (does not require data to be loaded into memory, it limits the range of which __getitem__ can be called)\n",
        "from torch.utils.data import Subset\n",
        "valid_dataset = Subset(train_dataset, valid_idxs)\n",
        "train_dataset = Subset(train_dataset, train_idxs)\n",
        "\n",
        "# Confirm split ratio and no overlapping idxs\n",
        "print(\"train ratio:\", len(train_dataset) / (len(train_dataset) + len(valid_dataset)))\n",
        "print(\"valid ratio:\", len(valid_dataset) / (len(train_dataset) + len(valid_dataset)))\n",
        "print(\"no overlapping values\", len(set(train_dataset) & set(valid_dataset)))"
      ]
    },
    {
      "cell_type": "code",
      "execution_count": 45,
      "metadata": {
        "id": "GNeCmNKiBqhG",
        "colab": {
          "base_uri": "https://localhost:8080/"
        },
        "outputId": "d3ff6309-79ff-4f41-cb68-7d2e3030c84e"
      },
      "outputs": [
        {
          "output_type": "stream",
          "name": "stdout",
          "text": [
            "<class 'torch.utils.data.dataset.Subset'>\n",
            "{'dataset': Dataset KMNIST\n",
            "    Number of datapoints: 60000\n",
            "    Root location: ./\n",
            "    Split: Train\n",
            "    StandardTransform\n",
            "Transform: Compose(\n",
            "               ToTensor()\n",
            "               Normalize(mean=0.19176216423511505, std=0.3483428359031677)\n",
            "           ), 'indices': array([36195, 15295, 40977, ..., 39017, 53114, 55341])}\n"
          ]
        }
      ],
      "source": [
        "print(type(train_dataset))\n",
        "print(train_dataset.__dict__)"
      ]
    },
    {
      "cell_type": "markdown",
      "metadata": {
        "id": "62-XJb0IBqhG"
      },
      "source": [
        "* ``Subset`` is one of the many useful tools created by Pytorch to manipulate a ``Dataset`` object without creating copies. Other operations include concatenation and chaining, and can be found in the documentation [here](https://pytorch.org/docs/stable/data.html)\n",
        "\n",
        "* We now need two dataloaders"
      ]
    },
    {
      "cell_type": "code",
      "execution_count": 46,
      "metadata": {
        "id": "491FnehpBqhG"
      },
      "outputs": [],
      "source": [
        "batch_size = 64 # The batch size\n",
        "num_workers = 0 # Subprocess for loading the data\n",
        "\n",
        "train_loader = torch.utils.data.DataLoader(dataset=train_dataset, batch_size=batch_size,\n",
        "                                           num_workers=num_workers, shuffle=True)  # shuffle every epoch in training set to avoid training biases\n",
        "\n",
        "valid_loader = torch.utils.data.DataLoader(dataset=valid_dataset, batch_size=1000, # batch size of validation loader does not affect training, can be large\n",
        "                                                                                   # to speed up computation\n",
        "                                           num_workers=num_workers, shuffle=False)"
      ]
    },
    {
      "cell_type": "markdown",
      "metadata": {
        "id": "6ZzWPklnBqhH"
      },
      "source": [
        "#### Let's now return to the simple feed-forward network from the previous lecture, with some custom modifications\n"
      ]
    },
    {
      "cell_type": "code",
      "execution_count": 47,
      "metadata": {
        "id": "JTg59noxBqhH"
      },
      "outputs": [],
      "source": [
        "class simpleFFN(nn.Module):\n",
        "  def __init__(self, input_size, hidden_size_1=100, hidden_size_2=50, output_size=10):\n",
        "    super(simpleFFN, self).__init__()\n",
        "    self.hidden_1 = nn.Linear(input_size, hidden_size_1, bias=False)\n",
        "    self.hidden_2 = nn.Linear(hidden_size_1, hidden_size_2, bias=False)\n",
        "    self.output = nn.Linear(hidden_size_2, 10, bias=False)\n",
        "    self.activation = nn.Sigmoid()\n",
        "\n",
        "  def forward(self, X):\n",
        "    z1 = self.hidden_1(X.flatten(start_dim=1))\n",
        "    a1 = self.activation(z1)\n",
        "    z2 = self.hidden_2(a1)\n",
        "    a2 = self.activation(z2)\n",
        "    z3 = self.output(a2)\n",
        "    a3 = self.activation(z3)\n",
        "    return a3\n",
        "\n"
      ]
    },
    {
      "cell_type": "code",
      "execution_count": 48,
      "metadata": {
        "id": "SSVsel4nBqhH",
        "colab": {
          "base_uri": "https://localhost:8080/"
        },
        "outputId": "c6c00d81-d485-4d25-cced-a39d48c48dad"
      },
      "outputs": [
        {
          "output_type": "stream",
          "name": "stdout",
          "text": [
            "167300\n"
          ]
        }
      ],
      "source": [
        "set_seed(42)\n",
        "model = simpleFFN(input_size=1*28*28, hidden_size_1=200, hidden_size_2=50, output_size=10).to(device)\n",
        "\n",
        "# Check number of parameters\n",
        "nparam_layer1 = ((1*28*28) * (200))\n",
        "nparam_layer2 = (200 * 50)\n",
        "nparam_layer3 = (50 * 10)\n",
        "print(nparam_layer1 + nparam_layer2 + nparam_layer3)"
      ]
    },
    {
      "cell_type": "markdown",
      "metadata": {
        "id": "eHYbC07UBqhH"
      },
      "source": [
        "* More conveniently:"
      ]
    },
    {
      "cell_type": "code",
      "execution_count": 49,
      "metadata": {
        "id": "HXbEU2onBqhH",
        "colab": {
          "base_uri": "https://localhost:8080/"
        },
        "outputId": "c442af9f-a8ad-49d9-9cc9-8cc3be845af5"
      },
      "outputs": [
        {
          "output_type": "execute_result",
          "data": {
            "text/plain": [
              "167300"
            ]
          },
          "metadata": {},
          "execution_count": 49
        }
      ],
      "source": [
        "sum(p.numel() for p in model.parameters())  #.parameters() is a method inherited from the nn.Module base class"
      ]
    },
    {
      "cell_type": "markdown",
      "metadata": {
        "id": "WwdNbE-xBqhH"
      },
      "source": [
        "* Even more conveniently:"
      ]
    },
    {
      "cell_type": "code",
      "execution_count": 50,
      "metadata": {
        "id": "XohN-SHKBqhH",
        "colab": {
          "base_uri": "https://localhost:8080/"
        },
        "outputId": "11e93c40-f04c-48dc-cad4-70a345aec954"
      },
      "outputs": [
        {
          "output_type": "stream",
          "name": "stdout",
          "text": [
            "==========================================================================================\n",
            "Layer (type:depth-idx)                   Output Shape              Param #\n",
            "==========================================================================================\n",
            "├─Linear: 1-1                            [-1, 200]                 156,800\n",
            "├─Sigmoid: 1-2                           [-1, 200]                 --\n",
            "├─Linear: 1-3                            [-1, 50]                  10,000\n",
            "├─Sigmoid: 1-4                           [-1, 50]                  --\n",
            "├─Linear: 1-5                            [-1, 10]                  500\n",
            "├─Sigmoid: 1-6                           [-1, 10]                  --\n",
            "==========================================================================================\n",
            "Total params: 167,300\n",
            "Trainable params: 167,300\n",
            "Non-trainable params: 0\n",
            "Total mult-adds (M): 0.17\n",
            "==========================================================================================\n",
            "Input size (MB): 0.00\n",
            "Forward/backward pass size (MB): 0.00\n",
            "Params size (MB): 0.64\n",
            "Estimated Total Size (MB): 0.64\n",
            "==========================================================================================\n"
          ]
        }
      ],
      "source": [
        "from torchsummary import summary\n",
        "summ = summary(model, torch.Size((1,28,28)))"
      ]
    },
    {
      "cell_type": "code",
      "execution_count": 51,
      "metadata": {
        "id": "OwxCE-hVBqhH",
        "colab": {
          "base_uri": "https://localhost:8080/"
        },
        "outputId": "9ec8f322-86ca-4422-b9bf-de3be08c0dc5"
      },
      "outputs": [
        {
          "output_type": "stream",
          "name": "stdout",
          "text": [
            "torch.Size([64, 1, 28, 28]) torch.Size([64, 10])\n"
          ]
        }
      ],
      "source": [
        "# Test model input and output sizes with batch sample\n",
        "x = next(iter(train_loader))[0].to(device)\n",
        "y = model(x).to(device)\n",
        "print(x.shape, y.shape)"
      ]
    },
    {
      "cell_type": "markdown",
      "metadata": {
        "id": "1tyTcuvHBqhH"
      },
      "source": [
        "### The Training Workflow: Forward, Loss, Backpropagate, Optimise, Repeat"
      ]
    },
    {
      "cell_type": "markdown",
      "metadata": {
        "id": "fFqgSHXJBqhH"
      },
      "source": [
        "* Now that we have our data loaders ready to be iterated, let's revisit the training workflow from the last lecture\n",
        "\n",
        "* The general steps for training a model are:\n",
        "    1. Peform a foward pass of the **batch** throught the model to get initial outputs\n",
        "\n",
        "    2. Compare the outputs with the desired targets using a difference ``metric`` to obtain a ``loss`` measure\n",
        "\n",
        "    3. Compute derivatives of all model weights and biases with respect to the loss using back propagation\n",
        "    \n",
        "    4. Take an optimisation step and repeat for next batch\n",
        "\n",
        "\n",
        "* Once the network goes through all batches, an ``epoch`` is concluded\n",
        "\n",
        "\n",
        "* Let's use [``Adam``](https://arxiv.org/abs/1412.6980) as optimiser and [``Cross-Entropy``](https://pytorch.org/docs/stable/generated/torch.nn.CrossEntropyLoss.html) as our metric\n",
        "\n",
        "\n",
        "* First we define our ``loss``"
      ]
    },
    {
      "cell_type": "code",
      "execution_count": 52,
      "metadata": {
        "id": "ZNaqbgpyBqhH",
        "colab": {
          "base_uri": "https://localhost:8080/"
        },
        "outputId": "b4a31488-b7de-43aa-fdd9-203e37ec66a2"
      },
      "outputs": [
        {
          "output_type": "stream",
          "name": "stdout",
          "text": [
            "{'training': True, '_parameters': {}, '_buffers': {'weight': None}, '_non_persistent_buffers_set': set(), '_backward_pre_hooks': OrderedDict(), '_backward_hooks': OrderedDict(), '_is_full_backward_hook': None, '_forward_hooks': OrderedDict(), '_forward_hooks_with_kwargs': OrderedDict(), '_forward_hooks_always_called': OrderedDict(), '_forward_pre_hooks': OrderedDict(), '_forward_pre_hooks_with_kwargs': OrderedDict(), '_state_dict_hooks': OrderedDict(), '_state_dict_pre_hooks': OrderedDict(), '_load_state_dict_pre_hooks': OrderedDict(), '_load_state_dict_post_hooks': OrderedDict(), '_modules': {}, 'reduction': 'mean', 'ignore_index': -100, 'label_smoothing': 0.0}\n"
          ]
        }
      ],
      "source": [
        "criterion = torch.nn.CrossEntropyLoss()\n",
        "print(criterion.__dict__)"
      ]
    },
    {
      "cell_type": "markdown",
      "metadata": {
        "id": "yvRVml1DBqhH"
      },
      "source": [
        "* The optimiser is responsible for navigating the loss space towards the gradient direction, but it is **NOT** responsible for computing these gradients\n",
        "\n",
        "* Commonly, these gradients are calculated using the ``.backward()`` method, which makes use of automatic differention and the computational graph to perform the operation.\n",
        "\n",
        "* The gradients computed are stored within each ``torch.tensor`` that defines a trainable parameter. In our case, this refers to each model parameter. At each optimisation step, the optimiser updates the values of such tensors in their gradient direction for a distance specified by the learning rate, along with other parameters (e.g. momentum, weight decay)\n",
        "\n",
        "* When constructing an optimsier, the two important things to specify are: 1) which parameters to optimise, and 2) the learning rate"
      ]
    },
    {
      "cell_type": "code",
      "execution_count": 53,
      "metadata": {
        "id": "YkWmY_iqBqhH"
      },
      "outputs": [],
      "source": [
        "optimiser = torch.optim.Adam(params=model.parameters(), lr=1e-2)"
      ]
    },
    {
      "cell_type": "code",
      "execution_count": 55,
      "metadata": {
        "id": "UMZQxAZxBqhI",
        "colab": {
          "base_uri": "https://localhost:8080/"
        },
        "outputId": "4c471006-e649-4572-b35d-9135669fbaf4"
      },
      "outputs": [
        {
          "output_type": "stream",
          "name": "stdout",
          "text": [
            "torch.Size([200, 784])\n",
            "Parameter containing:\n",
            "tensor([[ 0.0273,  0.0296, -0.0084,  ..., -0.0142,  0.0093,  0.0135],\n",
            "        [-0.0188, -0.0354,  0.0187,  ..., -0.0106, -0.0001,  0.0115],\n",
            "        [-0.0008,  0.0017,  0.0045,  ..., -0.0127, -0.0188,  0.0059],\n",
            "        ...,\n",
            "        [-0.0195,  0.0271, -0.0230,  ..., -0.0261, -0.0073, -0.0194],\n",
            "        [ 0.0150,  0.0207,  0.0129,  ...,  0.0139,  0.0070, -0.0142],\n",
            "        [ 0.0096,  0.0189, -0.0013,  ..., -0.0042,  0.0096, -0.0213]],\n",
            "       requires_grad=True)\n",
            "None\n"
          ]
        }
      ],
      "source": [
        "first_param_layer = next(iter(model.parameters()))\n",
        "print(first_param_layer.shape)\n",
        "print(first_param_layer)\n",
        "print(first_param_layer.grad)"
      ]
    },
    {
      "cell_type": "markdown",
      "metadata": {
        "id": "VKZ0KcvUBqhI"
      },
      "source": [
        "### Training and Validation Loops"
      ]
    },
    {
      "cell_type": "code",
      "execution_count": 56,
      "metadata": {
        "id": "QOcWE-swBqhI"
      },
      "outputs": [],
      "source": [
        "from sklearn.metrics import accuracy_score\n",
        "import torch.nn.functional as F\n",
        "\n",
        "def train(model, optimizer, criterion, data_loader):\n",
        "    model.train()\n",
        "    train_loss, train_accuracy = 0, 0\n",
        "    for input, target in data_loader:                       # Iterate over the mini-batches defined in the data loader\n",
        "        input, target = input.to(device), target.to(device)\n",
        "\n",
        "        optimizer.zero_grad()                               # Resetting gradients so they don't accumulate for each .backward() pass\n",
        "\n",
        "        output = model(input)                               # Forward pass, evaluation of model\n",
        "        loss = criterion(output, target)                    # Compute loss\n",
        "        loss.backward()                                     # Backpropagation to calculate the gradients of every parameter\n",
        "                                                            # involved in calculating this loss. Gradients are stored within tensors\n",
        "\n",
        "\n",
        "        train_loss += loss*input.size(0)                    # Loss is averaged throughout batch, we scale back to later compute the\n",
        "                                                            # averaged loss for each epoch\n",
        "\n",
        "        pred = output.softmax(dim=1).max(dim=1)[1]          # Transform last-layer activation to probabilities, select highest value as prediction\n",
        "\n",
        "        train_accuracy += accuracy_score(target.cpu().numpy(), pred.detach().cpu().numpy())*input.size(0)\n",
        "                                                            # Compute accuracy\n",
        "                                                            # Note that we didn't call .backward() on our accuracy\n",
        "                                                            # It is not a metric we are optimising for\n",
        "\n",
        "\n",
        "        optimizer.step()                                    # Perform an optimisation step for all parameters and learning rate\n",
        "                                                            # defined in the construction of the optimiser\n",
        "\n",
        "    train_loss = train_loss / len(data_loader.dataset)      # Average loss over the whole dataset\n",
        "    train_accuracy = train_accuracy/len(data_loader.dataset)\n",
        "    return train_loss, train_accuracy\n",
        "\n",
        "\n",
        "def valid(model, criterion, data_loader):\n",
        "    \" Equivalent to the training function without any backpropagation or optimisation steps\"\n",
        "    model.eval()\n",
        "    valid_loss, valid_accuracy = 0, 0\n",
        "    with torch.no_grad():\n",
        "        for input, target in data_loader:\n",
        "            input, target = input.to(device), target.to(device)\n",
        "\n",
        "            output = model(input)\n",
        "            loss = criterion(output, target)\n",
        "\n",
        "            valid_loss += loss*input.size(0)\n",
        "\n",
        "            pred = output.softmax(dim=1).max(dim=1)[1]\n",
        "\n",
        "            valid_accuracy += accuracy_score(target.cpu().numpy(), pred.detach().cpu().numpy())*input.size(0)\n",
        "\n",
        "        valid_loss = valid_loss / len(data_loader.dataset)\n",
        "        valid_accuracy = valid_accuracy/len(data_loader.dataset)\n",
        "        return valid_loss, valid_accuracy"
      ]
    },
    {
      "cell_type": "code",
      "execution_count": 57,
      "metadata": {
        "id": "r7I5S7DjBqhI",
        "colab": {
          "base_uri": "https://localhost:8080/"
        },
        "outputId": "49ea3528-f2dd-489f-cfc5-b8ae3d18e75e"
      },
      "outputs": [
        {
          "output_type": "stream",
          "name": "stderr",
          "text": [
            " 20%|██        | 1/5 [00:26<01:47, 26.82s/it]"
          ]
        },
        {
          "output_type": "stream",
          "name": "stdout",
          "text": [
            "tensor(1.6355, grad_fn=<DivBackward0>) 0.8171851851851852\n",
            "{'train_loss': 1.635484218597412, 'train_accuracy': 0.8171851851851852, 'valid_loss': 1.5690876245498657, 'valid_accuracy': 0.875}\n"
          ]
        },
        {
          "output_type": "stream",
          "name": "stderr",
          "text": [
            "\r 40%|████      | 2/5 [00:51<01:17, 25.80s/it]"
          ]
        },
        {
          "output_type": "stream",
          "name": "stdout",
          "text": [
            "tensor(1.5522, grad_fn=<DivBackward0>) 0.8940370370370371\n",
            "{'train_loss': 1.5522375106811523, 'train_accuracy': 0.8940370370370371, 'valid_loss': 1.5500612258911133, 'valid_accuracy': 0.8948333333333334}\n"
          ]
        },
        {
          "output_type": "stream",
          "name": "stderr",
          "text": [
            "\r 60%|██████    | 3/5 [01:19<00:53, 26.52s/it]"
          ]
        },
        {
          "output_type": "stream",
          "name": "stdout",
          "text": [
            "tensor(1.5400, grad_fn=<DivBackward0>) 0.9049074074074074\n",
            "{'train_loss': 1.5399587154388428, 'train_accuracy': 0.9049074074074074, 'valid_loss': 1.5440118312835693, 'valid_accuracy': 0.9001666666666667}\n"
          ]
        },
        {
          "output_type": "stream",
          "name": "stderr",
          "text": [
            "\r 80%|████████  | 4/5 [01:49<00:28, 28.01s/it]"
          ]
        },
        {
          "output_type": "stream",
          "name": "stdout",
          "text": [
            "tensor(1.5362, grad_fn=<DivBackward0>) 0.9099814814814815\n",
            "{'train_loss': 1.5362375974655151, 'train_accuracy': 0.9099814814814815, 'valid_loss': 1.548359990119934, 'valid_accuracy': 0.8976666666666666}\n"
          ]
        },
        {
          "output_type": "stream",
          "name": "stderr",
          "text": [
            "100%|██████████| 5/5 [02:15<00:00, 27.08s/it]"
          ]
        },
        {
          "output_type": "stream",
          "name": "stdout",
          "text": [
            "tensor(1.5325, grad_fn=<DivBackward0>) 0.9140925925925926\n",
            "{'train_loss': 1.5325223207473755, 'train_accuracy': 0.9140925925925926, 'valid_loss': 1.5387872457504272, 'valid_accuracy': 0.9055}\n"
          ]
        },
        {
          "output_type": "stream",
          "name": "stderr",
          "text": [
            "\n"
          ]
        }
      ],
      "source": [
        "from tqdm import tqdm\n",
        "\n",
        "nepochs = 5\n",
        "for i in tqdm(range(nepochs)):\n",
        "    train_loss, train_accuracy = train(model, optimiser, criterion, train_loader)\n",
        "    valid_loss, valid_accuracy = valid(model, criterion, valid_loader)\n",
        "\n",
        "    print(train_loss, train_accuracy)\n",
        "    log = {\"train_loss\": train_loss.item(), \"train_accuracy\": train_accuracy,\n",
        "            \"valid_loss\": valid_loss.item(),  \"valid_accuracy\": valid_accuracy}\n",
        "    print(log)\n"
      ]
    },
    {
      "cell_type": "code",
      "source": [
        "print(first_param_layer.grad)\n",
        "print(first_param_layer.grad.shape)"
      ],
      "metadata": {
        "id": "C0Euhu1iJyZM",
        "colab": {
          "base_uri": "https://localhost:8080/"
        },
        "outputId": "72ca03d6-cd16-4c88-ef23-8ff41ca459be"
      },
      "execution_count": 58,
      "outputs": [
        {
          "output_type": "stream",
          "name": "stdout",
          "text": [
            "tensor([[-5.3900e-04, -5.3900e-04,  1.0665e-03,  ..., -5.3900e-04,\n",
            "         -5.3900e-04, -5.3900e-04],\n",
            "        [-1.1646e-07, -1.1646e-07, -1.1646e-07,  ..., -1.1646e-07,\n",
            "         -1.1646e-07, -1.1646e-07],\n",
            "        [-1.3430e-09, -1.3430e-09, -1.3430e-09,  ..., -1.3430e-09,\n",
            "         -1.3430e-09, -1.3430e-09],\n",
            "        ...,\n",
            "        [ 7.0845e-07,  7.0845e-07,  7.0845e-07,  ...,  7.0739e-07,\n",
            "          7.0708e-07,  7.0845e-07],\n",
            "        [-3.1923e-06, -3.1923e-06, -3.1923e-06,  ..., -3.1923e-06,\n",
            "         -3.1923e-06, -3.1923e-06],\n",
            "        [ 1.0712e-05,  1.0712e-05,  1.0712e-05,  ...,  1.0712e-05,\n",
            "          1.0712e-05,  1.0712e-05]])\n",
            "torch.Size([200, 784])\n"
          ]
        }
      ]
    },
    {
      "cell_type": "markdown",
      "metadata": {
        "id": "6FqlXhtRBqhI"
      },
      "source": [
        "* What does the final layer of our model look like?"
      ]
    },
    {
      "cell_type": "code",
      "execution_count": null,
      "metadata": {
        "id": "WKwbG-5LBqhI"
      },
      "outputs": [],
      "source": [
        "set_seed(42)\n",
        "output = model(next(iter(train_loader))[0][:16].to(device))\n",
        "plt.figure(figsize=(5,5))\n",
        "plt.imshow(output.detach().cpu(), cmap=\"plasma\", vmin=0., vmax=1.)\n",
        "plt.xticks([i for i in range(output.shape[1])])\n",
        "plt.xlabel(\"Labels\")\n",
        "plt.ylabel(\"Samples\")\n",
        "plt.colorbar()\n",
        "plt.show()"
      ]
    },
    {
      "cell_type": "markdown",
      "metadata": {
        "id": "bZuIsk5wBqhI"
      },
      "source": [
        "* The plot above shows that the final layer of our trained model shows the level of \"certainty\" over a predicted label. Some are a clear choice, but some others cast some doubt.\n",
        "\n",
        "---\n",
        "\n",
        "Some considerations:\n",
        "\n",
        "* ``model.train`` and ``model.eval`` control some underlying behaviours of the model that require different behaviours during training and inference time. For instance, ``batch normalisation`` layers no longer are activated for batch-statistics and ``dropout`` layers are deactivated (more on theses concepts in the upcoming lectures)\n",
        "\n",
        "* ``torch.no_grad`` disables any gradient computation in ``torch.Tensors`` temporarily. Practically, this means more efficiency in inference since the computational graph of operations does not have to be retained.\n",
        "\n",
        "* ``.detach()`` returns a new tensor that is detached from the current computational graph (gradients can no longer be computed). This is particularly useful for processing the tensor with other libraries (e.g. numpy, scikit-learn, etc)"
      ]
    },
    {
      "cell_type": "markdown",
      "metadata": {
        "id": "_n5-iChmBqhI"
      },
      "source": [
        "## Deeper into ``Datasets``"
      ]
    },
    {
      "cell_type": "markdown",
      "metadata": {
        "id": "BuY6oRrBBqhI"
      },
      "source": [
        "* So far we have handled well-formated datasets that align very well with the ``torch`` library\n",
        "\n",
        "* But how can we handle datasets that we might find online, or develop ourselves, that require different formating structures?\n",
        "\n",
        "* ``ImageFolder`` is one useful base class provided by ``torchvision`` that relies on the following folder structure:\n",
        "\n",
        "```\n",
        "root/class_x/xxx.png\n",
        "root/class_x/xxy.png\n",
        "root/class_x/[...]/xxz.png\n",
        "\n",
        "root/class_y/123.png\n",
        "root/class_y/nsdf3.png\n",
        "root/class_y/[...]/asd932_.png\n",
        "\n",
        "```"
      ]
    },
    {
      "cell_type": "code",
      "execution_count": null,
      "metadata": {
        "id": "RX8kDvM4BqhI"
      },
      "outputs": [],
      "source": [
        "%%html\n",
        "<iframe src=\"https://pytorch.org/vision/stable/generated/torchvision.datasets.ImageFolder.html\" width=\"600\" height=\"700\"></iframe>"
      ]
    },
    {
      "cell_type": "markdown",
      "metadata": {
        "id": "Ky9Lj-a0GCK8"
      },
      "source": [
        "* We will use a new dataset that is available on the [Kaggle](http://www.kaggle.com) platform\n",
        "\n",
        "* To run the following code you will need a Kaggle account and an authentication ``json`` file\n",
        "\n",
        "* To do so follow the 'Authentication' instructions on this link https://www.kaggle.com/docs/api\n",
        "\n",
        "* Once you downloaded the ``kaggle.json`` file, upload it to ``MyDrive``\n",
        "\n",
        "* You can use the snippet below to retrieve datasets from Kaggle in other projects as well"
      ]
    },
    {
      "cell_type": "code",
      "execution_count": null,
      "metadata": {
        "id": "rDqpij32BqhI"
      },
      "outputs": [],
      "source": [
        "!mkdir ~/.kaggle\n",
        "!cp /content/drive/MyDrive/kaggle.json ~/.kaggle\n",
        "\n",
        "!kaggle datasets download -d gpiosenka/butterfly-images40-species\n",
        "!mkdir ./butterfly-images40-species\n",
        "!unzip -q butterfly-images40-species.zip -d ./butterfly-images40-species"
      ]
    },
    {
      "cell_type": "code",
      "execution_count": null,
      "metadata": {
        "id": "zcpCE4c0BqhI"
      },
      "outputs": [],
      "source": [
        "from torchvision.datasets import ImageFolder\n",
        "\n",
        "butterfly_train_dataset = ImageFolder(\"./butterfly-images40-species/train/\")\n",
        "\n",
        "print(butterfly_train_dataset, \"\\n\")\n",
        "print(butterfly_train_dataset.class_to_idx)\n",
        "\n",
        "butterfly, target = butterfly_train_dataset[42]\n",
        "plt.imshow(butterfly)\n",
        "plt.title(list(butterfly_train_dataset.class_to_idx)[target])\n",
        "plt.show()"
      ]
    },
    {
      "cell_type": "markdown",
      "metadata": {
        "id": "3SpC6YrFBqhJ"
      },
      "source": [
        "* But we can also create our own dataset class to adapt to any data structure that we'd like.\n",
        "\n",
        "* We can do so by taking advantage of the ``Dataset`` class in ``PyTorch``, which can be used as an base class for custom datasets\n",
        "\n",
        "* From the documentation:\n",
        "\n",
        "```\n",
        "torch.utils.data.Dataset is an abstract class representing a dataset. Your custom dataset should inherit Dataset and override the following methods:\n",
        "\n",
        "__len__ so that len(dataset) returns the size of the dataset.\n",
        "\n",
        "__getitem__ to support the indexing such that dataset[i] can be used to get iith sample.\n",
        "\n",
        "```\n",
        "\n",
        "* Both methods are used by the ``Dataloader`` to sample the dataset. ``__getitem__`` returns a sample, and ``__len__`` defines the range in which ``__getitem__`` can be called.\n",
        "\n",
        "---\n",
        "\n",
        "* Let's now consider the same buttfly dataset, but instead of a classifiction problem, we are interested in a reconstruction one: deblurring.\n",
        "\n",
        "* We design our problem such that our input is a blurred version of our target."
      ]
    },
    {
      "cell_type": "code",
      "execution_count": 59,
      "metadata": {
        "id": "fSCsGquLBqhJ"
      },
      "outputs": [],
      "source": [
        "from torch.utils.data import Dataset\n",
        "import os, glob\n",
        "from PIL import Image\n",
        "from torchvision.transforms import GaussianBlur\n",
        "\n",
        "\n",
        "class BlurredButterflyDataset(Dataset):\n",
        "    def __init__(self, root, kernel_size, sigma=(0.1, 2.0), transform=None):\n",
        "        self.transform = transform\n",
        "        self.root = root\n",
        "        self.kernel_size = kernel_size\n",
        "        self.sigma = sigma\n",
        "        self.data_paths = self._get_image_paths()\n",
        "\n",
        "    def _get_image_paths(self, exts=(\".jpeg\", \".jpg\", \".png\")):\n",
        "        data_paths = []\n",
        "        for root, dirs, files in os.walk(self.root):\n",
        "            for file in files:\n",
        "                if(file.endswith(exts)):\n",
        "                    data_paths.append(os.path.join(root,file))\n",
        "        return data_paths\n",
        "\n",
        "    def __getitem__(self, idx):\n",
        "        # Load image\n",
        "        img_path = self.data_paths[idx]\n",
        "        img = Image.open(img_path).convert(\"RGB\")\n",
        "\n",
        "        # Let's make to Tensor compulsory so we can manipulate the image as a tensor inside __getitem_\n",
        "        img = ToTensor()(img)\n",
        "\n",
        "        # Apply other transforms\n",
        "        if self.transform:\n",
        "            img = self.transform(img)\n",
        "\n",
        "        # Blurred image\n",
        "        blurred_img = GaussianBlur(kernel_size=self.kernel_size, sigma=self.sigma)(img)\n",
        "\n",
        "        return blurred_img, img\n",
        "\n",
        "    def __len__(self):\n",
        "        return len(self.data_paths)\n",
        "\n",
        "    def __str__(self):\n",
        "        class_string = \"\"\n",
        "        class_string += self.__class__.__name__\n",
        "        class_string+=\"\\n\\tlen : %d\"%self.__len__()\n",
        "        for key, value in self.__dict__.items():\n",
        "            if key != \"data_paths\":\n",
        "                class_string+=\"\\n\\t\" + str(key) + \" : \" + str(value)\n",
        "        return class_string"
      ]
    },
    {
      "cell_type": "code",
      "execution_count": 60,
      "metadata": {
        "id": "TlH44JCwBqhJ",
        "colab": {
          "base_uri": "https://localhost:8080/",
          "height": 448
        },
        "outputId": "52c4b020-f0db-4d40-97e8-ddc3fb8ad663"
      },
      "outputs": [
        {
          "output_type": "stream",
          "name": "stdout",
          "text": [
            "BlurredButterflyDataset\n",
            "\tlen : 0\n",
            "\ttransform : None\n",
            "\troot : ./butterfly-images40-species/train/\n",
            "\tkernel_size : (5, 5)\n",
            "\tsigma : (2.0, 2.0)\n"
          ]
        },
        {
          "output_type": "error",
          "ename": "IndexError",
          "evalue": "list index out of range",
          "traceback": [
            "\u001b[0;31m---------------------------------------------------------------------------\u001b[0m",
            "\u001b[0;31mIndexError\u001b[0m                                Traceback (most recent call last)",
            "\u001b[0;32m<ipython-input-60-671160c78d55>\u001b[0m in \u001b[0;36m<cell line: 3>\u001b[0;34m()\u001b[0m\n\u001b[1;32m      1\u001b[0m \u001b[0mbutterfly_train_dataset\u001b[0m \u001b[0;34m=\u001b[0m \u001b[0mBlurredButterflyDataset\u001b[0m\u001b[0;34m(\u001b[0m\u001b[0mroot\u001b[0m\u001b[0;34m=\u001b[0m\u001b[0;34m\"./butterfly-images40-species/train/\"\u001b[0m\u001b[0;34m,\u001b[0m \u001b[0mkernel_size\u001b[0m\u001b[0;34m=\u001b[0m\u001b[0;34m(\u001b[0m\u001b[0;36m5\u001b[0m\u001b[0;34m,\u001b[0m\u001b[0;36m5\u001b[0m\u001b[0;34m)\u001b[0m\u001b[0;34m,\u001b[0m \u001b[0msigma\u001b[0m\u001b[0;34m=\u001b[0m\u001b[0;34m(\u001b[0m\u001b[0;36m2.\u001b[0m\u001b[0;34m,\u001b[0m \u001b[0;36m2.\u001b[0m\u001b[0;34m)\u001b[0m\u001b[0;34m)\u001b[0m\u001b[0;34m\u001b[0m\u001b[0;34m\u001b[0m\u001b[0m\n\u001b[1;32m      2\u001b[0m \u001b[0mprint\u001b[0m\u001b[0;34m(\u001b[0m\u001b[0mbutterfly_train_dataset\u001b[0m\u001b[0;34m)\u001b[0m\u001b[0;34m\u001b[0m\u001b[0;34m\u001b[0m\u001b[0m\n\u001b[0;32m----> 3\u001b[0;31m \u001b[0minput\u001b[0m\u001b[0;34m,\u001b[0m \u001b[0mtarget\u001b[0m \u001b[0;34m=\u001b[0m \u001b[0mbutterfly_train_dataset\u001b[0m\u001b[0;34m[\u001b[0m\u001b[0;36m0\u001b[0m\u001b[0;34m]\u001b[0m\u001b[0;34m\u001b[0m\u001b[0;34m\u001b[0m\u001b[0m\n\u001b[0m\u001b[1;32m      4\u001b[0m \u001b[0mplt\u001b[0m\u001b[0;34m.\u001b[0m\u001b[0mimshow\u001b[0m\u001b[0;34m(\u001b[0m\u001b[0minput\u001b[0m\u001b[0;34m.\u001b[0m\u001b[0mpermute\u001b[0m\u001b[0;34m(\u001b[0m\u001b[0;36m1\u001b[0m\u001b[0;34m,\u001b[0m\u001b[0;36m2\u001b[0m\u001b[0;34m,\u001b[0m\u001b[0;36m0\u001b[0m\u001b[0;34m)\u001b[0m\u001b[0;34m)\u001b[0m\u001b[0;34m\u001b[0m\u001b[0;34m\u001b[0m\u001b[0m\n\u001b[1;32m      5\u001b[0m \u001b[0mplt\u001b[0m\u001b[0;34m.\u001b[0m\u001b[0mshow\u001b[0m\u001b[0;34m(\u001b[0m\u001b[0;34m)\u001b[0m\u001b[0;34m\u001b[0m\u001b[0;34m\u001b[0m\u001b[0m\n",
            "\u001b[0;32m<ipython-input-59-7ef86fdf5a8e>\u001b[0m in \u001b[0;36m__getitem__\u001b[0;34m(self, idx)\u001b[0m\n\u001b[1;32m     23\u001b[0m     \u001b[0;32mdef\u001b[0m \u001b[0m__getitem__\u001b[0m\u001b[0;34m(\u001b[0m\u001b[0mself\u001b[0m\u001b[0;34m,\u001b[0m \u001b[0midx\u001b[0m\u001b[0;34m)\u001b[0m\u001b[0;34m:\u001b[0m\u001b[0;34m\u001b[0m\u001b[0;34m\u001b[0m\u001b[0m\n\u001b[1;32m     24\u001b[0m         \u001b[0;31m# Load image\u001b[0m\u001b[0;34m\u001b[0m\u001b[0;34m\u001b[0m\u001b[0m\n\u001b[0;32m---> 25\u001b[0;31m         \u001b[0mimg_path\u001b[0m \u001b[0;34m=\u001b[0m \u001b[0mself\u001b[0m\u001b[0;34m.\u001b[0m\u001b[0mdata_paths\u001b[0m\u001b[0;34m[\u001b[0m\u001b[0midx\u001b[0m\u001b[0;34m]\u001b[0m\u001b[0;34m\u001b[0m\u001b[0;34m\u001b[0m\u001b[0m\n\u001b[0m\u001b[1;32m     26\u001b[0m         \u001b[0mimg\u001b[0m \u001b[0;34m=\u001b[0m \u001b[0mImage\u001b[0m\u001b[0;34m.\u001b[0m\u001b[0mopen\u001b[0m\u001b[0;34m(\u001b[0m\u001b[0mimg_path\u001b[0m\u001b[0;34m)\u001b[0m\u001b[0;34m.\u001b[0m\u001b[0mconvert\u001b[0m\u001b[0;34m(\u001b[0m\u001b[0;34m\"RGB\"\u001b[0m\u001b[0;34m)\u001b[0m\u001b[0;34m\u001b[0m\u001b[0;34m\u001b[0m\u001b[0m\n\u001b[1;32m     27\u001b[0m \u001b[0;34m\u001b[0m\u001b[0m\n",
            "\u001b[0;31mIndexError\u001b[0m: list index out of range"
          ]
        }
      ],
      "source": [
        "butterfly_train_dataset = BlurredButterflyDataset(root=\"./butterfly-images40-species/train/\", kernel_size=(5,5), sigma=(2., 2.))\n",
        "print(butterfly_train_dataset)\n",
        "input, target = butterfly_train_dataset[0]\n",
        "plt.imshow(input.permute(1,2,0))\n",
        "plt.show()\n",
        "\n",
        "plt.imshow(target.permute(1,2,0))\n",
        "plt.show()"
      ]
    },
    {
      "cell_type": "markdown",
      "metadata": {
        "id": "u8kMoJRcBqhJ"
      },
      "source": [
        "## Further considerations\n",
        "\n",
        "* The options for customisation in ``Pytorch`` library are extensive. Mostly, you will **not** need to fully understand these concepts for a successful completion of this course.\n",
        "\n",
        "* The documentation of ``Pytorch`` is full of examples, tutorials and paper references and will be your best reference to learn new application concepts and how to implement them.\n",
        "\n",
        "* A few other considerations before we wrap up:\n",
        "\n",
        "Mathematical Utils in ``Pytorch``\n",
        "\n",
        "---\n",
        "[``torch.linalg``](https://pytorch.org/docs/stable/linalg.html)\n",
        "    - [``torch.fft``](https://pytorch.org/docs/stable/fft.html)\n",
        "    - [``torch.random``](https://pytorch.org/docs/stable/random.html)\n",
        "    - [``torch.sparse``](https://pytorch.org/docs/stable/sparse.html)\n",
        "    - ...\n",
        "\n",
        "\n",
        "Losses and Activations\n",
        "\n",
        "---\n",
        "\n",
        "The loss function drives the optimisation of machine learning models. It tells the model what it is meant to learn. In this sense, different tasks require different loss functions. In our examples so far, we have used ``CrossEntropy`` as our loss, which is well suited to multi-taks classification problems. In contrast, this loss function would not be suited, for example, to reconstruction problems. In this case we would require a loss function that would compare an image output to a target output. The ``MSELoss`` would be more suitable for this scenario. A wide range of loss functions are provided by ``Pytorch``, but it is up to you to decide which is more appropriate to your problem.\n",
        "\n",
        "\n",
        "\n",
        "\n"
      ]
    },
    {
      "cell_type": "code",
      "execution_count": null,
      "metadata": {
        "id": "XSzskbBCIDEs"
      },
      "outputs": [],
      "source": [
        "%%html\n",
        "<iframe src=\"https://pytorch.org/docs/stable/nn.html#loss-functions\" width=\"700\" height=\"500\"></iframe>\n"
      ]
    },
    {
      "cell_type": "markdown",
      "metadata": {
        "id": "iYQeCjWsBqhJ"
      },
      "source": [
        "Learning Rate Annealing\n",
        "\n",
        "---\n",
        "\n",
        "Learning rate annealing refers to decreasing the learning rate during the course of optimisation. This has been shown to help with convergence and stabilisation of your model, while also cutting training time. In ``Pytorch`` the implementation of learning rate annealing follows a similar syntax to the implementation of the optimiser, with different annealing strategies offered.\n"
      ]
    },
    {
      "cell_type": "code",
      "execution_count": null,
      "metadata": {
        "id": "b5dV3FCyH87v"
      },
      "outputs": [],
      "source": [
        "%%html\n",
        "<iframe src=\"https://pytorch.org/docs/stable/optim.html#how-to-adjust-learning-rate\" width=\"700\" height=\"500\"></iframe>\n"
      ]
    },
    {
      "cell_type": "markdown",
      "metadata": {
        "id": "bJEY4_vCHtN3"
      },
      "source": [
        "Dataloader sampler\n",
        "\n",
        "---\n",
        "\n",
        "As with custom ``Dataset`` classes, we can also design better sampling strategies that are better suited to our dataset. This is an interesting way of adding or removing biases in our model. For instance, using a standard sampler for a dataset that has different amounts of data per class will bias our model to perform better to the classes that contain more samples. We can instead use a ``WeightedSampler`` to increase the probability of a weaker class to show up in our batches. As per usual, ``Pytorch`` offers a wide range of sampling strategies that can be passed into the ``Dataloader``, including a base ``Sampler`` class so we can customise our own.\n"
      ]
    },
    {
      "cell_type": "code",
      "execution_count": null,
      "metadata": {
        "id": "remz6yimH4Ul"
      },
      "outputs": [],
      "source": [
        "%%html\n",
        "\n",
        "<iframe src=\"https://pytorch.org/docs/stable/data.html#torch.utils.data.Sampler\" width=\"700\" height=\"500\"></iframe>\n"
      ]
    },
    {
      "cell_type": "markdown",
      "metadata": {
        "id": "0INKxBn7Hu1i"
      },
      "source": [
        "Model Initialisations\n",
        "\n",
        "---\n",
        "\n",
        "The initialisation of weights in our model can have significant impact on its convergence and performance. It is natural that ``Pytorch`` will also offer different ways to initialise the model weights. For most layers, the default initialisation method is the ``Kaiming Uniform``, which is described in the documentation:\n",
        "\n",
        "\n"
      ]
    },
    {
      "cell_type": "code",
      "execution_count": null,
      "metadata": {
        "id": "cqvik-txHseC"
      },
      "outputs": [],
      "source": [
        "%%html\n",
        "<iframe src=\"https://pytorch.org/docs/stable/nn.init.html#torch.nn.init.kaiming_uniform_\" width=\"700\" height=\"500\"></iframe>"
      ]
    },
    {
      "cell_type": "code",
      "execution_count": null,
      "metadata": {
        "id": "WttozpAEPvvE"
      },
      "outputs": [],
      "source": []
    }
  ],
  "metadata": {
    "celltoolbar": "Slideshow",
    "colab": {
      "provenance": []
    },
    "kernelspec": {
      "display_name": "Python 3",
      "name": "python3"
    },
    "language_info": {
      "codemirror_mode": {
        "name": "ipython",
        "version": 3
      },
      "file_extension": ".py",
      "mimetype": "text/x-python",
      "name": "python",
      "nbconvert_exporter": "python",
      "pygments_lexer": "ipython3",
      "version": "3.9.7"
    },
    "vscode": {
      "interpreter": {
        "hash": "b996dd704eec390d394e4eff83c8c73a7c6e40d054c583352c9aa3265aab441b"
      }
    }
  },
  "nbformat": 4,
  "nbformat_minor": 0
}