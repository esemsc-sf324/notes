{
 "cells": [
  {
   "cell_type": "markdown",
   "id": "a516157a",
   "metadata": {
    "slideshow": {
     "slide_type": "slide"
    }
   },
   "source": [
    "# $0.2 + 0.1 \\ne 0.3$ 🤯😵‍💫"
   ]
  },
  {
   "cell_type": "markdown",
   "id": "35163538",
   "metadata": {},
   "source": [
    "### [~~Dr~~ **Marijan** ~~Beg~~](https://profiles.imperial.ac.uk/m.beg) (MAH - ree - yahn)\n",
    "- (Computational) **Physicist**🤔😵‍💫\n",
    "  - BSc/MSc in Nanophysics / Nanoelectronics / Nanotechnology 🤓\n",
    "  - PhD in Computational Physics (nanomagnetism) 🧲\n",
    "  - nano = very small (my brain works in nanometers and picojoules...)\n",
    "\n",
    "- **Teaching**:\n",
    "  - You already \"saw\" me a bit in the **Introduction to Python** pre-sessional course.\n",
    "  - You will see me several times in MPM/NPP, ACDS (group projects), BDA. 🫣\n",
    "  - You will hear from me a lot about your **IRP** (summer project). 🤯\n",
    "\n",
    "- **Research**:\n",
    "  - Computational study of magnetism and magnetic materials\n",
    "  - I write simulation and data analysis software (Research Software Engineering)\n",
    "  - I use that software to explore topological quasi-particles and singularities in magnetisation fields (skyrmions, Bloch Points)\n",
    "  - I hope to discover a new way to rebuild today's electronics (using spintronics)\n",
    "    - Employing electron's spin to store 0s and 1s we will talk about today :)"
   ]
  },
  {
   "cell_type": "markdown",
   "id": "25478b22",
   "metadata": {},
   "source": [
    "### How to find me?\n",
    "\n",
    "- **Office**: Royal School of Mines (RSM) 4.95 (4th floor)\n",
    "- **Email**: m.beg@imperial.ac.uk\n",
    "- **GitHub**: @marijanbeg\n",
    "- **Anonymous feedback form**: https://forms.office.com/e/BiekMgPTMm\n",
    "\n",
    "- I’m also a **Mental Health First Aider**\n",
    "  - If you feel overwhelmed and just need someone to talk to, I'm here.\n",
    "  - I’m not a counselor, but I can listen, offer support, and help point you in the right direction if you need more help."
   ]
  },
  {
   "cell_type": "markdown",
   "id": "5eae9351",
   "metadata": {},
   "source": [
    "### Don't Hesitate to Interrupt!\n",
    "\n",
    "- [**Cognitive Load Theory (CLT)**](https://www.tandfonline.com/doi/full/10.3109/0142159X.2014.889290)\n",
    "  - On average, our brains can hold **only 7 \"chunks\" of information at once** in working memory. A chunk can be a fact, idea, or task.\n",
    "  - Once we reach this limit, it’s easy to overlook or forget.\n",
    "- If I juggle 7 tasks at once, I will forget about the 8th...\n",
    "- **If you spot a mistake or have a question, just speak up.**"
   ]
  },
  {
   "cell_type": "markdown",
   "id": "cda1b157",
   "metadata": {},
   "source": [
    "### Intended Learning Outcomes (ILOs)\n",
    "\n",
    "1. Understand the basic structure of floating point representation, including the sign bit, exponent, and mantissa.\n",
    "2. Use the IEEE-754 standard floating-point conversion.\n",
    "3. Identify common issues with floating point arithmetic, such as rounding errors, overflow, and underflow.\n",
    "4. Recognize the limitations of floating point representation and how they can impact numerical accuracy in scientific computations."
   ]
  },
  {
   "cell_type": "markdown",
   "id": "d2f6d2a7",
   "metadata": {},
   "source": [
    "### Intended Learning Outcomes (ILOs)\n",
    "\n",
    "- An ILO is what you should be able to do by the end of a lecture or a module.\n",
    "- Think about ILOs as your **learning goals**.\n",
    "- At MSc level, we often throw at you much more information than you can digest.\n",
    "- ILOs help both you and me to stay focused on what's most important.\n",
    "- If at the end of the lecture, you can do most ILOs, we did a good job!"
   ]
  },
  {
   "cell_type": "markdown",
   "id": "bc6c7bdc",
   "metadata": {
    "slideshow": {
     "slide_type": "slide"
    }
   },
   "source": [
    "### Surprise 1\n",
    "\n",
    "#### Maths says...\n",
    "For any $x \\in \\mathbb{R}$ if $x \\ne 0$\n",
    "$$1 + x \\ne 1$$\n",
    "\n",
    "#### Computer says..."
   ]
  },
  {
   "cell_type": "code",
   "execution_count": 1,
   "id": "82fd13a0",
   "metadata": {},
   "outputs": [
    {
     "name": "stdout",
     "output_type": "stream",
     "text": [
      "False\n"
     ]
    }
   ],
   "source": [
    "x = 1e-16\n",
    "\n",
    "print(1 + x != 1)"
   ]
  },
  {
   "cell_type": "markdown",
   "id": "3eb23512",
   "metadata": {},
   "source": [
    "### Surprise 2\n",
    "\n",
    "#### Maths says...\n",
    "$$\\frac{1}{10} + \\frac{2}{10} = \\frac{3}{10}$$\n",
    "$$0.1 + 0.2 = 0.3$$\n",
    "\n",
    "#### Computer says..."
   ]
  },
  {
   "cell_type": "code",
   "execution_count": 2,
   "id": "93ad5f52",
   "metadata": {},
   "outputs": [
    {
     "name": "stdout",
     "output_type": "stream",
     "text": [
      "False\n"
     ]
    }
   ],
   "source": [
    "print(0.1 + 0.2 == 0.3)"
   ]
  },
  {
   "cell_type": "markdown",
   "id": "7f7c16d5",
   "metadata": {},
   "source": [
    "### Surprise 3\n",
    "\n",
    "#### Maths says...\n",
    "$$(a + b) + c = a + (b + c)$$\n",
    "\n",
    "#### Computer says..."
   ]
  },
  {
   "cell_type": "code",
   "execution_count": 3,
   "id": "647ffb91",
   "metadata": {},
   "outputs": [
    {
     "name": "stdout",
     "output_type": "stream",
     "text": [
      "Associativity rules: False\n"
     ]
    }
   ],
   "source": [
    "a = 1e16\n",
    "b = -1e16\n",
    "c = 1.0\n",
    "\n",
    "print('Associativity rules:', (a + b) + c == a + (b + c))"
   ]
  },
  {
   "cell_type": "code",
   "execution_count": 4,
   "id": "dd133467",
   "metadata": {},
   "outputs": [
    {
     "name": "stdout",
     "output_type": "stream",
     "text": [
      "(a + b) + c =  1.0\n",
      "a + (b + c) =  0.0\n"
     ]
    }
   ],
   "source": [
    "print(\"(a + b) + c = \", (a + b) + c)\n",
    "print(\"a + (b + c) = \", a + (b + c))"
   ]
  },
  {
   "cell_type": "markdown",
   "id": "07bd476c",
   "metadata": {},
   "source": [
    "### Surprise 4\n",
    "\n",
    "#### Maths says...\n",
    "$$1.0000001 - 1 = 0.000001 = 10^{-7}$$\n",
    "\n",
    "#### Computer says..."
   ]
  },
  {
   "cell_type": "code",
   "execution_count": 5,
   "id": "a107e279",
   "metadata": {},
   "outputs": [
    {
     "name": "stdout",
     "output_type": "stream",
     "text": [
      "a - b == 1e-7: False\n"
     ]
    }
   ],
   "source": [
    "a = 1.0000001\n",
    "b = 1.0000000\n",
    "\n",
    "print(\"a - b == 1e-7:\", a - b == 1e-7)\n"
   ]
  },
  {
   "cell_type": "code",
   "execution_count": 6,
   "id": "b0687737",
   "metadata": {},
   "outputs": [
    {
     "name": "stdout",
     "output_type": "stream",
     "text": [
      "a - b = 1.0000000005838672e-07\n"
     ]
    }
   ],
   "source": [
    "print(\"a - b =\", a - b)"
   ]
  },
  {
   "cell_type": "markdown",
   "id": "01703fd5",
   "metadata": {},
   "source": [
    "### Surprise 5\n",
    "\n",
    "#### Maths says...\n",
    "$$a \\times b = \\underbrace{b + b + ... + b}_{\\text{a times}}$$\n",
    "\n",
    "#### Computer says..."
   ]
  },
  {
   "cell_type": "code",
   "execution_count": 7,
   "id": "f29504e6",
   "metadata": {},
   "outputs": [
    {
     "name": "stdout",
     "output_type": "stream",
     "text": [
      "a * b == b + b + b +...: False\n"
     ]
    }
   ],
   "source": [
    "import numpy as np\n",
    "\n",
    "a = 100\n",
    "b = 0.1\n",
    "\n",
    "s = sum(b for _ in range(a))\n",
    "\n",
    "print(\"a * b == b + b + b +...:\", a * b == s)"
   ]
  },
  {
   "cell_type": "code",
   "execution_count": 8,
   "id": "0542434c",
   "metadata": {},
   "outputs": [
    {
     "name": "stdout",
     "output_type": "stream",
     "text": [
      "a * b = 10.0\n",
      "b + b + b + b + ...= 9.99999999999998\n"
     ]
    }
   ],
   "source": [
    "print(\"a * b =\", a * b)\n",
    "print(\"b + b + b + b + ...=\", s)"
   ]
  },
  {
   "cell_type": "markdown",
   "id": "4071856d",
   "metadata": {},
   "source": [
    "## Maths says yes, but...\n",
    "\n",
    "<center>\n",
    "    <img src=\"images/computer-says-no.jpeg\" alt=\"Computer says no\" />\n",
    "</center>"
   ]
  },
  {
   "cell_type": "markdown",
   "id": "92f4ffee",
   "metadata": {
    "cell_style": "center",
    "slideshow": {
     "slide_type": "slide"
    }
   },
   "source": [
    "### Floating point number (in decimal representation)\n",
    "\n",
    "$$x = \\underbrace{28\\,763}_\\text{integer part}.\\overbrace{437}^\\text{fractional part}$$\n",
    "\n",
    "- Integer part:\n",
    "$$\n",
    "\\begin{split}\n",
    "28\\,763 & = 20\\,000 + 8\\,000 + 700 + 60 + 3 \\\\\n",
    "        & = 2 \\times 10\\,000 + 8 \\times 1\\,000 + 7 \\times 100 + 6 \\times 10 + 3 \\times 1 \\\\\n",
    "        & = \\underbrace{2 \\times 10^{4}} + \\underbrace{8 \\times 10^{3}} + \\underbrace{7 \\times 10^{2}} + \\underbrace{6 \\times 10^{1}} + \\underbrace{3 \\times 10^{0}}\n",
    "\\end{split}\n",
    "$$\n",
    "\n",
    "- Fractional part:\n",
    "$$\n",
    "\\begin{split}\n",
    "0.437 & = \\frac{4}{10} + \\frac{3}{100} + \\frac{7}{1\\,000}\\\\\n",
    "      & = 4 \\times \\frac{1}{10} + 3 \\times \\frac{1}{100} + 7 \\times \\frac{1}{1\\,000}\\\\\n",
    "      & = \\underbrace{4 \\times 10^{-1}} + \\underbrace{3 \\times 10^{-2}} + \\underbrace{7 \\times 10^{-3}}\n",
    "\\end{split}\n",
    "$$"
   ]
  },
  {
   "cell_type": "markdown",
   "id": "f62b8cca",
   "metadata": {
    "slideshow": {
     "slide_type": "slide"
    }
   },
   "source": [
    "### Floating point number (in decimal representation)\n",
    "\n",
    "$$x = \\underbrace{28\\,763}_\\text{integer part}.\\overbrace{437}^\\text{fractional part}$$\n",
    "\n",
    "$$\n",
    "\\underbrace{a_{n}a_{n-1}\\ldots a_1 a_0}_{\\text{integer part}} \\,\\,.\\,\\, \\overbrace{b_{1} b_{2} b_{3} \\ldots}^{\\text{fractional part}} = \\underbrace{\\sum_{i=0}^{n} a_{i} \\times 10^{i}}_{\\text{integer part}} + \\overbrace{\\sum_{i=1}^{\\infty} b_{i} \\times 10^{-i}}^{\\text{fractional part}}\n",
    "$$\n",
    "\n",
    "- Digits in base-10: $a_{i}, b_{i} \\in \\{0, 1, 2, \\ldots, 9\\}$\n",
    "- Integer part has a finite number of digits.\n",
    "- Fractional part can have:\n",
    "  - **finite** number of digits - rational numbers.\n",
    "  $$\\frac{1}{4} = 0.25$$\n",
    "  - **infinite** number of digits - irrational numbers\n",
    "  $$\\frac{1}{3}=0.333333333333....$$"
   ]
  },
  {
   "cell_type": "markdown",
   "id": "ba58a731",
   "metadata": {
    "slideshow": {
     "slide_type": "slide"
    }
   },
   "source": [
    "### Floating point number (in binary representation)\n",
    "\n",
    "$$x = (\\underbrace{1\\,011}_{\\text{integer part}}.\\overbrace{101}^{\\text{fractional part}})_{2}$$\n",
    "\n",
    "- **Note:** We write $(1\\,011.101)_{2}$ (2 in subscript) to prevent us from interpreting the number as decimal (*one thousand eleven point one zero one*)\n",
    "\n",
    "- Integer part:\n",
    "$$\n",
    "\\begin{split}\n",
    "(1\\,011)_{2} & = \\overbrace{1 \\times 2^{3}} + \\overbrace{0 \\times 2^{2}} + \\overbrace{1 \\times 2^{1}} + \\overbrace{1 \\times 2^{0}}\\\\\n",
    "             & = 1 \\times 8 + 0 \\times 4 + 1 \\times 2 + 1 \\times 1\\\\\n",
    "             & = 8 + 0 + 2 + 1\\\\\n",
    "             & = (11)_{10}\n",
    "\\end{split}\n",
    "$$\n",
    "\n",
    "- Fractional part:\n",
    "$$\n",
    "\\begin{split}\n",
    "(0.101)_{2} & = 1 \\times 2^{-1} + 0 \\times 2^{-2} + 1 \\times 2^{-3}\\\\\n",
    "            & = 1 \\times \\frac{1}{2} + 0 \\times \\frac{1}{4} + 1 \\times \\frac{1}{8}\\\\\n",
    "            & = 0.5 + 0 + 0.125\\\\\n",
    "            & = (0.625)_{10}\n",
    "\\end{split}\n",
    "$$"
   ]
  },
  {
   "cell_type": "markdown",
   "id": "bed354fe",
   "metadata": {
    "slideshow": {
     "slide_type": "slide"
    }
   },
   "source": [
    "### Floating point number (in binary representation)\n",
    "\n",
    "$$\n",
    "\\left(\\underbrace{a_{n} a_{n-1}\\ldots a_1 a_0}_{\\text{integer part}} \\,\\, . \\,\\, \\overbrace{\\, b_{1} b_{2} b_{3} \\ldots}^{\\text{fractional part}}\\right)_{2} = \\underbrace{\\sum_{i=0}^{n} a_{i} \\times 2^{i}}_{\\text{integer part}} + \\overbrace{\\sum_{i=1}^{\\infty} b_{i} \\times 2^{-i}}^{\\text{fractional part}}\n",
    "$$\n",
    "\n",
    "- Digits in base-2: $a_{i}, b_{i} \\in \\{0, 1\\}$\n",
    "- Integer part has a finite number of digits. Fractional part can have finite or infinite number of digits.\n",
    "- In integer part, we call:\n",
    "  - $a_{0}$: Least Significant Bit (LSB)\n",
    "  - $a_{n}$: Most Significant Bit (MSB)\n",
    "- **Binary** number but we still call it a **decimal point**? If you're picky, call it a **radix point**."
   ]
  },
  {
   "cell_type": "markdown",
   "id": "b6aee2a4",
   "metadata": {},
   "source": [
    "### Floating point number (in base-$\\beta$ representation)\n",
    "\n",
    "$$\n",
    "\\left(\\underbrace{a_{n} a_{n-1}\\ldots a_1 a_0}_{\\text{integer part}} \\,\\, . \\,\\, \\overbrace{\\, b_{1} b_{2} b_{3} \\ldots}^{\\text{fractional part}}\\right)_{\\beta} = \\underbrace{\\sum_{i=0}^{n} a_{i} \\times \\beta^{i}}_{\\text{integer part}} + \\overbrace{\\sum_{i=1}^{\\infty} b_{i} \\times \\beta^{-i}}^{\\text{fractional part}}\n",
    "$$\n",
    "\n",
    "| base ($\\beta$) | name | digits | example |\n",
    "| - | - | - | -\n",
    "| 2 | binary | $0, 1$ | $(1010)_{2} = (10)_{10}$\n",
    "| 8 | octal | $0, 1, 2, 3, 4, 5, 6, 7$ | $(12)_{8} = (10)_{10}$\n",
    "| 10 | decimal | $0, 1, 2, 3, 4, 5, 6, 7, 8, 9$ | $(10)_{10} = (10)_{10}$\n",
    "| 16 | hexadecimal | $0, 1, 2, ..., 9, a, b, c, d, e, f$ |$(a)_{16} = (10)_{10}$"
   ]
  },
  {
   "cell_type": "markdown",
   "id": "978f43a8",
   "metadata": {},
   "source": [
    "### Coversion decimal to binary"
   ]
  },
  {
   "cell_type": "markdown",
   "id": "2a354f3f",
   "metadata": {},
   "source": [
    "### Step 1: Convert the integer part\n",
    "\n",
    "1. **Divide the integer part** of the decimal number by 2.\n",
    "2. **Record the remainder** (0 or 1) as the **least significant bit (LSB)**.\n",
    "3. **Repeat the process**: divide the quotient from the previous step by 2 and record the remainder until the quotient becomes 0.\n",
    "4. **The binary representation** of the integer is the remainders read from **bottom to top** - from LSB to Most Significant Bit (MSB).\n",
    "\n",
    "#### **Example: Convert 11 to binary**\n",
    "\n",
    "| calculation       | quotient | remainder |\n",
    "| ----------------- | -------- | --------- |\n",
    "| $11 \\div 2$      | $5$     | $1$ (LSB)      |\n",
    "| $5 \\div 2$       | $2$     | $1$       |\n",
    "| $2 \\div 2$       | $1$     | $0$       |\n",
    "| $1 \\div 2$       | $0$ (stop)     | $1$ (MSB)       |\n",
    "\n",
    "\n",
    "$$(11)_{10} = (1011)_2$$\n",
    "\n"
   ]
  },
  {
   "cell_type": "markdown",
   "id": "28ca5f88",
   "metadata": {},
   "source": [
    "### Step 2: Convert the fractional part\n",
    "\n",
    "1. **Multiply the fractional part** of the decimal number by 2.\n",
    "2. Record the **integer part** (0 or 1) of the result as the **next bit** in the binary representation.\n",
    "3. **Repeat the process**: multiply the fractional part of the result by 2 and record the integer part.\n",
    "4. **Stop** when the fractional part becomes 0 (or continue for a certain number of bits if it does not terminate).\n",
    "\n",
    "#### **Example: Convert 0.625 to binary**\n",
    "\n",
    "| calculation         | result         | integer part | fractional part |\n",
    "| ------------------- | -------------- | ------------ | ------------------------- |\n",
    "| $0.625 \\times 2$    | $1.25$        | $1$          | $0.25$                   |\n",
    "| $0.25 \\times 2$     | $0.50$        | $0$          | $0.50$                   |\n",
    "| $0.5 \\times 2$      | $1.0$         | $1$          | $0.0$                    |\n",
    "\n",
    "Thus, 0.625 in binary is:\n",
    "$$(0.625)_{10} = (0.101)_{2}$$"
   ]
  },
  {
   "cell_type": "markdown",
   "id": "ca87220c",
   "metadata": {},
   "source": [
    "### Scientific notation\n",
    "\n",
    "- Scientific notation is a way of representing a number in the form:\n",
    "\n",
    "$$x = \\pm \\,\\text{mantissa} \\times 10^{\\text{exponent}}$$\n",
    "\n",
    "$$\n",
    "\\begin{split}\n",
    "37541.23 &= +\\overbrace{37.54123}^{\\text{mantissa}} \\times 10^{\\overbrace{3}^{\\text{exponent}}}\\\\ \n",
    "         &= +3.754123 \\times 10^{4}\\\\\n",
    "         &= +0.3754123 \\times 10^{5}\n",
    "\\end{split}\n",
    "$$\n",
    "\n",
    "The scientific notation is **not unique**."
   ]
  },
  {
   "cell_type": "markdown",
   "id": "875104c1",
   "metadata": {},
   "source": [
    "### Normalised scientific notation\n",
    "\n",
    "- To ensure uniqueness, we define **normalised** scientific notation.\n",
    "\n",
    "$$x = \\pm\\overbrace{d_{1}.d_{2}d_{3}\\ldots}^{\\text{mantissa}\\,\\,m} \\times 10^{e}, \\quad d_{1} \\ne 0$$\n",
    "\n",
    "- The notation is normalised if mantissa $m = d_{1}.d_{2}d_{3}\\ldots$ is $1 \\le m < 10$.\n",
    "- We keep moving the decimal point until we have only one non-zero digit in the integer part.\n",
    "\n",
    "$$\n",
    "\\begin{split}\n",
    "37541.23 &= \\overbrace{+3.754123 \\times 10^{4}}^{\\text{normalised}}\\\\ \n",
    "         &= \\underbrace{+0.3754123 \\times 10^{5}}_{\\text{not normalised}}\n",
    "\\end{split}\n",
    "$$"
   ]
  },
  {
   "cell_type": "markdown",
   "id": "8634867e",
   "metadata": {},
   "source": [
    "### Normalised scientific notation (in decimal form)\n",
    "\n",
    "Any $x \\in \\mathbb{R}$ if $x \\ne 0$ can be written as:\n",
    "\n",
    "$$\n",
    "x = \\pm m \\times 10^{e}, \\quad 1 \\le m < 10\n",
    "$$\n",
    "\n",
    "| label | name |\n",
    "| - | - |\n",
    "| $\\pm$ | sign\n",
    "| $m$ | mantissa |\n",
    "| $e$ | exponent |"
   ]
  },
  {
   "cell_type": "markdown",
   "id": "f4903c78",
   "metadata": {
    "slideshow": {
     "slide_type": "slide"
    }
   },
   "source": [
    "### Normalised scientific notation (in binary form)\n",
    "\n",
    "Any $x \\in \\mathbb{R}$ if $x \\ne 0$ can be written as:\n",
    "\n",
    "$$\n",
    "\\begin{split}\n",
    "x &= \\pm \\overbrace{b_{0}.b_{1}b_{2}\\ldots}^{\\text{mantissa}\\,\\,m} \\times 2^{e}\\\\\n",
    "  &= \\pm 1.b_{1}b_{2}\\ldots \\times 2^{e}\\\\\n",
    "  &= \\pm m \\times 2^{e}, \\quad 1 \\le m < 2\n",
    "\\end{split}\n",
    "$$\n",
    "\n",
    "- **Note**: Since $b_{0}$ can only be $1$, we write $m = 1.b_{1}b_{2}\\ldots$.\n",
    "\n",
    "| label | name |\n",
    "| - | - |\n",
    "| $\\pm$ | sign\n",
    "| $m$ | mantissa |\n",
    "| $e$ | exponent |"
   ]
  },
  {
   "cell_type": "markdown",
   "id": "ca7e2413",
   "metadata": {},
   "source": [
    "## IEEE-754\n",
    "\n",
    "- Earlier, computer manufacturers developed their own floating-point number systems.\n",
    "    - There were inconsistencies in results between different machines.\n",
    "    - The result of $a + b$ was different of different machines. 🤯😵‍💫\n",
    "- In early 1980s, IEEE (Institute of Electrical and Electronics Engineers) established floating-point standard (IEEE-754)."
   ]
  },
  {
   "cell_type": "markdown",
   "id": "2188fcd2",
   "metadata": {},
   "source": [
    "### To save a float, we need...\n",
    "\n",
    "Normalised scientific notation:\n",
    "\n",
    "$$\n",
    "\\begin{split}\n",
    "x &= \\pm \\overbrace{1.b_{1}b_{2}\\ldots}^{\\text{mantissa}\\,\\,m} \\times 2^{e}\\\\\n",
    "  &= (-1)^{s} \\times 1.b_{1}b_{2}\\ldots \\times 2^{e}\\\\\n",
    "\\end{split}\n",
    "$$\n",
    "\n",
    "Practically, we to save a float, we have to save three integers:\n",
    "\n",
    "| label | name |\n",
    "| - | - |\n",
    "| $s$ | sign |\n",
    "| $m$ | mantissa |\n",
    "| $e$ | exponent |"
   ]
  },
  {
   "cell_type": "markdown",
   "id": "80c4f0a1",
   "metadata": {},
   "source": [
    "### IEEE-754 levels of precision\n",
    "\n",
    "| precision   | bits | sign | exponent | mantissa |\n",
    "| ----------- | ---- | ---- | -------- | -------- |\n",
    "| single      | 32   | 1    | 8        | 23       |\n",
    "| double      | 64   | 1    | 11       | 52       |\n",
    "| long double | 80   | 1    | 15       | 64       |\n",
    "\n",
    "**Do not memorise!** As computational/data scientists, we do not have to know all the numbers, but we need to be aware of the basics."
   ]
  },
  {
   "cell_type": "markdown",
   "id": "9c5a4d88",
   "metadata": {},
   "source": [
    "### Single precision (32 bit)\n",
    "\n",
    "$$x = (-1)^{s} \\times (1.f)_{2} \\times 2^{e-127}$$\n",
    "\n",
    "We need to save three integers: $s$, $f$, and $e$."
   ]
  },
  {
   "cell_type": "markdown",
   "id": "c6fbdd73",
   "metadata": {},
   "source": [
    "### Single precision (32 bit) - sign bit\n",
    "\n",
    "$$x = (-1)^{s} \\times (1.f)_{2} \\times 2^{e-127}$$\n",
    "\n",
    "- 1 bit for the sign $s$\n",
    "    - $s=0$: $(-1)^0 = 1$ (positive)\n",
    "    - $s=1$: $(-1)^1 = -1$ (negative)"
   ]
  },
  {
   "cell_type": "markdown",
   "id": "3117e1b6",
   "metadata": {},
   "source": [
    "### Single precision (32 bit) - exponent\n",
    "\n",
    "$$x = (-1)^{s} \\times (1.f)_{2} \\times 2^{e-127}$$\n",
    "\n",
    "- 8 bits for the exponent $e$\n",
    "    - $(0)_{10} = (00\\,000\\,000)_{2} < e < (11\\,111\\,111)_{2} = (255)_{10}$\n",
    "    - values $0$ and $255$ are reserved for $\\pm 0$ and $\\pm \\infty$.\n",
    "    - Instead of using an extra bit on the sign of the exponent, IEEE-754 shifts $e$ by 127 to allow representing values around zero.\n",
    "    $$-126 \\le e-127 \\le 127$$"
   ]
  },
  {
   "cell_type": "markdown",
   "id": "af1a1e30",
   "metadata": {},
   "source": [
    "### Single precision (32 bit) - mantissa\n",
    "\n",
    "$$x = (-1)^{s} \\times (1.f)_{2} \\times 2^{e-127}$$    \n",
    "    \n",
    "- 23 bits for the matissa (aka significand) $m = 1.f$\n",
    "  - $m = 1.f = 1.b_{1}b_{2}b_{3}...b_{23}$)\n",
    "  - Mantissa is limited by:\n",
    "    $$(1.00000000000000000000000)_{2} = 1 \\le 1.f \\le (1.11111111111111111111111)_{2} = 2 - 2^{-23}$$\n"
   ]
  },
  {
   "cell_type": "markdown",
   "id": "b9037ffa",
   "metadata": {},
   "source": [
    "### What is the largest number?\n",
    "\n",
    "$$x = (-1)^{s} \\times (1.f)_{2} \\times 2^{e-127}$$   \n",
    "\n",
    "- $s = 0$ (positive)\n",
    "- $m = 1.f = (1.11111111111111111111111)_{2} = 2 - 2^{-23}$\n",
    "- $e = (11111110)_{2} = 254$ ($255$ is reserved for special case infinity)\n",
    "\n",
    "$$(-1)^{0} \\times (2 - 2^{-23}) \\times 2^{254-127} \\approx 2^{128} \\approx 3.4 \\times 10^{38}$$"
   ]
  },
  {
   "cell_type": "markdown",
   "id": "54e38020",
   "metadata": {},
   "source": [
    "### What is the smallest positive number?\n",
    "\n",
    "$$x = (-1)^{s} \\times (1.f)_{2} \\times 2^{e-127}$$   \n",
    "\n",
    "- $s = 0$ (positive)\n",
    "- $m = 1.f = (1.00000000000000000000000)_{2} = 1$\n",
    "- $e = (00000001)_{2} = 1$ ($0$ is reserved for special case zero)\n",
    "\n",
    "$$(-1)^{0} \\times 1 \\times 2^{1-127} \\approx 2^{-126} \\approx 1.17 \\times 10^{-38}$$"
   ]
  },
  {
   "cell_type": "markdown",
   "id": "417de0be",
   "metadata": {},
   "source": [
    "### Machine $\\epsilon$\n",
    "\n",
    "- The number of real numbers $x \\in \\mathbb{R}$ we can represent is finite - we call those numbers **machine numbers**.\n",
    "- The floating-point machine number corresponding to $x$, we denote as $\\mathrm{fl}(x)$.\n",
    "- Machine $\\epsilon$ is the smallest number such that:\n",
    "$$\\mathrm{fl}(1 + \\epsilon) \\ne 1$$\n",
    "- For single precision, the machine $\\epsilon$ is:\n",
    "\n",
    "$$\\epsilon = \\overbrace{(1.00000000000000000000001)_{2}}^{1+\\epsilon} - \\overbrace{(1.00000000000000000000000)_{2}}^{1} = \\overbrace{2^{-23}}^{\\epsilon} \\approx 1.19 \\times 10^{-7}$$"
   ]
  },
  {
   "cell_type": "markdown",
   "id": "02b97ca0",
   "metadata": {},
   "source": [
    "### Precision and resolution\n",
    "\n",
    "- We can have a maximum of $23$ bits for the mantissa.\n",
    "- That means $2^{23}$ possible binary numbers.\n",
    "- $\\log_{10}(2^{23})\\approx 6.9$ - we can rely on 6 significant digits.\n",
    "- The **precision** is $p=6$.\n",
    "\n",
    "$$x = \\mathbf{5.312457}\\overbrace{[9873459782349658]}^{\\text{rubbish}}$$\n",
    "\n",
    "- **Resolution:** Sometimes, instead of precision $p$, we show **resolution**: $10^{-p} = 10^{-6}$."
   ]
  },
  {
   "cell_type": "markdown",
   "id": "98274594",
   "metadata": {},
   "source": [
    "### We do not have to memorise that information..."
   ]
  },
  {
   "cell_type": "code",
   "execution_count": 9,
   "id": "71a75200",
   "metadata": {},
   "outputs": [
    {
     "name": "stdout",
     "output_type": "stream",
     "text": [
      "Single precision float\n",
      "-------------------------\n",
      "Total size in bits: 32\n",
      "Bits in mantissa: 23\n",
      "Bits in exponent: 8\n",
      "Largest number: 3.4028234663852886e+38\n",
      "Smallest number: -3.4028234663852886e+38\n",
      "Smallest positive number: 1.1754943508222875e-38\n",
      "Machine epsilon: 1.1920928955078125e-07\n",
      "Precision: 6\n",
      "Resolution: 9.999999974752427e-07\n"
     ]
    }
   ],
   "source": [
    "import numpy as np\n",
    "\n",
    "single = np.finfo(np.float32)\n",
    "\n",
    "print(f'Single precision float')\n",
    "print(25*'-')\n",
    "print(f'Total size in bits: {single.bits}')\n",
    "print(f'Bits in mantissa: {single.nmant}')\n",
    "print(f'Bits in exponent: {single.nexp}')\n",
    "print(f'Largest number: {single.max}')\n",
    "print(f'Smallest number: {single.min}')\n",
    "print(f'Smallest positive number: {single.tiny}')\n",
    "print(f'Machine epsilon: {single.eps}')\n",
    "print(f'Precision: {single.precision}')\n",
    "print(f'Resolution: {single.resolution}')"
   ]
  },
  {
   "cell_type": "markdown",
   "id": "92cbe490",
   "metadata": {},
   "source": [
    "### Double precision (64 bit)\n",
    "\n",
    "$$x = (-1)^{s} \\times (1.f)_{2} \\times 2^{e-1023}$$\n",
    "\n",
    "- 1 bit for the sign $s$\n",
    "    \n",
    "- 11 bits for the exponent $e$\n",
    "    - $0 < e < (11\\,111\\,111\\,111)_{2} = 2047$ (values $0$ and $2047$ are reserved for $\\pm 0$ and $\\pm \\infty$)\n",
    "    - $-1022 \\le e - 1023 \\le 1023$\n",
    " \n",
    "- 52 bits for mantissa $f$\n",
    "    $$(1.00\\ldots 00)_{2} = 1 \\le (1.f)_{2} \\le (1.11\\ldots 11)_{2} = 2 - 2^{-52}$$\n",
    "\n",
    "- Largest number: $(2 - 2^{-52}) \\times 2^{1023} \\approx 2^{1024} \\approx 1.8 \\times 10^{308}$\n",
    "- Smallest positive number: $1 \\times 2^{-1022} \\approx 2.2 \\times 10^{-308}$"
   ]
  },
  {
   "cell_type": "markdown",
   "id": "c7108da8",
   "metadata": {},
   "source": [
    "### Double precision: machine $\\epsilon$, precision, and resolution\n",
    "\n",
    "- Machine $\\epsilon$:\n",
    "\n",
    "$$\\epsilon = 2^{-52} \\approx 2.22 \\times 10^{-16}$$\n",
    "\n",
    "- Precision: We can rely on $\\log_{10}(2^{53}) = 15.95$ significant digits.\n",
    "\n",
    "$$x = \\mathbf{5.31245775431986}\\overbrace{[9873459782349658]}^{\\text{rubbish}}$$\n",
    "\n",
    "- Resolution: $10^{-p} = 10^{-15}$."
   ]
  },
  {
   "cell_type": "code",
   "execution_count": 10,
   "id": "8efd3c81",
   "metadata": {},
   "outputs": [
    {
     "name": "stdout",
     "output_type": "stream",
     "text": [
      "Single precision float\n",
      "-------------------------\n",
      "Total size in bits: 64\n",
      "Bits in mantissa: 52\n",
      "Bits in exponent: 11\n",
      "Machine epsilon: 2.220446049250313e-16\n",
      "Largest number: 1.7976931348623157e+308\n",
      "Smallest number: -1.7976931348623157e+308\n",
      "Smallest positive number: 2.2250738585072014e-308\n",
      "Precision: 15\n",
      "Resolution: 1e-15\n"
     ]
    }
   ],
   "source": [
    "double = np.finfo(np.float64)\n",
    "\n",
    "print(f'Single precision float')\n",
    "print(25*'-')\n",
    "print(f'Total size in bits: {double.bits}')\n",
    "print(f'Bits in mantissa: {double.nmant}')\n",
    "print(f'Bits in exponent: {double.nexp}')\n",
    "print(f'Machine epsilon: {double.eps}')\n",
    "print(f'Largest number: {double.max}')\n",
    "print(f'Smallest number: {double.min}')\n",
    "print(f'Smallest positive number: {double.tiny}')\n",
    "print(f'Precision: {double.precision}')\n",
    "print(f'Resolution: {double.resolution}')"
   ]
  },
  {
   "cell_type": "markdown",
   "id": "d9286863",
   "metadata": {},
   "source": [
    "## Rounding\n",
    "\n",
    "Let's say we need to compute $a + b$. Since only machine numbers can be represented exactly, the result is\n",
    "\n",
    "$$\\text{fl}(\\,\\text{fl}(a) + \\text{fl}(b)\\,)$$\n",
    "\n",
    "<center>\n",
    "    <img src=\"images/rounding.png\" alt=\"Computer says no\" />\n",
    "</center>"
   ]
  },
  {
   "cell_type": "markdown",
   "id": "5abc45e0",
   "metadata": {},
   "source": [
    "### Overflow and underflow\n",
    "\n",
    "- How can we represent $x = 2^{68426539}$ or $x = 2^{-98723640}$?\n",
    "    -  We can't. This attempt results in overflow or underflow.\n",
    "\n",
    "- Underflow is often rounded to zero.\n",
    "- Overflow is handled differently by different systems."
   ]
  },
  {
   "cell_type": "code",
   "execution_count": 11,
   "id": "8d0d0018",
   "metadata": {},
   "outputs": [
    {
     "name": "stdout",
     "output_type": "stream",
     "text": [
      "huuuuuuge_number = inf\n",
      "super_super_small_number = 0.0\n"
     ]
    }
   ],
   "source": [
    "huuuuuuge_number = 1e68426539\n",
    "super_super_small_number = 1e-98723640\n",
    "\n",
    "print(f'{huuuuuuge_number = }')\n",
    "print(f'{super_super_small_number = }')"
   ]
  },
  {
   "cell_type": "markdown",
   "id": "75897334",
   "metadata": {},
   "source": [
    "## Let's revisit the surprises"
   ]
  },
  {
   "cell_type": "markdown",
   "id": "78b8674c",
   "metadata": {},
   "source": [
    "### Surprise 1\n",
    "\n",
    "#### Maths says...\n",
    "For any $x \\in \\mathbb{R}$ if $x \\ne 0$\n",
    "$$1 + x \\ne 1$$\n",
    "\n",
    "#### Computer says..."
   ]
  },
  {
   "cell_type": "code",
   "execution_count": 12,
   "id": "18c93b83",
   "metadata": {},
   "outputs": [
    {
     "name": "stdout",
     "output_type": "stream",
     "text": [
      "False\n"
     ]
    }
   ],
   "source": [
    "x = 1e-16\n",
    "\n",
    "print(1 + x != 1)"
   ]
  },
  {
   "cell_type": "markdown",
   "id": "1dc8893e",
   "metadata": {},
   "source": [
    "### Why?\n",
    "\n",
    "- $x$ is smaller than machine epsilon $x < \\epsilon$\n",
    "- $x$ is too small to make a difference."
   ]
  },
  {
   "cell_type": "code",
   "execution_count": 13,
   "id": "b8a6072e",
   "metadata": {},
   "outputs": [
    {
     "name": "stdout",
     "output_type": "stream",
     "text": [
      "x = 1e-16\n",
      "epsilon = 2.220446049250313e-16\n"
     ]
    }
   ],
   "source": [
    "double = np.finfo(np.float64)\n",
    "print(f'{x = }')\n",
    "print(f'epsilon = {double.eps}')"
   ]
  },
  {
   "cell_type": "code",
   "execution_count": 14,
   "id": "d3e687e9",
   "metadata": {},
   "outputs": [
    {
     "name": "stdout",
     "output_type": "stream",
     "text": [
      "True\n"
     ]
    }
   ],
   "source": [
    "x = 3e-16  # now, it's larger than machine epsilon\n",
    "\n",
    "print(1 + x != 1)"
   ]
  },
  {
   "cell_type": "markdown",
   "id": "43bcdb51",
   "metadata": {},
   "source": [
    "### Surprise 2\n",
    "\n",
    "#### Maths says...\n",
    "$$\\frac{1}{10} + \\frac{2}{10} = \\frac{3}{10}$$\n",
    "$$0.1 + 0.2 = 0.3$$\n",
    "\n",
    "#### Computer says..."
   ]
  },
  {
   "cell_type": "code",
   "execution_count": 15,
   "id": "67252dec",
   "metadata": {},
   "outputs": [
    {
     "name": "stdout",
     "output_type": "stream",
     "text": [
      "False\n"
     ]
    }
   ],
   "source": [
    "print(0.1 + 0.2 == 0.3)"
   ]
  },
  {
   "cell_type": "markdown",
   "id": "a4fef634",
   "metadata": {},
   "source": [
    "### Why?\n",
    "\n",
    "- We round to the closest machine number:\n",
    "\n",
    "$$\\text{fl}(\\,\\text{fl}(a) + \\text{fl}(b)\\,)$$"
   ]
  },
  {
   "cell_type": "code",
   "execution_count": 16,
   "id": "ec1f8ad8",
   "metadata": {},
   "outputs": [
    {
     "name": "stdout",
     "output_type": "stream",
     "text": [
      "fl(0.1) =  0.1000000000000000055511151231257827021181583404541015625\n",
      "fl(0.2) =  0.200000000000000011102230246251565404236316680908203125\n",
      "fl(0.3) =  0.299999999999999988897769753748434595763683319091796875\n"
     ]
    }
   ],
   "source": [
    "import decimal\n",
    "\n",
    "print('fl(0.1) = ', decimal.Decimal(0.1))\n",
    "print('fl(0.2) = ', decimal.Decimal(0.2))\n",
    "print('fl(0.3) = ', decimal.Decimal(0.3))"
   ]
  },
  {
   "cell_type": "markdown",
   "id": "f3dfb5b3",
   "metadata": {},
   "source": [
    "If a number has a finite representation in decimal form, it does not mean it has a finite representation in binary form."
   ]
  },
  {
   "cell_type": "markdown",
   "id": "784347d3",
   "metadata": {},
   "source": [
    "### Surprise 3\n",
    "\n",
    "#### Maths says...\n",
    "$$(a + b) + c = a + (b + c)$$\n",
    "\n",
    "#### Computer says..."
   ]
  },
  {
   "cell_type": "code",
   "execution_count": 17,
   "id": "40a52e58",
   "metadata": {},
   "outputs": [
    {
     "name": "stdout",
     "output_type": "stream",
     "text": [
      "Associativity rules: False\n"
     ]
    }
   ],
   "source": [
    "a = 1e16\n",
    "b = -1e16\n",
    "c = 1.0\n",
    "\n",
    "print('Associativity rules:', (a + b) + c == a + (b + c))"
   ]
  },
  {
   "cell_type": "code",
   "execution_count": 18,
   "id": "c34edc5c",
   "metadata": {},
   "outputs": [
    {
     "name": "stdout",
     "output_type": "stream",
     "text": [
      "(a + b) + c =  1.0\n",
      "a + (b + c) =  0.0\n"
     ]
    }
   ],
   "source": [
    "print(\"(a + b) + c = \", (a + b) + c)\n",
    "print(\"a + (b + c) = \", a + (b + c))"
   ]
  },
  {
   "cell_type": "markdown",
   "id": "0d3c4aff",
   "metadata": {},
   "source": [
    "### Why?\n",
    "\n",
    "- We round to the closest machine number:\n",
    "\n",
    "$$\\text{fl}(\\,\\text{fl}(a) + \\text{fl}(b)\\,)$$"
   ]
  },
  {
   "cell_type": "code",
   "execution_count": 19,
   "id": "84e25b36",
   "metadata": {},
   "outputs": [
    {
     "name": "stdout",
     "output_type": "stream",
     "text": [
      "fl(a) =  10000000000000000\n",
      "fl(b) =  -10000000000000000\n",
      "fl(c) =  1\n",
      "fl(a + b) =  0\n",
      "fl(b + c) =  -10000000000000000\n"
     ]
    }
   ],
   "source": [
    "print('fl(a) = ', decimal.Decimal(a))\n",
    "print('fl(b) = ', decimal.Decimal(b))\n",
    "print('fl(c) = ', decimal.Decimal(c))\n",
    "print('fl(a + b) = ', decimal.Decimal(a+b))\n",
    "print('fl(b + c) = ', decimal.Decimal(b+c))"
   ]
  },
  {
   "cell_type": "markdown",
   "id": "f75f3647",
   "metadata": {},
   "source": [
    "### Surprise 4\n",
    "\n",
    "#### Maths says...\n",
    "$$1.0000001 - 1 = 0.000001 = 10^{-7}$$\n",
    "\n",
    "#### Computer says..."
   ]
  },
  {
   "cell_type": "code",
   "execution_count": 20,
   "id": "a52558ea",
   "metadata": {},
   "outputs": [
    {
     "name": "stdout",
     "output_type": "stream",
     "text": [
      "a - b == 1e-7: False\n"
     ]
    }
   ],
   "source": [
    "a = 1.0000001\n",
    "b = 1.0000000\n",
    "\n",
    "print(\"a - b == 1e-7:\", a - b == 1e-7)"
   ]
  },
  {
   "cell_type": "code",
   "execution_count": 21,
   "id": "7ae0c80e",
   "metadata": {},
   "outputs": [
    {
     "name": "stdout",
     "output_type": "stream",
     "text": [
      "a - b = 1.0000000005838672e-07\n"
     ]
    }
   ],
   "source": [
    "print(\"a - b =\", a - b)"
   ]
  },
  {
   "cell_type": "markdown",
   "id": "dfe16a0e",
   "metadata": {},
   "source": [
    "### Why? (self-study)\n",
    "\n",
    "**Theorem (Loss of Significance in Subtraction):**\n",
    "\n",
    "Let $a$ and $b$ be two floating-point numbers that are **close** in value. When subtracting $b$ from $a$ in floating-point arithmetic, the result can experience a **loss of significance** due to cancellation of leading digits.\n",
    "\n",
    "If $a \\approx b$, then:\n",
    "\n",
    "$$a - b = (a - b) \\cdot \\left(1 + \\epsilon\\right)$$\n",
    "\n",
    "where $\\epsilon$ is a small error term due to floating-point rounding.\n",
    "\n",
    "#### Implications:\n",
    "1. **Subtraction** of nearly equal values can **magnify relative errors** in floating-point representations.\n",
    "2. This leads to a significant **reduction in precision**, potentially making results unreliable for further computation.\n",
    "3. The effect is particularly severe when the number of **leading significant digits** in $a$ and $b$ that cancel out is high.\n"
   ]
  },
  {
   "cell_type": "markdown",
   "id": "35ec85d9",
   "metadata": {},
   "source": [
    "### Surprise 5\n",
    "\n",
    "#### Maths says...\n",
    "$$a \\times b = \\underbrace{b + b + ... + b}_{\\text{a times}}$$\n",
    "\n",
    "#### Computer says..."
   ]
  },
  {
   "cell_type": "code",
   "execution_count": 22,
   "id": "e8f160f0",
   "metadata": {},
   "outputs": [
    {
     "name": "stdout",
     "output_type": "stream",
     "text": [
      "a * b == b + b + b +...: False\n"
     ]
    }
   ],
   "source": [
    "import numpy as np\n",
    "\n",
    "a = 100\n",
    "b = 0.1\n",
    "\n",
    "s = sum(b for _ in range(a))\n",
    "\n",
    "print(\"a * b == b + b + b +...:\", a * b == s)"
   ]
  },
  {
   "cell_type": "code",
   "execution_count": 23,
   "id": "f3a4fd4e",
   "metadata": {},
   "outputs": [
    {
     "name": "stdout",
     "output_type": "stream",
     "text": [
      "a * b = 10.0\n",
      "b + b + b + b + ...= 9.99999999999998\n"
     ]
    }
   ],
   "source": [
    "print(\"a * b =\", a * b)\n",
    "print(\"b + b + b + b + ...=\", s)"
   ]
  },
  {
   "cell_type": "markdown",
   "id": "820dbed9",
   "metadata": {},
   "source": [
    "### Why?\n",
    "\n",
    "The error accumulates over many iterations."
   ]
  },
  {
   "cell_type": "code",
   "execution_count": 24,
   "id": "9a18fe04",
   "metadata": {},
   "outputs": [
    {
     "name": "stdout",
     "output_type": "stream",
     "text": [
      "fl(0.1) =  0.1000000000000000055511151231257827021181583404541015625\n"
     ]
    }
   ],
   "source": [
    "print('fl(0.1) = ', decimal.Decimal(0.1))"
   ]
  },
  {
   "cell_type": "markdown",
   "id": "5534e0de",
   "metadata": {
    "slideshow": {
     "slide_type": "slide"
    }
   },
   "source": [
    "## Takehome message\n",
    "\n",
    "**Do not compare floats using `==`!!!** Instead, use\n",
    "\n",
    "$$|a - b| < \\text{tol}$$\n",
    "\n",
    "For convenience, use `np.isclose`:"
   ]
  },
  {
   "cell_type": "code",
   "execution_count": 25,
   "id": "52f6d294",
   "metadata": {
    "slideshow": {
     "slide_type": "-"
    },
    "tags": []
   },
   "outputs": [
    {
     "data": {
      "text/plain": [
       "True"
      ]
     },
     "execution_count": 25,
     "metadata": {},
     "output_type": "execute_result"
    }
   ],
   "source": [
    "np.isclose(0.1 + 0.2, 0.3, atol=1e-15, rtol=1e-5)"
   ]
  },
  {
   "cell_type": "markdown",
   "id": "3540e33f",
   "metadata": {},
   "source": [
    "# Exercises"
   ]
  },
  {
   "cell_type": "markdown",
   "id": "85136893",
   "metadata": {},
   "source": [
    "### Exercise 0\n",
    "\n",
    "Please fill out the anonymous feedback form: https://forms.office.com/e/BiekMgPTMm"
   ]
  },
  {
   "cell_type": "markdown",
   "id": "2d10e0ab",
   "metadata": {},
   "source": [
    "### Exercise 1: `dec2bin`\n",
    "\n",
    "In this exercise, you will write a function to convert a decimal floating point number to its binary representation. Follow these steps to complete the exercise:\n",
    "\n",
    "1. Create a function `dec2bin_integer(integer_part)`. This function takes an integer part of a decimal number as input and returns its binary representation as a string.\n",
    "\n",
    "\n",
    "2. Create a function `dec2bin_fractional(fractional_part, max_fractional_digits=52)`. This function should take the fractional part of a decimal number and the maximum number of digits in the fractional part as input. It returns the binary representation of the fractional part as a string. We limit the number of digits in the fractional part to avoid having an infinite loops - some numbers don't have a finite binary representation.\n",
    "\n",
    "3. Create a main function `float_to_binary(num, max_fractional_digits=52)`. This function should take a decimal float and the maximum number of digits in the fractional part as input. Internally, it separates the integer and fractional parts of the input number and calls `dec2bin_integer` and `float_to_binary` defined above. Finally, it returns the combined binary representation of the integer and fractional parts as a string."
   ]
  },
  {
   "cell_type": "code",
   "execution_count": 26,
   "id": "ece354a3",
   "metadata": {},
   "outputs": [],
   "source": [
    "def dec2bin_integer(integer_part):\n",
    "    \"\"\"\n",
    "    Convert the integer part of a decimal number to its binary representation.\n",
    "    \n",
    "    Parameters\n",
    "    ----------\n",
    "    integer_part : int\n",
    "        The integer part of the decimal number.\n",
    "    \n",
    "    Returns\n",
    "    -------\n",
    "    str\n",
    "        The binary representation of the integer part.\n",
    "\n",
    "    \"\"\"\n",
    "    raise NotImplementedError\n",
    "\n",
    "def dec2bin_fractional(fractional_part, max_fractional_digits=52):\n",
    "    \"\"\"\n",
    "    Convert the fractional part of a decimal number to its binary representation.\n",
    "    \n",
    "    Parameters\n",
    "    ----------\n",
    "    fractional_part : float\n",
    "        The fractional part of the decimal number.\n",
    "\n",
    "    max_fractional_digits : int, optional\n",
    "        The maximum number of digits in the fractional part (default is 52).\n",
    "    \n",
    "    Returns\n",
    "    -------\n",
    "    str\n",
    "        The binary representation of the fractional part.\n",
    "\n",
    "    \"\"\"\n",
    "    raise NotImplementedError\n",
    "\n",
    "def dec2bin(num, max_fractional_digits=52):\n",
    "    \"\"\"\n",
    "    Convert a decimal float to its binary representation.\n",
    "    \n",
    "    Parameters\n",
    "    ----------\n",
    "    num : float\n",
    "        The decimal float to convert.\n",
    "\n",
    "    max_fractional_digits : int, optional\n",
    "        The maximum number of digits in the fractional part (default is 52).\n",
    "    \n",
    "    Returns\n",
    "    -------\n",
    "    str\n",
    "        The binary representation of the input float.\n",
    "\n",
    "    \"\"\"\n",
    "    raise NotImplementedError\n",
    "\n",
    "# Example usage.\n",
    "# assert dec2bin(11.625, max_fractional_digits=10) == '1011.101'"
   ]
  },
  {
   "cell_type": "markdown",
   "id": "8da12dfa",
   "metadata": {},
   "source": [
    "### Solution"
   ]
  },
  {
   "cell_type": "code",
   "execution_count": 27,
   "id": "0c8d9ac6",
   "metadata": {},
   "outputs": [],
   "source": [
    "def dec2bin_integer(integer_part):\n",
    "    \"\"\"\n",
    "    Convert the integer part of a decimal number to its binary representation.\n",
    "    \n",
    "    Parameters\n",
    "    ----------\n",
    "    integer_part : int\n",
    "        The integer part of the decimal number.\n",
    "    \n",
    "    Returns\n",
    "    -------\n",
    "    str\n",
    "        The binary representation of the integer part.\n",
    "\n",
    "    \"\"\"\n",
    "    if integer_part == 0:\n",
    "        return \"0\"\n",
    "    \n",
    "    integer_binary = \"\"\n",
    "    while integer_part > 0:\n",
    "        integer_binary = str(integer_part % 2) + integer_binary\n",
    "        integer_part //= 2\n",
    "    \n",
    "    return integer_binary\n",
    "\n",
    "def dec2bin_fractional(fractional_part, max_fractional_digits=52):\n",
    "    \"\"\"\n",
    "    Convert the fractional part of a decimal number to its binary representation.\n",
    "    \n",
    "    Parameters\n",
    "    ----------\n",
    "    fractional_part : float\n",
    "        The fractional part of the decimal number.\n",
    "\n",
    "    max_fractional_digits : int, optional\n",
    "        The maximum number of digits in the fractional part (default is 52).\n",
    "    \n",
    "    Returns\n",
    "    -------\n",
    "    str\n",
    "        The binary representation of the fractional part.\n",
    "\n",
    "    \"\"\"\n",
    "    fractional_binary = []\n",
    "    while fractional_part and len(fractional_binary) < max_fractional_digits:\n",
    "        fractional_part *= 2\n",
    "        bit = int(fractional_part)\n",
    "        fractional_binary.append(str(bit))\n",
    "        fractional_part -= bit\n",
    "    \n",
    "    return \"\".join(fractional_binary)\n",
    "\n",
    "def dec2bin(num, max_fractional_digits=52):\n",
    "    \"\"\"\n",
    "    Convert a decimal float to its binary representation.\n",
    "    \n",
    "    Parameters\n",
    "    ----------\n",
    "    num : float\n",
    "        The decimal float to convert.\n",
    "\n",
    "    max_fractional_digits : int, optional\n",
    "        The maximum number of digits in the fractional part (default is 52).\n",
    "    \n",
    "    Returns\n",
    "    -------\n",
    "    str\n",
    "        The binary representation of the input float.\n",
    "\n",
    "    \"\"\"\n",
    "    if num == 0:\n",
    "        return \"0.0\"\n",
    "    \n",
    "    # Separate the integer and fractional parts.\n",
    "    integer_part = int(num)\n",
    "    fractional_part = num - integer_part\n",
    "    \n",
    "    # Convert integer and fractional parts to binary.\n",
    "    integer_binary = dec2bin_integer(integer_part)\n",
    "    fractional_binary = dec2bin_fractional(fractional_part, max_fractional_digits)\n",
    "    \n",
    "    return f\"{integer_binary}.{fractional_binary}\"\n",
    "\n",
    "# Example usage\n",
    "assert dec2bin(11.625, max_fractional_digits=10) == '1011.101'"
   ]
  },
  {
   "cell_type": "markdown",
   "id": "860c22ae",
   "metadata": {},
   "source": [
    "### Exercise 2\n",
    "\n",
    "Let's assume we have a machine (computer) that represents floating-point numbers using the following representation:\n",
    "\n",
    "$$x = \\pm(0.b_{1}b_{2}b_{3})_{2} \\times 2^{e}, \\quad b_{1}, b_{2}, b_{3}, e \\in \\{0, 1\\}$$\n",
    "\n",
    "1. How many machine numbers are there? What decimal values have those numbers?\n",
    "2. How do the machine numbers change if we enforce normalisation (e.g. $b_{1}=1$)?\n",
    "\n",
    "#### Solution"
   ]
  },
  {
   "cell_type": "code",
   "execution_count": 28,
   "id": "eb32dd55",
   "metadata": {},
   "outputs": [
    {
     "name": "stdout",
     "output_type": "stream",
     "text": [
      "Machine numbers: [0.0, 0.0, 0.25, 0.5, 0.5, 1.0, 0.75, 1.5, 1.0, 2.0, 1.25, 2.5, 1.5, 3.0, 1.75, 3.5, -0.0, -0.0, -0.25, -0.5, -0.5, -1.0, -0.75, -1.5, -1.0, -2.0, -1.25, -2.5, -1.5, -3.0, -1.75, -3.5]\n"
     ]
    }
   ],
   "source": [
    "import itertools\n",
    "\n",
    "def compute_decimal(s, b0, b1, b2, e):\n",
    "    mantissa = b0 * 2**0 + b1 * 2**-1 + b2 * 2**-2\n",
    "    return (-1)**s * mantissa * 2**e\n",
    "\n",
    "machine_numbers = [compute_decimal(*bits) for bits in itertools.product(*[(0, 1) for _ in range(5)])] \n",
    "print(f'Machine numbers: {machine_numbers}')"
   ]
  },
  {
   "cell_type": "markdown",
   "id": "a7ac4afe",
   "metadata": {},
   "source": [
    "We can see there are duplicates. Let us show and count only unique numbers:"
   ]
  },
  {
   "cell_type": "code",
   "execution_count": 29,
   "id": "1872de3e",
   "metadata": {},
   "outputs": [
    {
     "name": "stdout",
     "output_type": "stream",
     "text": [
      "Machine numbers: {0.0, 0.25, 0.75, 0.5, 1.0, 1.5, 2.0, 1.25, 2.5, 3.0, 1.75, 3.5, -0.25, -0.5, -0.75, -1.75, -3.5, -1.0, -2.5, -1.5, -3.0, -2.0, -1.25}\n",
      "Number of machine numbers: 23\n"
     ]
    }
   ],
   "source": [
    "machine_numbers = set(machine_numbers)\n",
    "print(f'Machine numbers: {machine_numbers}')\n",
    "print(f'Number of machine numbers: {len(machine_numbers)}')"
   ]
  },
  {
   "cell_type": "code",
   "execution_count": 30,
   "id": "a953447d",
   "metadata": {},
   "outputs": [
    {
     "name": "stdout",
     "output_type": "stream",
     "text": [
      "Machine numbers: {1.0, 2.0, 2.5, 1.25, 1.5, 3.0, 1.75, 3.5, -1.75, -3.5, -2.0, -2.5, -1.5, -3.0, -1.0, -1.25}\n",
      "Number of machine numbers: 16\n"
     ]
    }
   ],
   "source": [
    "def compute_decimal_normalised(s, b1, b2, e):\n",
    "    mantissa = 1 * 2**0 + b1 * 2**-1 + b2 * 2**-2\n",
    "    return (-1)**s * mantissa * 2**e\n",
    "\n",
    "machine_numbers = [compute_decimal_normalised(*bits) for bits in itertools.product(*[(0, 1) for _ in range(4)])] \n",
    "\n",
    "machine_numbers = set(machine_numbers)\n",
    "print(f'Machine numbers: {machine_numbers}')\n",
    "print(f'Number of machine numbers: {len(machine_numbers)}')"
   ]
  },
  {
   "cell_type": "markdown",
   "id": "3a9f3e4e",
   "metadata": {},
   "source": [
    "### Exercise 3\n",
    "\n",
    "What is the machine representation of the decimal number -24.98746 in both single and double precision? What are those 32 and 64 bits, respectively?"
   ]
  },
  {
   "cell_type": "markdown",
   "id": "68a422c0",
   "metadata": {},
   "source": [
    "#### Solution\n",
    "\n",
    "We need to determine:\n",
    "* sign\n",
    "* mantissa\n",
    "* exponent\n",
    "\n",
    "1. **Single precision**\n",
    "\n",
    "The formula is:\n",
    "\n",
    "$$x = (-1)^{s} \\times (1.f)_{2} \\times 2^{e-127}$$\n",
    "\n",
    "The number -24.98746 is negative. Therefore, the sign bit $s$ is 1, so that $(-1)^{s} = -1$.\n",
    "\n",
    "In the next step, we convert the number to its binary representation. For that, we can use `dec2bin` function:"
   ]
  },
  {
   "cell_type": "code",
   "execution_count": 31,
   "id": "99d59c17",
   "metadata": {},
   "outputs": [
    {
     "data": {
      "text/plain": [
       "'11000.111111001100101000101101101101'"
      ]
     },
     "execution_count": 31,
     "metadata": {},
     "output_type": "execute_result"
    }
   ],
   "source": [
    "dec2bin(24.98746, max_fractional_digits=30)"
   ]
  },
  {
   "cell_type": "markdown",
   "id": "fc72f517",
   "metadata": {},
   "source": [
    "The binary number is not normalised (normalised binary number is in `1.xxxxx` form). Therefore, we shift the (radix) point 4 times to the left and the number we get is:\n",
    "\n",
    "$$1.1000111111001100101000101101101101 \\times 2^{4}$$\n",
    "\n",
    "If we compare this number to the formula for single precision:\n",
    "\n",
    "$$x = (-1)^{s} \\times (1.f)_{2} \\times 2^{e-127}$$\n",
    "\n",
    "we can see that:\n",
    "\n",
    "$$2^{e-127} = 2^{4} \\rightarrow e-127 = 4 \\rightarrow e = 131$$\n",
    "\n",
    "Now, we need to convert $131$ to its binary form to be able to place it computer memory:"
   ]
  },
  {
   "cell_type": "code",
   "execution_count": 32,
   "id": "56635a7e",
   "metadata": {},
   "outputs": [
    {
     "data": {
      "text/plain": [
       "'10000011'"
      ]
     },
     "execution_count": 32,
     "metadata": {},
     "output_type": "execute_result"
    }
   ],
   "source": [
    "dec2bin_integer(131)"
   ]
  },
  {
   "cell_type": "markdown",
   "id": "27c784f4",
   "metadata": {},
   "source": [
    "Finally, we select 23 bits after `1.` to save as the mantissa: `10001111110011001010001`.\n",
    "\n",
    "And that's it :) Single precision representation of out number is sign + exponent + mantissa:\n",
    "\n",
    "`11000001110001111110011001010001`"
   ]
  },
  {
   "cell_type": "code",
   "execution_count": 33,
   "id": "c592e689",
   "metadata": {},
   "outputs": [
    {
     "name": "stdout",
     "output_type": "stream",
     "text": [
      "11000001110001111110011001010001\n"
     ]
    }
   ],
   "source": [
    "sign = '1'\n",
    "exponent = '10000011'\n",
    "mantissa = '10001111110011001010001'\n",
    "\n",
    "single_precision = sign + exponent + mantissa\n",
    "print(single_precision)"
   ]
  },
  {
   "cell_type": "markdown",
   "id": "2e564a72",
   "metadata": {},
   "source": [
    "I will let you do the double precision representation. The process is the same, and the final solution is:\n",
    "\n",
    "`1100000000111000111111001100101000101101101101100001101110110000`\n",
    "\n",
    "**Hint:** You may find this online tools helpful:\n",
    "* https://www.h-schmidt.net/FloatConverter/IEEE754.html\n",
    "* https://babbage.cs.qc.cuny.edu/ieee-754.old/decimal.html"
   ]
  },
  {
   "cell_type": "markdown",
   "id": "65caeffb",
   "metadata": {},
   "source": [
    "### Exercise 4\n",
    "\n",
    "What decimal floating-point number corresponds to $(1 01010111 10011010001001000110100)_2$ according to IEEE-754?"
   ]
  },
  {
   "cell_type": "markdown",
   "id": "7f2db691",
   "metadata": {},
   "source": [
    "#### Solution"
   ]
  },
  {
   "cell_type": "markdown",
   "id": "43ccad7f",
   "metadata": {},
   "source": [
    "This number in binary is: `1 01010111 10011010001001000110100`\n",
    "\n",
    "* The first bit (`1`) is the sign: $s = 1$\n",
    "* Bits 2-9 (`01010111`) are the exponent: $e = 87$\n",
    "* Remaining 23 bits (`10011010001001000110100`) are part of the mantissa: $m = (1.10011010001001000110100)_{2} = (1.60211801528930664063)_{10}$\n",
    "\n",
    "Finally, the number we are looking for is:\n",
    "\n",
    "$(-1)^{s} \\times m \\times 2^{e-127}$"
   ]
  },
  {
   "cell_type": "code",
   "execution_count": 34,
   "id": "12189d2c",
   "metadata": {},
   "outputs": [
    {
     "name": "stdout",
     "output_type": "stream",
     "text": [
      "x = -1.4571178465205836e-12.\n"
     ]
    }
   ],
   "source": [
    "s = 1\n",
    "e = 87\n",
    "m = 1.60211801528930664063\n",
    "\n",
    "x = (-1)**s * m * 2**(e-127)\n",
    "print(f'{x = }.')"
   ]
  },
  {
   "cell_type": "markdown",
   "id": "cabba2f0",
   "metadata": {
    "slideshow": {
     "slide_type": "slide"
    }
   },
   "source": [
    "## Further Reading\n",
    "\n",
    "* IEEE ComputerSociety. [IEEE Standard for Floating-Point Arithmetic](https://standards.ieee.org/standard/754-2019.html) (2019)\n",
    "* D. Goldberg. [What every computer scientist should know about floating-point arithmetic](https://doi.org/10.1145/103162.103163). *ACM Computing Surveys* **23**, 5–48. (1991)\n",
    "* M. L. Overton. [Numerical Computing with IEEE Floating Point Arithmetic](https://doi.org/10.1137/1.9780898718072). *Society for Industrial and Applied Mathematics*. (2001)\n",
    "* R. Burden, J. Faires, A. M. Burden. Numerical Analysis. Brooks Cole, 10th edition (2015)."
   ]
  }
 ],
 "metadata": {
  "kernelspec": {
   "display_name": "Python 3 (ipykernel)",
   "language": "python",
   "name": "python3"
  },
  "language_info": {
   "codemirror_mode": {
    "name": "ipython",
    "version": 3
   },
   "file_extension": ".py",
   "mimetype": "text/x-python",
   "name": "python",
   "nbconvert_exporter": "python",
   "pygments_lexer": "ipython3",
   "version": "3.10.0"
  }
 },
 "nbformat": 4,
 "nbformat_minor": 5
}
