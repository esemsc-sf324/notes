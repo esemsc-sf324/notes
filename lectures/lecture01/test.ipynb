{
 "cells": [
  {
   "cell_type": "code",
   "execution_count": 36,
   "metadata": {},
   "outputs": [
    {
     "data": {
      "text/plain": [
       "<module 'notebook_helpers' from '/Users/sf324/numerical-programming-in-python/lectures/lecture01/notebook_helpers.py'>"
      ]
     },
     "execution_count": 36,
     "metadata": {},
     "output_type": "execute_result"
    }
   ],
   "source": [
    "import notebook_helpers\n",
    "import importlib\n",
    "importlib.reload(notebook_helpers)"
   ]
  },
  {
   "cell_type": "code",
   "execution_count": 37,
   "metadata": {},
   "outputs": [
    {
     "data": {
      "application/vnd.jupyter.widget-view+json": {
       "model_id": "075db2fe8c16492b8eda335ade140c04",
       "version_major": 2,
       "version_minor": 0
      },
      "text/plain": [
       "Textarea(value='', description='📝 笔记:', layout=Layout(height='100px', width='500px'), placeholder='请输入笔记内容')"
      ]
     },
     "metadata": {},
     "output_type": "display_data"
    },
    {
     "data": {
      "application/vnd.jupyter.widget-view+json": {
       "model_id": "bf1b00e873444391b5b13e5df7dc3dad",
       "version_major": 2,
       "version_minor": 0
      },
      "text/plain": [
       "Button(description='保存笔记', style=ButtonStyle())"
      ]
     },
     "metadata": {},
     "output_type": "display_data"
    },
    {
     "data": {
      "text/markdown": [
       "## 📝 Note:<br>1111"
      ],
      "text/plain": [
       "<IPython.core.display.Markdown object>"
      ]
     },
     "metadata": {},
     "output_type": "display_data"
    },
    {
     "data": {
      "text/markdown": [
       "笔记已保存为文件: notes/note_1.md"
      ],
      "text/plain": [
       "<IPython.core.display.Markdown object>"
      ]
     },
     "metadata": {},
     "output_type": "display_data"
    }
   ],
   "source": [
    "import notebook_helpers as nh\n",
    "nh.create_note()"
   ]
  },
  {
   "cell_type": "code",
   "execution_count": 29,
   "metadata": {},
   "outputs": [
    {
     "ename": "TypeError",
     "evalue": "create_note() takes 0 positional arguments but 1 was given",
     "output_type": "error",
     "traceback": [
      "\u001b[0;31m---------------------------------------------------------------------------\u001b[0m",
      "\u001b[0;31mTypeError\u001b[0m                                 Traceback (most recent call last)",
      "Cell \u001b[0;32mIn[29], line 1\u001b[0m\n\u001b[0;32m----> 1\u001b[0m nh\u001b[38;5;241m.\u001b[39mcreate_note(\u001b[38;5;124m\"\u001b[39m\u001b[38;5;124m111 \u001b[39m\u001b[38;5;130;01m\\n\u001b[39;00m\u001b[38;5;124m 222\u001b[39m\u001b[38;5;124m\"\u001b[39m)\n",
      "\u001b[0;31mTypeError\u001b[0m: create_note() takes 0 positional arguments but 1 was given"
     ]
    }
   ],
   "source": [
    "nh.create_note(\"111 \\n 222\")"
   ]
  },
  {
   "cell_type": "code",
   "execution_count": 9,
   "metadata": {},
   "outputs": [
    {
     "data": {
      "application/javascript": "\n    var cell = Jupyter.notebook.insert_cell_below('markdown');\n    cell.set_text(\"## 这是一个测试单元格\");\n    Jupyter.notebook.execute_cells([Jupyter.notebook.get_selected_index()+1]);\n",
      "text/plain": [
       "<IPython.core.display.Javascript object>"
      ]
     },
     "metadata": {},
     "output_type": "display_data"
    }
   ],
   "source": [
    "from IPython.display import Javascript\n",
    "\n",
    "display(Javascript('''\n",
    "    var cell = Jupyter.notebook.insert_cell_below('markdown');\n",
    "    cell.set_text(\"## 这是一个测试单元格\");\n",
    "    Jupyter.notebook.execute_cells([Jupyter.notebook.get_selected_index()+1]);\n",
    "'''))"
   ]
  },
  {
   "cell_type": "markdown",
   "metadata": {},
   "source": []
  },
  {
   "cell_type": "code",
   "execution_count": null,
   "metadata": {},
   "outputs": [],
   "source": []
  }
 ],
 "metadata": {
  "kernelspec": {
   "display_name": "npp2024",
   "language": "python",
   "name": "python3"
  },
  "language_info": {
   "codemirror_mode": {
    "name": "ipython",
    "version": 3
   },
   "file_extension": ".py",
   "mimetype": "text/x-python",
   "name": "python",
   "nbconvert_exporter": "python",
   "pygments_lexer": "ipython3",
   "version": "3.12.6"
  }
 },
 "nbformat": 4,
 "nbformat_minor": 2
}
