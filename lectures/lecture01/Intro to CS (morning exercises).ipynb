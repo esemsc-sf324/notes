{
 "cells": [
  {
   "cell_type": "markdown",
   "id": "768204d9",
   "metadata": {},
   "source": [
    "# Introduction to Computer Science\n",
    "\n",
    "## Core exercises\n",
    "\n",
    "This notebook contains exercises for the Intro to CS morning lecture. Example solutions & discussion will be released the day after the lecture."
   ]
  },
  {
   "cell_type": "markdown",
   "id": "01e64cd6",
   "metadata": {},
   "source": [
    "### Python \"coding Katas\"\n",
    "\n",
    "A code kata is a short, well defined programming exercise you can undertake to practice your skills and learn through repetition and immersion.\n",
    "\n",
    "Lists of exercises exist across the internet, e.g.:\n",
    "\n",
    "- <https://github.com/gamontal/awesome-katas>\n",
    "- <https://www.codewars.com/collections/easy-python-katas>\n",
    "- <https://umuzi-org.github.io/tech-department/projects/basic-flow-control-katas/>\n",
    "\n",
    "We've picked out some standard problems to try, some of which occassionally form the basis of coding questions used in programming job interviews. Feel free to work by yourself, or together in a small group, and don't be afraid to ask for help if you get stuck. GTAs and members of staff will be available in the room.\n",
    "\n",
    "#### Fizz buzz\n",
    "\n",
    "[Fizz buzz](https://en.wikipedia.org/wiki/Fizz_buzz)\n",
    "\n",
    "is a children's game in which players take turns to count upwards from 1, each saying the next number in turn. Whenever the number divides exactly by 3 it is replaced with 'Fizz', and whenever it divides by 5 it is replaced with 'Buzz'. Numbers which divide by both (e.g. 15) are replaced with 'Fizz Buzz'.\n",
    "\n",
    "Your job is to write a python function which takes one input, $n$, and return the results up to that number. So `fizzbuzz(30)` should return `1, 2, Fizz, 4, Buzz, Fizz, 7, 8, Fizz, Buzz, 11, Fizz, 13, 14, Fizz Buzz, 16, 17, Fizz, 19, Buzz, Fizz, 22, 23, Fizz, Buzz, 26, Fizz, 28, 29, Fizz Buzz,`.\n",
    "\n",
    "\n",
    "##### _a hint_\n",
    "\n",
    "You'll need to loop through the numbers, and check whether they divide by 3 or 5, then decide what to do based on that information."
   ]
  },
  {
   "cell_type": "code",
   "execution_count": null,
   "id": "dda56d34",
   "metadata": {},
   "outputs": [],
   "source": [
    "def fizz_buzz(n):\n",
    "    # write your code here"
   ]
  },
  {
   "cell_type": "markdown",
   "id": "4e6f7a6f",
   "metadata": {},
   "source": [
    "#### Anagram checker\n",
    "\n",
    "An [anagram](https://en.wikipedia.org/wiki/Anagram) is a word or phrase formed by rearranging the letters of an input word (or) phase into a new one.\n",
    "\n",
    "For example, `carthorse` is an anagram of `orchestra` and `a decimal point` is an anagram of `I'm a dot in place`.\n",
    "\n",
    "Your job is to write a function which takes two inputs and checks if they are anagrams. As in the examples above, it should ideally ignore punctuation and whitespace, as well as case, i.e. whether letters are in capitals (`A`) or small letters (`a`).\n",
    "\n",
    "##### _a hint_\n",
    "\n",
    "This problem can be approached a number of ways, but you may find the string methods (e.g. `\"AbC\".lower()`) or the contents of the built in `string` module useful."
   ]
  },
  {
   "cell_type": "code",
   "execution_count": null,
   "id": "4eb695b7",
   "metadata": {},
   "outputs": [],
   "source": [
    "def anagram_checker(word1, word2):\n",
    "    # write your code here"
   ]
  },
  {
   "cell_type": "markdown",
   "id": "b886a3a1",
   "metadata": {},
   "source": [
    "#### (Hard) Making a number dictionary\n",
    "\n",
    "Write a routine to sort a list of positive Python `int` numbers into their  _dictionary_ (i.e. word list) order, based on their english language name. In this list the number 3 comes before 2, since `three` comes earlier than `two` in the English dictionary.\n",
    "\n",
    "\n",
    "##### _a hint_ \n",
    "\n",
    "A reasonable solution for small numbers (up to about 20) is to precalculate the order of the numbers.\n",
    "\n",
    "An intermediate solution will have a mapping from the numbers to their word forms, and use Python to calcualte the alphabetical order. This will again only work for a fairly low maximum magnitude number.\n",
    "\n",
    "An advanced solution will build up the word form of the number from its component parts (e.g. `twenty three thousand four hundred and seven`), then let Python do the ordering again."
   ]
  },
  {
   "cell_type": "code",
   "execution_count": null,
   "id": "edcdab19",
   "metadata": {},
   "outputs": [],
   "source": [
    "def dictionary_order(int_list):\n",
    "    # Write your code here"
   ]
  },
  {
   "cell_type": "markdown",
   "id": "a9b360cc",
   "metadata": {},
   "source": [
    "### Leveraging the Python standard libraries, part one:\n",
    "\n",
    "Tomorrow you will see the Python package Pandas, which can help to solve many problems involving structured data, however for now, let's see what we can do using modules from the Python standard library:\n",
    "\n",
    "The file `data/set1.csv` contains a short dataset containing the heights and weights of a group of people. Try to use the `csv.reader` function to access the data and to calculate the following:\n",
    "\n",
    "1. Each person's [Body Mass Index](https://en.wikipedia.org/wiki/Body_mass_index) (BMI). The mathematical formula for this is\n",
    "    $$ \\frac{\\textrm{weight in kg}}{\\textrm{height in m}^2}.$$\n",
    "2. The mean of the BMIs for the group.\n",
    "3. The mean of the heights for the group.\n",
    "4. The mean of the weights for the group.\n",
    "5. The function\n",
    "   $$ \\frac{\\textrm{mean weight}}{\\textrm{mean height}^2}.$$\n",
    "\n",
    "Try to only `import` modules from [the standard library](https://docs.python.org/3/library/). You may find the `statistics` module particularly useful.\n",
    "\n",
    "#### Other things to try\n",
    "\n",
    "- Try replacing the mean with other forms of average. Which ones make the results of (2.) and (5.) most different\n",
    "- (Hard) The file `data/set2.csv` is a less clean set of data, more like what we get in real life. Can you extend your code to deal with it?"
   ]
  },
  {
   "cell_type": "code",
   "execution_count": null,
   "id": "c95b169c",
   "metadata": {},
   "outputs": [],
   "source": [
    "### Write your code here"
   ]
  },
  {
   "cell_type": "markdown",
   "id": "4cf5dfc2",
   "metadata": {},
   "source": [
    "#### (harder) Leveraging the Python standard libraries, part two:\n",
    "\n",
    "Try to write some code to do the following:\n",
    "- If the the file `text.txt` exists, delete it\n",
    "- Otherwise, create a new `text.txt` file and write the current time to it:\n",
    "\n",
    "_hints_:\n",
    "- The [`os` module]() has a function to delete (\"remove\") files. Watch out, this doesn't double check. \n",
    "- The [`os.path` module]() provides a function to test whether a path to a file or folder exists \n",
    "- The function `datetime.datetime.now()` in the [`datetime` module]() returns a printable datetime object."
   ]
  },
  {
   "cell_type": "code",
   "execution_count": null,
   "id": "39cd237f",
   "metadata": {},
   "outputs": [],
   "source": [
    "import datetime\n",
    "import time\n",
    "\n",
    "print(datetime.datetime.now())\n",
    "print(time.strftime(\"%H:%M\", time.localtime()))"
   ]
  },
  {
   "cell_type": "markdown",
   "id": "f3365266",
   "metadata": {},
   "source": [
    "**Other things to try**\n",
    "\n",
    "- Can you copy the file instead of deleting it?"
   ]
  },
  {
   "cell_type": "code",
   "execution_count": null,
   "id": "f31e0e64",
   "metadata": {},
   "outputs": [],
   "source": [
    "import datetime\n",
    "import os"
   ]
  },
  {
   "cell_type": "code",
   "execution_count": null,
   "id": "bf3149dd",
   "metadata": {},
   "outputs": [],
   "source": [
    "def clear_or_save(filename):\n",
    "    # Write your code here"
   ]
  }
 ],
 "metadata": {
  "kernelspec": {
   "display_name": "Python 3 (ipykernel)",
   "language": "python",
   "name": "python3"
  },
  "language_info": {
   "codemirror_mode": {
    "name": "ipython",
    "version": 3
   },
   "file_extension": ".py",
   "mimetype": "text/x-python",
   "name": "python",
   "nbconvert_exporter": "python",
   "pygments_lexer": "ipython3",
   "version": "3.10.2"
  }
 },
 "nbformat": 4,
 "nbformat_minor": 5
}
