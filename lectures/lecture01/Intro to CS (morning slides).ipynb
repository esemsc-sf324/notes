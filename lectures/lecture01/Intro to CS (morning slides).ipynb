{
 "cells": [
  {
   "cell_type": "markdown",
   "id": "e8b53282",
   "metadata": {
    "slideshow": {
     "slide_type": "slide"
    }
   },
   "source": [
    "# EART70159 - Numerical Programming in Python\n",
    "## Lecture 1\n",
    "## An Introduction to Computer Science with Python\n",
    "\n",
    "_Or: all the CS you probably need to know._"
   ]
  },
  {
   "cell_type": "markdown",
   "id": "2ea1d044",
   "metadata": {
    "slideshow": {
     "slide_type": "slide"
    }
   },
   "source": [
    "# Who are we?\n",
    "\n",
    "Dr. James Percival (_module leader_)\n",
    "\n",
    "<div style=\"float:left;height:30%;\">\n",
    "<img src=images/JamesHeadshot.jpg></div>\n",
    "\n",
    "- Masters in Mathematics\n",
    "- PhD in Mathematics & Meterology\n",
    "- PGT Senior Tutor in ESE\n",
    "- Worked with Python for ~15 years"
   ]
  },
  {
   "cell_type": "markdown",
   "id": "2c2a7448",
   "metadata": {
    "slideshow": {
     "slide_type": "subslide"
    }
   },
   "source": [
    "- Research interests in Computational Fluids across scales:\n",
    "    - Turbulence\n",
    "    - Computational meshs\n",
    "    - Environmental\n",
    "    - System microphysics parameterizations\n",
    "- Knows very little about geology"
   ]
  },
  {
   "cell_type": "markdown",
   "id": "05909ce1",
   "metadata": {
    "slideshow": {
     "slide_type": "subslide"
    }
   },
   "source": [
    "# Contact details\n",
    "\n",
    "- E-mail: j.percival@imperial.ac.uk\n",
    "- Teams: @Percival, James R.\n",
    "- Phone: +44 20 7594 1592\n",
    "- Room: 4.94 RSM"
   ]
  },
  {
   "cell_type": "markdown",
   "id": "fcf6e02b",
   "metadata": {
    "slideshow": {
     "slide_type": "subslide"
    }
   },
   "source": [
    "Also teaching on the course:\n",
    "\n",
    "<table\n",
    "  <tr>\n",
    "    <td> <img style=\"height:400px\" src=\"./images/MarijanHeadshot.jpg\"> </td>\n",
    "    <td> <img style=\"height:400px\" src=\"./images/RhodriHeadshot.jpg\"> </td>\n",
    "    <td> <img style=\"height:400px\" src=\"./images/TomHeadshot.jpg\"> </td>\n",
    "  </tr><tr>\n",
    "     <th>Dr. Marijan Beg</th>\n",
    "    <th>Dr. Rhodri Nelson</th>\n",
    "    <th>Dr. Thomas Davison</th>\n",
    "   </tr>\n",
    "   </table>"
   ]
  },
  {
   "cell_type": "markdown",
   "id": "2b2561bf",
   "metadata": {
    "slideshow": {
     "slide_type": "slide"
    }
   },
   "source": [
    "# Now, who are you?\n",
    "\n",
    "We already know you're a mix of mathematics, engineers & scientists interested in data science. Now let's dig a bit deeper.\n",
    "\n",
    "Over to Mentimeter again ..."
   ]
  },
  {
   "cell_type": "markdown",
   "id": "3e150cf3",
   "metadata": {
    "slideshow": {
     "slide_type": "subslide"
    }
   },
   "source": [
    "<div style=\"float:left;\">\n",
    "<img width=650px src=./images/menti1.png>\n",
    "</div>\n",
    "\n",
    "Or on a laptop:\n",
    "- go to www.menti.com \n",
    "- use the code **5743 0339**."
   ]
  },
  {
   "cell_type": "markdown",
   "id": "d293b97b",
   "metadata": {
    "slideshow": {
     "slide_type": "slide"
    }
   },
   "source": [
    "# How to take part\n",
    "- Make sure you've accepted our GitHub invitation to `ese-ada-lovelace-2024`\n",
    "- If you haven't done it already, follow the [laptop setup](https://github.com/ese-ada-lovelace-2024/laptop-setup) instructions\n",
    "- If on Windows, start `wsl`\n",
    "- Download the [class repository](https://github.com/ese-ada-lovelace-2024/numerical-programming-in-python)\n",
    "   - setup a classic [github PAT](https://docs.github.com/en/authentication/keeping-your-account-and-data-secure/managing-your-personal-access-tokens) (or an [ssh key](https://docs.github.com/en/authentication/connecting-to-github-with-ssh/adding-a-new-ssh-key-to-your-github-account))\n",
    "   - `git clone https://github.com/ese-ada-lovelace-2024/numerical-programming-in-python`\n",
    "   - if you've already cloned the repo, then run `git pull` for updates"
   ]
  },
  {
   "cell_type": "markdown",
   "id": "77c89d37",
   "metadata": {
    "slideshow": {
     "slide_type": "subslide"
    }
   },
   "source": [
    "You can view material in Jupyter or in VS code.\n",
    "For Jupyter:\n",
    "- `conda activate npp2024`\n",
    "- `jupyter nbclassic` then navigate to the lecture/exercise\n",
    "\n",
    "For VS code:\n",
    "- Open VS code (can use `code .` in a terminal)\n",
    "- Make sure Python extenison is enabled\n",
    "- Open the relevant notebook file\n",
    "- Check you have the correct Python interpreter"
   ]
  },
  {
   "cell_type": "markdown",
   "id": "b78ccf93",
   "metadata": {
    "slideshow": {
     "slide_type": "slide"
    }
   },
   "source": [
    "### Week 1\n",
    "\n",
    "<div style height=95%>\n",
    "    \n",
    "||Monday 7th |Tuesday 8th |Wednesday 9th|Thusday 10th|Friday 11th|\n",
    "|---|---|---|---|---|---|\n",
    "||**Intro to CS**| **Pandas**| **Debugging**| **Data Structures**| <font color=red>_no lecture_</font>|\n",
    "|**9:00-10:00 am**| Lecturing | Lecturing | Lecturing | Lecturing| Self Study/TAs |\n",
    "|**10:00-11:00 am**| <font color=\"blue\">_Exercises_</font> | <font color=\"blue\">_Exercises_</font> | Lecturing | <font color=\"blue\">_Exercises_</font> | Self Study/TAs |\n",
    "|**11:00 am-12:00pm**| Lecturing |Lecturing | Lecturing | Lecturing| Self Study/TAs|\n",
    "|12:00 -2:00pm| _Lunch/self-study_| _Lunch/self-study_| _Lunch/self-study_| _Lunch/self-study_| _Lunch/self-study_|\n",
    "|**2:00-3:00 pm**| Lecturing| Lecturing/**assessment release**  | Self-study/societies | Lecturing|Self Study/TAs|\n",
    "|**3:00-4:00 pm**| <font color=\"blue\">_Exercises_</font> | <font color=\"blue\">_Exercises_</font> | Self-study/societies | <font color=\"blue\">_Exercises_</font> | Self Study/TAs |\n",
    "|**4:00-5:00 pm**| <font color=\"blue\">_Exercises_</font>| <font color=\"blue\">_Exercises_</font> | Self-study/societies | <font color=\"blue\">_Exercises_</font> | **Assessment deadline 4.30pm** |\n",
    "    \n",
    "<div>"
   ]
  },
  {
   "cell_type": "markdown",
   "id": "e902ac5e",
   "metadata": {
    "slideshow": {
     "slide_type": "subslide"
    }
   },
   "source": [
    "### Week 2\n",
    "<div style height=95%>\n",
    "    \n",
    "||Monday 14th|Tuesday 15th|Wednesday 16th|Thusday 17th|Friday 18th|\n",
    "|---|---|---|---|---|---|\n",
    "||**Python Scripts & Modules**| **Profiling & Algorithms**| <font color=red>_no lecture_</font>| **Scipy**| **Software engineering**| \n",
    "|**9:00 am**| Lecturing | Lecturing | Self Study/TAs | Lecturing| Lecturing|\n",
    "|**10:00 am**| <font color=\"blue\">_Exercises_</font> | <font color=\"blue\">_Exercises_</font> | Self Study/TAs | <font color=\"blue\">_Exercises_</font> | Lecturing |\n",
    "|**11:00 am**| Lecturing |Lecturing | Self Study/TAs | Lecturing | Lecturing |\n",
    "|12:00 -2pm| _Lunch/self-study_| _Lunch/self-study_| _Lunch/self-study_| _Lunch/self-study_| _Lunch/self-study_|\n",
    "|**2:00 pm**| Lecturing | **Lecturing/Assessment release** | Self-study/societies | Lecturing| Self Study/TAs|\n",
    "|**3:00 pm**| <font color=\"blue\">_Exercises_</font> | <font color=\"blue\">_Exercises_</font> | Self-study/societies | <font color=\"blue\">_Exercises_</font> | Self Study/TAs |\n",
    "|**4:00 pm**| <font color=\"blue\">_Exercises_</font> | <font color=\"blue\">_Exercises_</font> | Self-study/societies | <font color=\"blue\">_Exercises_</font> | **Assessment deadline 4.30pm** |\n",
    "    \n",
    "</div>"
   ]
  },
  {
   "cell_type": "markdown",
   "id": "73f13cb3",
   "metadata": {
    "slideshow": {
     "slide_type": "slide"
    }
   },
   "source": [
    "## How do sessions run?\n",
    "\n",
    "- Lectures present material and experience on a given theme\n",
    "- Not all material may make sense to everyone immediately\n",
    "  - **_Don't Panic_**!\n",
    "  - Lectures are recorded\n",
    "  - We'll give you pointers to additional material\n",
    "- Exercises allow you to practice & increase your own understanding\n",
    "- Python is a *language*, you learn by using it."
   ]
  },
  {
   "cell_type": "markdown",
   "id": "d1d75e62",
   "metadata": {
    "slideshow": {
     "slide_type": "subslide"
    }
   },
   "source": [
    "## How do Exercises run?\n",
    "How you want them to!\n",
    "- GTAs & staff are around to talk about problems, answers or strategies.\n",
    "- You're strongly encouraged to work on classwork (not exercises) with those around you\n",
    "- Practice time is important, don't skip it!\n",
    "\n",
    "Also have a new searchable \"Jupyter book\":\n",
    "- https://github.com/ese-ada-lovelace-2024/programming-book\n",
    "- Still under construction"
   ]
  },
  {
   "cell_type": "markdown",
   "id": "1d3537b2",
   "metadata": {
    "slideshow": {
     "slide_type": "slide"
    }
   },
   "source": [
    "# What are we teaching you?\n",
    "\n",
    "- To write, debug and test Python code.\n",
    "\n",
    "## Why teach in Python?\n",
    "\n",
    "- Snakes are cool (& so is Monty Python).\n",
    "- Language is both popular & in demand.\n",
    "- General purpose interpretted programming language.\n",
    "- Competes with R in the Data Science space.\n",
    "- Large library of Machine/Deep learning packages."
   ]
  },
  {
   "cell_type": "markdown",
   "id": "5f03c81d",
   "metadata": {
    "slideshow": {
     "slide_type": "slide"
    }
   },
   "source": [
    "# What are we not teaching you?\n",
    "\n",
    "This is not simply a Python introduction\n",
    "  -  see the presessional material for that:\n",
    "   - [Python exercises](https://github.com/ese-msc/introduction-to-python)\n",
    "   - Additional Python reading for [EDSML](https://ese-msc.github.io/preinduction/edsml/notebooks/python.html) and [GEMS](https://ese-msc.github.io/preinduction/gems/notebooks/python.html )\n",
    "   \n",
    "This is also not a full course in software development.\n",
    "  - ACSE slides/recordings for Modern Programming Methods will be made available to you."
   ]
  },
  {
   "cell_type": "markdown",
   "id": "fc6f899d",
   "metadata": {
    "slideshow": {
     "slide_type": "subslide"
    }
   },
   "source": [
    "This is not a course on AI-assisted coding:\n",
    "   - You are welcome to use AI tools to explain things to yourself.\n",
    "   - You can use them to get ideas (sign up to the [GitHub student developer pack](https://education.github.com/pack) for free access to GitHub copilot).\n",
    "   - You can use them during classroom exercises.\n",
    "   - If you just copy-paste AI generated code into assessments (and we find out) you risk getting a failing grade.\n",
    "   - Reference AI tools used during assessed work (more info later)."
   ]
  },
  {
   "cell_type": "markdown",
   "id": "e9a09707",
   "metadata": {
    "slideshow": {
     "slide_type": "subslide"
    }
   },
   "source": [
    "# Why Python?\n",
    "## Popular to learn\n",
    "\n",
    "<a href=\"https://www.statista.com/chart/21017/most-popular-programming-languages/\" title=\"Infographic: Python Remains Most Popular Programming Language | Statista\"><img src=\"https://cdn.statcdn.com/Infographic/images/normal/21017.jpeg\" alt=\"Infographic: Python Remains Most Popular Programming Language | Statista\" width=\"auto\" height=\"60%\" style=\"width: auto%; height: 60% !important; max-height:500px; max-width:960px;-ms-interpolation-mode: bicubic;\"/>\n",
    "\n",
    "<a href=https://www.statista.com/chart/21017/most-popular-programming-languages>source</a>"
   ]
  },
  {
   "cell_type": "markdown",
   "id": "465620bd",
   "metadata": {
    "slideshow": {
     "slide_type": "subslide"
    }
   },
   "source": [
    "## Popular to use\n",
    "\n",
    "In general\n",
    "\n",
    "<a href=\"https://www.statista.com/statistics/793628/worldwide-developer-survey-most-used-languages/\" rel=\"nofollow\"><img src=\"https://www.statista.com/graphic/1/793628/worldwide-developer-survey-most-used-languages.jpg\" alt=\"Statistic: Most used programming languages among developers worldwide as of 2022 | Statista\" style=\"width: auto%; height: 60% !important; max-height:500px;-ms-interpolation-mode: bicubic;\"/></a><br />  <a href=\"https://www.statista.com\" rel=\"nofollow\">Source</a>"
   ]
  },
  {
   "cell_type": "markdown",
   "id": "49d93319",
   "metadata": {
    "slideshow": {
     "slide_type": "subslide"
    }
   },
   "source": [
    "By data scientists\n",
    "\n",
    "<img src=https://res.cloudinary.com/dyd911kmh/image/upload/v1642759712/image2_m8wk5a.png style=\"width: auto%; height: 60% !important; max-height:500px;-ms-interpolation-mode: bicubic;\"/> <a href=https://datacamp.com/blog/top-programming-languages-for-data-scientists-in-2022> Source</a>"
   ]
  },
  {
   "cell_type": "markdown",
   "id": "05a4f79f",
   "metadata": {
    "slideshow": {
     "slide_type": "subslide"
    }
   },
   "source": [
    "## Popular in employment\n",
    "\n",
    "<img src=images/Python_jobs.jpeg style=\"width: auto%; height: 60% !important; max-height:500px;-ms-interpolation-mode: bicubic;\"/> <a href=https://www.itjobswatch.co.uk/IT-Job-Market/UK/Programming-Languages> Source</a>"
   ]
  },
  {
   "cell_type": "markdown",
   "id": "db3f93ad",
   "metadata": {
    "slideshow": {
     "slide_type": "slide"
    }
   },
   "source": [
    "## Why learn in Python?\n",
    "\n",
    "- Easy to do simple things.\n",
    "- Python does a lot of the hard work for you.\n",
    "- Generally not too hard to do more complex things.\n",
    "- Possible (not always easy) to do really complex things"
   ]
  },
  {
   "cell_type": "markdown",
   "id": "5cba6308",
   "metadata": {
    "slideshow": {
     "slide_type": "subslide"
    }
   },
   "source": [
    "A _Hello World!_ program in Python."
   ]
  },
  {
   "cell_type": "code",
   "execution_count": null,
   "id": "65ee186b",
   "metadata": {},
   "outputs": [],
   "source": [
    "print(\"Hello World!\")"
   ]
  },
  {
   "cell_type": "markdown",
   "id": "6686c658",
   "metadata": {},
   "source": [
    "Make it a program by saving it in [a file](./scripts/hello_world.py)."
   ]
  },
  {
   "cell_type": "code",
   "execution_count": null,
   "id": "dfe6a38c",
   "metadata": {},
   "outputs": [],
   "source": [
    "!python scripts/hello_world.py"
   ]
  },
  {
   "cell_type": "markdown",
   "id": "fb6420b5",
   "metadata": {
    "slideshow": {
     "slide_type": "subslide"
    }
   },
   "source": [
    "_side note:_\n",
    "\n",
    "We use the `!` character in Jupyter notebooks (and iPython) to run something on the command line. In a terminal/prompt, we'd just run \n",
    "\n",
    " ```\n",
    " python scripts/hello_world.py\n",
    " ```\n",
    "Some other Jupyter/iPython commands start with `%`\n",
    "\n",
    "<font color='red'>neither of these should be used in pure Python (i.e. `.py`) files.</font>"
   ]
  },
  {
   "cell_type": "markdown",
   "id": "5456b2bc",
   "metadata": {
    "slideshow": {
     "slide_type": "subslide"
    }
   },
   "source": [
    "For comparison here's a _Hello World!_ program in C.\n",
    "Must compile it first for a given system.\n",
    "\n",
    "```c++\n",
    "#include <stdio.h>\n",
    "\n",
    "int main(int argc, int* argv){\n",
    "  printf(\"Hello World!\");\n",
    "  return 0;\n",
    "}\n",
    "```"
   ]
  },
  {
   "cell_type": "markdown",
   "id": "ab005fb5",
   "metadata": {
    "slideshow": {
     "slide_type": "slide"
    }
   },
   "source": [
    "As an example of a more complex thing we can do in Python, let's check if the tube is working this morning:"
   ]
  },
  {
   "cell_type": "code",
   "execution_count": null,
   "id": "0fa8d69b",
   "metadata": {},
   "outputs": [],
   "source": [
    "from urllib.request import urlopen\n",
    "import json\n",
    "\n",
    "url = 'https://api.tfl.gov.uk/line/Circle,District,Central,Piccadilly,Elizabeth/status'\n",
    "status_list = json.load(urlopen(url))\n",
    "short_status_dict = {status['name']:status['lineStatuses'][0]['statusSeverityDescription']\n",
    "                     for status in status_list}\n",
    "for item in short_status_dict.items():\n",
    "    print('%s: %s'%item)"
   ]
  },
  {
   "cell_type": "markdown",
   "id": "25a85538",
   "metadata": {
    "slideshow": {
     "slide_type": "subslide"
    }
   },
   "source": [
    "- This code works by calling out to [a website](https://api.tfl.gov.uk/) run by Transport for London (TFL).\n",
    "- TFL publishes an _API_ to access their data online.\n",
    "- We do this using the `urllib` builtin module\n",
    "- We then use more Python to process the output into a more useful format\n",
    "\n",
    "Small bits of code like this to glue things together is exactly what Python is good at."
   ]
  },
  {
   "cell_type": "markdown",
   "id": "5a9c5d67",
   "metadata": {
    "slideshow": {
     "slide_type": "slide"
    }
   },
   "source": [
    "## Why/when not to write in Python?\n",
    "\n",
    "- Some \"pure Python\" code runs comparatively slowly (especially loops)\n",
    "  - We'll give some tips to optimise things later.\n",
    "- Python can be a bit of a memory hog.\n",
    "- Sometimes a more specialized language is a better fit."
   ]
  },
  {
   "cell_type": "markdown",
   "id": "998eec76",
   "metadata": {
    "slideshow": {
     "slide_type": "slide"
    }
   },
   "source": [
    "## How this course works:\n",
    "\n",
    "- 2 continuous weeks of lectures (\"block taught\")\n",
    "- 8 lecture days (4 each week, Mon-Thu)\n",
    "- 3 hours of lectures each lecture day\n",
    "- 3 hours of self-study time with TAs/TFs\n",
    "- Additional slots to catch up/ work on assessments (TAs/TFs available)"
   ]
  },
  {
   "cell_type": "markdown",
   "id": "326086f6",
   "metadata": {
    "slideshow": {
     "slide_type": "subslide"
    }
   },
   "source": [
    "- Each day of lectures covers one overall theme.\n",
    "- Time blocked out during day for formal lectures & for study exercises.\n",
    "\n",
    "- Course assessment is via 2 independent  pieces of coursework.\n",
    "- one each week:\n",
    "    - week 1: Using Python & Pandas to process data\n",
    "    - week 2: writing a Python module for a numerical problem"
   ]
  },
  {
   "cell_type": "markdown",
   "id": "35bc8ecb",
   "metadata": {
    "slideshow": {
     "slide_type": "slide"
    }
   },
   "source": [
    "## Learning outcomes for today:\n",
    "\n",
    "At the end of the day, you will be able to:\n",
    "- explain & use some interesting inbuilt Python modules.\n",
    "- calculate basic asymptotic complexities for algorithms in space & time.\n",
    "- describe how computers (& Python) stores numbers.\n",
    "- derive basic error estimates caused using floating point numbers in Python (and other programming languages)."
   ]
  },
  {
   "cell_type": "markdown",
   "id": "4a52ed77",
   "metadata": {
    "slideshow": {
     "slide_type": "slide"
    }
   },
   "source": [
    "## Understanding Computers\n",
    "\n",
    "Computers are built up in layers:\n",
    "\n",
    "- Maths, Physics & Chemistry (electric fields & semiconductors)\n",
    "- Electrical & Computer engineering (circuit diagrams & production)\n",
    "- Computer Science (Theory & Architecture)\n",
    "- Software Engineering \n",
    "- Data & Computational Scientists/Engineers"
   ]
  },
  {
   "cell_type": "markdown",
   "id": "03fccdb6",
   "metadata": {
    "slideshow": {
     "slide_type": "subslide"
    }
   },
   "source": [
    "When working on the top layer, we still need to understand enough of the lower layers to do our job well.\n",
    "\n",
    "Let's start by getting to know the tools available in Python a little better."
   ]
  },
  {
   "cell_type": "markdown",
   "id": "9c6d36ec",
   "metadata": {
    "slideshow": {
     "slide_type": "slide"
    }
   },
   "source": [
    "## Understanding Python\n",
    "Python is a general purpose interpreted language. \n",
    "\n",
    "- Best thing about Python is that it's so easy to extend.\n",
    "- Most powerful Python operation is the `import` statement."
   ]
  },
  {
   "cell_type": "markdown",
   "id": "ffcde05c",
   "metadata": {
    "slideshow": {
     "slide_type": "slide"
    }
   },
   "source": [
    "## Python Syntax\n",
    "\n",
    "Can define functions:"
   ]
  },
  {
   "cell_type": "code",
   "execution_count": null,
   "id": "981cb820",
   "metadata": {},
   "outputs": [],
   "source": [
    "def add_two(x):\n",
    "    return x+2"
   ]
  },
  {
   "cell_type": "code",
   "execution_count": null,
   "id": "97f2c727",
   "metadata": {
    "slideshow": {
     "slide_type": "-"
    }
   },
   "outputs": [],
   "source": [
    "Can define loops:"
   ]
  },
  {
   "cell_type": "code",
   "execution_count": null,
   "id": "4bb20738",
   "metadata": {},
   "outputs": [],
   "source": [
    "for n, x in enumerate(range(4, 13, 2)):\n",
    "    print(f'{n}: {x**2}')"
   ]
  },
  {
   "cell_type": "markdown",
   "id": "1a024abc",
   "metadata": {
    "slideshow": {
     "slide_type": "slide"
    }
   },
   "source": [
    "## Out-of-the-box\n",
    "\n",
    "- Basic Python installation already has a lot of power.\n",
    "- Large [Standard library](https://docs.python.org/3/library/) available with every installation.\n",
    "- Definitely don't need to know what all of it does, but always worth a quick when you have a new problem to solve."
   ]
  },
  {
   "cell_type": "markdown",
   "id": "4bcf8a2c",
   "metadata": {
    "slideshow": {
     "slide_type": "slide"
    }
   },
   "source": [
    "## Text Processing Services\n",
    "\n",
    "Working with text is much easier in Python than C/C++ etc.\n",
    "e.g:\n",
    "\n",
    "lots of things are built in. Some more commonly used are:\n",
    "- `re` — Regular expression operations\n",
    "- `string` — Common string operations\n",
    "\n",
    "_and a bunch of others_"
   ]
  },
  {
   "cell_type": "markdown",
   "id": "2dbbd3bc",
   "metadata": {
    "slideshow": {
     "slide_type": "subslide"
    }
   },
   "source": [
    "These modules are unlikely to be your daily life in data science once you know about more powerful packages\n",
    "\n",
    "Can still be useful & a time saver, especially regular expressions (the `re` module)."
   ]
  },
  {
   "cell_type": "markdown",
   "id": "2585f5ae",
   "metadata": {
    "slideshow": {
     "slide_type": "subslide"
    }
   },
   "source": [
    "<img src=https://imgs.xkcd.com/comics/regular_expressions.png style=\"width: auto%; height: 80% !important; max-height:600px;-ms-interpolation-mode: bicubic;\"/></a><br /> From <a href=\"https://xkcd.com\" rel=\"nofollow\"> XKCD </a>"
   ]
  },
  {
   "cell_type": "markdown",
   "id": "e6cfab23",
   "metadata": {
    "slideshow": {
     "slide_type": "subslide"
    }
   },
   "source": [
    "### A regex example:"
   ]
  },
  {
   "cell_type": "code",
   "execution_count": null,
   "id": "2644dd72",
   "metadata": {},
   "outputs": [],
   "source": [
    "my_text = \"\"\"At first I was afraid, I was petrified;\n",
    "Kept thinking I could never live without you by my side.\n",
    "But then I spent so many nights thinking how you did me wrong,\n",
    "And I grew strong,\n",
    "And I learned how to get along.\n",
    "And so you're back,\n",
    "From outer space!\"\"\""
   ]
  },
  {
   "cell_type": "code",
   "execution_count": null,
   "id": "74f77a2c",
   "metadata": {
    "slideshow": {
     "slide_type": "subslide"
    }
   },
   "outputs": [],
   "source": [
    "import re\n",
    "\n",
    "print(re.findall( 'you (.*)', my_text))\n",
    "\n",
    "for word in re.finditer( r\"And I (\\w*)\", my_text):\n",
    "    print(f\"{word}, {word.groups()}\")"
   ]
  },
  {
   "cell_type": "code",
   "execution_count": null,
   "id": "9a5cd457",
   "metadata": {
    "slideshow": {
     "slide_type": "subslide"
    }
   },
   "outputs": [],
   "source": [
    "pattern = '[Ll]ove'\n",
    "# re.search looks everywhere\n",
    "# re.match looks from the beginning\n",
    "if re.search(pattern, my_text):\n",
    "    print(\"Pattern in string\")\n",
    "else:\n",
    "    print('Pattern not found!')"
   ]
  },
  {
   "cell_type": "markdown",
   "id": "f7c78adc",
   "metadata": {
    "slideshow": {
     "slide_type": "slide"
    }
   },
   "source": [
    "## Data Types\n",
    "\n",
    "The core data types (e.g. lists, dicts etc) will be talked about on Thursday.\n",
    "\n",
    "Library modules add more (and external packages even more than that).\n",
    "\n",
    "Relevant modules\n",
    "\n",
    "- `copy` — Shallow and deep copy operations\n",
    "- `collections` — Container datatypes\n",
    "- `datetime` — Basic date and time types"
   ]
  },
  {
   "cell_type": "markdown",
   "id": "bce463d3",
   "metadata": {
    "slideshow": {
     "slide_type": "subslide"
    }
   },
   "source": [
    "## A few examples from `collections`"
   ]
  },
  {
   "cell_type": "code",
   "execution_count": null,
   "id": "8f6d6e80",
   "metadata": {},
   "outputs": [],
   "source": [
    "from collections import defaultdict\n",
    "\n",
    "mydict = defaultdict(lambda:'not set!')\n",
    "print(mydict['James'])\n",
    "mydict['James'] = 'likes Python'\n",
    "print('James', mydict['James'])"
   ]
  },
  {
   "cell_type": "code",
   "execution_count": null,
   "id": "6b2e0171",
   "metadata": {
    "slideshow": {
     "slide_type": "subslide"
    }
   },
   "outputs": [],
   "source": [
    "from collections import namedtuple\n",
    "\n",
    "Pets = namedtuple('Pets', ['cat', 'dog'])\n",
    "my_pets = Pets('Tiddles', dog='Rover')\n",
    "print(my_pets)\n",
    "print(f'I had a dog called {my_pets.dog}')"
   ]
  },
  {
   "cell_type": "markdown",
   "id": "d4542080",
   "metadata": {
    "slideshow": {
     "slide_type": "slide"
    }
   },
   "source": [
    "## Numeric and Mathematical Modules\n",
    "\n",
    "(Much of this is done better in `numpy`)\n",
    "- `math` — Mathematical functions\n",
    "- `random` — Generate pseudo-random numbers\n",
    "- `decimal` — Decimal fixed point and floating point arithmetic\n",
    "- `fractions` — Rational numbers\n",
    "- `statistics` — Mathematical statistics functions"
   ]
  },
  {
   "cell_type": "markdown",
   "id": "3b52fb52",
   "metadata": {
    "slideshow": {
     "slide_type": "subslide"
    }
   },
   "source": [
    "Take care! `numpy` and `math` don't always play nicely together."
   ]
  },
  {
   "cell_type": "code",
   "execution_count": null,
   "id": "28fe8bc7",
   "metadata": {},
   "outputs": [],
   "source": [
    "import math\n",
    "import numpy as np\n",
    "print(math.sin(math.pi/6))\n",
    "# Numpy understands Python\n",
    "print(np.sin(math.pi/6))"
   ]
  },
  {
   "cell_type": "code",
   "execution_count": null,
   "id": "b7a257a0",
   "metadata": {},
   "outputs": [],
   "source": [
    "arr = np.array([0, np.pi/6, np.pi/2])\n",
    "print(np.sin(arr))"
   ]
  },
  {
   "cell_type": "code",
   "execution_count": null,
   "id": "221c9fc8",
   "metadata": {},
   "outputs": [],
   "source": [
    "# Python doesn't know about numpy\n",
    "print(math.sin(arr))"
   ]
  },
  {
   "cell_type": "markdown",
   "id": "232c9e6e",
   "metadata": {
    "slideshow": {
     "slide_type": "slide"
    }
   },
   "source": [
    "## Functional Programming Modules\n",
    "- `itertools` — Functions creating iterators for efficient looping\n",
    "- `functools` — Higher-order functions and operations on callable objects\n",
    "- `operator` — Standard operators as functions"
   ]
  },
  {
   "cell_type": "code",
   "execution_count": null,
   "id": "235edf52",
   "metadata": {
    "slideshow": {
     "slide_type": "subslide"
    }
   },
   "outputs": [],
   "source": [
    "list1 = ['red', 'yellow', 'blue']\n",
    "list2 = [10,25]\n",
    "\n",
    "for item in zip(list1, list2):\n",
    "    print(item)"
   ]
  },
  {
   "cell_type": "code",
   "execution_count": null,
   "id": "0ff53600",
   "metadata": {
    "slideshow": {
     "slide_type": "subslide"
    }
   },
   "outputs": [],
   "source": [
    "import itertools\n",
    "for item in itertools.product(list1, list2):\n",
    "    print(item)"
   ]
  },
  {
   "cell_type": "markdown",
   "id": "101fa911",
   "metadata": {
    "slideshow": {
     "slide_type": "slide"
    }
   },
   "source": [
    "## File and Directory Access\n",
    "\n",
    "- `os` - Miscellaneous operating system interfaces\n",
    "- `glob` — Unix style pathname pattern expansion\n",
    "- `shutil` — High-level file operations\n",
    "- `tempfile` — Generate temporary files and directories"
   ]
  },
  {
   "cell_type": "code",
   "execution_count": null,
   "id": "ea9f1c67",
   "metadata": {},
   "outputs": [],
   "source": [
    "import os\n",
    "os.path.abspath(os.curdir)"
   ]
  },
  {
   "cell_type": "markdown",
   "id": "0718b921",
   "metadata": {
    "slideshow": {
     "slide_type": "slide"
    }
   },
   "source": [
    "## Data Persistence\n",
    "\n",
    "- `pickle` — Python object serialization (i.e save data to disk!)\n",
    "- `sqlite3` — DB-API 2.0 interface for SQLite databases"
   ]
  },
  {
   "cell_type": "code",
   "execution_count": null,
   "id": "c681e501",
   "metadata": {},
   "outputs": [],
   "source": [
    "import pickle\n",
    "more_text = 'Hello, Everyone!'\n",
    "with open('tmp.pkl', 'wb') as myfile: # write as bytes\n",
    "    pickle.dump(more_text, myfile)\n",
    "    \n",
    "with open('tmp.pkl', 'rb') as myfile: # read as bytes\n",
    "    loaded_text = pickle.load(myfile)\n",
    "    print(loaded_text)"
   ]
  },
  {
   "cell_type": "markdown",
   "id": "ee5b752b",
   "metadata": {
    "slideshow": {
     "slide_type": "slide"
    }
   },
   "source": [
    "## File Formats\n",
    "\n",
    "- `csv` — CSV File Reading and Writing\n",
    "- `json` — JSON encoder and decoder\n",
    "\n",
    "The **Pandas** package is more use for general data science. We'll cover it in some detail tomorrow."
   ]
  },
  {
   "cell_type": "markdown",
   "id": "dbcf9f16",
   "metadata": {
    "slideshow": {
     "slide_type": "slide"
    }
   },
   "source": [
    "## Generic Operating System Services\n",
    "\n",
    "- `os` — (again) for miscellaneous operating system interfaces\n",
    "- `sys` — System-specific parameters and functions\n",
    "- `argparse` — Parser for command-line options, arguments and sub-commands\n",
    "- `time` — Time access and conversions"
   ]
  },
  {
   "cell_type": "markdown",
   "id": "8042bc37",
   "metadata": {
    "slideshow": {
     "slide_type": "slide"
    }
   },
   "source": [
    "## Internet Data Handling/Internet Protocols and Support/GUIs\n",
    "\n",
    "- `urllib` — URL handling modules\n",
    "- `http` — HTTP modules\n",
    "- `tkinter` — Python interface to Tcl/Tk (basic GUIs)"
   ]
  },
  {
   "cell_type": "markdown",
   "id": "ce5a2e40",
   "metadata": {
    "slideshow": {
     "slide_type": "slide"
    }
   },
   "source": [
    "# A note about coding\n",
    "\n",
    "Software developers have a number of useful rules of thumb to write good code, with catchy (or not so catchy) acronyms\n",
    "\n",
    "|Acronym| Expansion|\n",
    "|-|-|\n",
    "|DRY| Don't Repeat Yourself |\n",
    "|SOC| Separation of Concerns|\n",
    "|KISS| Keep It Simple, Stupid |\n",
    "|YAGNI| You Aint' Gonna Need It |"
   ]
  },
  {
   "cell_type": "markdown",
   "id": "6f28ca30",
   "metadata": {},
   "source": [
    "YAGNI 意思是不要写无关紧要的代码"
   ]
  },
  {
   "cell_type": "markdown",
   "id": "cc7c5c49",
   "metadata": {
    "slideshow": {
     "slide_type": "slide"
    }
   },
   "source": [
    "# Exercise time\n",
    "\n",
    "- First, take a physical break!\n",
    "    - stand up, stretch, get a hot drink!\n",
    "- Next try some of the [coding exercises](./Intro%20to%20CS%20(morning%20exercises).ipynb)\n",
    "- These exercises are useful preparation, and will help you get your mind into thinking for the graded assessments to come.\n",
    "- Fine to work in groups until assessment time!"
   ]
  },
  {
   "cell_type": "markdown",
   "id": "d82b6a12",
   "metadata": {
    "slideshow": {
     "slide_type": "slide"
    }
   },
   "source": [
    "## Thinking like a computer scientist:\n",
    "\n",
    "Theoretical Computer Scientists sometimes treat a computer as a machine which is fed a ribbon or tape and which every tick of \n",
    "a clock reads, writes or updates symbols on the tape, a _Turing Machine_\n",
    "\n",
    "This means that every strategy or algorithm to solve a large problem can be interpretted as a balance between two resources:\n",
    "\n",
    "- space (i.e. how much computer memory or storage is used)\n",
    "- time (i.e. how long it takes to run)\n",
    "\n",
    "Good choices limit use of both, bad choices waste both."
   ]
  },
  {
   "cell_type": "markdown",
   "id": "1ecd2a45",
   "metadata": {
    "slideshow": {
     "slide_type": "slide"
    }
   },
   "source": [
    "## Time complexity: some examples"
   ]
  },
  {
   "cell_type": "code",
   "execution_count": 2,
   "id": "19683a24",
   "metadata": {},
   "outputs": [],
   "source": [
    "def my_max(x):\n",
    "\n",
    "    if len(x) < 1:\n",
    "        return None\n",
    "\n",
    "    maximum = x[0]\n",
    "    for i in x[1:]:\n",
    "        if i > maximum:\n",
    "            maximum = i\n",
    "    return maximum"
   ]
  },
  {
   "cell_type": "code",
   "execution_count": 3,
   "id": "036c7198",
   "metadata": {
    "slideshow": {
     "slide_type": "subslide"
    }
   },
   "outputs": [],
   "source": [
    "import numpy as np\n",
    "\n",
    "data = []\n",
    "size = []\n",
    "for k in range(10):\n",
    "    arr = np.random.randint(100, size=2**k)\n",
    "    r = %timeit -q -n 3 -r 100 -o my_max(arr)\n",
    "    size.append(2**k)\n",
    "    data.append((r.best))\n",
    "    "
   ]
  },
  {
   "cell_type": "code",
   "execution_count": 4,
   "id": "1f4158b3",
   "metadata": {
    "slideshow": {
     "slide_type": "subslide"
    }
   },
   "outputs": [
    {
     "name": "stderr",
     "output_type": "stream",
     "text": [
      "Matplotlib is building the font cache; this may take a moment.\n"
     ]
    },
    {
     "data": {
      "text/plain": [
       "Text(0, 0.5, 'time (s)')"
      ]
     },
     "execution_count": 4,
     "metadata": {},
     "output_type": "execute_result"
    },
    {
     "data": {
      "image/png": "[encoded data removed]",
      "text/plain": [
       "<Figure size 640x480 with 1 Axes>"
      ]
     },
     "metadata": {},
     "output_type": "display_data"
    }
   ],
   "source": [
    "import matplotlib.pyplot as plt\n",
    "plt.plot(size, data, 'ko-')\n",
    "plt.xlabel('length')\n",
    "plt.ylabel('time (s)')"
   ]
  },
  {
   "cell_type": "markdown",
   "id": "13d9f13b",
   "metadata": {},
   "source": [
    "Time to solve increases (linearly) with the length of x, often written as $\\mathcal{O}(n)$."
   ]
  },
  {
   "cell_type": "code",
   "execution_count": 5,
   "id": "b77291ef",
   "metadata": {
    "slideshow": {
     "slide_type": "slide"
    }
   },
   "outputs": [],
   "source": [
    "def find_duplicates(x):\n",
    "    duplicates = []\n",
    "    for k, val1 in enumerate(x):\n",
    "        for val2 in x[k+1:]:\n",
    "            if val1 == val2:\n",
    "                duplicates.append((val1, val2))        \n",
    "    return duplicates"
   ]
  },
  {
   "cell_type": "code",
   "execution_count": 6,
   "id": "1d48928c",
   "metadata": {
    "slideshow": {
     "slide_type": "subslide"
    }
   },
   "outputs": [],
   "source": [
    "import numpy as np\n",
    "\n",
    "data = []\n",
    "size = []\n",
    "for k in range(10):\n",
    "    s = 2**(k+1)\n",
    "    arr = np.random.randint(100, size=s)\n",
    "    r = %timeit -q -n 3 -r 100 -o find_duplicates(arr)\n",
    "    size.append(s)\n",
    "    data.append((r.best))"
   ]
  },
  {
   "cell_type": "code",
   "execution_count": 7,
   "id": "f120e97f",
   "metadata": {
    "slideshow": {
     "slide_type": "subslide"
    }
   },
   "outputs": [
    {
     "data": {
      "image/png": "[encoded data removed]",
      "text/plain": [
       "<Figure size 640x480 with 1 Axes>"
      ]
     },
     "metadata": {},
     "output_type": "display_data"
    }
   ],
   "source": [
    "import matplotlib.pyplot as plt\n",
    "plt.plot(size, data, 'ko-')\n",
    "plt.xlabel('length')\n",
    "plt.ylabel('time (s)')\n",
    "\n",
    "plt.xscale('log')\n",
    "plt.yscale('log')"
   ]
  },
  {
   "cell_type": "code",
   "execution_count": 8,
   "id": "eca4d3d9",
   "metadata": {
    "slideshow": {
     "slide_type": "subslide"
    }
   },
   "outputs": [
    {
     "data": {
      "image/png": "[encoded data removed]",
      "text/plain": [
       "<Figure size 640x480 with 1 Axes>"
      ]
     },
     "metadata": {},
     "output_type": "display_data"
    }
   ],
   "source": [
    "import numpy as plt\n",
    "import matplotlib.pyplot as plt\n",
    "plt.plot(size, data, 'ko-')\n",
    "plt.xlabel('length')\n",
    "plt.ylabel('time (s)')\n",
    "plt.plot(size, 1.e-7*np.array(size)**2)\n",
    "\n",
    "plt.xscale('log')\n",
    "plt.yscale('log')"
   ]
  },
  {
   "cell_type": "markdown",
   "id": "14caf43e",
   "metadata": {},
   "source": [
    "Time to solve increases quadratically with the length of x (i.e. the function is $\\mathcal{O}(n^2))$."
   ]
  },
  {
   "cell_type": "code",
   "execution_count": 9,
   "id": "e2326423",
   "metadata": {
    "slideshow": {
     "slide_type": "slide"
    }
   },
   "outputs": [],
   "source": [
    "def permute(x):\n",
    "\n",
    "    if len(x) <= 1:\n",
    "        return [list(x)]\n",
    "\n",
    "    out = []\n",
    "    for i in x:\n",
    "        y = list(x)\n",
    "        y.remove(i)\n",
    "        for j in permute(y):\n",
    "            out.append([i]+j)\n",
    "    return out"
   ]
  },
  {
   "cell_type": "code",
   "execution_count": 10,
   "id": "9106c8fd",
   "metadata": {
    "slideshow": {
     "slide_type": "subslide"
    }
   },
   "outputs": [
    {
     "name": "stdout",
     "output_type": "stream",
     "text": [
      "157 ns ± 1.49 ns per loop (mean ± std. dev. of 7 runs, 10,000,000 loops each)\n"
     ]
    }
   ],
   "source": [
    "%timeit permute(range(1))"
   ]
  },
  {
   "cell_type": "code",
   "execution_count": 11,
   "id": "f8e0bf1a",
   "metadata": {},
   "outputs": [
    {
     "name": "stdout",
     "output_type": "stream",
     "text": [
      "2.8 μs ± 49.4 ns per loop (mean ± std. dev. of 7 runs, 100,000 loops each)\n"
     ]
    }
   ],
   "source": [
    "%timeit permute(range(3))"
   ]
  },
  {
   "cell_type": "markdown",
   "id": "b71de0e0",
   "metadata": {
    "slideshow": {
     "slide_type": "-"
    }
   },
   "source": [
    "Time to run and space needed for output increases with the factorial of the length of the input.\n",
    "\n",
    "We'll return to these ideas in more detail considering algorithms next week."
   ]
  },
  {
   "cell_type": "markdown",
   "id": "2196f35b",
   "metadata": {
    "slideshow": {
     "slide_type": "slide"
    }
   },
   "source": [
    "## Computer Architecture\n",
    "\n",
    "- At a low level, have doped silicon wafers form transistors in logic circuits.\n",
    "\n",
    "- Other physical processes used to store data in longer term"
   ]
  },
  {
   "cell_type": "markdown",
   "id": "f26cc92d",
   "metadata": {
    "slideshow": {
     "slide_type": "subslide"
    }
   },
   "source": [
    "This storage is arranged in layers:\n",
    "- inside the CPU core (\"register\")\n",
    "- near the CPU (CPU cache)\n",
    "- main memory (\"RAM\")\n",
    "- mass storage (\"hard disk\")"
   ]
  },
  {
   "cell_type": "markdown",
   "id": "bc57ad45",
   "metadata": {
    "slideshow": {
     "slide_type": "subslide"
    }
   },
   "source": [
    "There is a time penalty involved with getting information between layers.\n",
    "This means computers are faster at processing information which is \"together\".\n",
    "Similarly, they are faster at doing things they have specific circuits & instruction sets for.\n",
    "- Python hides a lot of this from you.\n",
    "- Gets more important in languages like C/C++"
   ]
  },
  {
   "cell_type": "markdown",
   "id": "1fcc2567",
   "metadata": {
    "slideshow": {
     "slide_type": "slide"
    }
   },
   "source": [
    "All modern computers are _binary_:\n",
    "- high voltage is \"on\"\n",
    "- low voltage is \"off\".\n",
    "\n",
    "Mostly we don't have to think about this. But sometimes it's useful to understand how computers can store numbers, and the errors which come with it."
   ]
  },
  {
   "cell_type": "markdown",
   "id": "d3ffb5ba",
   "metadata": {
    "slideshow": {
     "slide_type": "subslide"
    }
   },
   "source": [
    "## Representation of integers\n",
    "\n",
    "### Positive integers\n",
    "\n",
    "Can think of each layer of computer memory as a \"tape\" or a ribbon, containing a long, (but finite) sequence of ones and zeros.\n",
    "\n",
    "Computers can read short groups of these digits, or replace 1s with 0s and vice versa."
   ]
  },
  {
   "cell_type": "markdown",
   "id": "e14d797d",
   "metadata": {
    "slideshow": {
     "slide_type": "slide"
    }
   },
   "source": [
    "How does binary work?\n",
    "\n",
    "\n",
    "> **_Old joke_**: There are 10 sorts of people: Those who can read binary, and those who can't!\n",
    "\n",
    "lets take a decimal number, say 2,381\n",
    "\n",
    "|$$10^3=1000$$|$$10^2=100$$|$$10^1=10$$|$$2^0=1$$|\n",
    "|-|-|-|-|\n",
    "|2|2|8|1|\n",
    "\n",
    "Now lets take a binary number, say 1001\n",
    "\n",
    "|$$2^3=8$$|$$2^2=4$$|$$2^1=2$$|$$2^0=1$$|\n",
    "|-|-|-|-|\n",
    "|1|0|0|1|\n",
    "\n",
    "so it's $1\\times8+0\\times4+0\\times2+1\\times1=9$"
   ]
  },
  {
   "cell_type": "markdown",
   "id": "222a4ca5",
   "metadata": {
    "slideshow": {
     "slide_type": "subslide"
    }
   },
   "source": [
    "Python can do these conversions for us"
   ]
  },
  {
   "cell_type": "code",
   "execution_count": 12,
   "id": "8dc78411",
   "metadata": {},
   "outputs": [
    {
     "name": "stdout",
     "output_type": "stream",
     "text": [
      "9\n",
      "0b1001\n",
      "0b11\n"
     ]
    }
   ],
   "source": [
    "print(int('1001', base=2))\n",
    "print(bin(9))\n",
    "print(bin(int(3.5))) # can't do bin(3.5)"
   ]
  },
  {
   "cell_type": "markdown",
   "id": "60aa8c8b",
   "metadata": {},
   "source": [
    "bin有什么作用？  \n",
    "0b开头表示这是一个二进制数   \n",
    "bin是让整数转换成二进制string"
   ]
  },
  {
   "cell_type": "markdown",
   "id": "9889a248",
   "metadata": {},
   "source": [
    "jupyter的换行可以通过空格和“<\"\"br>”<br>来实现"
   ]
  },
  {
   "cell_type": "markdown",
   "id": "9db2c413",
   "metadata": {
    "slideshow": {
     "slide_type": "slide"
    }
   },
   "source": [
    "How do we make this work on a computer?\n",
    "\n",
    "Two choices:\n",
    "1. Store how many \"bits\" there are in the number, then the number itself.\n",
    "2. Use a fixed number of bits, and store leading zeros\n",
    "\n",
    "- Python uses (a version of) the first way, to have arbitrarily long integers.\n",
    "- NumPy uses the second approach for efficiency (and to work with C code)."
   ]
  },
  {
   "cell_type": "markdown",
   "id": "6445239d",
   "metadata": {
    "slideshow": {
     "slide_type": "slide"
    }
   },
   "source": [
    "Let's calculate 500 factorial"
   ]
  },
  {
   "cell_type": "code",
   "execution_count": 14,
   "id": "79999a7b",
   "metadata": {},
   "outputs": [
    {
     "name": "stdout",
     "output_type": "stream",
     "text": [
      "n is 1220136825991110068701238785423046926253574342803192842192413588385845373153881997605496447502203281863013616477148203584163378722078177200480785205159329285477907571939330603772960859086270429174547882424912726344305670173270769461062802310452644218878789465754777149863494367781037644274033827365397471386477878495438489595537537990423241061271326984327745715546309977202781014561081188373709531016356324432987029563896628911658974769572087926928871281780070265174507768410719624390394322536422605234945850129918571501248706961568141625359056693423813008856249246891564126775654481886506593847951775360894005745238940335798476363944905313062323749066445048824665075946735862074637925184200459369692981022263971952597190945217823331756934581508552332820762820023402626907898342451712006207714640979456116127629145951237229913340169552363850942885592018727433795173014586357570828355780158735432768888680120399882384702151467605445407663535984174430480128938313896881639487469658817504506926365338175055478128640000000000000000000000000000000000000000000000000000000000000000000000000000000000000000000000000000000000000000000000000000\n",
      "n has 3768 bits\n"
     ]
    }
   ],
   "source": [
    "n = 1\n",
    "for _ in range(500):\n",
    "    n *= (_+1)\n",
    "print(f'n is {n}')\n",
    "import math\n",
    "print(f'n has {math.floor(math.log2(n))+1} bits')"
   ]
  },
  {
   "cell_type": "markdown",
   "id": "0c54972a",
   "metadata": {},
   "source": [
    "bits指的是什么？指的是字节数吗"
   ]
  },
  {
   "cell_type": "markdown",
   "id": "ee7b4639",
   "metadata": {
    "slideshow": {
     "slide_type": "slide"
    }
   },
   "source": [
    "### Integer Overflow\n",
    "If the number of digits is fixed (like in numpy), we can have problems.\n",
    "\n",
    "Let's say we have an 8bit integer `x`, storing the (binary) value 1111111. What is the evaluation of `x+1`?\n",
    "\n",
    "Let's find out through"
   ]
  },
  {
   "cell_type": "code",
   "execution_count": 15,
   "id": "9e03d9ce",
   "metadata": {},
   "outputs": [
    {
     "name": "stdout",
     "output_type": "stream",
     "text": [
      "x is 255\n",
      "x+1 is 0\n"
     ]
    }
   ],
   "source": [
    "import numpy as np\n",
    "x = np.array([int('11111111',2)], dtype=np.uint8)\n",
    "print(f'x is {x[0]}')\n",
    "print(f'x+1 is {(x+1)[0]}')"
   ]
  },
  {
   "cell_type": "markdown",
   "id": "a7c98638",
   "metadata": {
    "slideshow": {
     "slide_type": "slide"
    }
   },
   "source": [
    "### Negative integers\n",
    "\n",
    "So far we've dealt with just positive integers, sometimes called the counting numbers.\n",
    "\n",
    "How do we handle negative integers?\n",
    "\n",
    "One option is to just \"steal\" a bit from (say) the high end and just use it to indicate negative numbers"
   ]
  },
  {
   "cell_type": "markdown",
   "id": "87d0808e",
   "metadata": {},
   "source": [
    "第一个方法是加一个indicator,第二个是更改2为-2"
   ]
  },
  {
   "cell_type": "markdown",
   "id": "223f5daf",
   "metadata": {
    "slideshow": {
     "slide_type": "subslide"
    }
   },
   "source": [
    "In this system, -3  for a 4 bit signed integer would be\n",
    "\n",
    "|$$-ve?$$|$$2^2=4$$|$$2^1=2$$|$$2^0=1$$|\n",
    "|-|-|-|-|\n",
    "|1|0|1|1|\n",
    "\n",
    "This is fairly easy system for humans, but more complicated for computers.\n",
    "Need entire new circuits for addition and subtraction."
   ]
  },
  {
   "cell_type": "markdown",
   "id": "15be89a9",
   "metadata": {
    "slideshow": {
     "slide_type": "subslide"
    }
   },
   "source": [
    "The alternative used in most modern computers is to use the high end bit in the form $-2^{n-1}$ (n is number of bits)\n",
    "\n",
    "This makes the representation of -3\n",
    "\n",
    "|$$-2^3=-8$$|$$2^2=4$$|$$2^1=2$$|$$2^0=1$$|\n",
    "|-|-|-|-|\n",
    "|1|1|0|1|\n",
    "\n",
    "$-8+4+1= -3$\n",
    "\n",
    "Addition and subtraction now work the same as with unsigned integers,\n",
    "- $-3+3 $ (decimal) = $1101+0011$ (binary) = 0000 (binary) = 0."
   ]
  },
  {
   "cell_type": "markdown",
   "id": "aebd1c06",
   "metadata": {
    "slideshow": {
     "slide_type": "subslide"
    }
   },
   "source": [
    "This is called [two's complement](https://en.wikipedia.org/wiki/Two%27s_complement) representation.\n",
    "\n",
    "To negate a number, switch all the bits and add 1.\n",
    "\n",
    "$$-3 = (1101)_2$$\n",
    "$$(0010)_2+1 = (0011)_2 = 3$$"
   ]
  },
  {
   "cell_type": "markdown",
   "id": "92829dfe",
   "metadata": {
    "slideshow": {
     "slide_type": "subslide"
    }
   },
   "source": [
    "We can get these forms in Python using `numpy` again."
   ]
  },
  {
   "cell_type": "code",
   "execution_count": 16,
   "id": "596006b7",
   "metadata": {},
   "outputs": [
    {
     "name": "stdout",
     "output_type": "stream",
     "text": [
      "0011\n",
      "1101\n"
     ]
    }
   ],
   "source": [
    "print(np.binary_repr(3, width=4))\n",
    "print(np.binary_repr(-3, width=4))"
   ]
  },
  {
   "cell_type": "markdown",
   "id": "688a81a5",
   "metadata": {
    "slideshow": {
     "slide_type": "slide"
    }
   },
   "source": [
    "## Representation of Characters\n",
    "\n",
    "Computers can only store binary data, letters have to be _encoded_\n",
    "\n",
    "A number is chosen for the symbol, and the actual image to show is stored elsewhere.\n",
    "\n",
    "Most famous encoding is probably ASCII (American Standard Code for Information Interchange)"
   ]
  },
  {
   "cell_type": "markdown",
   "id": "3e734652",
   "metadata": {
    "slideshow": {
     "slide_type": "subslide"
    }
   },
   "source": [
    "<img src=\"images/ASCII_table.png\" alt=\"ASCII lookup table\" width=\"auto\" height=\"60%\" style=\"width: auto%; height: 60% !important; max-height:500px; max-width:960px;-ms-interpolation-mode: bicubic;\"/>\n",
    "\n",
    "Table above by [Tom Gibara](https://github.com/tomgibara/ascii-table/wiki) CC-BY-SA.\n",
    "\n",
    "Python3 default is Unicode encoding (`utf-8`). \n",
    "Gives access to characters from most world languages."
   ]
  },
  {
   "cell_type": "markdown",
   "id": "9aa79493",
   "metadata": {
    "slideshow": {
     "slide_type": "subslide"
    }
   },
   "source": [
    "We can even use letter-like symbols from the Unicode standard in the names of functions and objects."
   ]
  },
  {
   "cell_type": "markdown",
   "id": "ef94ee8b",
   "metadata": {},
   "source": [
    "unicode encoding utf-8可以支持多语言"
   ]
  },
  {
   "cell_type": "code",
   "execution_count": 17,
   "id": "83067f65",
   "metadata": {
    "slideshow": {
     "slide_type": "-"
    }
   },
   "outputs": [
    {
     "name": "stdout",
     "output_type": "stream",
     "text": [
      "Hello World!\n"
     ]
    }
   ],
   "source": [
    "def 你好(x):\n",
    "    print('Hello', x)\n",
    "\n",
    "你好('World!')"
   ]
  },
  {
   "cell_type": "markdown",
   "id": "d8b275e2",
   "metadata": {},
   "source": [
    "- Write in whatever language you like in your own notes.\n",
    "- In group work and assessments, please use English!\n",
    "\n"
   ]
  },
  {
   "cell_type": "markdown",
   "id": "ed547fdd",
   "metadata": {
    "slideshow": {
     "slide_type": "slide"
    }
   },
   "source": [
    "For this afternoon:\n",
    "- Make sure you've updated your GitHun username: `esemsc-abs1234` where abc1234 is your college login.\n",
    "- Quick GitHiub exercise to practise submitting work (compulsory) : https://classroom.github.com/a/LtIxhix6\n",
    "- Marijan will take you through how this works for non-integers when you start thinking about how computers represent and approximate real numbers.\n",
    "\n",
    "# Any Questions?"
   ]
  },
  {
   "cell_type": "code",
   "execution_count": null,
   "id": "f0a3389d",
   "metadata": {},
   "outputs": [],
   "source": []
  }
 ],
 "metadata": {
  "celltoolbar": "Slideshow",
  "kernelspec": {
   "display_name": "Python 3 (ipykernel)",
   "language": "python",
   "name": "python3"
  },
  "language_info": {
   "codemirror_mode": {
    "name": "ipython",
    "version": 3
   },
   "file_extension": ".py",
   "mimetype": "text/x-python",
   "name": "python",
   "nbconvert_exporter": "python",
   "pygments_lexer": "ipython3",
   "version": "3.12.6"
  },
  "rise": {
   "autolaunch": true,
   "overlay": "<div style=float:right;><img style=width:200px; src=./images/AdaLovelace2.png></div>",
   "scroll": true
  },
  "toc": {
   "base_numbering": 1,
   "nav_menu": {},
   "number_sections": false,
   "sideBar": true,
   "skip_h1_title": true,
   "title_cell": "Table of Contents",
   "title_sidebar": "Contents",
   "toc_cell": false,
   "toc_position": {},
   "toc_section_display": true,
   "toc_window_display": false
  },
  "vscode": {
   "interpreter": {
    "hash": "24de786bfc5e57b5c0c1b7e17e80ed566b058e2a0dddf807d87f7d4726182895"
   }
  }
 },
 "nbformat": 4,
 "nbformat_minor": 5
}
