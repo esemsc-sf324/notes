{
 "cells": [
  {
   "cell_type": "markdown",
   "metadata": {},
   "source": [
    "# Lecture 4: Python Data Structures - Exercises\n",
    "\n",
    "# Part I - Basic types\n",
    "\n",
    "## Exercise 1.1: Comprehensions & Generators\n",
    "\n",
    "Run the following code block. Here we are creating a `list` (via a list comprehension), a `dict` (via a dict comprehension), and a `generator`."
   ]
  },
  {
   "cell_type": "code",
   "execution_count": null,
   "metadata": {},
   "outputs": [],
   "source": [
    "my_list = [ _**2 for _ in range(5)]\n",
    "my_dict = {_**2:_ for _ in range(5)}\n",
    "my_generator = ( _**2 for _ in range(5))"
   ]
  },
  {
   "cell_type": "markdown",
   "metadata": {},
   "source": [
    "Now run each of these blocks several times"
   ]
  },
  {
   "cell_type": "code",
   "execution_count": null,
   "metadata": {},
   "outputs": [],
   "source": [
    "for i in my_list:\n",
    "    print(i)"
   ]
  },
  {
   "cell_type": "code",
   "execution_count": null,
   "metadata": {},
   "outputs": [],
   "source": [
    "for i in my_dict:\n",
    "    print(my_dict[i], my_dict)"
   ]
  },
  {
   "cell_type": "code",
   "execution_count": null,
   "metadata": {},
   "outputs": [],
   "source": [
    "for i in my_generator:\n",
    "    print(i)"
   ]
  },
  {
   "cell_type": "markdown",
   "metadata": {},
   "source": [
    "What did you notice? Are there any differences in the behaviour between these three objects? Is the output what you expected to see?\n",
    "\n",
    "Can you explain why the last one behaves differently after the second time you run it?\n",
    "\n",
    "Try using the `type` command to see the class of each of `my_list` and `my_generator`. Is this what you expected?\n",
    "\n",
    "Generators are useful to create long sequences without using up the memory to store all the values. In a short syntax they let you create iterators to use elsewhere\n",
    "\n",
    "One good use of generators:"
   ]
  },
  {
   "cell_type": "code",
   "execution_count": null,
   "metadata": {},
   "outputs": [],
   "source": [
    "import numpy as np\n",
    "\n",
    "val1 = np.array([_ for _ in range(1000)]) # creates a temporary list, then turns that into an array\n",
    "val2 = np.fromiter((_ for _ in range(1000)), dtype=int) # just the array, no temporary memory required"
   ]
  },
  {
   "cell_type": "markdown",
   "metadata": {},
   "source": [
    "## Exercise 1.2: Fun with lists\n",
    "\n",
    "We can time a how long a function takes to run fairly accurately using the `timeit` module. One way to do this is to call the `timeit.repeat` function:\n",
    "\n",
    "```python\n",
    "import timeit\n",
    "t = timeit.repeat('lst.pop(1)', setup='lst = [1, 2, 3, 4, 5]', repeat=100, number=1)\n",
    "print(t)\n",
    "```\n",
    "\n",
    "Here `repeat` is the number of runs to do, `number` is the number of copies within each run. Since we are only interested in the timing of the list operation, not the creation of the list, we use the `setup` argument to create the list: this then happens before the timing starts. \n",
    "\n",
    "For operations like this on a list, we need to set `number=1`, otherwise our list will keep growing or shrinking with each iteration of the timeit timer (if you are interested in this, you can test it by setting `number` to some value larger than the length of the list and using the pop command - at some point the list will be empty, and can no longer pop a value). The solution here is to use `repeat`, so for each iteration, the setup code will be run, before the timer starts, then the append operation is timed, before we start all over again.\n",
    "\n",
    "This will return a list with a time for each iteration. In this example, there will be 100 times in that list. You can inspect these yourself, the most interesting values will be the mean and minimum in the list. The minimum is interesting as that will be a good indication of how quickly things _can_ run on your computer. If there is lots of variation in those times, you may need to increase `repeat` to a larger number to get some meaningful results."
   ]
  },
  {
   "cell_type": "markdown",
   "metadata": {},
   "source": [
    "### Try these timing operations yourself\n",
    "\n",
    "Using the method above (or your own preferred alternative) try timing the following operations:\n",
    "\n",
    "- Append one value to a list of 5 elements\n",
    "- Insert a new value to the 3rd place( i.e. index 2) in a list of 5 elements\n",
    "- Remove the 3rd value in a list of 6 elements\n",
    "- Remove the 3rd value in a list of 600 elements."
   ]
  },
  {
   "cell_type": "code",
   "execution_count": null,
   "metadata": {},
   "outputs": [],
   "source": [
    "import timeit\n",
    "\n",
    "# Append a value"
   ]
  },
  {
   "cell_type": "code",
   "execution_count": null,
   "metadata": {},
   "outputs": [],
   "source": [
    "# Insert a value"
   ]
  },
  {
   "cell_type": "code",
   "execution_count": null,
   "metadata": {},
   "outputs": [],
   "source": [
    "# Remove a value"
   ]
  },
  {
   "cell_type": "code",
   "execution_count": null,
   "metadata": {},
   "outputs": [],
   "source": [
    "# Remove a value in a large list"
   ]
  },
  {
   "cell_type": "markdown",
   "metadata": {},
   "source": [
    "## Exercise 1.3: Time filling different length lists and plot the results\n",
    "Now, using the function `fill_list` below, time how long it takes to append an element to a list for various sizes. Do you think you can spot the times when the list has to expand itself?"
   ]
  },
  {
   "cell_type": "code",
   "execution_count": null,
   "metadata": {},
   "outputs": [],
   "source": [
    "def fill_list(n):\n",
    "    \"Fill a list with n values\"\n",
    "    return list(range(n))"
   ]
  },
  {
   "cell_type": "markdown",
   "metadata": {},
   "source": [
    "Try plotting the run times. It's likely things won't be too obvious. \n",
    "\n",
    "Since we haven't covered plotting with `matplotlib` in the lectures yet (come back for lecture 7), here's a simple way to plot two arrays/lists against each other, assuming you have a list or array of lengths (`ns`) and a list or array of times (`times`):"
   ]
  },
  {
   "cell_type": "code",
   "execution_count": null,
   "metadata": {},
   "outputs": [],
   "source": [
    "import matplotlib.pyplot as plt\n",
    "\n",
    "fig, ax = plt.subplots()\n",
    "\n",
    "ax.plot(ns, times, 'k-')\n",
    "ax.set_xlabel(\"Length of list\")\n",
    "ax.set_ylabel(\"Average time\")\n",
    "\n",
    "#plt.show()"
   ]
  },
  {
   "cell_type": "markdown",
   "metadata": {},
   "source": [
    "## Exercise 1.4: Hashes and dicts:\n",
    "\n",
    "Python exposes its basic hash operator as `hash()`. Try applying it to the following\n",
    "- An integer (e.g. 3)\n",
    "- A float (e.g. 3.0)\n",
    "- A string (e.g. 'Hello World')\n",
    "\n",
    "Can you observe any difference if you use elements with the same hash as keys in a dictionary?"
   ]
  },
  {
   "cell_type": "code",
   "execution_count": null,
   "metadata": {},
   "outputs": [],
   "source": [
    "# write your code here\n",
    "\n",
    "mydict = {}\n",
    "\n",
    "hash(3.0)"
   ]
  },
  {
   "cell_type": "markdown",
   "metadata": {},
   "source": [
    "# Part II: Extended types\n",
    "\n",
    "## The `collections` module\n",
    "\n",
    "The `collections` module contains a number of helpful data structures, including the `namedtuple` and `deque`.\n",
    "\n",
    "### Exercise 2.1: `namedtuple`s\n",
    "\n",
    "A `namedtuple` lets you quickly create a simple class for storing data without methods, much like a regular tuple but with named fields. "
   ]
  },
  {
   "cell_type": "code",
   "execution_count": null,
   "metadata": {},
   "outputs": [],
   "source": [
    "from collections import namedtuple\n",
    "\n",
    "Point = namedtuple('Point', ('x', 'y', 'z'))\n",
    "\n",
    "point1  = Point(1,2,3)\n",
    "print(point1.z)\n",
    "point2  = Point(z=1,x=2,y=3)\n",
    "print(point2.z)\n"
   ]
  },
  {
   "cell_type": "markdown",
   "metadata": {},
   "source": [
    "Try to create a `namedtuple`  for a class called `Person`, with attributes `name` and `age`."
   ]
  },
  {
   "cell_type": "code",
   "execution_count": null,
   "metadata": {},
   "outputs": [],
   "source": [
    "## Write your code here"
   ]
  },
  {
   "cell_type": "markdown",
   "metadata": {},
   "source": [
    "### Exercise 2.2: `deque`s\n",
    "\n",
    "`deque`s are short for \"double ended queues\" and act like a list to which values can be added on either end."
   ]
  },
  {
   "cell_type": "code",
   "execution_count": null,
   "metadata": {},
   "outputs": [],
   "source": [
    "from collections import deque\n",
    "\n",
    "a = deque((1,2,3))\n",
    "\n",
    "a.append(4)\n",
    "a.appendleft(0)\n",
    "print(a)\n",
    "\n",
    "a.pop()\n",
    "a.popleft()\n",
    "print(a)"
   ]
  },
  {
   "cell_type": "markdown",
   "metadata": {},
   "source": [
    "Time how long it takes to add or pop a value on the right (`append()` or `pop()`) and on the left (`appendleft()` or `popleft()`). How does this compare to using a regular Python list."
   ]
  },
  {
   "cell_type": "code",
   "execution_count": null,
   "metadata": {},
   "outputs": [],
   "source": [
    "## Write your code here"
   ]
  },
  {
   "cell_type": "markdown",
   "metadata": {},
   "source": [
    "# Part III - Python Classes\n",
    "\n",
    "\n",
    "## Exercise 3: Operator Overloading\n",
    "\n",
    "Try to write your own class to implement a [complex number](https://wikipedia.com/Complex_numbers) (note that Python already implements complex numbers as `complex(1,2)` or 1+2j, so this isn't something you would need to do  in live code).\n",
    "\n",
    "You will need to store two `float` values, one to store the real part of the number, and one to store the imaginary part, and write the `__init__` routine to store them. If you call them `real` and `imag` then your new class will be more interoperable with the builtin one.\n",
    "\n",
    "The rules for arithmatic for two complex numbers, $z_1 = x_1 + i y_1$ and $z_2 = x_2+iy_2$ are:\n",
    "$$z_1+z_2 = x_1+x_2 +i \\left(y_1+y_2\\right)$$\n",
    "$$z_1-z_2 = x_1-x_2 +i \\left(y_1-y_2\\right)$$\n",
    "$$z_1\\times z_2 = x_1\\times x_2-y_1\\times y_2 +i \\left(x_1\\times y_2+x_2\\times y_1\\right)$$\n",
    "$$\\frac{z_1}{z_2} = \\frac{x_1\\times x_2+y_1\\times y_2 +i \\left(x_2\\times y_1-x_1\\times y_2\\right)}{x_2^2+y_2^2}$$\n",
    "\n",
    "can you implement these via overloading? What happens if you try to add a normal (i.e. real) float as $z_1+x_2$ or $x_2 + z_1$? If you have time, can you fix this?"
   ]
  },
  {
   "cell_type": "code",
   "execution_count": null,
   "metadata": {},
   "outputs": [],
   "source": []
  }
 ],
 "metadata": {
  "kernelspec": {
   "display_name": "Python 3 (ipykernel)",
   "language": "python",
   "name": "python3"
  },
  "language_info": {
   "codemirror_mode": {
    "name": "ipython",
    "version": 3
   },
   "file_extension": ".py",
   "mimetype": "text/x-python",
   "name": "python",
   "nbconvert_exporter": "python",
   "pygments_lexer": "ipython3",
   "version": "3.12.6"
  }
 },
 "nbformat": 4,
 "nbformat_minor": 4
}
