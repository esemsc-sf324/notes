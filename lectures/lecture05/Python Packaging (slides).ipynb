{
 "cells": [
  {
   "cell_type": "markdown",
   "metadata": {
    "slideshow": {
     "slide_type": "slide"
    }
   },
   "source": [
    "# Python Packaging (Python Development)\n",
    "\n",
    "## Tom Davison\n"
   ]
  },
  {
   "cell_type": "markdown",
   "metadata": {
    "slideshow": {
     "slide_type": "slide"
    }
   },
   "source": [
    "<div class=\"alert alert-block alert-info\">\n",
    "\n",
    "## Learning objectives for today\n",
    "\n",
    "By the end of this lecture you should be able to:\n",
    "\n",
    "- Write Python outside Jupyter;\n",
    "- Explain the similarities & differences between scripts, modules, and packages;\n",
    "- Apply Python coding standards (PEP8) and use linters;\n",
    "- Make and install your own Python package.\n",
    "    \n",
    "### In summary: \n",
    "- **Why** to write reusable code\n",
    "- **How** to write reusable code\n",
    "<div>"
   ]
  },
  {
   "cell_type": "markdown",
   "metadata": {
    "slideshow": {
     "slide_type": "slide"
    }
   },
   "source": [
    "## The many ways to use Python\n",
    "\n",
    "Python is used in many ways:\n",
    "1. Jupyter notebooks (Data Science, Machine Learning, Teaching, Storytelling, Prototyping...)\n",
    "1. Hacking in the interpreter/IPython console\n",
    "1. Small, useful scripts\n",
    "1. Module files: importable code\n",
    "1. Large, stable packages\n",
    "\n",
    "We'll look at all of these today"
   ]
  },
  {
   "attachments": {
    "320px-Jupyter_logo.svg.png": {
     "image/png": "[encoded data removed]"
    }
   },
   "cell_type": "markdown",
   "metadata": {
    "slideshow": {
     "slide_type": "slide"
    }
   },
   "source": [
    "### Jupyter notebooks\n",
    "\n",
    "![320px-Jupyter_logo.svg.png](attachment:320px-Jupyter_logo.svg.png)\n",
    "\n",
    "An executable document (`.ipynb`) that consists of multiple cells that can contain:\n",
    "- Computer code and its output (code cells)\n",
    "- Human-readable and formattable text, equations, and images (Markdown cells)"
   ]
  },
  {
   "cell_type": "markdown",
   "metadata": {
    "slideshow": {
     "slide_type": "slide"
    }
   },
   "source": [
    "### Good points\n",
    "\n",
    "- Self-consistent and executable document\n",
    "- Great for exploration, prototyping, and [documenting workflows](https://ieeexplore.ieee.org/document/9325550).\n",
    "- Used extensively in teaching.\n",
    "- Popular in data science and machine learning.\n",
    "- Can run remotely on a more powerful computer (e.g. Google Colab with GPUs, Binder, JupyterHub...)."
   ]
  },
  {
   "cell_type": "markdown",
   "metadata": {
    "slideshow": {
     "slide_type": "slide"
    }
   },
   "source": [
    "### Bad points\n",
    "\n",
    "- Not very good with `git` & version control (as you have probably experienced so far).\n",
    "- Can run cells out of order.\n",
    "- Can skip cells.\n",
    "- Visible output may not match cell contents.\n",
    "- It is usually good idea to `Kernel` -> `Restart Kernel and Run All Cells`."
   ]
  },
  {
   "cell_type": "code",
   "execution_count": 3,
   "metadata": {
    "slideshow": {
     "slide_type": "subslide"
    }
   },
   "outputs": [],
   "source": [
    "# examples\n",
    "x = 0"
   ]
  },
  {
   "cell_type": "code",
   "execution_count": 2,
   "metadata": {
    "slideshow": {
     "slide_type": "-"
    }
   },
   "outputs": [],
   "source": [
    "x += 1"
   ]
  },
  {
   "cell_type": "code",
   "execution_count": 4,
   "metadata": {
    "slideshow": {
     "slide_type": "-"
    }
   },
   "outputs": [
    {
     "name": "stdout",
     "output_type": "stream",
     "text": [
      "X is odd?: False\n"
     ]
    }
   ],
   "source": [
    "print(f\"X is odd?: {x%2==1}\")"
   ]
  },
  {
   "cell_type": "markdown",
   "metadata": {
    "slideshow": {
     "slide_type": "slide"
    }
   },
   "source": [
    "### The Python interpreter\n",
    "\n",
    "Type `python` on your command line to start an interactive python session. You should see something like this when it starts:\n",
    "\n",
    "```\n",
    "Python 3.12.6 | packaged by Anaconda, Inc. | (main, Oct  3 2024, 02:26:31) [Clang 14.0.6 ] on darwin\n",
    "Type \"help\", \"copyright\", \"credits\" or \"license\" for more information.\n",
    ">>> \n",
    "```\n",
    "\n",
    "Not a user friendly way to run an interactive Python session, but the best supported.\n",
    "- On many Mac and Linux systems (although sometimes quite old), \n",
    "- Very likely to be on network accessible machines.\n",
    "- Quit with `exit()` or <kbd>Ctrl+D</kbd> (Mac/Linux) or <kbd>Ctrl+Z</kbd> <kbd>Return</kbd> (Windows)."
   ]
  },
  {
   "attachments": {
    "download.png": {
     "image/png": "[encoded data removed]"
    }
   },
   "cell_type": "markdown",
   "metadata": {
    "slideshow": {
     "slide_type": "slide"
    }
   },
   "source": [
    "### The IPython console\n",
    "\n",
    "![download.png](attachment:download.png)\n",
    "\n",
    "IPython (aka Interactive Python) much more \"batteries included\"  experience:\n",
    "- better history editor,\n",
    "- better tab completions,\n",
    "- quicker help,\n",
    "- inline matplotlib support."
   ]
  },
  {
   "cell_type": "markdown",
   "metadata": {
    "slideshow": {
     "slide_type": "subslide"
    }
   },
   "source": [
    "IPython interpreter session looks like:\n",
    "```\n",
    "Python 3.12.6 | packaged by Anaconda, Inc. | (main, Oct  3 2024, 02:26:31) [Clang 14.0.6 ]\n",
    "Type 'copyright', 'credits' or 'license' for more information\n",
    "IPython 8.27.0 -- An enhanced Interactive Python. Type '?' for help.\n",
    "\n",
    "In [1]:\n",
    "```\n",
    "Many features should be familiar from Jupyter notebooks. In fact \"under the hood\" Jupyter runs IPython (the Python \"kernel\") to process code."
   ]
  },
  {
   "cell_type": "markdown",
   "metadata": {
    "slideshow": {
     "slide_type": "slide"
    }
   },
   "source": [
    "<div class=alert-info>\n",
    "    \n",
    "<h4> Exercise One:</h4>\n",
    "\n",
    "Run the two sets of commands:\n",
    "<ul><li>in a Jupyter notebook,</li> <li>in the Python interpreter,</li> \n",
    "    <li>in IPython.</li></ul>\n",
    "\n",
    "Then try to make some modifications.\n",
    "        \n",
    "(see <code>Python Packaging (exercises).ipynb</code>)\n",
    "\n",
    "</div>"
   ]
  },
  {
   "cell_type": "markdown",
   "metadata": {
    "slideshow": {
     "slide_type": "slide"
    }
   },
   "source": [
    "## Python Scripts\n",
    "\n",
    "A Python script is a plain text file containing valid Python code and comments (i.e lines starting `#`), which the Python interpreter transforms into instructions for the computer to perform. \n",
    "\n",
    "Script files are written just the same way you'd write Python code in an interactive interpreter, or similar to a notebook. "
   ]
  },
  {
   "cell_type": "markdown",
   "metadata": {
    "slideshow": {
     "slide_type": "subslide"
    }
   },
   "source": [
    "You can run a script:\n",
    "* Through the terminal: `python script.py`\n",
    "* Inside a Jupyter notebook/IPython:\n",
    "  * The `!` symbol allows calls out to the operating system shell\n",
    "    * e.g. `!python script.py`\n",
    "  * We can also use the `%run` magic statement\n",
    "    * e.g. `%run script.py`"
   ]
  },
  {
   "cell_type": "markdown",
   "metadata": {
    "slideshow": {
     "slide_type": "slide"
    }
   },
   "source": [
    "#### Shebangs\n",
    "\n",
    "A \"shebang line\", such as `#!/usr/bin/env python3`, tells Linux/MacOSX this script runs with Python 3. \n",
    "\n",
    "On those systems we can turn the script into an executable file (using `chmod`) and then run it directly, without needing to type `python` first:\n",
    "\n",
    "```bash\n",
    "$ chmod 755 script.py\n",
    "$ ./script.py \n",
    "```\n"
   ]
  },
  {
   "cell_type": "markdown",
   "metadata": {
    "slideshow": {
     "slide_type": "slide"
    }
   },
   "source": [
    "The file doesn't *have* to be in ASCII. Python default is Unicode  (`utf-8`):\n",
    "- Compatibility with ASCII.\n",
    "- Variable-Length Encoding\n",
    "- Popular international standard.\n",
    "-  Multilingual Support, access to characters from most world languages.\n",
    "- Can use letter-like symbols in functions and objects. \n",
    "- Efficient Space Usage, Byte Order, etc."
   ]
  },
  {
   "cell_type": "code",
   "execution_count": 5,
   "metadata": {
    "slideshow": {
     "slide_type": "subslide"
    }
   },
   "outputs": [
    {
     "name": "stdout",
     "output_type": "stream",
     "text": [
      "Hello World!\n"
     ]
    }
   ],
   "source": [
    "def 你好(x):\n",
    "    print('Hello', x)\n",
    "\n",
    "你好('World!')"
   ]
  },
  {
   "cell_type": "code",
   "execution_count": 6,
   "metadata": {
    "slideshow": {
     "slide_type": "subslide"
    }
   },
   "outputs": [
    {
     "name": "stdout",
     "output_type": "stream",
     "text": [
      "不好意思, 我不会说中文.\n",
      "😊\n"
     ]
    }
   ],
   "source": [
    "# Similarly with `utf-8` you can use any Unicode characters you like in comments and strings.\n",
    "def sorry():\n",
    "    \"\"\"😊\"\"\"\n",
    "    return \"不好意思, 我不会说中文.\"\n",
    "\n",
    "print(sorry())\n",
    "print(sorry.__doc__)"
   ]
  },
  {
   "cell_type": "markdown",
   "metadata": {
    "slideshow": {
     "slide_type": "subslide"
    }
   },
   "source": [
    "Fortunately, you can't actually use emoji in function names, so code like\n",
    "\n",
    "\n",
    "```python\n",
    "def 😊(x):\n",
    "   return \"This doesn't work\"\n",
    "```\n",
    "\n",
    "will raise a `SyntaxError` exception."
   ]
  },
  {
   "cell_type": "markdown",
   "metadata": {
    "slideshow": {
     "slide_type": "slide"
    }
   },
   "source": [
    "### Writing a Python script\n",
    "\n",
    "A python script is a text file, you just need a text editor. We'll use [Visual Studio Code](https://code.visualstudio.com):\n",
    "- cross platform lightweight code editor (maybe an IDE, integrated development environment)\n",
    "- distributed by Microsoft,\n",
    "- makes writing, running and understanding Python scripts easier."
   ]
  },
  {
   "cell_type": "markdown",
   "metadata": {
    "slideshow": {
     "slide_type": "slide"
    }
   },
   "source": [
    "Some other IDEs/code editors (multilanguage):\n",
    " - [Spyder](https://www.spyder-ide.org/) another IDE which comes bundled with Anaconda Python installations.\n",
    " - [Visual Studio](https://visualstudio.com/) (Mostly Windows) Visual Studio Code's big brother. The package also contains Windows compilers for various languages.\n",
    " - [Eclipse](https://www.eclipse.org) A cross-platforn open source IDE\n",
    "(python only):\n",
    " - [PyCharm](https://www.jetbrains.com/pycharm/) A Python IDE similar to Spyder.\n",
    " - and [many others...](https://en.wikipedia.org/wiki/Comparison_of_integrated_development_environments#Python)\n",
    " "
   ]
  },
  {
   "cell_type": "markdown",
   "metadata": {
    "slideshow": {
     "slide_type": "slide"
    }
   },
   "source": [
    "Generic text editors with syntax highlighting:\n",
    " - Jupyter - as well as notebooks, it can edit plain text files.\n",
    " - [Emacs](https://www.gnu.org/software/emacs/) (cross platform) Console/Windowed text editor.\n",
    " - [Nano](https://www.nano-editor.org) (cross platform) Console text editor.\n",
    " - [Notepad++](https://notepad-plus-plus.org) (Windows only) GUI text editor\n",
    " - [Vim](https://www.vim.org) (cross platform) Console text editor. \n",
    "\n",
    " \n",
    "Your choice  is personal, use what works for you. Don't be afraid to experiment, or carry on using a favourite."
   ]
  },
  {
   "cell_type": "markdown",
   "metadata": {
    "slideshow": {
     "slide_type": "slide"
    }
   },
   "source": [
    "<div class=alert-info>\n",
    "    \n",
    "<h4> Exercise Two:</h4>\n",
    "\n",
    "Using VS Code (or your own preferred editor), write a Python script to output the first 20 prime numbers.\n",
    "    \n",
    "See the <code>Python Packaging (exercises).ipynb</code> notebook for some tips.\n",
    "    \n",
    "When testing the code, you should expext the output for the first 5 primes to be <code>[2, 3, 5, 7, 11]</code>.\n",
    "\n",
    "</div>"
   ]
  },
  {
   "cell_type": "markdown",
   "metadata": {
    "slideshow": {
     "slide_type": "slide"
    }
   },
   "source": [
    "# *Why* to write scripts?\n",
    "\n",
    "Some key philosophies in coding:\n",
    "\n",
    "- DRY: Don't Repeat Yourself (avoid needless code duplication)\n",
    "- KISS: Keep It Simple/Stupid, \n",
    "- YAGNI: You Ain't Gonna Need It - write useful code\n",
    "\n",
    "Sometimes these compete."
   ]
  },
  {
   "cell_type": "markdown",
   "metadata": {
    "slideshow": {
     "slide_type": "slide"
    }
   },
   "source": [
    "- A good script lets you reuse your code to do one thing (or one sort of thing) with fewer bugs \n",
    "  - less code: fewer bugs\n",
    "- Simplest type of code reuse after copy-pasting (which often ends badly).\n",
    "- Don't need to write extra code you don't need (typical script has a maximum of one class and possibly a few functions)."
   ]
  },
  {
   "cell_type": "markdown",
   "metadata": {
    "slideshow": {
     "slide_type": "slide"
    }
   },
   "source": [
    "An [example script](https://msc-acse.github.io/ACSE-1/lectures/rot13.py), `rot13.py` might look like\n",
    "```python\n",
    "#!/usr/bin/env python3\n",
    "\n",
    "import codecs\n",
    "import sys\n",
    "\n",
    "print(codecs.encode(sys.argv[1], 'rot13'))\n",
    "```"
   ]
  },
  {
   "cell_type": "markdown",
   "metadata": {
    "slideshow": {
     "slide_type": "slide"
    }
   },
   "source": [
    "### Option parsing in Python\n",
    "\n",
    "#### Method 1:  `sys.argv` \n",
    "`sys.argv` is an automatic variable in the `sys` module containing a list of the string arguments given when executing the script, with the first variable (`sys.argv[0]`) being the name of the script itself. So in a call\n",
    "\n",
    "\n",
    "```bash\n",
    "python myscript.py example text 234\n",
    "```\n",
    "\n",
    "```python\n",
    "sys.argv[0] == \"myscript.py\"\n",
    "sys.argv[1] == \"example\"\n",
    "sys.argv[2] == \"text\"\n",
    "sys.argv[3] == \"234\"\n",
    "```"
   ]
  },
  {
   "cell_type": "markdown",
   "metadata": {
    "slideshow": {
     "slide_type": "subslide"
    }
   },
   "source": [
    "See the example script: `argv_example.py`\n",
    "\n",
    "```python\n",
    "import sys\n",
    "\n",
    "print(f\"Number of arguments: {len(sys.argv)}\")\n",
    "print(f\"All the arguments: {sys.argv}\")\n",
    "print(f\"Script name: {sys.argv[0]}\")\n",
    "```\n",
    "```python\n",
    "try:\n",
    "    print(f\"First argument: {sys.argv[1]}\")\n",
    "except IndexError:\n",
    "    print(\"No arguments provided\")\n",
    "    exit()\n",
    "```\n",
    "```python\n",
    "try:\n",
    "    print(f\"Second argument: {sys.argv[2]}\")\n",
    "except IndexError:\n",
    "    print(\"No second argument provided\")\n",
    "    exit()\n",
    "```"
   ]
  },
  {
   "cell_type": "code",
   "execution_count": 7,
   "metadata": {
    "slideshow": {
     "slide_type": "subslide"
    }
   },
   "outputs": [
    {
     "name": "stdout",
     "output_type": "stream",
     "text": [
      "Number of arguments: 4\n",
      "All the arguments: ['argv_example.py', 'hello', '123', 'test']\n",
      "Script name: argv_example.py\n",
      "First argument: hello\n",
      "Second argument: 123\n"
     ]
    }
   ],
   "source": [
    "%run argv_example.py hello 123 test"
   ]
  },
  {
   "cell_type": "markdown",
   "metadata": {
    "slideshow": {
     "slide_type": "slide"
    }
   },
   "source": [
    "Let's go back to `rot13.py`:\n",
    "\n",
    "This file reads a string from the command line (via `sys.argv[1]`) and applies the ROT-13 cypher, which cycles letters in the Latin alphabet through to the one 13 places forward/backward (i.e. maps A => N, N => A, g => t and so on). This cypher is its own inverse."
   ]
  },
  {
   "cell_type": "code",
   "execution_count": 8,
   "metadata": {
    "slideshow": {
     "slide_type": "fragment"
    }
   },
   "outputs": [
    {
     "name": "stdout",
     "output_type": "stream",
     "text": [
      "Hello everybody!\r\n"
     ]
    }
   ],
   "source": [
    "# Now we'll run the rot13.py file from your repository\n",
    "!python rot13.py \"Uryyb rirelobql!\" "
   ]
  },
  {
   "cell_type": "code",
   "execution_count": 9,
   "metadata": {
    "slideshow": {
     "slide_type": "fragment"
    }
   },
   "outputs": [
    {
     "name": "stdout",
     "output_type": "stream",
     "text": [
      "It's a secret!\n"
     ]
    }
   ],
   "source": [
    "%run rot13.py \"Vg'f n frperg!\""
   ]
  },
  {
   "cell_type": "markdown",
   "metadata": {
    "slideshow": {
     "slide_type": "slide"
    }
   },
   "source": [
    "#### Method 2: `argparse` module for argument and options parsing\n",
    "\n",
    "For more complicated options: the [`argparse` module](https://docs.python.org/3.6/library/argparse.html#module-argparse), in the standard python library. This module gives python scripts the (relatively) simple ability to take flags and process (or parse) other complicated inputs."
   ]
  },
  {
   "cell_type": "markdown",
   "metadata": {
    "slideshow": {
     "slide_type": "subslide"
    }
   },
   "source": [
    "A simple example using `argparse`, see `argparse_example.py` in your repository.\n",
    "\n",
    "First we define the different arguments. They can either be \n",
    "- *positional* (required) or \n",
    "- *optional* (start with `-` or `--`)\n",
    "\n",
    "```python\n",
    "import argparse\n",
    "\n",
    "parser = argparse.ArgumentParser(description=\"A minimal argparse example.\")\n",
    "parser.add_argument('name', type=str, help='Your name')\n",
    "parser.add_argument('-a', '--age', type=int, help='Your age', default=0)\n",
    "\n",
    "args = parser.parse_args()\n",
    "```\n",
    "\n",
    "Then we can use these **arguments** like so:\n",
    "```python\n",
    "print(f\"Hello, {args.name}!\")\n",
    "if args.age:\n",
    "    print(f\"You are {args.age} years old.\")\n",
    "```\n"
   ]
  },
  {
   "cell_type": "code",
   "execution_count": 10,
   "metadata": {
    "slideshow": {
     "slide_type": "subslide"
    }
   },
   "outputs": [
    {
     "name": "stdout",
     "output_type": "stream",
     "text": [
      "Hello, Ada!\n",
      "You are 36 years old.\n"
     ]
    }
   ],
   "source": [
    "# Let's run the argparse_example.py file from your repository\n",
    "\n",
    "%run argparse_example.py Ada --age 36\n",
    "# Alternatively: !python argparse_example.py Ada --age 36"
   ]
  },
  {
   "cell_type": "code",
   "execution_count": 11,
   "metadata": {
    "slideshow": {
     "slide_type": "fragment"
    }
   },
   "outputs": [
    {
     "name": "stdout",
     "output_type": "stream",
     "text": [
      "Hello, Charles!\n",
      "You are 54 years old.\n"
     ]
    }
   ],
   "source": [
    "%run argparse_example.py Charles -a 54"
   ]
  },
  {
   "cell_type": "markdown",
   "metadata": {
    "slideshow": {
     "slide_type": "subslide"
    }
   },
   "source": [
    "<div class=alert-info>\n",
    "    \n",
    "<h4>Exercise Three: Find the mean</h4>\n",
    "\n",
    "<p>Write a script to calculate the mean of a sequence of numbers. \n",
    "\n",
    "Using the <code>argparse</code> module to make it take extra options: <code>-b</code>, <code>-o</code> and <code>-x</code> to work with with binary (i.e. base 2, with <code>101 == 5</code> decimal), octal (i.e. base 8, with <code>31 == 25</code> decimal)  and hexadecimal (i.e. base 16 <code>2A == 42</code> decimal) numbers.</p>\n",
    "</div>"
   ]
  },
  {
   "cell_type": "markdown",
   "metadata": {
    "slideshow": {
     "slide_type": "slide"
    }
   },
   "source": [
    "### A reminder on using `matplotlib` in scripts\n",
    "\n",
    "[*Return to this exercise after Thursday's **Visualisation** lecture if you are having trouble with `matplotlib`*]\n",
    "\n",
    "In scripts run in the terminal/prompt, rather than in a notebook, `matplotlib` may not automatically put them on screen. You need to use the `matplotlib.show()` or the `pyplot.show()` command to see them.\n",
    "\n",
    "You can use commands like `matplotlib.savefig('mycoolplot.png')` to write images to disk without human interaction."
   ]
  },
  {
   "cell_type": "markdown",
   "metadata": {
    "slideshow": {
     "slide_type": "fragment"
    }
   },
   "source": [
    "<div class=\"alert-info\">\n",
    "\n",
    "<h4>Exercise Four: Plots in scripts</h4>\n",
    "\n",
    "- Write a script to plot some math functions </p>\n",
    "\n",
    "- Change the script to write to disk </p>\n",
    "\n",
    "</div>"
   ]
  },
  {
   "cell_type": "markdown",
   "metadata": {
    "slideshow": {
     "slide_type": "slide"
    }
   },
   "source": [
    "## PEP8 - The Python style guide\n",
    "\n",
    "Non-ACSII function names & comments are allowed, but Python style guide suggests avoiding them in the standard library. This [style guide](https://www.python.org/dev/peps/pep-0008/), is known as PEP8.\n",
    "\n",
    "[Python Enhancement Proposals](https://www.python.org/dev/peps/) (PEPs) are mechanism through which Python expands & improves. Suggestions discussed & debated, before being implemented/rejected. PEP8 describes suggestions for good Python code.\n",
    "Guido van Rossum (Python creator) noted that most code is read more often than it is written. \n",
    "\n",
    "Single most important aspect of code is readability."
   ]
  },
  {
   "cell_type": "markdown",
   "metadata": {
    "slideshow": {
     "slide_type": "subslide"
    }
   },
   "source": [
    "Note PEP8 doesn't cover every decision. There are more detailed guides:\n",
    "- at the project level (e.g. see [`numpy`](https://numpydoc.readthedocs.io/en/latest/format.html))\n",
    "- for entire organizations (e.g. see the [Google Python Style Guide](https://github.com/google/styleguide/blob/gh-pages/pyguide.md))\n",
    "\n",
    "In your own projects, you're the boss, but PEP8 is a useful minimum (and **will gain/lose you marks during many assessed exercises in this course**). \n",
    "\n",
    "It's useful to consider the choices other projects make."
   ]
  },
  {
   "cell_type": "markdown",
   "metadata": {
    "slideshow": {
     "slide_type": "subslide"
    }
   },
   "source": [
    "Many tools to perform code linting with python. You have already seen some examples of this with Rhodri in lecture 3 (e.g. `flake8`).\n",
    "\n",
    "- lightweight `pycodestyle` package, which just checks PEP8.\n",
    "- `pylint` also performs [static code analysis](https://en.wikipedia.org/wiki/Static_program_analysis).\n",
    "- `pyflakes` / `flake8`\n",
    "- `ruff`: modern, fast alternative to many of the tools mentioned above. Also works with Jupyter notebooks.\n",
    "\n",
    "They examine your code, without actually running it, looking for bad [\"code smells\"](https://en.wikipedia.org/wiki/Code_smell)/syntax."
   ]
  },
  {
   "cell_type": "markdown",
   "metadata": {
    "slideshow": {
     "slide_type": "subslide"
    }
   },
   "source": [
    "Extensions to run many of these tools are offered as [optional](https://code.visualstudio.com/docs/python/linting) when using VS Code to edit Python code.  \n",
    "\n",
    "Can also select to [use automatic](https://code.visualstudio.com/docs/python/editing#_formatting) `pep8` corrections as you type, and/or run a full `pep8` check each time a document is saved. Both very useful to catch mistakes as you type them."
   ]
  },
  {
   "cell_type": "markdown",
   "metadata": {
    "slideshow": {
     "slide_type": "subslide"
    }
   },
   "source": [
    "### Other hints for writing good Python scripts:\n",
    "\n",
    " - Explicit is better than implicit.\n",
    " - Don't duplicate code, use functions.\n",
    " - Keep things small enough to read in one go.\n",
    " - Keep variable names meaningful.\n",
    " - Simple is often better than clever.\n",
    " - Practise the principle of least astonishment.\n",
    " - Add comments exactly when they add meaning."
   ]
  },
  {
   "cell_type": "markdown",
   "metadata": {
    "slideshow": {
     "slide_type": "subslide"
    }
   },
   "source": [
    "For further discussion, see resources like:\n",
    "- [Google's Python Style Guide](https://google.github.io/styleguide/pyguide.html),\n",
    "- the [Hitchhiker's Guide to Python](https://docs.python-guide.org/writing/style/) \n",
    "- style guides for large open source python projects such as [Django](https://docs.djangoproject.com/en/dev/internals/contributing/writing-code/coding-style/) or [numpy](https://numpydoc.readthedocs.io/en/latest/format.html)"
   ]
  },
  {
   "cell_type": "markdown",
   "metadata": {
    "slideshow": {
     "slide_type": "slide"
    }
   },
   "source": [
    "<div class=alert-info>\n",
    "\n",
    "<h4> Exercise Five: Fix the script</h4>\n",
    "\n",
    "Take the example script from exercise 5 in the <code>Python Packaging (exercises).ipynb</code> notebook and fix it to meet the `pep8` standard, using one of the linting tools mentioned above. \n",
    "    \n",
    "If you want more practice, is another example of a script that needs fixing in the repository: <code>bad_pep8.py</code>.\n",
    "\n",
    "</div>"
   ]
  },
  {
   "cell_type": "markdown",
   "metadata": {
    "slideshow": {
     "slide_type": "slide"
    }
   },
   "source": [
    "## Python Modules\n",
    "\n",
    "- Python modules files contain code you `import` into your scripts and programs. \n",
    "- External file from which you are using (or _reusing_) content. \n",
    "- In other languages, might be called a library file. \n",
    "- A pure Python module file is just like a script, except it expects to be `import`-ed.\n",
    "- No default output, maybe lots of related functions and classes."
   ]
  },
  {
   "cell_type": "markdown",
   "metadata": {
    "slideshow": {
     "slide_type": "subslide"
    }
   },
   "source": [
    "The  code for a (very short) module, `code_mod.py`:\n",
    "\n",
    "```python\n",
    "\"\"\"Wrapper for rot13 encoding.\"\"\" \n",
    "\n",
    "import codecs\n",
    "\n",
    "def rot13(input):\n",
    "    \"\"\"Return the rot13 encoding of an input string.\"\"\"\n",
    "    return codecs.encode(str(input), 'rot13')\n",
    "```"
   ]
  },
  {
   "cell_type": "code",
   "execution_count": 12,
   "metadata": {
    "slideshow": {
     "slide_type": "subslide"
    }
   },
   "outputs": [
    {
     "data": {
      "text/plain": [
       "'Hello everybody!'"
      ]
     },
     "execution_count": 12,
     "metadata": {},
     "output_type": "execute_result"
    }
   ],
   "source": [
    "import code_mod\n",
    "code_mod.rot13(\"Uryyb rirelobql!\")"
   ]
  },
  {
   "cell_type": "markdown",
   "metadata": {
    "slideshow": {
     "slide_type": "slide"
    }
   },
   "source": [
    "# _Why_ write modules?\n",
    "\n",
    "- Often different scripts/programs want to do the same thing.\n",
    "- Avoid needless code duplication\n",
    "- Simpler to update\n",
    "- Simpler to test"
   ]
  },
  {
   "cell_type": "markdown",
   "metadata": {
    "slideshow": {
     "slide_type": "slide"
    }
   },
   "source": [
    "### The `import` command\n",
    "\n",
    "#### The `import` search path\n",
    "\n",
    "After looking in the current directory, Python uses the other directories inside the `sys.path` variable, in order, when asked to find files via an import command."
   ]
  },
  {
   "cell_type": "code",
   "execution_count": null,
   "metadata": {
    "slideshow": {
     "slide_type": "subslide"
    }
   },
   "outputs": [],
   "source": [
    "import sys\n",
    "\n",
    "print(sys.path)"
   ]
  },
  {
   "cell_type": "markdown",
   "metadata": {
    "slideshow": {
     "slide_type": "slide"
    }
   },
   "source": [
    "This `sys.path` variable can be changed inside a Python script itself, for example:"
   ]
  },
  {
   "cell_type": "code",
   "execution_count": null,
   "metadata": {
    "slideshow": {
     "slide_type": "fragment"
    }
   },
   "outputs": [],
   "source": [
    "import sys\n",
    "\n",
    "# Add a new path\n",
    "sys.path.insert(0, '/some/other/path/')\n",
    "\n",
    "print(sys.path)"
   ]
  },
  {
   "cell_type": "markdown",
   "metadata": {
    "slideshow": {
     "slide_type": "subslide"
    }
   },
   "source": [
    "You can also modify this search path before starting your Python session using the `PYTHONPATH` environment variable in your terminal\n",
    "\n",
    "```bash\n",
    "export PYTHONPATH=/some/new/path:$PYTHONPATH\n",
    "```\n",
    "\n",
    "And then run your script as usual from the terminal."
   ]
  },
  {
   "cell_type": "markdown",
   "metadata": {
    "slideshow": {
     "slide_type": "subslide"
    }
   },
   "source": [
    "#### The `importlib.reload` and `%reset` commands.\n",
    "\n",
    "The python command `reload` in the `importlib` module tells the interpreter to update its record of the contents of an indivual module. This can be useful during an interactive interpreter session if you update a code in a module or package, whether automatically, or by editting the file by hand.\n",
    "\n",
    "The IPython/Jupyter magic command `%reset` clears elements of the interpreter history and resets things back to their original blank state."
   ]
  },
  {
   "cell_type": "code",
   "execution_count": 13,
   "metadata": {
    "slideshow": {
     "slide_type": "subslide"
    }
   },
   "outputs": [
    {
     "name": "stdout",
     "output_type": "stream",
     "text": [
      "Let's reload this module\n"
     ]
    }
   ],
   "source": [
    "import code_mod\n",
    "\n",
    "print(code_mod.rot13(\"Yrg'f erybnq guvf zbqhyr\"))"
   ]
  },
  {
   "cell_type": "code",
   "execution_count": null,
   "metadata": {
    "slideshow": {
     "slide_type": "fragment"
    }
   },
   "outputs": [],
   "source": [
    "# make some change to code_mod\n",
    "\n",
    "from importlib import reload\n",
    "reload(code_mod)\n",
    "\n",
    "print(code_mod.rot13(\"Abj jr unir bhe punatrf\"))"
   ]
  },
  {
   "cell_type": "code",
   "execution_count": 14,
   "metadata": {
    "slideshow": {
     "slide_type": "subslide"
    }
   },
   "outputs": [
    {
     "name": "stdout",
     "output_type": "stream",
     "text": [
      "7\n"
     ]
    }
   ],
   "source": [
    "x = 7\n",
    "print(x)"
   ]
  },
  {
   "cell_type": "code",
   "execution_count": 15,
   "metadata": {},
   "outputs": [
    {
     "name": "stdout",
     "output_type": "stream",
     "text": [
      "name 'x' is not defined\n"
     ]
    }
   ],
   "source": [
    "# by itself, %reset asks the user for confirmation.\n",
    "# %reset -f forces it to proceed.\n",
    "%reset -f\n",
    "try:\n",
    "    print(x)\n",
    "except NameError as e:\n",
    "    print(e)"
   ]
  },
  {
   "cell_type": "markdown",
   "metadata": {
    "slideshow": {
     "slide_type": "subslide"
    }
   },
   "source": [
    "## Python docstrings for scripts, modules, and packages.\n",
    "\n",
    "As you were told in the introduction to Python course, the text between the `\"\"\"` blocks is called a docstring. It should appear at the top of scripts and module files, (or just below the shebang line, if one is needed) and as the first text lines inside `classes` or function `def` blocks. Python uses it to generate help information if asked. This information is stored in the object `__doc__` attribute."
   ]
  },
  {
   "cell_type": "code",
   "execution_count": null,
   "metadata": {
    "slideshow": {
     "slide_type": "subslide"
    }
   },
   "outputs": [],
   "source": [
    "import code_mod\n",
    "\n",
    "code_mod.rot13?"
   ]
  },
  {
   "cell_type": "markdown",
   "metadata": {
    "slideshow": {
     "slide_type": "subslide"
    }
   },
   "source": [
    "There is actually a PEP, [PEP257](https://www.python.org/dev/peps/pep-0257/) describing a good docstring. It suggests:\n",
    " - One line docstrings should be a full sentence describing the effect\n",
    "   ```python\n",
    "   def mod5(a):\n",
    "       \"\"\"Return the value of a number modulus 5.\"\"\"\n",
    "       return a%5\n",
    "    ```\n",
    " - Multiline docstings should start with a one line summary.\n",
    " - The docstring of a pure script should be a \"usage\" message.\n",
    " - The docstring for a module should list the classes and functions (and any other objects) exported by the module, with a one-line summary of each."
   ]
  },
  {
   "cell_type": "markdown",
   "metadata": {
    "slideshow": {
     "slide_type": "slide"
    }
   },
   "source": [
    " \n",
    "#### The `numpydoc` standard\n",
    "\n",
    "`numpy` has its own [standards](https://numpydoc.readthedocs.io/en/latest/), well suited to numerical code, especially `numpy`-based code. You have already seen examples of `numpydoc`, but lets give another. The docstring in the `mandlebrot` function below follows this standard.\n",
    "\n",
    "It should:\n",
    "\n",
    "- include a short description of what the function does\n",
    "- specify the `Parameters` (i.e. the inputs to the function), and if relevant, define the expected `type` for each parameter.\n",
    "- define the `Returns` (i.e. the values returns from the function), including the `type`\n"
   ]
  },
  {
   "cell_type": "code",
   "execution_count": 16,
   "metadata": {
    "slideshow": {
     "slide_type": "subslide"
    }
   },
   "outputs": [],
   "source": [
    "%matplotlib notebook\n",
    "\n",
    "import copy\n",
    "import numpy as np\n",
    "import matplotlib.cm as cm\n",
    "import matplotlib.pyplot as plt"
   ]
  },
  {
   "cell_type": "code",
   "execution_count": 17,
   "metadata": {
    "slideshow": {
     "slide_type": "subslide"
    }
   },
   "outputs": [
    {
     "data": {
      "application/javascript": [
       "/* Put everything inside the global mpl namespace */\n",
       "/* global mpl */\n",
       "window.mpl = {};\n",
       "\n",
       "mpl.get_websocket_type = function () {\n",
       "    if (typeof WebSocket !== 'undefined') {\n",
       "        return WebSocket;\n",
       "    } else if (typeof MozWebSocket !== 'undefined') {\n",
       "        return MozWebSocket;\n",
       "    } else {\n",
       "        alert(\n",
       "            'Your browser does not have WebSocket support. ' +\n",
       "                'Please try Chrome, Safari or Firefox ≥ 6. ' +\n",
       "                'Firefox 4 and 5 are also supported but you ' +\n",
       "                'have to enable WebSockets in about:config.'\n",
       "        );\n",
       "    }\n",
       "};\n",
       "\n",
       "mpl.figure = function (figure_id, websocket, ondownload, parent_element) {\n",
       "    this.id = figure_id;\n",
       "\n",
       "    this.ws = websocket;\n",
       "\n",
       "    this.supports_binary = this.ws.binaryType !== undefined;\n",
       "\n",
       "    if (!this.supports_binary) {\n",
       "        var warnings = document.getElementById('mpl-warnings');\n",
       "        if (warnings) {\n",
       "            warnings.style.display = 'block';\n",
       "            warnings.textContent =\n",
       "                'This browser does not support binary websocket messages. ' +\n",
       "                'Performance may be slow.';\n",
       "        }\n",
       "    }\n",
       "\n",
       "    this.imageObj = new Image();\n",
       "\n",
       "    this.context = undefined;\n",
       "    this.message = undefined;\n",
       "    this.canvas = undefined;\n",
       "    this.rubberband_canvas = undefined;\n",
       "    this.rubberband_context = undefined;\n",
       "    this.format_dropdown = undefined;\n",
       "\n",
       "    this.image_mode = 'full';\n",
       "\n",
       "    this.root = document.createElement('div');\n",
       "    this.root.setAttribute('style', 'display: inline-block');\n",
       "    this._root_extra_style(this.root);\n",
       "\n",
       "    parent_element.appendChild(this.root);\n",
       "\n",
       "    this._init_header(this);\n",
       "    this._init_canvas(this);\n",
       "    this._init_toolbar(this);\n",
       "\n",
       "    var fig = this;\n",
       "\n",
       "    this.waiting = false;\n",
       "\n",
       "    this.ws.onopen = function () {\n",
       "        fig.send_message('supports_binary', { value: fig.supports_binary });\n",
       "        fig.send_message('send_image_mode', {});\n",
       "        if (fig.ratio !== 1) {\n",
       "            fig.send_message('set_device_pixel_ratio', {\n",
       "                device_pixel_ratio: fig.ratio,\n",
       "            });\n",
       "        }\n",
       "        fig.send_message('refresh', {});\n",
       "    };\n",
       "\n",
       "    this.imageObj.onload = function () {\n",
       "        if (fig.image_mode === 'full') {\n",
       "            // Full images could contain transparency (where diff images\n",
       "            // almost always do), so we need to clear the canvas so that\n",
       "            // there is no ghosting.\n",
       "            fig.context.clearRect(0, 0, fig.canvas.width, fig.canvas.height);\n",
       "        }\n",
       "        fig.context.drawImage(fig.imageObj, 0, 0);\n",
       "    };\n",
       "\n",
       "    this.imageObj.onunload = function () {\n",
       "        fig.ws.close();\n",
       "    };\n",
       "\n",
       "    this.ws.onmessage = this._make_on_message_function(this);\n",
       "\n",
       "    this.ondownload = ondownload;\n",
       "};\n",
       "\n",
       "mpl.figure.prototype._init_header = function () {\n",
       "    var titlebar = document.createElement('div');\n",
       "    titlebar.classList =\n",
       "        'ui-dialog-titlebar ui-widget-header ui-corner-all ui-helper-clearfix';\n",
       "    var titletext = document.createElement('div');\n",
       "    titletext.classList = 'ui-dialog-title';\n",
       "    titletext.setAttribute(\n",
       "        'style',\n",
       "        'width: 100%; text-align: center; padding: 3px;'\n",
       "    );\n",
       "    titlebar.appendChild(titletext);\n",
       "    this.root.appendChild(titlebar);\n",
       "    this.header = titletext;\n",
       "};\n",
       "\n",
       "mpl.figure.prototype._canvas_extra_style = function (_canvas_div) {};\n",
       "\n",
       "mpl.figure.prototype._root_extra_style = function (_canvas_div) {};\n",
       "\n",
       "mpl.figure.prototype._init_canvas = function () {\n",
       "    var fig = this;\n",
       "\n",
       "    var canvas_div = (this.canvas_div = document.createElement('div'));\n",
       "    canvas_div.setAttribute('tabindex', '0');\n",
       "    canvas_div.setAttribute(\n",
       "        'style',\n",
       "        'border: 1px solid #ddd;' +\n",
       "            'box-sizing: content-box;' +\n",
       "            'clear: both;' +\n",
       "            'min-height: 1px;' +\n",
       "            'min-width: 1px;' +\n",
       "            'outline: 0;' +\n",
       "            'overflow: hidden;' +\n",
       "            'position: relative;' +\n",
       "            'resize: both;' +\n",
       "            'z-index: 2;'\n",
       "    );\n",
       "\n",
       "    function on_keyboard_event_closure(name) {\n",
       "        return function (event) {\n",
       "            return fig.key_event(event, name);\n",
       "        };\n",
       "    }\n",
       "\n",
       "    canvas_div.addEventListener(\n",
       "        'keydown',\n",
       "        on_keyboard_event_closure('key_press')\n",
       "    );\n",
       "    canvas_div.addEventListener(\n",
       "        'keyup',\n",
       "        on_keyboard_event_closure('key_release')\n",
       "    );\n",
       "\n",
       "    this._canvas_extra_style(canvas_div);\n",
       "    this.root.appendChild(canvas_div);\n",
       "\n",
       "    var canvas = (this.canvas = document.createElement('canvas'));\n",
       "    canvas.classList.add('mpl-canvas');\n",
       "    canvas.setAttribute(\n",
       "        'style',\n",
       "        'box-sizing: content-box;' +\n",
       "            'pointer-events: none;' +\n",
       "            'position: relative;' +\n",
       "            'z-index: 0;'\n",
       "    );\n",
       "\n",
       "    this.context = canvas.getContext('2d');\n",
       "\n",
       "    var backingStore =\n",
       "        this.context.backingStorePixelRatio ||\n",
       "        this.context.webkitBackingStorePixelRatio ||\n",
       "        this.context.mozBackingStorePixelRatio ||\n",
       "        this.context.msBackingStorePixelRatio ||\n",
       "        this.context.oBackingStorePixelRatio ||\n",
       "        this.context.backingStorePixelRatio ||\n",
       "        1;\n",
       "\n",
       "    this.ratio = (window.devicePixelRatio || 1) / backingStore;\n",
       "\n",
       "    var rubberband_canvas = (this.rubberband_canvas = document.createElement(\n",
       "        'canvas'\n",
       "    ));\n",
       "    rubberband_canvas.setAttribute(\n",
       "        'style',\n",
       "        'box-sizing: content-box;' +\n",
       "            'left: 0;' +\n",
       "            'pointer-events: none;' +\n",
       "            'position: absolute;' +\n",
       "            'top: 0;' +\n",
       "            'z-index: 1;'\n",
       "    );\n",
       "\n",
       "    // Apply a ponyfill if ResizeObserver is not implemented by browser.\n",
       "    if (this.ResizeObserver === undefined) {\n",
       "        if (window.ResizeObserver !== undefined) {\n",
       "            this.ResizeObserver = window.ResizeObserver;\n",
       "        } else {\n",
       "            var obs = _JSXTOOLS_RESIZE_OBSERVER({});\n",
       "            this.ResizeObserver = obs.ResizeObserver;\n",
       "        }\n",
       "    }\n",
       "\n",
       "    this.resizeObserverInstance = new this.ResizeObserver(function (entries) {\n",
       "        // There's no need to resize if the WebSocket is not connected:\n",
       "        // - If it is still connecting, then we will get an initial resize from\n",
       "        //   Python once it connects.\n",
       "        // - If it has disconnected, then resizing will clear the canvas and\n",
       "        //   never get anything back to refill it, so better to not resize and\n",
       "        //   keep something visible.\n",
       "        if (fig.ws.readyState != 1) {\n",
       "            return;\n",
       "        }\n",
       "        var nentries = entries.length;\n",
       "        for (var i = 0; i < nentries; i++) {\n",
       "            var entry = entries[i];\n",
       "            var width, height;\n",
       "            if (entry.contentBoxSize) {\n",
       "                if (entry.contentBoxSize instanceof Array) {\n",
       "                    // Chrome 84 implements new version of spec.\n",
       "                    width = entry.contentBoxSize[0].inlineSize;\n",
       "                    height = entry.contentBoxSize[0].blockSize;\n",
       "                } else {\n",
       "                    // Firefox implements old version of spec.\n",
       "                    width = entry.contentBoxSize.inlineSize;\n",
       "                    height = entry.contentBoxSize.blockSize;\n",
       "                }\n",
       "            } else {\n",
       "                // Chrome <84 implements even older version of spec.\n",
       "                width = entry.contentRect.width;\n",
       "                height = entry.contentRect.height;\n",
       "            }\n",
       "\n",
       "            // Keep the size of the canvas and rubber band canvas in sync with\n",
       "            // the canvas container.\n",
       "            if (entry.devicePixelContentBoxSize) {\n",
       "                // Chrome 84 implements new version of spec.\n",
       "                canvas.setAttribute(\n",
       "                    'width',\n",
       "                    entry.devicePixelContentBoxSize[0].inlineSize\n",
       "                );\n",
       "                canvas.setAttribute(\n",
       "                    'height',\n",
       "                    entry.devicePixelContentBoxSize[0].blockSize\n",
       "                );\n",
       "            } else {\n",
       "                canvas.setAttribute('width', width * fig.ratio);\n",
       "                canvas.setAttribute('height', height * fig.ratio);\n",
       "            }\n",
       "            /* This rescales the canvas back to display pixels, so that it\n",
       "             * appears correct on HiDPI screens. */\n",
       "            canvas.style.width = width + 'px';\n",
       "            canvas.style.height = height + 'px';\n",
       "\n",
       "            rubberband_canvas.setAttribute('width', width);\n",
       "            rubberband_canvas.setAttribute('height', height);\n",
       "\n",
       "            // And update the size in Python. We ignore the initial 0/0 size\n",
       "            // that occurs as the element is placed into the DOM, which should\n",
       "            // otherwise not happen due to the minimum size styling.\n",
       "            if (width != 0 && height != 0) {\n",
       "                fig.request_resize(width, height);\n",
       "            }\n",
       "        }\n",
       "    });\n",
       "    this.resizeObserverInstance.observe(canvas_div);\n",
       "\n",
       "    function on_mouse_event_closure(name) {\n",
       "        /* User Agent sniffing is bad, but WebKit is busted:\n",
       "         * https://bugs.webkit.org/show_bug.cgi?id=144526\n",
       "         * https://bugs.webkit.org/show_bug.cgi?id=181818\n",
       "         * The worst that happens here is that they get an extra browser\n",
       "         * selection when dragging, if this check fails to catch them.\n",
       "         */\n",
       "        var UA = navigator.userAgent;\n",
       "        var isWebKit = /AppleWebKit/.test(UA) && !/Chrome/.test(UA);\n",
       "        if(isWebKit) {\n",
       "            return function (event) {\n",
       "                /* This prevents the web browser from automatically changing to\n",
       "                 * the text insertion cursor when the button is pressed. We\n",
       "                 * want to control all of the cursor setting manually through\n",
       "                 * the 'cursor' event from matplotlib */\n",
       "                event.preventDefault()\n",
       "                return fig.mouse_event(event, name);\n",
       "            };\n",
       "        } else {\n",
       "            return function (event) {\n",
       "                return fig.mouse_event(event, name);\n",
       "            };\n",
       "        }\n",
       "    }\n",
       "\n",
       "    canvas_div.addEventListener(\n",
       "        'mousedown',\n",
       "        on_mouse_event_closure('button_press')\n",
       "    );\n",
       "    canvas_div.addEventListener(\n",
       "        'mouseup',\n",
       "        on_mouse_event_closure('button_release')\n",
       "    );\n",
       "    canvas_div.addEventListener(\n",
       "        'dblclick',\n",
       "        on_mouse_event_closure('dblclick')\n",
       "    );\n",
       "    // Throttle sequential mouse events to 1 every 20ms.\n",
       "    canvas_div.addEventListener(\n",
       "        'mousemove',\n",
       "        on_mouse_event_closure('motion_notify')\n",
       "    );\n",
       "\n",
       "    canvas_div.addEventListener(\n",
       "        'mouseenter',\n",
       "        on_mouse_event_closure('figure_enter')\n",
       "    );\n",
       "    canvas_div.addEventListener(\n",
       "        'mouseleave',\n",
       "        on_mouse_event_closure('figure_leave')\n",
       "    );\n",
       "\n",
       "    canvas_div.addEventListener('wheel', function (event) {\n",
       "        if (event.deltaY < 0) {\n",
       "            event.step = 1;\n",
       "        } else {\n",
       "            event.step = -1;\n",
       "        }\n",
       "        on_mouse_event_closure('scroll')(event);\n",
       "    });\n",
       "\n",
       "    canvas_div.appendChild(canvas);\n",
       "    canvas_div.appendChild(rubberband_canvas);\n",
       "\n",
       "    this.rubberband_context = rubberband_canvas.getContext('2d');\n",
       "    this.rubberband_context.strokeStyle = '#000000';\n",
       "\n",
       "    this._resize_canvas = function (width, height, forward) {\n",
       "        if (forward) {\n",
       "            canvas_div.style.width = width + 'px';\n",
       "            canvas_div.style.height = height + 'px';\n",
       "        }\n",
       "    };\n",
       "\n",
       "    // Disable right mouse context menu.\n",
       "    canvas_div.addEventListener('contextmenu', function (_e) {\n",
       "        event.preventDefault();\n",
       "        return false;\n",
       "    });\n",
       "\n",
       "    function set_focus() {\n",
       "        canvas.focus();\n",
       "        canvas_div.focus();\n",
       "    }\n",
       "\n",
       "    window.setTimeout(set_focus, 100);\n",
       "};\n",
       "\n",
       "mpl.figure.prototype._init_toolbar = function () {\n",
       "    var fig = this;\n",
       "\n",
       "    var toolbar = document.createElement('div');\n",
       "    toolbar.classList = 'mpl-toolbar';\n",
       "    this.root.appendChild(toolbar);\n",
       "\n",
       "    function on_click_closure(name) {\n",
       "        return function (_event) {\n",
       "            return fig.toolbar_button_onclick(name);\n",
       "        };\n",
       "    }\n",
       "\n",
       "    function on_mouseover_closure(tooltip) {\n",
       "        return function (event) {\n",
       "            if (!event.currentTarget.disabled) {\n",
       "                return fig.toolbar_button_onmouseover(tooltip);\n",
       "            }\n",
       "        };\n",
       "    }\n",
       "\n",
       "    fig.buttons = {};\n",
       "    var buttonGroup = document.createElement('div');\n",
       "    buttonGroup.classList = 'mpl-button-group';\n",
       "    for (var toolbar_ind in mpl.toolbar_items) {\n",
       "        var name = mpl.toolbar_items[toolbar_ind][0];\n",
       "        var tooltip = mpl.toolbar_items[toolbar_ind][1];\n",
       "        var image = mpl.toolbar_items[toolbar_ind][2];\n",
       "        var method_name = mpl.toolbar_items[toolbar_ind][3];\n",
       "\n",
       "        if (!name) {\n",
       "            /* Instead of a spacer, we start a new button group. */\n",
       "            if (buttonGroup.hasChildNodes()) {\n",
       "                toolbar.appendChild(buttonGroup);\n",
       "            }\n",
       "            buttonGroup = document.createElement('div');\n",
       "            buttonGroup.classList = 'mpl-button-group';\n",
       "            continue;\n",
       "        }\n",
       "\n",
       "        var button = (fig.buttons[name] = document.createElement('button'));\n",
       "        button.classList = 'mpl-widget';\n",
       "        button.setAttribute('role', 'button');\n",
       "        button.setAttribute('aria-disabled', 'false');\n",
       "        button.addEventListener('click', on_click_closure(method_name));\n",
       "        button.addEventListener('mouseover', on_mouseover_closure(tooltip));\n",
       "\n",
       "        var icon_img = document.createElement('img');\n",
       "        icon_img.src = '_images/' + image + '.png';\n",
       "        icon_img.srcset = '_images/' + image + '_large.png 2x';\n",
       "        icon_img.alt = tooltip;\n",
       "        button.appendChild(icon_img);\n",
       "\n",
       "        buttonGroup.appendChild(button);\n",
       "    }\n",
       "\n",
       "    if (buttonGroup.hasChildNodes()) {\n",
       "        toolbar.appendChild(buttonGroup);\n",
       "    }\n",
       "\n",
       "    var fmt_picker = document.createElement('select');\n",
       "    fmt_picker.classList = 'mpl-widget';\n",
       "    toolbar.appendChild(fmt_picker);\n",
       "    this.format_dropdown = fmt_picker;\n",
       "\n",
       "    for (var ind in mpl.extensions) {\n",
       "        var fmt = mpl.extensions[ind];\n",
       "        var option = document.createElement('option');\n",
       "        option.selected = fmt === mpl.default_extension;\n",
       "        option.innerHTML = fmt;\n",
       "        fmt_picker.appendChild(option);\n",
       "    }\n",
       "\n",
       "    var status_bar = document.createElement('span');\n",
       "    status_bar.classList = 'mpl-message';\n",
       "    toolbar.appendChild(status_bar);\n",
       "    this.message = status_bar;\n",
       "};\n",
       "\n",
       "mpl.figure.prototype.request_resize = function (x_pixels, y_pixels) {\n",
       "    // Request matplotlib to resize the figure. Matplotlib will then trigger a resize in the client,\n",
       "    // which will in turn request a refresh of the image.\n",
       "    this.send_message('resize', { width: x_pixels, height: y_pixels });\n",
       "};\n",
       "\n",
       "mpl.figure.prototype.send_message = function (type, properties) {\n",
       "    properties['type'] = type;\n",
       "    properties['figure_id'] = this.id;\n",
       "    this.ws.send(JSON.stringify(properties));\n",
       "};\n",
       "\n",
       "mpl.figure.prototype.send_draw_message = function () {\n",
       "    if (!this.waiting) {\n",
       "        this.waiting = true;\n",
       "        this.ws.send(JSON.stringify({ type: 'draw', figure_id: this.id }));\n",
       "    }\n",
       "};\n",
       "\n",
       "mpl.figure.prototype.handle_save = function (fig, _msg) {\n",
       "    var format_dropdown = fig.format_dropdown;\n",
       "    var format = format_dropdown.options[format_dropdown.selectedIndex].value;\n",
       "    fig.ondownload(fig, format);\n",
       "};\n",
       "\n",
       "mpl.figure.prototype.handle_resize = function (fig, msg) {\n",
       "    var size = msg['size'];\n",
       "    if (size[0] !== fig.canvas.width || size[1] !== fig.canvas.height) {\n",
       "        fig._resize_canvas(size[0], size[1], msg['forward']);\n",
       "        fig.send_message('refresh', {});\n",
       "    }\n",
       "};\n",
       "\n",
       "mpl.figure.prototype.handle_rubberband = function (fig, msg) {\n",
       "    var x0 = msg['x0'] / fig.ratio;\n",
       "    var y0 = (fig.canvas.height - msg['y0']) / fig.ratio;\n",
       "    var x1 = msg['x1'] / fig.ratio;\n",
       "    var y1 = (fig.canvas.height - msg['y1']) / fig.ratio;\n",
       "    x0 = Math.floor(x0) + 0.5;\n",
       "    y0 = Math.floor(y0) + 0.5;\n",
       "    x1 = Math.floor(x1) + 0.5;\n",
       "    y1 = Math.floor(y1) + 0.5;\n",
       "    var min_x = Math.min(x0, x1);\n",
       "    var min_y = Math.min(y0, y1);\n",
       "    var width = Math.abs(x1 - x0);\n",
       "    var height = Math.abs(y1 - y0);\n",
       "\n",
       "    fig.rubberband_context.clearRect(\n",
       "        0,\n",
       "        0,\n",
       "        fig.canvas.width / fig.ratio,\n",
       "        fig.canvas.height / fig.ratio\n",
       "    );\n",
       "\n",
       "    fig.rubberband_context.strokeRect(min_x, min_y, width, height);\n",
       "};\n",
       "\n",
       "mpl.figure.prototype.handle_figure_label = function (fig, msg) {\n",
       "    // Updates the figure title.\n",
       "    fig.header.textContent = msg['label'];\n",
       "};\n",
       "\n",
       "mpl.figure.prototype.handle_cursor = function (fig, msg) {\n",
       "    fig.canvas_div.style.cursor = msg['cursor'];\n",
       "};\n",
       "\n",
       "mpl.figure.prototype.handle_message = function (fig, msg) {\n",
       "    fig.message.textContent = msg['message'];\n",
       "};\n",
       "\n",
       "mpl.figure.prototype.handle_draw = function (fig, _msg) {\n",
       "    // Request the server to send over a new figure.\n",
       "    fig.send_draw_message();\n",
       "};\n",
       "\n",
       "mpl.figure.prototype.handle_image_mode = function (fig, msg) {\n",
       "    fig.image_mode = msg['mode'];\n",
       "};\n",
       "\n",
       "mpl.figure.prototype.handle_history_buttons = function (fig, msg) {\n",
       "    for (var key in msg) {\n",
       "        if (!(key in fig.buttons)) {\n",
       "            continue;\n",
       "        }\n",
       "        fig.buttons[key].disabled = !msg[key];\n",
       "        fig.buttons[key].setAttribute('aria-disabled', !msg[key]);\n",
       "    }\n",
       "};\n",
       "\n",
       "mpl.figure.prototype.handle_navigate_mode = function (fig, msg) {\n",
       "    if (msg['mode'] === 'PAN') {\n",
       "        fig.buttons['Pan'].classList.add('active');\n",
       "        fig.buttons['Zoom'].classList.remove('active');\n",
       "    } else if (msg['mode'] === 'ZOOM') {\n",
       "        fig.buttons['Pan'].classList.remove('active');\n",
       "        fig.buttons['Zoom'].classList.add('active');\n",
       "    } else {\n",
       "        fig.buttons['Pan'].classList.remove('active');\n",
       "        fig.buttons['Zoom'].classList.remove('active');\n",
       "    }\n",
       "};\n",
       "\n",
       "mpl.figure.prototype.updated_canvas_event = function () {\n",
       "    // Called whenever the canvas gets updated.\n",
       "    this.send_message('ack', {});\n",
       "};\n",
       "\n",
       "// A function to construct a web socket function for onmessage handling.\n",
       "// Called in the figure constructor.\n",
       "mpl.figure.prototype._make_on_message_function = function (fig) {\n",
       "    return function socket_on_message(evt) {\n",
       "        if (evt.data instanceof Blob) {\n",
       "            var img = evt.data;\n",
       "            if (img.type !== 'image/png') {\n",
       "                /* FIXME: We get \"Resource interpreted as Image but\n",
       "                 * transferred with MIME type text/plain:\" errors on\n",
       "                 * Chrome.  But how to set the MIME type?  It doesn't seem\n",
       "                 * to be part of the websocket stream */\n",
       "                img.type = 'image/png';\n",
       "            }\n",
       "\n",
       "            /* Free the memory for the previous frames */\n",
       "            if (fig.imageObj.src) {\n",
       "                (window.URL || window.webkitURL).revokeObjectURL(\n",
       "                    fig.imageObj.src\n",
       "                );\n",
       "            }\n",
       "\n",
       "            fig.imageObj.src = (window.URL || window.webkitURL).createObjectURL(\n",
       "                img\n",
       "            );\n",
       "            fig.updated_canvas_event();\n",
       "            fig.waiting = false;\n",
       "            return;\n",
       "        } else if (\n",
       "            typeof evt.data === 'string' &&\n",
       "            evt.data.slice(0, 21) === 'data:image/png;base64'\n",
       "        ) {\n",
       "            fig.imageObj.src = evt.data;\n",
       "            fig.updated_canvas_event();\n",
       "            fig.waiting = false;\n",
       "            return;\n",
       "        }\n",
       "\n",
       "        var msg = JSON.parse(evt.data);\n",
       "        var msg_type = msg['type'];\n",
       "\n",
       "        // Call the  \"handle_{type}\" callback, which takes\n",
       "        // the figure and JSON message as its only arguments.\n",
       "        try {\n",
       "            var callback = fig['handle_' + msg_type];\n",
       "        } catch (e) {\n",
       "            console.log(\n",
       "                \"No handler for the '\" + msg_type + \"' message type: \",\n",
       "                msg\n",
       "            );\n",
       "            return;\n",
       "        }\n",
       "\n",
       "        if (callback) {\n",
       "            try {\n",
       "                // console.log(\"Handling '\" + msg_type + \"' message: \", msg);\n",
       "                callback(fig, msg);\n",
       "            } catch (e) {\n",
       "                console.log(\n",
       "                    \"Exception inside the 'handler_\" + msg_type + \"' callback:\",\n",
       "                    e,\n",
       "                    e.stack,\n",
       "                    msg\n",
       "                );\n",
       "            }\n",
       "        }\n",
       "    };\n",
       "};\n",
       "\n",
       "function getModifiers(event) {\n",
       "    var mods = [];\n",
       "    if (event.ctrlKey) {\n",
       "        mods.push('ctrl');\n",
       "    }\n",
       "    if (event.altKey) {\n",
       "        mods.push('alt');\n",
       "    }\n",
       "    if (event.shiftKey) {\n",
       "        mods.push('shift');\n",
       "    }\n",
       "    if (event.metaKey) {\n",
       "        mods.push('meta');\n",
       "    }\n",
       "    return mods;\n",
       "}\n",
       "\n",
       "/*\n",
       " * return a copy of an object with only non-object keys\n",
       " * we need this to avoid circular references\n",
       " * https://stackoverflow.com/a/24161582/3208463\n",
       " */\n",
       "function simpleKeys(original) {\n",
       "    return Object.keys(original).reduce(function (obj, key) {\n",
       "        if (typeof original[key] !== 'object') {\n",
       "            obj[key] = original[key];\n",
       "        }\n",
       "        return obj;\n",
       "    }, {});\n",
       "}\n",
       "\n",
       "mpl.figure.prototype.mouse_event = function (event, name) {\n",
       "    if (name === 'button_press') {\n",
       "        this.canvas.focus();\n",
       "        this.canvas_div.focus();\n",
       "    }\n",
       "\n",
       "    // from https://stackoverflow.com/q/1114465\n",
       "    var boundingRect = this.canvas.getBoundingClientRect();\n",
       "    var x = (event.clientX - boundingRect.left) * this.ratio;\n",
       "    var y = (event.clientY - boundingRect.top) * this.ratio;\n",
       "\n",
       "    this.send_message(name, {\n",
       "        x: x,\n",
       "        y: y,\n",
       "        button: event.button,\n",
       "        step: event.step,\n",
       "        modifiers: getModifiers(event),\n",
       "        guiEvent: simpleKeys(event),\n",
       "    });\n",
       "\n",
       "    return false;\n",
       "};\n",
       "\n",
       "mpl.figure.prototype._key_event_extra = function (_event, _name) {\n",
       "    // Handle any extra behaviour associated with a key event\n",
       "};\n",
       "\n",
       "mpl.figure.prototype.key_event = function (event, name) {\n",
       "    // Prevent repeat events\n",
       "    if (name === 'key_press') {\n",
       "        if (event.key === this._key) {\n",
       "            return;\n",
       "        } else {\n",
       "            this._key = event.key;\n",
       "        }\n",
       "    }\n",
       "    if (name === 'key_release') {\n",
       "        this._key = null;\n",
       "    }\n",
       "\n",
       "    var value = '';\n",
       "    if (event.ctrlKey && event.key !== 'Control') {\n",
       "        value += 'ctrl+';\n",
       "    }\n",
       "    else if (event.altKey && event.key !== 'Alt') {\n",
       "        value += 'alt+';\n",
       "    }\n",
       "    else if (event.shiftKey && event.key !== 'Shift') {\n",
       "        value += 'shift+';\n",
       "    }\n",
       "\n",
       "    value += 'k' + event.key;\n",
       "\n",
       "    this._key_event_extra(event, name);\n",
       "\n",
       "    this.send_message(name, { key: value, guiEvent: simpleKeys(event) });\n",
       "    return false;\n",
       "};\n",
       "\n",
       "mpl.figure.prototype.toolbar_button_onclick = function (name) {\n",
       "    if (name === 'download') {\n",
       "        this.handle_save(this, null);\n",
       "    } else {\n",
       "        this.send_message('toolbar_button', { name: name });\n",
       "    }\n",
       "};\n",
       "\n",
       "mpl.figure.prototype.toolbar_button_onmouseover = function (tooltip) {\n",
       "    this.message.textContent = tooltip;\n",
       "};\n",
       "\n",
       "///////////////// REMAINING CONTENT GENERATED BY embed_js.py /////////////////\n",
       "// prettier-ignore\n",
       "var _JSXTOOLS_RESIZE_OBSERVER=function(A){var t,i=new WeakMap,n=new WeakMap,a=new WeakMap,r=new WeakMap,o=new Set;function s(e){if(!(this instanceof s))throw new TypeError(\"Constructor requires 'new' operator\");i.set(this,e)}function h(){throw new TypeError(\"Function is not a constructor\")}function c(e,t,i,n){e=0 in arguments?Number(arguments[0]):0,t=1 in arguments?Number(arguments[1]):0,i=2 in arguments?Number(arguments[2]):0,n=3 in arguments?Number(arguments[3]):0,this.right=(this.x=this.left=e)+(this.width=i),this.bottom=(this.y=this.top=t)+(this.height=n),Object.freeze(this)}function d(){t=requestAnimationFrame(d);var s=new WeakMap,p=new Set;o.forEach((function(t){r.get(t).forEach((function(i){var r=t instanceof window.SVGElement,o=a.get(t),d=r?0:parseFloat(o.paddingTop),f=r?0:parseFloat(o.paddingRight),l=r?0:parseFloat(o.paddingBottom),u=r?0:parseFloat(o.paddingLeft),g=r?0:parseFloat(o.borderTopWidth),m=r?0:parseFloat(o.borderRightWidth),w=r?0:parseFloat(o.borderBottomWidth),b=u+f,F=d+l,v=(r?0:parseFloat(o.borderLeftWidth))+m,W=g+w,y=r?0:t.offsetHeight-W-t.clientHeight,E=r?0:t.offsetWidth-v-t.clientWidth,R=b+v,z=F+W,M=r?t.width:parseFloat(o.width)-R-E,O=r?t.height:parseFloat(o.height)-z-y;if(n.has(t)){var k=n.get(t);if(k[0]===M&&k[1]===O)return}n.set(t,[M,O]);var S=Object.create(h.prototype);S.target=t,S.contentRect=new c(u,d,M,O),s.has(i)||(s.set(i,[]),p.add(i)),s.get(i).push(S)}))})),p.forEach((function(e){i.get(e).call(e,s.get(e),e)}))}return s.prototype.observe=function(i){if(i instanceof window.Element){r.has(i)||(r.set(i,new Set),o.add(i),a.set(i,window.getComputedStyle(i)));var n=r.get(i);n.has(this)||n.add(this),cancelAnimationFrame(t),t=requestAnimationFrame(d)}},s.prototype.unobserve=function(i){if(i instanceof window.Element&&r.has(i)){var n=r.get(i);n.has(this)&&(n.delete(this),n.size||(r.delete(i),o.delete(i))),n.size||r.delete(i),o.size||cancelAnimationFrame(t)}},A.DOMRectReadOnly=c,A.ResizeObserver=s,A.ResizeObserverEntry=h,A}; // eslint-disable-line\n",
       "mpl.toolbar_items = [[\"Home\", \"Reset original view\", \"fa fa-home\", \"home\"], [\"Back\", \"Back to previous view\", \"fa fa-arrow-left\", \"back\"], [\"Forward\", \"Forward to next view\", \"fa fa-arrow-right\", \"forward\"], [\"\", \"\", \"\", \"\"], [\"Pan\", \"Left button pans, Right button zooms\\nx/y fixes axis, CTRL fixes aspect\", \"fa fa-arrows\", \"pan\"], [\"Zoom\", \"Zoom to rectangle\\nx/y fixes axis\", \"fa fa-square-o\", \"zoom\"], [\"\", \"\", \"\", \"\"], [\"Download\", \"Download plot\", \"fa fa-floppy-o\", \"download\"]];\n",
       "\n",
       "mpl.extensions = [\"eps\", \"jpeg\", \"pgf\", \"pdf\", \"png\", \"ps\", \"raw\", \"svg\", \"tif\", \"webp\"];\n",
       "\n",
       "mpl.default_extension = \"png\";/* global mpl */\n",
       "\n",
       "var comm_websocket_adapter = function (comm) {\n",
       "    // Create a \"websocket\"-like object which calls the given IPython comm\n",
       "    // object with the appropriate methods. Currently this is a non binary\n",
       "    // socket, so there is still some room for performance tuning.\n",
       "    var ws = {};\n",
       "\n",
       "    ws.binaryType = comm.kernel.ws.binaryType;\n",
       "    ws.readyState = comm.kernel.ws.readyState;\n",
       "    function updateReadyState(_event) {\n",
       "        if (comm.kernel.ws) {\n",
       "            ws.readyState = comm.kernel.ws.readyState;\n",
       "        } else {\n",
       "            ws.readyState = 3; // Closed state.\n",
       "        }\n",
       "    }\n",
       "    comm.kernel.ws.addEventListener('open', updateReadyState);\n",
       "    comm.kernel.ws.addEventListener('close', updateReadyState);\n",
       "    comm.kernel.ws.addEventListener('error', updateReadyState);\n",
       "\n",
       "    ws.close = function () {\n",
       "        comm.close();\n",
       "    };\n",
       "    ws.send = function (m) {\n",
       "        //console.log('sending', m);\n",
       "        comm.send(m);\n",
       "    };\n",
       "    // Register the callback with on_msg.\n",
       "    comm.on_msg(function (msg) {\n",
       "        //console.log('receiving', msg['content']['data'], msg);\n",
       "        var data = msg['content']['data'];\n",
       "        if (data['blob'] !== undefined) {\n",
       "            data = {\n",
       "                data: new Blob(msg['buffers'], { type: data['blob'] }),\n",
       "            };\n",
       "        }\n",
       "        // Pass the mpl event to the overridden (by mpl) onmessage function.\n",
       "        ws.onmessage(data);\n",
       "    });\n",
       "    return ws;\n",
       "};\n",
       "\n",
       "mpl.mpl_figure_comm = function (comm, msg) {\n",
       "    // This is the function which gets called when the mpl process\n",
       "    // starts-up an IPython Comm through the \"matplotlib\" channel.\n",
       "\n",
       "    var id = msg.content.data.id;\n",
       "    // Get hold of the div created by the display call when the Comm\n",
       "    // socket was opened in Python.\n",
       "    var element = document.getElementById(id);\n",
       "    var ws_proxy = comm_websocket_adapter(comm);\n",
       "\n",
       "    function ondownload(figure, _format) {\n",
       "        window.open(figure.canvas.toDataURL());\n",
       "    }\n",
       "\n",
       "    var fig = new mpl.figure(id, ws_proxy, ondownload, element);\n",
       "\n",
       "    // Call onopen now - mpl needs it, as it is assuming we've passed it a real\n",
       "    // web socket which is closed, not our websocket->open comm proxy.\n",
       "    ws_proxy.onopen();\n",
       "\n",
       "    fig.parent_element = element;\n",
       "    fig.cell_info = mpl.find_output_cell(\"<div id='\" + id + \"'></div>\");\n",
       "    if (!fig.cell_info) {\n",
       "        console.error('Failed to find cell for figure', id, fig);\n",
       "        return;\n",
       "    }\n",
       "    fig.cell_info[0].output_area.element.on(\n",
       "        'cleared',\n",
       "        { fig: fig },\n",
       "        fig._remove_fig_handler\n",
       "    );\n",
       "};\n",
       "\n",
       "mpl.figure.prototype.handle_close = function (fig, msg) {\n",
       "    var width = fig.canvas.width / fig.ratio;\n",
       "    fig.cell_info[0].output_area.element.off(\n",
       "        'cleared',\n",
       "        fig._remove_fig_handler\n",
       "    );\n",
       "    fig.resizeObserverInstance.unobserve(fig.canvas_div);\n",
       "\n",
       "    // Update the output cell to use the data from the current canvas.\n",
       "    fig.push_to_output();\n",
       "    var dataURL = fig.canvas.toDataURL();\n",
       "    // Re-enable the keyboard manager in IPython - without this line, in FF,\n",
       "    // the notebook keyboard shortcuts fail.\n",
       "    IPython.keyboard_manager.enable();\n",
       "    fig.parent_element.innerHTML =\n",
       "        '<img src=\"' + dataURL + '\" width=\"' + width + '\">';\n",
       "    fig.close_ws(fig, msg);\n",
       "};\n",
       "\n",
       "mpl.figure.prototype.close_ws = function (fig, msg) {\n",
       "    fig.send_message('closing', msg);\n",
       "    // fig.ws.close()\n",
       "};\n",
       "\n",
       "mpl.figure.prototype.push_to_output = function (_remove_interactive) {\n",
       "    // Turn the data on the canvas into data in the output cell.\n",
       "    var width = this.canvas.width / this.ratio;\n",
       "    var dataURL = this.canvas.toDataURL();\n",
       "    this.cell_info[1]['text/html'] =\n",
       "        '<img src=\"' + dataURL + '\" width=\"' + width + '\">';\n",
       "};\n",
       "\n",
       "mpl.figure.prototype.updated_canvas_event = function () {\n",
       "    // Tell IPython that the notebook contents must change.\n",
       "    IPython.notebook.set_dirty(true);\n",
       "    this.send_message('ack', {});\n",
       "    var fig = this;\n",
       "    // Wait a second, then push the new image to the DOM so\n",
       "    // that it is saved nicely (might be nice to debounce this).\n",
       "    setTimeout(function () {\n",
       "        fig.push_to_output();\n",
       "    }, 1000);\n",
       "};\n",
       "\n",
       "mpl.figure.prototype._init_toolbar = function () {\n",
       "    var fig = this;\n",
       "\n",
       "    var toolbar = document.createElement('div');\n",
       "    toolbar.classList = 'btn-toolbar';\n",
       "    this.root.appendChild(toolbar);\n",
       "\n",
       "    function on_click_closure(name) {\n",
       "        return function (_event) {\n",
       "            return fig.toolbar_button_onclick(name);\n",
       "        };\n",
       "    }\n",
       "\n",
       "    function on_mouseover_closure(tooltip) {\n",
       "        return function (event) {\n",
       "            if (!event.currentTarget.disabled) {\n",
       "                return fig.toolbar_button_onmouseover(tooltip);\n",
       "            }\n",
       "        };\n",
       "    }\n",
       "\n",
       "    fig.buttons = {};\n",
       "    var buttonGroup = document.createElement('div');\n",
       "    buttonGroup.classList = 'btn-group';\n",
       "    var button;\n",
       "    for (var toolbar_ind in mpl.toolbar_items) {\n",
       "        var name = mpl.toolbar_items[toolbar_ind][0];\n",
       "        var tooltip = mpl.toolbar_items[toolbar_ind][1];\n",
       "        var image = mpl.toolbar_items[toolbar_ind][2];\n",
       "        var method_name = mpl.toolbar_items[toolbar_ind][3];\n",
       "\n",
       "        if (!name) {\n",
       "            /* Instead of a spacer, we start a new button group. */\n",
       "            if (buttonGroup.hasChildNodes()) {\n",
       "                toolbar.appendChild(buttonGroup);\n",
       "            }\n",
       "            buttonGroup = document.createElement('div');\n",
       "            buttonGroup.classList = 'btn-group';\n",
       "            continue;\n",
       "        }\n",
       "\n",
       "        button = fig.buttons[name] = document.createElement('button');\n",
       "        button.classList = 'btn btn-default';\n",
       "        button.href = '#';\n",
       "        button.title = name;\n",
       "        button.innerHTML = '<i class=\"fa ' + image + ' fa-lg\"></i>';\n",
       "        button.addEventListener('click', on_click_closure(method_name));\n",
       "        button.addEventListener('mouseover', on_mouseover_closure(tooltip));\n",
       "        buttonGroup.appendChild(button);\n",
       "    }\n",
       "\n",
       "    if (buttonGroup.hasChildNodes()) {\n",
       "        toolbar.appendChild(buttonGroup);\n",
       "    }\n",
       "\n",
       "    // Add the status bar.\n",
       "    var status_bar = document.createElement('span');\n",
       "    status_bar.classList = 'mpl-message pull-right';\n",
       "    toolbar.appendChild(status_bar);\n",
       "    this.message = status_bar;\n",
       "\n",
       "    // Add the close button to the window.\n",
       "    var buttongrp = document.createElement('div');\n",
       "    buttongrp.classList = 'btn-group inline pull-right';\n",
       "    button = document.createElement('button');\n",
       "    button.classList = 'btn btn-mini btn-primary';\n",
       "    button.href = '#';\n",
       "    button.title = 'Stop Interaction';\n",
       "    button.innerHTML = '<i class=\"fa fa-power-off icon-remove icon-large\"></i>';\n",
       "    button.addEventListener('click', function (_evt) {\n",
       "        fig.handle_close(fig, {});\n",
       "    });\n",
       "    button.addEventListener(\n",
       "        'mouseover',\n",
       "        on_mouseover_closure('Stop Interaction')\n",
       "    );\n",
       "    buttongrp.appendChild(button);\n",
       "    var titlebar = this.root.querySelector('.ui-dialog-titlebar');\n",
       "    titlebar.insertBefore(buttongrp, titlebar.firstChild);\n",
       "};\n",
       "\n",
       "mpl.figure.prototype._remove_fig_handler = function (event) {\n",
       "    var fig = event.data.fig;\n",
       "    if (event.target !== this) {\n",
       "        // Ignore bubbled events from children.\n",
       "        return;\n",
       "    }\n",
       "    fig.close_ws(fig, {});\n",
       "};\n",
       "\n",
       "mpl.figure.prototype._root_extra_style = function (el) {\n",
       "    el.style.boxSizing = 'content-box'; // override notebook setting of border-box.\n",
       "};\n",
       "\n",
       "mpl.figure.prototype._canvas_extra_style = function (el) {\n",
       "    // this is important to make the div 'focusable\n",
       "    el.setAttribute('tabindex', 0);\n",
       "    // reach out to IPython and tell the keyboard manager to turn it's self\n",
       "    // off when our div gets focus\n",
       "\n",
       "    // location in version 3\n",
       "    if (IPython.notebook.keyboard_manager) {\n",
       "        IPython.notebook.keyboard_manager.register_events(el);\n",
       "    } else {\n",
       "        // location in version 2\n",
       "        IPython.keyboard_manager.register_events(el);\n",
       "    }\n",
       "};\n",
       "\n",
       "mpl.figure.prototype._key_event_extra = function (event, _name) {\n",
       "    // Check for shift+enter\n",
       "    if (event.shiftKey && event.which === 13) {\n",
       "        this.canvas_div.blur();\n",
       "        // select the cell after this one\n",
       "        var index = IPython.notebook.find_cell_index(this.cell_info[0]);\n",
       "        IPython.notebook.select(index + 1);\n",
       "    }\n",
       "};\n",
       "\n",
       "mpl.figure.prototype.handle_save = function (fig, _msg) {\n",
       "    fig.ondownload(fig, null);\n",
       "};\n",
       "\n",
       "mpl.find_output_cell = function (html_output) {\n",
       "    // Return the cell and output element which can be found *uniquely* in the notebook.\n",
       "    // Note - this is a bit hacky, but it is done because the \"notebook_saving.Notebook\"\n",
       "    // IPython event is triggered only after the cells have been serialised, which for\n",
       "    // our purposes (turning an active figure into a static one), is too late.\n",
       "    var cells = IPython.notebook.get_cells();\n",
       "    var ncells = cells.length;\n",
       "    for (var i = 0; i < ncells; i++) {\n",
       "        var cell = cells[i];\n",
       "        if (cell.cell_type === 'code') {\n",
       "            for (var j = 0; j < cell.output_area.outputs.length; j++) {\n",
       "                var data = cell.output_area.outputs[j];\n",
       "                if (data.data) {\n",
       "                    // IPython >= 3 moved mimebundle to data attribute of output\n",
       "                    data = data.data;\n",
       "                }\n",
       "                if (data['text/html'] === html_output) {\n",
       "                    return [cell, data, j];\n",
       "                }\n",
       "            }\n",
       "        }\n",
       "    }\n",
       "};\n",
       "\n",
       "// Register the function which deals with the matplotlib target/channel.\n",
       "// The kernel may be null if the page has been refreshed.\n",
       "if (IPython.notebook.kernel !== null) {\n",
       "    IPython.notebook.kernel.comm_manager.register_target(\n",
       "        'matplotlib',\n",
       "        mpl.mpl_figure_comm\n",
       "    );\n",
       "}\n"
      ],
      "text/plain": [
       "<IPython.core.display.Javascript object>"
      ]
     },
     "metadata": {},
     "output_type": "display_data"
    },
    {
     "data": {
      "text/html": [
       "<img src=\"data:image/png;base64,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\" width=\"640\">"
      ],
      "text/plain": [
       "<IPython.core.display.HTML object>"
      ]
     },
     "metadata": {},
     "output_type": "display_data"
    },
    {
     "data": {
      "text/plain": [
       "Text(0, 0.5, '$y$')"
      ]
     },
     "execution_count": 17,
     "metadata": {},
     "output_type": "execute_result"
    }
   ],
   "source": [
    "def mandelbrot(c, a=2.0, n=20):\n",
    "    \"\"\"\n",
    "    Approximate the local Mandelbrot period of a point. \n",
    "    \n",
    "    Parameters\n",
    "    ----------\n",
    "    \n",
    "    c : complex\n",
    "        Point in the complex plane\n",
    "    a : float\n",
    "        A positive bounding length on the horizon of the point z_n\n",
    "    n : int\n",
    "        Maximum number of iterations .\n",
    "    \n",
    "    Returns\n",
    "    -------\n",
    "    \n",
    "    int\n",
    "        i such that |z_i|>a if i < n, NaN otherwise.\n",
    "    \n",
    "    \"\"\"\n",
    "    \n",
    "    z = c\n",
    "    for _ in range(n):\n",
    "        if abs(z)>a:\n",
    "            return _\n",
    "        z = z**2 + c\n",
    "    return np.nan\n",
    "\n",
    "dx = np.linspace(-2, 1, 300)\n",
    "dy = np.linspace(-1.5, 1.5, 300)\n",
    "x, y= np.meshgrid(dx, dy)\n",
    "z = np.empty(x.shape)\n",
    "\n",
    "for i in range(len(dx)):\n",
    "    for j in range(len(dy)):\n",
    "        z[i, j] = mandelbrot(x[i, j]+1j*y[i, j],100)\n",
    "    \n",
    "cmap = plt.get_cmap(\"viridis\")\n",
    "cmap.set_bad('black')\n",
    "\n",
    "fig, ax = plt.subplots()\n",
    "ax.pcolormesh(x, y, z, shading='auto', cmap=cmap)\n",
    "ax.set_xlabel('$x$')\n",
    "ax.set_ylabel('$y$')"
   ]
  },
  {
   "cell_type": "code",
   "execution_count": 18,
   "metadata": {
    "slideshow": {
     "slide_type": "subslide"
    }
   },
   "outputs": [
    {
     "data": {
      "text/plain": [
       "'\\n    Approximate the local Mandelbrot period of a point. \\n    \\n    Parameters\\n    ----------\\n    \\n    c : complex\\n        Point in the complex plane\\n    a : float\\n        A positive bounding length on the horizon of the point z_n\\n    n : int\\n        Maximum number of iterations .\\n    \\n    Returns\\n    -------\\n    \\n    int\\n        i such that |z_i|>a if i < n, NaN otherwise.\\n    \\n    '"
      ]
     },
     "execution_count": 18,
     "metadata": {},
     "output_type": "execute_result"
    }
   ],
   "source": [
    "mandelbrot.__doc__"
   ]
  },
  {
   "cell_type": "code",
   "execution_count": 19,
   "metadata": {
    "slideshow": {
     "slide_type": "subslide"
    }
   },
   "outputs": [
    {
     "name": "stdout",
     "output_type": "stream",
     "text": [
      "\n",
      "    Approximate the local Mandelbrot period of a point. \n",
      "    \n",
      "    Parameters\n",
      "    ----------\n",
      "    \n",
      "    c : complex\n",
      "        Point in the complex plane\n",
      "    a : float\n",
      "        A positive bounding length on the horizon of the point z_n\n",
      "    n : int\n",
      "        Maximum number of iterations .\n",
      "    \n",
      "    Returns\n",
      "    -------\n",
      "    \n",
      "    int\n",
      "        i such that |z_i|>a if i < n, NaN otherwise.\n",
      "    \n",
      "    \n"
     ]
    }
   ],
   "source": [
    "print(mandelbrot.__doc__)"
   ]
  },
  {
   "cell_type": "markdown",
   "metadata": {
    "slideshow": {
     "slide_type": "slide"
    }
   },
   "source": [
    "<div class=\"alert-info\">\n",
    "    \n",
    "<h4> Exercise Six: Complex square root</h4>\n",
    "\n",
    "Write a function which accepts a real number and returns the complex square roots of that number.\n",
    "\n",
    "Your function should include a docstring conforming to the `numpydoc` standard.</p>\n",
    "\n",
    "</div>"
   ]
  },
  {
   "cell_type": "markdown",
   "metadata": {
    "slideshow": {
     "slide_type": "slide"
    }
   },
   "source": [
    "####  Code Quality\n",
    "\n",
    "Code quality is a balance between 3 things:\n",
    "<ul><li> Maintainability: easy & understandable.</li>\n",
    "    <li> Performance: fast & secure.</li>\n",
    "<li> Resources: size of the machine & developer time</li></ul>\n",
    "\n",
    "Frequently a case of \"pick two\". Compromises are necessary. Important they're recognised &  appropriate. "
   ]
  },
  {
   "cell_type": "markdown",
   "metadata": {
    "slideshow": {
     "slide_type": "subslide"
    }
   },
   "source": [
    "<blockquote><emph> Programmers waste enormous amounts of time thinking about, or worrying about, the speed of noncritical parts of their programs, and these attempts at efficiency actually have a strong negative impact when debugging and maintenance are considered. We should forget about small efficiencies, say about 97% of the time: premature optimization is the root of all evil. Yet we should not pass up our opportunities in that critical 3%.</emph></blockquote>\n",
    "\n",
    "[Donald Knuth](https://en.wikipedia.org/wiki/Donald_Knuth)\n",
    "\n",
    "If code is going to be read a 2nd time, you can't make it disposable.\n",
    "- Functions need docstrings\n",
    "- Variable names must be meaningful"
   ]
  },
  {
   "cell_type": "markdown",
   "metadata": {
    "slideshow": {
     "slide_type": "slide"
    }
   },
   "source": [
    "### Combined files (both script and module)\n",
    "\n",
    "A file can be both a script and a module providing you use a special `if` test to check how it is being used (to avoid being _antisocial_, and doing all the calculating and printing your script is set up to do):"
   ]
  },
  {
   "cell_type": "markdown",
   "metadata": {
    "slideshow": {
     "slide_type": "subslide"
    }
   },
   "source": [
    "`rot13m.py`:\n",
    "\n",
    "```python\n",
    "import codecs\n",
    "\n",
    "# module definitions\n",
    "\n",
    "def rot13(input):\n",
    "    \"\"\"Return the rot13 encoding of an input\"\"\"\n",
    "    return codecs.encode(str(input), 'rot13')\n",
    "```\n",
    "```python\n",
    "if __name__ == \"__main__\":\n",
    "    # Code in this block runs only as a script,\n",
    "    # not as an import\n",
    "    import sys\n",
    "    print(rot13(sys.argv[1]))\n",
    "```"
   ]
  },
  {
   "cell_type": "markdown",
   "metadata": {
    "slideshow": {
     "slide_type": "subslide"
    }
   },
   "source": [
    "Although it started as something of a hack, the `if __name__ == \"__main__\"` idiom is now accepted as fully Pythonic, and is something you will see often in modules which also have sensible script like behaviour."
   ]
  },
  {
   "cell_type": "markdown",
   "metadata": {
    "slideshow": {
     "slide_type": "subslide"
    }
   },
   "source": [
    "<div class=\"alert-info\">\n",
    "\n",
    "<h4> Exercise Seven: A primes module</h4>\n",
    "\n",
    "Take your prime numbers script from exercise 2, and turn it into a useful module that can either be imported or run as a script\n",
    "    \n",
    "Note that there are multiple ways to run a module as a script from the command line:\n",
    "```bash\n",
    "python -m rot13m \"this runs a python module as a script\"\n",
    "python rot13m.py \"so does this\"\n",
    "```\n",
    "\n",
    "Try running your code, and importing it in an interactive session or notebook, or from another script.\n",
    "</div>\n",
    "\n"
   ]
  },
  {
   "cell_type": "markdown",
   "metadata": {
    "slideshow": {
     "slide_type": "slide"
    }
   },
   "source": [
    "## Python Packages\n",
    "\n",
    "### An example package\n",
    "\n",
    "Python packages bundle multiple modules into one place, to make installing and uninstalling them easier and to simplify usage. A simple python package just consists of python files inside a directory tree."
   ]
  },
  {
   "cell_type": "markdown",
   "metadata": {
    "slideshow": {
     "slide_type": "slide"
    }
   },
   "source": [
    "A typical template for a fairly basic python package called `mycoolproject` might look like:\n",
    "\n",
    "```bash\n",
    "mycoolproject\n",
    " ├── __init__.py\n",
    " ├── cool_module.py\n",
    " ├── another_cool_module.py\n",
    " └── extras\n",
    "      ├── __init__.py\n",
    "      ├── __main__.py\n",
    "      └── extra_stuff.py\n",
    "```\n",
    "```bash\n",
    "requirements.txt\n",
    "setup.py\n",
    "LICENSE\n",
    "README.md\n",
    "```"
   ]
  },
  {
   "cell_type": "markdown",
   "metadata": {
    "slideshow": {
     "slide_type": "subslide"
    }
   },
   "source": [
    "- `__init__.py` file is slightly special (common in Python with double underscore - dunder - names).\n",
    "- Read when you run `import mycoolproject` (i.e. name of the directory).\n",
    "- Other files can be imported by themselves as `mycoolproject.cool_module`, `mycoolproject.another_cool_module`, etc.\n",
    "- `__main__.py` file is module version of `if __name__=='__main__':`, activated if the package is run like `python -m mycoolpackage`"
   ]
  },
  {
   "cell_type": "markdown",
   "metadata": {
    "slideshow": {
     "slide_type": "subslide"
    }
   },
   "source": [
    "In a typical package the `__init__.py` file mostly consists of `import` commands to load functions and classes from other modules into the main [namespace](https://en.wikipedia.org/wiki/Namespace). May define a few special variables for itself.\n",
    "\n",
    "*mycoolproject/\\_\\_init.py\\_\\_*:\n",
    "```python\n",
    "from .cool_module import my_cool_function, my_cool_class\n",
    "from .another_cool_module.py import *\n",
    "\n",
    "```"
   ]
  },
  {
   "cell_type": "markdown",
   "metadata": {
    "slideshow": {
     "slide_type": "subslide"
    }
   },
   "source": [
    "When `import`ing modules, remember that levels of directories are separated using the `.` symbol, so\n",
    "\n",
    "```python\n",
    "from mycoolproject.cool_module.extras.extra_stuff import super_cool_function\n",
    "```"
   ]
  },
  {
   "cell_type": "markdown",
   "metadata": {
    "slideshow": {
     "slide_type": "slide"
    }
   },
   "source": [
    "<div class=\"alert-info\">\n",
    "\n",
    "<h4> Exercise Eight: A primes package</h4>\n",
    "\n",
    "Turn your \"find the primes\" module file into a package.\n",
    "\n",
    "</div>"
   ]
  },
  {
   "cell_type": "markdown",
   "metadata": {
    "slideshow": {
     "slide_type": "slide"
    }
   },
   "source": [
    "<div class=alert-warning>\n",
    "    \n",
    "#### Information\n",
    "    \n",
    "You can also use '.' for _relative_ `import` statements in modules, like in theshell. So, in the example above the file `/mycoolproject/extras/__init__.py` can write:\n",
    "```python\n",
    "# one . for the current directory\n",
    "from  . import extra_stuff\n",
    "## two ..s for its parent\n",
    "from .. import another_cool_module\n",
    "## this also works\n",
    "from ..coolmodule import foo\n",
    "```\n",
    "</div>"
   ]
  },
  {
   "cell_type": "markdown",
   "metadata": {
    "slideshow": {
     "slide_type": "slide"
    }
   },
   "source": [
    "## Installation and distribution\n",
    "\n",
    "\n",
    "- `setup.py` is a standard name for an install script for Python packages.\n",
    "- Module in Python standard library `distutils`, to automate this.\n",
    "- We'll use enhanced version called `setuptools`, compatible with `pip`. "
   ]
  },
  {
   "cell_type": "markdown",
   "metadata": {
    "slideshow": {
     "slide_type": "subslide"
    }
   },
   "source": [
    "## _setup.py_\n",
    "```python\n",
    "from setuptools import setup\n",
    "```\n",
    "```python\n",
    "setup(\n",
    "    name='mycoolproject',  # Name of package, required\n",
    "    version='1.0.0',  # Version number, required\n",
    "    packages=['mycoolproject'],  # directories to install, required\n",
    "    # One-line description or tagline of what your project does\n",
    "    description='A sample implementation of quaternions.',  # Optional\n",
    "    url='https://www.mycoolproject.com',  # Optional\n",
    "    author='Ada Lovelace Academy Students',  # Optional\n",
    "    author_email='ada.lovelace.students@imperial.ac.uk',  # Optional\n",
    ")\n",
    "```"
   ]
  },
  {
   "cell_type": "markdown",
   "metadata": {
    "slideshow": {
     "slide_type": "subslide"
    }
   },
   "source": [
    "The `setup.py` script can be called in several modes. For pure Python\n",
    "```bash\n",
    "python -m pip install .\n",
    "```\n",
    "\n",
    "or\n",
    "\n",
    "```bash\n",
    "python -m pip install --user .\n",
    "```\n",
    "\n",
    "Notice the `.` at the end of these commands. This is important to tell `pip` to install the package the we are currently in. \n",
    "\n",
    "Both commands copy the files in the package into a directory in the standard search path. First installs for everybody on machine (might need admin rights), second installs just for the current user."
   ]
  },
  {
   "cell_type": "markdown",
   "metadata": {
    "slideshow": {
     "slide_type": "slide"
    }
   },
   "source": [
    "### Version Numbers\n",
    "\n",
    "The `version` in `setup.py` lets you set a version number.\n",
    "- Many [formats](https://en.wikipedia.org/wiki/Software_versioning). \n",
    "  - simple (eg. build 1, build 2, build 3 ...) \n",
    "  = to complicated (eg. linux 4.15.0-36-generic),\n",
    "  - to unusual (eg. [TeX](https://en.wikipedia.org/wiki/TeX) 3.14159265,).\n",
    "There's even a PEP about it ([PEP440](https://www.python.org/dev/peps/pep-0440/)). "
   ]
  },
  {
   "cell_type": "markdown",
   "metadata": {
    "slideshow": {
     "slide_type": "subslide"
    }
   },
   "source": [
    "Good choice is \"[semantic versioning](https://semver.org/spec/v2.0.0.html)\".\n",
    "- Ordered set of three integers, separated by dots\n",
    "- e.g. `0.2.3` or `13.4.2`. \n",
    "- (major version).(minor version).(patch version).\n",
    "\n",
    "Major version increment implies big changes in code, likely incompatiblities. Minor increment means small changes which _might_ cause problems. Patch version implies bug fixes. Common to \"backport\"."
   ]
  },
  {
   "cell_type": "markdown",
   "metadata": {
    "slideshow": {
     "slide_type": "subslide"
    }
   },
   "source": [
    "### `pyproject.toml` and modern Python packaging\n",
    "\n",
    "While `setup.py` has been the traditional way to define package metadata and build configurations, modern Python packaging often recommends using a `pyproject.toml` file. This file provides a standardized way to specify build requirements and metadata. It can be used in place of, or alongside, `setup.py`.\n",
    "\n",
    "You can read more about using `pyproject.toml` [here](https://packaging.python.org/en/latest/guides/modernize-setup-py-project/). \n",
    "\n",
    "For our purposes, `setup.py` is fine, but as you start to look at other projects, you will see `.toml` files, so worth knowing why and how they are used."
   ]
  },
  {
   "cell_type": "markdown",
   "metadata": {
    "slideshow": {
     "slide_type": "subslide"
    }
   },
   "source": [
    "### Very brief introduction to `pyproject.toml`\n",
    "\n",
    "#### `setup.py`\n",
    "```python\n",
    "from setuptools import setup\n",
    "\n",
    "setup(\n",
    "    name=\"your_package\",\n",
    "    version=\"0.1\",\n",
    "    packages=[\"your_package\"],\n",
    ")\n",
    "```\n",
    "\n",
    "#### `pyproject.toml `\n",
    "```toml\n",
    "[build-system]\n",
    "requires = [\"setuptools\", \"wheel\"]\n",
    "build-backend = \"setuptools.build_meta\"\n",
    "\n",
    "[project]\n",
    "name = \"your_package\"\n",
    "version = \"0.1\"\n",
    "```\n"
   ]
  },
  {
   "cell_type": "markdown",
   "metadata": {
    "slideshow": {
     "slide_type": "slide"
    }
   },
   "source": [
    "### `pip` and `conda` package managers\n",
    "\n",
    "It's easier to use a tool, called a \"package manager\", to control installation. Allows for easier installs, uninstalls, and to \"sandbox\" specific software.\n",
    "\n",
    "Anaconda comes with two inbuilt package managers, `conda`, specially written for Anaconda itself and `pip`, which is more widely available on non-Anaconda installs. Since `conda` understands (a bit) about `pip`, we'll describe that here."
   ]
  },
  {
   "cell_type": "markdown",
   "metadata": {
    "slideshow": {
     "slide_type": "slide"
    }
   },
   "source": [
    "#### Dependencies\n",
    "\n",
    "An Python package typically has its own dependecies (i.e. packages which it `import`s). A common way to documents these is a `requirements.txt` file containing a [list of package names](https://pip.pypa.io/en/latest/user_guide/#requirements-files) plus a version number.\n",
    "\n",
    "_requirements.txt_\n",
    "```txt\n",
    "jupyter\n",
    "numpy >= 1.26.2\n",
    "scipy == 1.0.0\n",
    "mpltools\n",
    "```\n",
    "\n",
    "Just the name means any version, `>=` demands \"greater than or equal to\" (where e.g. 2.0.0 > 1.9.1 and 1.2.0 > 1.1.9), `==` demands a specific version."
   ]
  },
  {
   "cell_type": "markdown",
   "metadata": {
    "slideshow": {
     "slide_type": "slide"
    }
   },
   "source": [
    "Packages listed in the `requirements.txt` file can be `pip` installed in one go, via the command:\n",
    "\n",
    "```bash\n",
    "pip install -r requirements.txt\n",
    "```\n",
    "\n",
    "`conda` accepts similar files in a `.yml`/`.yaml` format (short for \"[yet another markup language](https://en.wikipedia.org/wiki/YAML)\", or \"YAML ain't markup language\"). YAML is mostly used for configuration, where data elements mostly consist of named strings and lists."
   ]
  },
  {
   "cell_type": "markdown",
   "metadata": {
    "slideshow": {
     "slide_type": "slide"
    }
   },
   "source": [
    "A `conda` `environment.yml` file looks like\n",
    "\n",
    "_environment.yml_\n",
    "```yaml\n",
    "name: npp2024\n",
    "dependencies:\n",
    " - jupyter\n",
    " - numpy\n",
    " - scipy\n",
    " - pip:\n",
    "   - mpltools\n",
    "```\n",
    "\n",
    "The `pip` subsection deals with packages where there isn't a full `conda` package."
   ]
  },
  {
   "cell_type": "markdown",
   "metadata": {
    "slideshow": {
     "slide_type": "slide"
    }
   },
   "source": [
    "As another route, you can also [include your dependencies](https://python-packaging.readthedocs.io/en/latest/dependencies.html) in your `setup.py` file using the `install_requires` keyword in your `setup` function. "
   ]
  },
  {
   "cell_type": "markdown",
   "metadata": {
    "slideshow": {
     "slide_type": "slide"
    }
   },
   "source": [
    "<div class=\"alert-info\">\n",
    "\n",
    "<h4> Exercise Nine:</h4>\n",
    "\n",
    "Make a `setup.py` script for your package\n",
    "    \n",
    "</div>\n",
    "    "
   ]
  },
  {
   "cell_type": "markdown",
   "metadata": {
    "slideshow": {
     "slide_type": "slide"
    }
   },
   "source": [
    "### PyPI, the Python Package Index\n",
    "\n",
    "If you run `python -m pip install <package_name>` (without a `setup.py` or `pyproject.toml`), `pip` scans [PyPI](https://pypi.org), the Python Package Index. This is a very large repository of python software. A good place to check before naming your projects. It also has a [useful tutorial](https://packaging.python.org/tutorials/packaging-projects/) on the packaging process, & points to <https://choosealicense.com/> as a resource for picking licenses. \n",
    "\n",
    "Now you know everything you need to be a python package developer. Just add time & creativity."
   ]
  },
  {
   "cell_type": "markdown",
   "metadata": {
    "slideshow": {
     "slide_type": "slide"
    }
   },
   "source": [
    "### Software Licensing\n",
    "\n",
    "Here's a brief work on software licencing and copyright.\n",
    "\n",
    "<div class=alert-danger>\n",
    "    \n",
    "<h4> Warning</h4>\n",
    "\n",
    "I am not your lawyer. Lawyers spend a lot of money on insurance, I don't. Don't plan on using these notes as a defence in court.\n",
    "</div>"
   ]
  },
  {
   "cell_type": "markdown",
   "metadata": {
    "slideshow": {
     "slide_type": "subslide"
    }
   },
   "source": [
    "#### Licences grant permissions\n",
    "\n",
    "Copyright holders can grant others the ability to use, copy and distribute their work. The easiest away to do this is to publish a _licence_ together with your code. As a user & developer, ensuring that software you use has a licence with terms compatible with what you intend to do with it prevents long, costly and embarrassing legal action further down the line. Best advice, store a licence file in any repository people can see and copy from, and possibly even add it to the header of your source code."
   ]
  },
  {
   "cell_type": "markdown",
   "metadata": {
    "slideshow": {
     "slide_type": "subslide"
    }
   },
   "source": [
    "For computer software (a \"literary work\"), UK copyright laws allow creators to control the acts of:\n",
    "- copying, \n",
    "- adapting,\n",
    "- issuing (i.e distributing),\n",
    "- renting and lending"
   ]
  },
  {
   "cell_type": "markdown",
   "metadata": {
    "slideshow": {
     "slide_type": "-"
    }
   },
   "source": [
    "Could write your own licence, but not safe against lawyers. It is better to use one of the well known and well understood existing copyright licences. If in doubt, the MIT License is popular and well understood."
   ]
  },
  {
   "cell_type": "markdown",
   "metadata": {
    "slideshow": {
     "slide_type": "subslide"
    }
   },
   "source": [
    "<div class=alert-warning>\n",
    "    \n",
    "#### Copyright periods\n",
    "\n",
    "| country | UK  | EU  | USA | China | India |\n",
    "|---      | --- | --- | --- | ---   | ---   |\n",
    "| copyright period | life+70 | life+70 |  life+70 | life+50 | life+60 |\n",
    "\n",
    "There are some exceptions to these time periods.\n",
    "    \n",
    "</div>"
   ]
  },
  {
   "cell_type": "markdown",
   "metadata": {
    "slideshow": {
     "slide_type": "subslide"
    }
   },
   "source": [
    "<div class=alert-warning>\n",
    "    <h4>Copyright is automatic</h4>\n",
    "Various methods exist to register the date when works were created. Generally no real need to do much (e.g. pushing to Github puts a public date to your work). Your rights exist automatically from the moment of creation , and continue to exist unless you explicitly give them up, or time expires. In some jurisdictions authors are unable to opt out of their moral rights over their work.\n",
    "\n",
    "</div>"
   ]
  },
  {
   "cell_type": "markdown",
   "metadata": {
    "slideshow": {
     "slide_type": "slide"
    }
   },
   "source": [
    "\n",
    "- Since you aren't paid by Universities, students in the UK (even Ph.D students) aren't employees and own their copyrights.\n",
    "- Work done by staff officially belongs to the University.\n",
    "\n",
    "When working & writing your own code in you free time, separate the two activities. There are legal cases when people use work-owned resources (e.g. computers) or even [worked on the same topic](https://www.michalsons.com/blog/employer-v-employee-who-owns-that-copyright/1403) while developing their own code.\n"
   ]
  },
  {
   "cell_type": "markdown",
   "metadata": {
    "slideshow": {
     "slide_type": "slide"
    }
   },
   "source": [
    "#### Free/Libre Open Source Software (FLOSS)\n",
    "\n",
    "English word \"free\" in English has  meanings\n",
    "1. Without cost : \"Buy one, get one free!\"\n",
    "2. Unrestrained : \"They set the prisoners free.\"\n",
    "\n",
    "The free software movement is aimed at encouraging software to be distributed under terms matching the second meaning. "
   ]
  },
  {
   "cell_type": "markdown",
   "metadata": {
    "slideshow": {
     "slide_type": "subslide"
    }
   },
   "source": [
    "##### Stallman's four freedoms:\n",
    "\n",
    "- _Freedom 0_ The freedom to run the program, for any purpose.\n",
    "- _Freedom 1_ The freedom to study how the program works, and change it so it does your computing as you wish. (Access to the source code is a precondition for this.)\n",
    "- _Freedom 2_ The freedom to redistribute copies so you can help your neighbor.\n",
    "- _Freedom 3_ The freedom to distribute copies of your modiﬁed versions to others. By doing this you can give the whole community a chance to beneﬁt from your changes. (Access to the source code is a precondition for this.)"
   ]
  },
  {
   "cell_type": "markdown",
   "metadata": {
    "slideshow": {
     "slide_type": "subslide"
    }
   },
   "source": [
    "#### The public domain\n",
    "\n",
    "The \"most free\" option to release work into the public domain. This \"gives up\" your copyright.\n",
    "\n",
    "Since some legal systems (particularly in the EU) can make it practically impossible for authors to give up their \"moral rights\"."
   ]
  },
  {
   "cell_type": "markdown",
   "metadata": {
    "slideshow": {
     "slide_type": "subslide"
    }
   },
   "source": [
    "#### Permissive licences versus \"copyleft\"\n",
    "\n",
    "Many licences, while retaining copyright, otherwise give users unrestricted rights to copy, modify & distribute code. In particular, they allow code to be used as part of greater works released under more restrictive licences. These are often called \"permissive\" licences.\n",
    "\n",
    "Other licences (e.g. the [GNU General Public License](https://www.gnu.org/licenses/quick-guide-gplv3.html) intend to ensure that once software is released as \"free software, it stays as \"free software\". They place restrictions on the immediate recipient of the work, to ensure that people later down the chain retain their version of the four freedoms."
   ]
  },
  {
   "cell_type": "markdown",
   "metadata": {
    "slideshow": {
     "slide_type": "subslide"
    }
   },
   "source": [
    "- the freedom to use the software for any purpose,\n",
    "- the freedom to change the software to suit your needs,\n",
    "- the freedom to share the software with your friends and neighbors, and\n",
    "- the freedom to share the changes you make."
   ]
  },
  {
   "cell_type": "markdown",
   "metadata": {
    "slideshow": {
     "slide_type": "subslide"
    }
   },
   "source": [
    "Specifically, versions of the GPL all require modified versions of GPL'd projects are distributed a GPL licence (e.g. they must also release the source code on demand, & allow other users the right to modify and distribute it). Oftern called \"copyleft\" ."
   ]
  },
  {
   "cell_type": "markdown",
   "metadata": {
    "slideshow": {
     "slide_type": "slide"
    }
   },
   "source": [
    "#### Licence compatibility\n",
    "\n",
    "Because \"copyleft\" licences require derivative works to also be released under suitable \"copyleft\" licences, it is impossible to release packages containing GPL components entirely under more permissive licences such as BSD.\n",
    "\n",
    "\n",
    "|Licence| BSD/MIT | LGPL | GPL |\n",
    "|-----|-----|------|-----|\n",
    "| BSD/MIT | Yes | No   | No  |\n",
    "| LGPL| Yes | Yes  | No  |\n",
    "| GPL | Yes | Yes  | Yes |"
   ]
  },
  {
   "cell_type": "markdown",
   "metadata": {
    "slideshow": {
     "slide_type": "subslide"
    }
   },
   "source": [
    "#### Commercial rights\n",
    "\n",
    "- Some licences allow non-commercial use, with the right reserved to charge a fee for commercial use.\n",
    "- \"Commercial use\" is interpreted as related to income-generating use of any kind, whether direct or indirect.\n",
    "- Shouldn't use a non-commercial license a way that earns (significant) money. \n",
    "\n",
    "Fortunately, academic study & pure research uses are often specifically excluded as non-commercial activities. Many companies (including Imperial College London) have lawyers on retainer to deal with intellectual property questions.\n",
    "\n"
   ]
  },
  {
   "cell_type": "markdown",
   "metadata": {
    "slideshow": {
     "slide_type": "slide"
    }
   },
   "source": [
    "## Further Reading:\n",
    "\n",
    "- [PEP8](https://www.python.org/dev/peps/pep-0008/), the Python style guide\n",
    "- The [Google Python Style Guide]()\n",
    "- A [tutorial]() for the Visual Studio Code IDE\n",
    "- The python documentation page on [modules & packages](https://docs.python.org/3.6/tutorial/modules.html).\n",
    "- [PEP257](https://www.python.org/dev/peps/pep-0257/#specification) - docstring conventions.\n",
    "- The `numpydoc` [docstring standard](https://numpydoc.readthedocs.io/en/latest/)\n"
   ]
  },
  {
   "cell_type": "markdown",
   "metadata": {
    "slideshow": {
     "slide_type": "slide"
    }
   },
   "source": [
    "<div class=\"alert alert-block alert-info\">\n",
    "\n",
    "## Summary\n",
    "\n",
    "Tody we learned:\n",
    "    \n",
    "- How to write Python outside Jupyter;\n",
    "- The similarities & differences between python scripts, modules, and packages;\n",
    "- How to apply Python coding standards (PEP8) and use linters;\n",
    "- How to make and install your own Python package."
   ]
  }
 ],
 "metadata": {
  "celltoolbar": "Slideshow",
  "kernelspec": {
   "display_name": "Python 3 (ipykernel)",
   "language": "python",
   "name": "python3"
  },
  "language_info": {
   "codemirror_mode": {
    "name": "ipython",
    "version": 3
   },
   "file_extension": ".py",
   "mimetype": "text/x-python",
   "name": "python",
   "nbconvert_exporter": "python",
   "pygments_lexer": "ipython3",
   "version": "3.12.6"
  },
  "rise": {
   "autolaunch": false,
   "header": "<img class=logo src=./images/ada.png width=10% align='right'>",
   "scroll": true
  },
  "toc": {
   "base_numbering": 1,
   "nav_menu": {},
   "number_sections": false,
   "sideBar": true,
   "skip_h1_title": true,
   "title_cell": "Table of Contents",
   "title_sidebar": "Contents",
   "toc_cell": false,
   "toc_position": {
    "height": "calc(100% - 180px)",
    "left": "10px",
    "top": "150px",
    "width": "320px"
   },
   "toc_section_display": true,
   "toc_window_display": true
  }
 },
 "nbformat": 4,
 "nbformat_minor": 4
}
