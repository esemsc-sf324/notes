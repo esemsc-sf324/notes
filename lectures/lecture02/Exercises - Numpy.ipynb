{
 "cells": [
  {
   "cell_type": "code",
   "execution_count": null,
   "id": "4cf3bbbd",
   "metadata": {},
   "outputs": [],
   "source": [
    "import numpy as np\n",
    "from numpy.random import randn\n",
    "\n",
    "# set seed for reproducibility\n",
    "# Don't do this in normal code\n",
    "np.random.seed(101)"
   ]
  },
  {
   "cell_type": "markdown",
   "id": "8fc49c11",
   "metadata": {},
   "source": [
    "### Exercise set 1\n",
    "\n",
    "\n",
    "#### Ex. 1.1 Sizes & Shapes\n",
    "Work out the shape of the resulting arrays before executing the following cells. \n",
    "(HINT: Length of the innermost list gives the size of the rightmost shape index.)"
   ]
  },
  {
   "cell_type": "code",
   "execution_count": null,
   "id": "92e7f779",
   "metadata": {},
   "outputs": [],
   "source": [
    "a = np.array( [[11, 12, 13], [21, 22, 23], [31, 32, 33], [41, 42, 43]] ) \n"
   ]
  },
  {
   "cell_type": "code",
   "execution_count": null,
   "id": "65b05454",
   "metadata": {},
   "outputs": [],
   "source": [
    "# Don't run this until you've decided wha the answer will be\n",
    "print(a)\n",
    "print(a.shape)"
   ]
  },
  {
   "cell_type": "markdown",
   "id": "13b84818",
   "metadata": {},
   "source": [
    "#### Ex. 1.2"
   ]
  },
  {
   "cell_type": "code",
   "execution_count": null,
   "id": "a57cd24b",
   "metadata": {},
   "outputs": [],
   "source": [
    "a = np.arange(2, 16, 3)     "
   ]
  },
  {
   "cell_type": "markdown",
   "id": "089bbd7e",
   "metadata": {},
   "source": [
    "Create an np.array called `b` and (by hand) change it so that `b[:]` ha  `a[2:-3:2]` would be."
   ]
  },
  {
   "cell_type": "code",
   "execution_count": null,
   "id": "ec4ca8e0",
   "metadata": {},
   "outputs": [],
   "source": [
    "b = np.array([0, 0, 0]] # fix this line\n",
    "\n",
    "b == a[2:-3:2]\n"
   ]
  },
  {
   "cell_type": "markdown",
   "id": "dfa34f2f",
   "metadata": {},
   "source": [
    "#### Ex. 1.3\n",
    "\n",
    "Create a two-dimensional array called `m` to represent the following matrix,\n",
    "$$\n",
    "\\mathbf{m} = \\left\\lbrack\\begin{array}{ccc}\n",
    "1 & 1 & 2\\cr\n",
    "3 & 5 & 8\\cr\n",
    "13 & 21 & 34\\cr\n",
    "55 & 89 & 144\n",
    "\\end{array}\\right\\rbrack\n",
    "$$\n",
    "\n",
    "Then change vthe elements with values current values 21, 34, 89, and 144 in matrix `m` (i.e. bottom right corner elements) to 1001 by using a slice."
   ]
  },
  {
   "cell_type": "code",
   "execution_count": null,
   "id": "edf3f5d4",
   "metadata": {},
   "outputs": [],
   "source": [
    "m = # Finish this line"
   ]
  },
  {
   "cell_type": "code",
   "execution_count": null,
   "id": "ca8432e2",
   "metadata": {},
   "outputs": [],
   "source": [
    "# Solution for changing the values"
   ]
  },
  {
   "cell_type": "markdown",
   "id": "e50d388f",
   "metadata": {},
   "source": [
    "#### Ex. 1.4\n",
    "\n",
    "Let $A$ be the two-dimensional array\n",
    "$$\n",
    "\\mathbf{A} = \\left\\lbrack\\begin{array}{ccc}\n",
    "2 & 1 & 0\\cr\n",
    "-1 & 2 & 1\\cr\n",
    "0 & -1 & 2\n",
    "\\end{array}\\right\\rbrack\n",
    "$$\n",
    "\n",
    "In the following line, initialize the two dimensional array `A` properly to match matrix A."
   ]
  },
  {
   "cell_type": "code",
   "execution_count": null,
   "id": "b48f922a",
   "metadata": {},
   "outputs": [],
   "source": [
    "## Solution...\n",
    "\n",
    "\n",
    "A =  # Finish this line\n"
   ]
  },
  {
   "cell_type": "markdown",
   "id": "587f6af1",
   "metadata": {},
   "source": [
    "Implement and apply the function\n",
    "$$\n",
    "f(x) = x^3 + xe^x + 1\n",
    "$$\n",
    "to the elements of $A$. <br>"
   ]
  },
  {
   "cell_type": "code",
   "execution_count": null,
   "id": "404c4581",
   "metadata": {},
   "outputs": [],
   "source": [
    "# Solution...\n"
   ]
  },
  {
   "cell_type": "markdown",
   "id": "8c03613c",
   "metadata": {},
   "source": [
    "#### Ex. 1.5\n",
    "\n",
    "\n",
    "For any two arrays `p` and `q`, the test `p.base is q` will be `True` if `q` is a view of `p`.\n",
    "This works because `p.base` is the memory location of the start of the data for `p`. <br>"
   ]
  },
  {
   "cell_type": "code",
   "execution_count": null,
   "id": "221b0214",
   "metadata": {},
   "outputs": [],
   "source": [
    "p = np.array([[0, 1, 2],[3, 4, 5],[6, 7,8],[9, 10, 11]]) \n",
    "rows = [0,0,3,3]   # indices for rows\n",
    "cols = [0,2,0,2]   # indices for columns\n",
    "q=p[rows,cols]\n"
   ]
  },
  {
   "cell_type": "markdown",
   "id": "b9f59c56",
   "metadata": {},
   "source": [
    "Use `base` to check if array `q` is a copy of array `p`.\n",
    "\n",
    "Now, do the same for a simple indexed slice of `p` (e.g. `p[1:2,3:4]`). Try some other indexings too."
   ]
  },
  {
   "cell_type": "code",
   "execution_count": null,
   "id": "10be0a85",
   "metadata": {},
   "outputs": [],
   "source": [
    "# Solution...\n"
   ]
  },
  {
   "cell_type": "markdown",
   "id": "478e3948",
   "metadata": {},
   "source": [
    "#### Ex. 1.6 Timings\n",
    "Here are some `timeit` experiments for you to try. Check which methods are faster?"
   ]
  },
  {
   "cell_type": "code",
   "execution_count": null,
   "id": "e3cffa91",
   "metadata": {},
   "outputs": [],
   "source": [
    "# Accessing a 2d array\n",
    "nd = np.arange(100).reshape((10,10))\n",
    "\n",
    "# accessing element of 2d array\n",
    "%timeit -n 10000000 -r 3 nd[5][5]\n",
    "%timeit -n 10000000 -r 3 nd[5,5]"
   ]
  },
  {
   "cell_type": "markdown",
   "id": "f21a3f5a",
   "metadata": {},
   "source": [
    "Do you have any ideas why you're seeing this result? Think about when things are happening in `numpy` and when they happen in Python."
   ]
  },
  {
   "cell_type": "code",
   "execution_count": null,
   "id": "6784aec8",
   "metadata": {},
   "outputs": [],
   "source": [
    "# Multiplying two vectors\n",
    "x = np.arange(10E7)\n",
    "%timeit -n 1 -r 10 x*x\n",
    "%timeit -n 1 -r 10 x**2"
   ]
  },
  {
   "cell_type": "code",
   "execution_count": null,
   "id": "d1439d11",
   "metadata": {},
   "outputs": [],
   "source": [
    "# Comparing range functions and iterating in loops\n",
    "# Note: some distributions may see overflow in range() example\n",
    "\n",
    "size = int(1E6)\n",
    "\n",
    "%timeit for x in range(size): x**2\n",
    "\n",
    "%timeit for x in np.arange(size): x**2\n",
    "\n",
    "%timeit np.arange(size)**2"
   ]
  },
  {
   "cell_type": "markdown",
   "id": "155a091a",
   "metadata": {},
   "source": [
    "#### Ex. 1.7 Polynomials\n",
    "The Taylor series expansion for the trigonometric function $\\arctan(y)$ is :\n",
    "$$\\arctan ( y) \\, = \\,y - \\frac{y^3}{3} + \\frac{y^5}{5}  - \\frac{y^7}{7}  + \\dots $$\n",
    "Now, $\\arctan(1) = \\pi/4 $, so\n",
    "$$ \\pi = 4 \\, \\Big( 1- \\frac{1}{3} + \\frac{1}{5} - \\frac{1}{7} + ... \\Big) $$\n",
    "<br>\n",
    "We can represent the first few terms of the series expansion of $\\arctan(y)$ using a numpy `Polynomial`, with coefficients:\n",
    "$$0, +1, 0, -1/3, 0, +1/5, 0, -1/7,\\ldots\\,$$ \n",
    "and then use it to approximate $\\pi$.\n",
    "\n",
    "Write a function called `arctan` using the expansion above and use it to calculate an approximation of $\\pi$ using numpy polynomials."
   ]
  },
  {
   "cell_type": "code",
   "execution_count": null,
   "id": "f83e187b",
   "metadata": {},
   "outputs": [],
   "source": [
    "## You should use numpy.polynmial in your function so lets import it\n",
    "from numpy.polynomial import Polynomial"
   ]
  },
  {
   "cell_type": "code",
   "execution_count": null,
   "id": "9275ccda",
   "metadata": {},
   "outputs": [],
   "source": [
    "## Solution...\n"
   ]
  },
  {
   "cell_type": "markdown",
   "id": "9ca27270",
   "metadata": {},
   "source": [
    "**Ex 1.8 Linear algebra**\n",
    "\n",
    "Try to solve the problem\n",
    "\n",
    "$$ \\mathbf{Ax} = \\mathbf{b}$$\n",
    "\n",
    "for $\\mathbf{x}$ where\n",
    "\n",
    "$$ \\mathbf{A} = \\left[ \\begin{array}{ccc}\n",
    "1 & 4 & 1\\\\\n",
    "0& 6 & 1\\\\\n",
    "2& 0 & 5\n",
    "\\end{array}\\right]$$\n",
    "\n",
    "and\n",
    "\n",
    "$$ \\mathbf{b} = \\left[\\begin{array}{c}\n",
    "1\\\\\n",
    "-6\\\\\n",
    "3\n",
    "\\end{array}\\right]$$\n",
    "\n",
    "by using `numpy.linalg.solve`"
   ]
  },
  {
   "cell_type": "code",
   "execution_count": null,
   "id": "5ec21d68",
   "metadata": {},
   "outputs": [],
   "source": [
    "## Solution \n"
   ]
  },
  {
   "cell_type": "markdown",
   "id": "c712e547",
   "metadata": {},
   "source": [
    "Check that `A@x` gives b for your x (at least to machine prescision.\n",
    "\n",
    "Can you use `solve` to work out an answer to this word problem (write down the simultaneous equations first, then convert it to the form $\\mathbf{Ax} = \\mathbf{b}$\n",
    "\n",
    "Each cat eats 450 g of food and drinks 400 ml of water each day. Each dog eats 1kg of food an drinks 1 litre of water each day. If my pets eat 3.8kg of food and drink 3.6L of water in a day, how many cats and dogs do I have?\n",
    "\n"
   ]
  }
 ],
 "metadata": {
  "kernelspec": {
   "display_name": "Python 3 (ipykernel)",
   "language": "python",
   "name": "python3"
  },
  "language_info": {
   "codemirror_mode": {
    "name": "ipython",
    "version": 3
   },
   "file_extension": ".py",
   "mimetype": "text/x-python",
   "name": "python",
   "nbconvert_exporter": "python",
   "pygments_lexer": "ipython3",
   "version": "3.10.2"
  }
 },
 "nbformat": 4,
 "nbformat_minor": 5
}
