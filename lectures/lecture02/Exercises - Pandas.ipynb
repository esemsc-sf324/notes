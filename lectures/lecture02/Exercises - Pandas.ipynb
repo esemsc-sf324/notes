{
 "cells": [
  {
   "cell_type": "code",
   "execution_count": null,
   "id": "7e277ba6",
   "metadata": {},
   "outputs": [],
   "source": [
    "import numpy as np\n",
    "import pandas as pd"
   ]
  },
  {
   "cell_type": "markdown",
   "id": "55cfd8d6",
   "metadata": {},
   "source": [
    "### Exercise set 2\n",
    "\n",
    "The first step in most data analytics projects is reading the data file. In this exercise, you'll create `Series` and `DataFrame` objects, both by hand and by reading data files."
   ]
  },
  {
   "cell_type": "markdown",
   "id": "06e9523f",
   "metadata": {},
   "source": [
    "#### Ex. 2.1\n",
    "\n",
    "In the _Solution_ cell below, create a `DataFrame` fruits that looks like this:\n",
    "\n",
    "![](https://i.imgur.com/Ax3pp2A.png)"
   ]
  },
  {
   "cell_type": "code",
   "execution_count": null,
   "id": "280df74e",
   "metadata": {},
   "outputs": [],
   "source": [
    "# Solution\n"
   ]
  },
  {
   "cell_type": "markdown",
   "id": "078842a6",
   "metadata": {},
   "source": [
    "#### Ex 2.2\n",
    "\n",
    "Create a variable `ingredients` with a Series that looks like:\n",
    "\n",
    "```\n",
    "Flour     4 cups\n",
    "Milk       1 cup\n",
    "Eggs     2 large\n",
    "Spam       1 can\n",
    "Name: Dinner, dtype: object\n",
    "```"
   ]
  },
  {
   "cell_type": "code",
   "execution_count": null,
   "id": "b6665f5f",
   "metadata": {},
   "outputs": [],
   "source": [
    "# Solution:"
   ]
  },
  {
   "cell_type": "markdown",
   "id": "dbcfb09b",
   "metadata": {},
   "source": [
    "#### Ex 2.3\n",
    "In the cell below, write code to save this `DataFrame` to disk as a csv file with the name `cows_and_goats.csv`. Would you want to include the index here?"
   ]
  },
  {
   "cell_type": "code",
   "execution_count": null,
   "id": "0bc19d62",
   "metadata": {},
   "outputs": [],
   "source": [
    "animals = pd.DataFrame({'Cows': [12, 20], 'Goats': [22, 19]}, index=['Year 1', 'Year 2'])\n",
    "animals"
   ]
  },
  {
   "cell_type": "code",
   "execution_count": null,
   "id": "bd75f45b",
   "metadata": {},
   "outputs": [],
   "source": [
    "### Solution"
   ]
  },
  {
   "cell_type": "markdown",
   "id": "83324c39",
   "metadata": {},
   "source": [
    "### Exercise set 3"
   ]
  },
  {
   "cell_type": "markdown",
   "id": "5c6894c0",
   "metadata": {},
   "source": [
    "#### Ex 3.1\n",
    " Read inputs/core_data.csv as a dataframe call it `cr` \n",
    " \n",
    " ** show the head of it"
   ]
  },
  {
   "cell_type": "code",
   "execution_count": null,
   "id": "29843f52",
   "metadata": {},
   "outputs": [],
   "source": [
    "### Solution\n"
   ]
  },
  {
   "cell_type": "markdown",
   "id": "4b0c80fe",
   "metadata": {},
   "source": [
    "#### Ex 3.2\n",
    " Use the .info() method to find out how many entries there are."
   ]
  },
  {
   "cell_type": "code",
   "execution_count": null,
   "id": "2526a837",
   "metadata": {},
   "outputs": [],
   "source": [
    "### Solution\n"
   ]
  },
  {
   "cell_type": "markdown",
   "id": "491c3f81",
   "metadata": {},
   "source": [
    "#### Ex 3.3\n",
    "What is the average `Depth CSF-A (m)` ?"
   ]
  },
  {
   "cell_type": "code",
   "execution_count": null,
   "id": "50e9b1f5",
   "metadata": {},
   "outputs": [],
   "source": [
    "### Solution\n"
   ]
  },
  {
   "cell_type": "markdown",
   "id": "aa4bae33",
   "metadata": {},
   "source": [
    "#### Ex 3.4\n",
    " What is the highest amount of `Reflectance a*` in the dataset?"
   ]
  },
  {
   "cell_type": "code",
   "execution_count": null,
   "id": "b39d5896",
   "metadata": {},
   "outputs": [],
   "source": [
    "### Solution"
   ]
  },
  {
   "cell_type": "markdown",
   "id": "9b01b126",
   "metadata": {},
   "source": [
    "#### Ex 3.5\n",
    "What is the amount of `Reflectance L*` for the highest amount of `Reflectance a*`"
   ]
  },
  {
   "cell_type": "code",
   "execution_count": null,
   "id": "7da36bf4",
   "metadata": {},
   "outputs": [],
   "source": [
    "### Solution\n"
   ]
  },
  {
   "cell_type": "markdown",
   "id": "50a0b418",
   "metadata": {},
   "source": [
    "#### Ex 3.6\n",
    "what is the minimum `NGR total counts (cps)`'s Lithology type?"
   ]
  },
  {
   "cell_type": "code",
   "execution_count": null,
   "id": "3db52bd0",
   "metadata": {},
   "outputs": [],
   "source": [
    "### Solution\n"
   ]
  },
  {
   "cell_type": "markdown",
   "id": "655d4e6f",
   "metadata": {},
   "source": [
    "#### Ex 3.7\n",
    "How many `Holes` has the `Lithology` type of `Marls`?"
   ]
  },
  {
   "cell_type": "code",
   "execution_count": 5,
   "id": "afe242d8",
   "metadata": {},
   "outputs": [],
   "source": [
    "### Solution"
   ]
  },
  {
   "cell_type": "markdown",
   "id": "ac2fa1f2",
   "metadata": {},
   "source": [
    "#### Ex 3.8\n",
    "What is the data type of the `Hole` column in the dataset?"
   ]
  },
  {
   "cell_type": "code",
   "execution_count": null,
   "id": "c24b57c8",
   "metadata": {},
   "outputs": [],
   "source": [
    "### Solution"
   ]
  },
  {
   "cell_type": "markdown",
   "id": "182c6170",
   "metadata": {},
   "source": [
    "#### Ex 3.9\n",
    "\n",
    "Create a variable `df` containing the `Depth CSF-A (m)` and `Lithology` columns of the first 100 records\n",
    "\n",
    "Hint: you may use `loc` or `iloc`."
   ]
  },
  {
   "cell_type": "code",
   "execution_count": null,
   "id": "807f1305",
   "metadata": {},
   "outputs": [],
   "source": [
    "### Solution\n"
   ]
  },
  {
   "cell_type": "markdown",
   "id": "9a39f234",
   "metadata": {},
   "source": [
    "#### Ex 3.10\n",
    "What is the number of data in `df` in which `Depth CSF-A (m)` is more than **10** and less than **25**  "
   ]
  },
  {
   "cell_type": "code",
   "execution_count": null,
   "id": "34e2638a",
   "metadata": {},
   "outputs": [],
   "source": [
    "### Solution\n"
   ]
  },
  {
   "cell_type": "markdown",
   "id": "545e15f9",
   "metadata": {},
   "source": [
    "#### Ex 3.11\n",
    "Calculate the number of missing, and duplicated values? What is the number of unique values for `df`"
   ]
  },
  {
   "cell_type": "code",
   "execution_count": null,
   "id": "5b44e236",
   "metadata": {},
   "outputs": [],
   "source": [
    "### Solution"
   ]
  },
  {
   "cell_type": "markdown",
   "id": "94ad054c",
   "metadata": {},
   "source": [
    "### Exercise set 4\n",
    "We are going to load a new data. Run the below cell\n",
    "\n",
    "** If you have time, apply your solutions for the questions above on the new dataset"
   ]
  },
  {
   "cell_type": "code",
   "execution_count": null,
   "id": "f05cc08e",
   "metadata": {},
   "outputs": [],
   "source": [
    "#first we must uncompress the data\n",
    "\n",
    "import os\n",
    "import zipfile\n",
    "\n",
    "with zipfile.ZipFile('inputs/winemag-data-130k-v2.zip', 'r') as zip_ref:\n",
    "    zip_ref.extractall('inputs')"
   ]
  },
  {
   "cell_type": "code",
   "execution_count": null,
   "id": "45a6ad60",
   "metadata": {},
   "outputs": [],
   "source": [
    "wi = pd.read_csv('inputs/winemag-data-130k-v2.csv')"
   ]
  },
  {
   "cell_type": "markdown",
   "id": "ff5102d2",
   "metadata": {},
   "source": [
    "#### Ex 4.1\n",
    "There are only so many words you can use when describing a bottle of wine. Is a wine more likely to be \"tropical\" or \"fruity\"? Create a Series descriptor_counts counting how many times each of these two words appears in the description column in the dataset."
   ]
  },
  {
   "cell_type": "code",
   "execution_count": null,
   "id": "87af9c94",
   "metadata": {},
   "outputs": [],
   "source": [
    "### Solution"
   ]
  },
  {
   "cell_type": "markdown",
   "id": "f2db8276",
   "metadata": {},
   "source": [
    "#### Ex 4.2\n",
    "Who are the most common wine reviewers in the dataset? Create a `Series` whose index is the `taster_twitter_handle` category from the dataset, and whose values count how many reviews each person wrote."
   ]
  },
  {
   "cell_type": "code",
   "execution_count": null,
   "id": "286bb77e",
   "metadata": {},
   "outputs": [],
   "source": [
    "### Solution"
   ]
  },
  {
   "cell_type": "markdown",
   "id": "9d82d4c2",
   "metadata": {},
   "source": [
    "#### Ex 4.3\n",
    "Create a dataframe top_oceania_wines containing all reviews with at least 95 points (out of 100) for wines from Australia or New Zealand."
   ]
  },
  {
   "cell_type": "code",
   "execution_count": null,
   "id": "cfd49b4b",
   "metadata": {},
   "outputs": [],
   "source": [
    "### Solution"
   ]
  },
  {
   "cell_type": "markdown",
   "id": "25b384f2",
   "metadata": {},
   "source": [
    "#### Ex 4.4\n",
    "What are the minimum and maximum prices for each `variety` of wine? Create a `DataFrame` whose index is the `variety` category from the dataset and whose values are the `min` and `max` values thereof."
   ]
  },
  {
   "cell_type": "code",
   "execution_count": null,
   "id": "ad3dc3b6",
   "metadata": {},
   "outputs": [],
   "source": [
    "### Solution"
   ]
  },
  {
   "cell_type": "markdown",
   "id": "40ca61fb",
   "metadata": {},
   "source": [
    "#### Ex 4.5\n",
    "I'm an economical wine buyer. Which wine is the \"best bargain\"? Create a variable bargain_wine with the title of the wine with the highest points-to-price ratio in the dataset."
   ]
  },
  {
   "cell_type": "code",
   "execution_count": null,
   "id": "4eac21b4",
   "metadata": {},
   "outputs": [],
   "source": [
    "### Solution"
   ]
  },
  {
   "cell_type": "markdown",
   "id": "7ac02d6f",
   "metadata": {},
   "source": [
    "#### Ex 4.6\n",
    "\n",
    "`region_1` and `region_2` are pretty uninformative names for locale columns in our wine reviews dataset. Create a copy of `wi` with these columns renamed to `region` and `locale`, respectively."
   ]
  },
  {
   "cell_type": "code",
   "execution_count": null,
   "id": "537e5695",
   "metadata": {},
   "outputs": [],
   "source": [
    "### Solution"
   ]
  }
 ],
 "metadata": {
  "jupytext": {
   "cell_metadata_filter": "-execution_count",
   "main_language": "python",
   "notebook_metadata_filter": "-all"
  },
  "kernelspec": {
   "display_name": "Python 3 (ipykernel)",
   "language": "python",
   "name": "python3"
  },
  "language_info": {
   "codemirror_mode": {
    "name": "ipython",
    "version": 3
   },
   "file_extension": ".py",
   "mimetype": "text/x-python",
   "name": "python",
   "nbconvert_exporter": "python",
   "pygments_lexer": "ipython3",
   "version": "3.10.2"
  }
 },
 "nbformat": 4,
 "nbformat_minor": 5
}
