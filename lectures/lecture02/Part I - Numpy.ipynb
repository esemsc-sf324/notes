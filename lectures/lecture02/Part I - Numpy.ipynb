{
 "cells": [
  {
   "cell_type": "markdown",
   "id": "350fb64b",
   "metadata": {
    "slideshow": {
     "slide_type": "slide"
    }
   },
   "source": [
    "# Lecture 2: NumPy & Pandas\n",
    "\n",
    "## Part I : NumPy - Numerical Python via Arrays\n",
    "\n",
    "## James Percival <j.percival@imperial.ac.uk>\n",
    "\n",
    "### Slides based on the Numpy tutorials and work by Dr. Parastoo Salah"
   ]
  },
  {
   "cell_type": "markdown",
   "id": "0aafd399",
   "metadata": {
    "slideshow": {
     "slide_type": "slide"
    }
   },
   "source": [
    "## Part 1: NumPy - multidimensional arrays\n",
    "## Introduction\n",
    "\n",
    "- NumPy is a Python library for numerical computing.\n",
    "- Provides support for:\n",
    "  - multidimensional arrays, matrices & linear algebra\n",
    "  - arrays of random number \n",
    "  - Fourier transforms\n",
    "  - Polynomials\n",
    "  - Lots more useful stuff"
   ]
  },
  {
   "cell_type": "markdown",
   "id": "40bcfbc8",
   "metadata": {
    "slideshow": {
     "slide_type": "slide"
    }
   },
   "source": [
    "## Before we start\n",
    "\n",
    "- Explaining NumPy properly needs a bit of terminology, eg.\n",
    "    - arrays,\n",
    "    - contiguous memory,\n",
    "    - datatypes,\n",
    "    - dimension,\n",
    "- If you're not familiar with any these terms, don't worry!\n",
    "- We'll explain them as we go along, or ask also questions during the exercises."
   ]
  },
  {
   "cell_type": "markdown",
   "id": "37806b52",
   "metadata": {
    "slideshow": {
     "slide_type": "slide"
    }
   },
   "source": [
    "## Where to start?\n",
    "\n",
    "With any package we start by importing it. \n",
    "Convention is to import NumPy as `np`."
   ]
  },
  {
   "cell_type": "code",
   "execution_count": null,
   "id": "52df046e",
   "metadata": {},
   "outputs": [],
   "source": [
    "import numpy as np"
   ]
  },
  {
   "cell_type": "markdown",
   "id": "a26f66dc",
   "metadata": {},
   "source": [
    "You may see examples online with\n",
    "\n",
    "```python\n",
    "from numpy import *\n",
    "```\n",
    "\n",
    "This is dangerous; it replaces the built-in Python functions with NumPy functions, and not all functions have the same behaviour (e.g. `sum` or `max`)."
   ]
  },
  {
   "cell_type": "code",
   "execution_count": null,
   "id": "12b680ee",
   "metadata": {
    "slideshow": {
     "slide_type": "subslide"
    }
   },
   "outputs": [],
   "source": [
    "max(-1, 0) # builtin `max` finds maximum of the inputs"
   ]
  },
  {
   "cell_type": "code",
   "execution_count": null,
   "id": "192aed38",
   "metadata": {},
   "outputs": [],
   "source": [
    "np.max(-1, 0) # Numpy treats first entry as array, 2nd as axis"
   ]
  },
  {
   "cell_type": "code",
   "execution_count": null,
   "id": "ca8186dc",
   "metadata": {},
   "outputs": [],
   "source": [
    "from numpy import *\n",
    "max(-1, 0)"
   ]
  },
  {
   "cell_type": "markdown",
   "id": "75c0b9e7",
   "metadata": {
    "slideshow": {
     "slide_type": "slide"
    }
   },
   "source": [
    "## What is an array?\n",
    "\n",
    "An array is a collection of items stored at contiguous memory locations.\n",
    "\n",
    "Python already has lists, which store collections of items. So why do we need arrays?"
   ]
  },
  {
   "cell_type": "markdown",
   "id": "4655fa42",
   "metadata": {
    "slideshow": {
     "slide_type": "subslide"
    }
   },
   "source": [
    "- Arrays are faster & more efficient than lists (if the contents are all the same type of \"thing\").\n",
    "- Sometimes we want to have an ordering in more than one dimension (e.g. a matrix).\n",
    "- Arrays can be used to represent vectors and matrices for linear algebra.\n",
    "- Can expect arrays to support mathematical operations (e.g. addition, multiplication, determinants)."
   ]
  },
  {
   "cell_type": "markdown",
   "id": "c70533c9",
   "metadata": {
    "slideshow": {
     "slide_type": "subslide"
    }
   },
   "source": [
    "Python has a built-in `array` module, why not use that?\n",
    "\n",
    "- The `array` module is limited to one-dimensional arrays.\n",
    "- The method to define the type of the array is not as flexible or user friendly as NumPy.\n",
    "- Base Python has been kept relatively `C` like."
   ]
  },
  {
   "cell_type": "markdown",
   "id": "f0a83ca9",
   "metadata": {
    "slideshow": {
     "slide_type": "subslide"
    }
   },
   "source": [
    "Why not wrap Numpy into the base Python?\n",
    "\n",
    "- NumPy is a large package with many dependencies, and not all of them are needed for every project.\n",
    "- NumPy is a separate package, so it can be updated independently of the base Python.\n",
    "- Would make the base Python package larger and slower to load, as well as limiting the equipment on which it can be run.\n",
    "- Large penalty to update code for no real benefit.\n",
    "\n",
    "- Some useful features (e.g. `math.isclose`) have transferred. "
   ]
  },
  {
   "cell_type": "markdown",
   "id": "91d4742f",
   "metadata": {
    "slideshow": {
     "slide_type": "slide"
    }
   },
   "source": [
    "  ## Creating a NumPy array\n",
    "\n",
    "The most basic object in NumPy is the `ndarray` object."
   ]
  },
  {
   "cell_type": "code",
   "execution_count": null,
   "id": "64ad3955",
   "metadata": {},
   "outputs": [],
   "source": [
    "my_list = [1, 2, 3, 4, 5]\n",
    "np.array(my_list)"
   ]
  },
  {
   "cell_type": "code",
   "execution_count": null,
   "id": "1e1d6946",
   "metadata": {},
   "outputs": [],
   "source": [
    "my_matrix = [[1,2,3], [4,5,6], [7,8,9]]\n",
    "np.array(my_matrix)"
   ]
  },
  {
   "cell_type": "markdown",
   "id": "e0abb318",
   "metadata": {},
   "source": [
    "All the elements at a particular level (_dimension_) must be the same length."
   ]
  },
  {
   "cell_type": "markdown",
   "id": "df41d79e",
   "metadata": {
    "slideshow": {
     "slide_type": "slide"
    }
   },
   "source": [
    "## Functions which create arrays\n",
    "\n",
    "Numpy has a number of functions which create arrays based on a few parameters:\n",
    "\n",
    "- `np.zeros` - creates an array of zeros of a specified size\n",
    "- `np.ones` - creates an array of ones of a specified size\n",
    "- `np.arange` - creates an array with a range of values\n",
    "- `np.linspace` - creates an array with a range of values, with a specified number of points\n",
    "- `np.eye` - creates an identity matrix"
   ]
  },
  {
   "cell_type": "code",
   "execution_count": null,
   "id": "2b57053a",
   "metadata": {
    "slideshow": {
     "slide_type": "slide"
    }
   },
   "outputs": [],
   "source": [
    "arr1 = np.zeros(3)\n",
    "print(arr1)"
   ]
  },
  {
   "cell_type": "code",
   "execution_count": null,
   "id": "62022dd9",
   "metadata": {},
   "outputs": [],
   "source": [
    "arr2 = np.ones((3,3))\n",
    "print(arr2)"
   ]
  },
  {
   "cell_type": "code",
   "execution_count": null,
   "id": "7097bb75",
   "metadata": {},
   "outputs": [],
   "source": [
    "arr3 = np.arange(start=0, stop=10, step=2)\n",
    "print(repr(arr3)) # Note endpoint *isn't* included here"
   ]
  },
  {
   "cell_type": "code",
   "execution_count": null,
   "id": "0346c4fc",
   "metadata": {},
   "outputs": [],
   "source": [
    "arr4 = np.linspace(0, 10, 6)\n",
    "print(repr(arr4)) # Note endpoint *is* included here"
   ]
  },
  {
   "cell_type": "code",
   "execution_count": null,
   "id": "ae162c3f",
   "metadata": {},
   "outputs": [],
   "source": [
    "arr5 = np.eye(3)\n",
    "print(arr5)"
   ]
  },
  {
   "cell_type": "markdown",
   "id": "c68d0939",
   "metadata": {
    "slideshow": {
     "slide_type": "slide"
    }
   },
   "source": [
    "## Shapes and dimensions\n",
    "\n",
    "NumPy arrays have attributes which describe their shape and dimension.\n",
    "- `ndim` - the number of dimensions\n",
    "  - e.g. `np.eye(3).ndim` is `2`.\n",
    "- `shape` - the size of the array in each dimension\n",
    "  - e.g. `np.eye(3).shape` is `(3, 3)`.\n",
    "- `size` - the total number of elements in the array\n",
    "  - e.g. `np.eye(3).size` is `9`, i.e. `np.prod(np.eye(3).shape`).\n",
    "- `nbytes` - the total memory (in bytes) used by Numpy for the array data\n",
    "  - e.g. `np.eye(3).nbytes` is `72`, since each float is 8 bytes."
   ]
  },
  {
   "cell_type": "markdown",
   "id": "2598b78b",
   "metadata": {
    "slideshow": {
     "slide_type": "slide"
    }
   },
   "source": [
    "Can use the `ndaarray.reshape` method to change the shape of an array.\n",
    "\n",
    "- Must have the same number of elements in the new shape as the old shape.\n",
    "- I.E. the `size` cannot change.\n",
    "- Equivalently `np.prod(old_shape) == np.prod(new_shape)`\n",
    "- Use `-1` in one dimension to infer the size from the other dimensions."
   ]
  },
  {
   "cell_type": "code",
   "execution_count": null,
   "id": "d46db1da",
   "metadata": {
    "slideshow": {
     "slide_type": "subslide"
    }
   },
   "outputs": [],
   "source": [
    "arr = np.arange(0, 12)\n",
    "print(arr.reshape(4, 3))"
   ]
  },
  {
   "cell_type": "code",
   "execution_count": null,
   "id": "250c610d",
   "metadata": {
    "slideshow": {
     "slide_type": "subslide"
    }
   },
   "outputs": [],
   "source": [
    "print(arr.reshape(2, 6))"
   ]
  },
  {
   "cell_type": "code",
   "execution_count": null,
   "id": "055fc3ed",
   "metadata": {
    "slideshow": {
     "slide_type": "subslide"
    }
   },
   "outputs": [],
   "source": [
    "print(arr.reshape(3, -1))"
   ]
  },
  {
   "cell_type": "markdown",
   "id": "5e932f6a",
   "metadata": {
    "slideshow": {
     "slide_type": "subslide"
    }
   },
   "source": [
    "The `ndarray.ravel` method flattens an array (makes it 1D)"
   ]
  },
  {
   "cell_type": "code",
   "execution_count": null,
   "id": "dce62c67",
   "metadata": {},
   "outputs": [],
   "source": [
    "arr = np.arange(0, 12).reshape(3,4)\n",
    "arr = np.array(arr, order='C') # Using 'C' style ordering (the default)\n",
    "\n",
    "print(arr)\n",
    "print(arr.ravel())"
   ]
  },
  {
   "cell_type": "code",
   "execution_count": null,
   "id": "5f271e0e",
   "metadata": {},
   "outputs": [],
   "source": [
    "# Print like things are in memory\n",
    "print(arr.ravel(order='K'))"
   ]
  },
  {
   "cell_type": "markdown",
   "id": "dc99d8b5",
   "metadata": {},
   "source": [
    "The \"flattened\" version with `order='K'` is (roughly) how the array is stored in memory by your computer."
   ]
  },
  {
   "cell_type": "markdown",
   "id": "aa8b8abe",
   "metadata": {
    "slideshow": {
     "slide_type": "subslide"
    }
   },
   "source": [
    "The `ndarray.T` attribute transposes an array."
   ]
  },
  {
   "cell_type": "code",
   "execution_count": null,
   "id": "59bff7bc",
   "metadata": {},
   "outputs": [],
   "source": [
    "arr = np.arange(0, 12).reshape(3,4)\n",
    "\n",
    "print(arr)\n",
    "print(arr.T)"
   ]
  },
  {
   "cell_type": "markdown",
   "id": "b8f87295",
   "metadata": {
    "slideshow": {
     "slide_type": "slide"
    }
   },
   "source": [
    "## Data types & `dtype`\n",
    "\n",
    "NumPy arrays have a `dtype` attribute which describes the type of the elements in the array.\n",
    "\n",
    "If this type is of a fixed size, the array will be stored in a contiguous block of memory. This is more efficient than (e.g.) a Python list, where each element is a separate object."
   ]
  },
  {
   "cell_type": "markdown",
   "id": "1e939159",
   "metadata": {
    "slideshow": {
     "slide_type": "subslide"
    }
   },
   "source": [
    "Numpy can guess a `dtype` from the input data:"
   ]
  },
  {
   "cell_type": "code",
   "execution_count": null,
   "id": "125835ef",
   "metadata": {},
   "outputs": [],
   "source": [
    "arr = np.array([1, 2, 3])\n",
    "print(arr.dtype)"
   ]
  },
  {
   "cell_type": "code",
   "execution_count": null,
   "id": "213aa947",
   "metadata": {},
   "outputs": [],
   "source": [
    "arr = np.array([1, 2.5, 3])\n",
    "print(arr.dtype)"
   ]
  },
  {
   "cell_type": "code",
   "execution_count": null,
   "id": "28d325cf",
   "metadata": {},
   "outputs": [],
   "source": [
    "arr = np.array([1, 2, \"Hello, World!\"])\n",
    "print(arr.dtype)"
   ]
  },
  {
   "cell_type": "markdown",
   "id": "14fa2f6f",
   "metadata": {
    "slideshow": {
     "slide_type": "subslide"
    }
   },
   "source": [
    "You can also specify the `dtype` when creating an array:"
   ]
  },
  {
   "cell_type": "code",
   "execution_count": null,
   "id": "79c11be3",
   "metadata": {},
   "outputs": [],
   "source": [
    "arr = np.array([1, 2.5, 3], dtype=np.int32)\n",
    "print(arr.dtype)"
   ]
  },
  {
   "cell_type": "code",
   "execution_count": null,
   "id": "935dcdd8",
   "metadata": {},
   "outputs": [],
   "source": [
    "print(arr)"
   ]
  },
  {
   "cell_type": "code",
   "execution_count": null,
   "id": "05b43a33",
   "metadata": {},
   "outputs": [],
   "source": [
    "arr = np.array([1, 2.5, 3], dtype=np.float64)\n",
    "print(arr.dtype)\n",
    "print(repr(arr))"
   ]
  },
  {
   "cell_type": "markdown",
   "id": "97610d9b",
   "metadata": {
    "slideshow": {
     "slide_type": "subslide"
    }
   },
   "source": [
    "Watch out inserting values with the \"wrong\" data type"
   ]
  },
  {
   "cell_type": "code",
   "execution_count": null,
   "id": "768560bd",
   "metadata": {},
   "outputs": [],
   "source": [
    "int_arr = np.ones(3, dtype=np.int32)\n",
    "\n",
    "print(int_arr)"
   ]
  },
  {
   "cell_type": "code",
   "execution_count": null,
   "id": "015c9547",
   "metadata": {},
   "outputs": [],
   "source": [
    "int_arr[1] = 3.5\n",
    "print(int_arr)"
   ]
  },
  {
   "cell_type": "markdown",
   "id": "bb54d88b",
   "metadata": {
    "slideshow": {
     "slide_type": "slide"
    }
   },
   "source": [
    "## Arithmetic and methods\n",
    "\n",
    "NumPy arrays support maths:\n",
    "\n",
    "- `+`, `-`, `*`, `/`, `**`, `%` (element-wise)\n",
    "- `np.add`, `np.subtract`, `np.multiply`, `np.divide`, `np.power`, `np.mod` (element-wise)\n",
    "- `@`, `np.matmul`, `np.dot` (matrix multiplication)"
   ]
  },
  {
   "cell_type": "markdown",
   "id": "0a21f87d",
   "metadata": {
    "slideshow": {
     "slide_type": "slide"
    }
   },
   "source": [
    "## Broadcasting\n",
    "\n",
    "To be user-friendly, NumPy arrays can be added, subtracted, etc. even if they are different shapes.\n",
    "\n",
    "- If the arrays are different shapes, NumPy will \"broadcast\" the smaller array to the larger array's shape.\n",
    "- The smaller array must be compatible (i.e same magnitude of dimension) with the larger array in at least one dimension."
   ]
  },
  {
   "cell_type": "markdown",
   "id": "3797cbe8",
   "metadata": {
    "slideshow": {
     "slide_type": "slide"
    }
   },
   "source": [
    "## Indexing, slicing & selection\n",
    "\n",
    "NumPy arrays can be indexed, sliced and selected in much the same way as Python lists."
   ]
  },
  {
   "cell_type": "code",
   "execution_count": null,
   "id": "d7fe85d4",
   "metadata": {},
   "outputs": [],
   "source": [
    "arr = np.arange(0, 24).reshape(3, 8)\n",
    "\n",
    "print(arr[0, 0]) # Note can index multiple dimensions at once"
   ]
  },
  {
   "cell_type": "code",
   "execution_count": null,
   "id": "0ce14774",
   "metadata": {},
   "outputs": [],
   "source": [
    "print(arr[1:3, 1:6:2]) # Can also slice multiple dimensions at once"
   ]
  },
  {
   "cell_type": "code",
   "execution_count": null,
   "id": "6945e09b",
   "metadata": {},
   "outputs": [],
   "source": [
    "print(arr[slice(1, 3), slice(1, 6, 2)]) # Long form of the above"
   ]
  },
  {
   "cell_type": "markdown",
   "id": "17c6ef9f",
   "metadata": {
    "slideshow": {
     "slide_type": "subslide"
    }
   },
   "source": [
    "We can use a slice to assign a value to a slice of an array."
   ]
  },
  {
   "cell_type": "code",
   "execution_count": null,
   "id": "95a983b3",
   "metadata": {},
   "outputs": [],
   "source": [
    "arr = np.arange(0, 12).reshape(3,4)\n",
    "arr[1:3, 1:3] = 0 # Uses broadcasting rules\n",
    "print(arr)"
   ]
  },
  {
   "cell_type": "code",
   "execution_count": null,
   "id": "7e9f17a6",
   "metadata": {},
   "outputs": [],
   "source": [
    "arr[1, :2] = np.array([1, 2]) # More broadcasting\n",
    "print(arr)"
   ]
  },
  {
   "cell_type": "markdown",
   "id": "755b54e7",
   "metadata": {
    "slideshow": {
     "slide_type": "subslide"
    }
   },
   "source": [
    "Watch out with slicing & changing values!"
   ]
  },
  {
   "cell_type": "code",
   "execution_count": null,
   "id": "19f43fb6",
   "metadata": {},
   "outputs": [],
   "source": [
    "old_arr = np.arange(0, 12).reshape(3,4)\n",
    "new_arr = old_arr[1:3, 1:3]\n",
    "\n",
    "new_arr[0, 0] = 100\n",
    "\n",
    "print(old_arr)"
   ]
  },
  {
   "cell_type": "markdown",
   "id": "0e454aa1",
   "metadata": {
    "slideshow": {
     "slide_type": "subslide"
    }
   },
   "source": [
    "To avoid this, use the `ndarray.copy` method."
   ]
  },
  {
   "cell_type": "code",
   "execution_count": null,
   "id": "009b866b",
   "metadata": {},
   "outputs": [],
   "source": [
    "old_arr = np.arange(0, 12).reshape(3,4)\n",
    "new_arr = arr[1:3, 1:3].copy() # or do np.array(arr), which defaults to copy.\n",
    "\n",
    "new_arr[0, 0] = 100\n",
    "\n",
    "print(arr)\n",
    "print(new_arr)"
   ]
  },
  {
   "cell_type": "markdown",
   "id": "483af044",
   "metadata": {
    "slideshow": {
     "slide_type": "slide"
    }
   },
   "source": [
    "## Boolean indexing\n",
    "\n",
    "We can use boolean arrays to index/select NumPy arrays."
   ]
  },
  {
   "cell_type": "code",
   "execution_count": null,
   "id": "5e62ac33",
   "metadata": {},
   "outputs": [],
   "source": [
    "arr = np.arange(0, 12)\n",
    "\n",
    "print(arr[arr > 5])"
   ]
  },
  {
   "cell_type": "code",
   "execution_count": null,
   "id": "87a7ab3e",
   "metadata": {},
   "outputs": [],
   "source": [
    "arr[arr % 3 == 0] = -1\n",
    "\n",
    "print(arr)"
   ]
  },
  {
   "cell_type": "markdown",
   "id": "7a8790d0",
   "metadata": {
    "slideshow": {
     "slide_type": "slide"
    }
   },
   "source": [
    "## More linear algebra\n",
    "\n",
    "The `numpy.linalg` submodule has more linear algebra tools\n",
    "- `det()` for determinants\n",
    "- `eig()` etc for eigenvectos\n",
    "- `norm()` for lengths/magnitudes of vectors & matrices\n",
    "- `inv()` for _direct_ matrix inverses.\n",
    "- `solve()` to _directly_ solve matrix equations"
   ]
  },
  {
   "cell_type": "code",
   "execution_count": null,
   "id": "b7e701e5",
   "metadata": {
    "slideshow": {
     "slide_type": "subslide"
    }
   },
   "outputs": [],
   "source": [
    "A  = np.array([[1, 1],\n",
    "               [0, 1]])"
   ]
  },
  {
   "cell_type": "code",
   "execution_count": null,
   "id": "560c8fd5",
   "metadata": {
    "slideshow": {
     "slide_type": "subslide"
    }
   },
   "outputs": [],
   "source": [
    "np.linalg.det(A)"
   ]
  },
  {
   "cell_type": "code",
   "execution_count": null,
   "id": "058babcd",
   "metadata": {
    "slideshow": {
     "slide_type": "subslide"
    }
   },
   "outputs": [],
   "source": [
    "np.linalg.inv(A)"
   ]
  },
  {
   "cell_type": "markdown",
   "id": "2ba0ade1",
   "metadata": {
    "slideshow": {
     "slide_type": "slide"
    }
   },
   "source": [
    "## Record arrays\n",
    "\n",
    "NumPy has a `np.recarray` class which allows you to access fields (think like dimensions) of an array by name."
   ]
  },
  {
   "cell_type": "code",
   "execution_count": null,
   "id": "a9ad87e1",
   "metadata": {},
   "outputs": [],
   "source": [
    "arr = np.rec.array([(1, 2.5, \"Hello\"),\n",
    "                    (2, 10.5, \"World\")], \n",
    "                   dtype=[('val_1', np.int32), ('val_2', np.float64), ('note', 'U10')])\n",
    "\n",
    "print(arr)"
   ]
  },
  {
   "cell_type": "code",
   "execution_count": null,
   "id": "d0689c13",
   "metadata": {},
   "outputs": [],
   "source": [
    "print(arr['val_1'])\n",
    "print(arr.val_2[1])"
   ]
  },
  {
   "cell_type": "markdown",
   "id": "d1defd41",
   "metadata": {
    "slideshow": {
     "slide_type": "subslide"
    }
   },
   "source": [
    "We're going to stop here for now, but keep the idea of having names for different bits of data in mind.\n",
    "\n",
    "We'll revisit this idea when we talk about Pandas in the next 2 sessions today\n",
    "."
   ]
  },
  {
   "cell_type": "markdown",
   "id": "7fc0a69f",
   "metadata": {
    "slideshow": {
     "slide_type": "slide"
    }
   },
   "source": [
    "## Any Questions?"
   ]
  }
 ],
 "metadata": {
  "celltoolbar": "Slideshow",
  "kernelspec": {
   "display_name": "Python 3 (ipykernel)",
   "language": "python",
   "name": "python3"
  },
  "language_info": {
   "codemirror_mode": {
    "name": "ipython",
    "version": 3
   },
   "file_extension": ".py",
   "mimetype": "text/x-python",
   "name": "python",
   "nbconvert_exporter": "python",
   "pygments_lexer": "ipython3",
   "version": "3.10.2"
  },
  "rise": {
   "autolaunch": true,
   "overlay": "<div style=float:right;><img style=width:200px; src=./images/AdaLovelace2.png></div>",
   "scroll": true
  }
 },
 "nbformat": 4,
 "nbformat_minor": 5
}
